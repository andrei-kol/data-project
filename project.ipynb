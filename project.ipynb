{
 "cells": [
  {
   "cell_type": "markdown",
   "metadata": {
    "id": "sIfNaMOxgFyK"
   },
   "source": [
    "## Analysis of Data on Russian Film Distribution\n",
    "\n"
   ]
  },
  {
   "cell_type": "markdown",
   "metadata": {},
   "source": [
    "This study was commissioned by the Ministry of Culture of the Russian Federation. Its goal is to analyze the Russian film distribution market, identify current trends, and examine films that received government funding.\n",
    "\n",
    "The research is based on data published on the open data portal of the Ministry of Culture. This data includes information on distribution certificates, box office revenues, government support, and movie ratings from the “KinoPoisk” website.\n",
    "\n",
    "The study will include:\n",
    "\n",
    "\t1.\tAnalyzing the dynamics of film releases over the years, assessing the completeness of the available data, and identifying changes in the popularity of film distribution.\n",
    "\t2.\tIdentifying the minimum and maximum box office revenues by year and calculating average values to understand how industry revenues have changed.\n",
    "\t3.\tEvaluating the impact of age restrictions on box office revenues from 2015 to 2019 to determine the preferences of different audience groups.\n",
    "\n",
    "The study’s findings will help the Ministry of Culture gain a better understanding of the film distribution market and optimize its approach to government support, ensuring industry development and meeting audience demands."
   ]
  },
  {
   "cell_type": "markdown",
   "metadata": {
    "id": "3bSlkCsbgFyL"
   },
   "source": [
    "### Step 1: Open the Data Files and Merge Them into a Single DataFrame\n",
    "\n",
    "Merge the datasets in such a way that all entries from the `mkrf_movies` dataset are included in the resulting DataFrame.\n",
    "\n"
   ]
  },
  {
   "cell_type": "markdown",
   "metadata": {},
   "source": [
    "Importing Libraries"
   ]
  },
  {
   "cell_type": "code",
   "execution_count": 1,
   "metadata": {
    "id": "dw87FlzMgFyM"
   },
   "outputs": [],
   "source": [
    "import pandas as pd\n",
    "import matplotlib.pyplot as plt"
   ]
  },
  {
   "cell_type": "markdown",
   "metadata": {},
   "source": [
    "Save the data from the files and examine their contents."
   ]
  },
  {
   "cell_type": "code",
   "execution_count": 2,
   "metadata": {},
   "outputs": [
    {
     "data": {
      "text/html": [
       "<div>\n",
       "<style scoped>\n",
       "    .dataframe tbody tr th:only-of-type {\n",
       "        vertical-align: middle;\n",
       "    }\n",
       "\n",
       "    .dataframe tbody tr th {\n",
       "        vertical-align: top;\n",
       "    }\n",
       "\n",
       "    .dataframe thead th {\n",
       "        text-align: right;\n",
       "    }\n",
       "</style>\n",
       "<table border=\"1\" class=\"dataframe\">\n",
       "  <thead>\n",
       "    <tr style=\"text-align: right;\">\n",
       "      <th></th>\n",
       "      <th>title</th>\n",
       "      <th>puNumber</th>\n",
       "      <th>show_start_date</th>\n",
       "      <th>type</th>\n",
       "      <th>film_studio</th>\n",
       "      <th>production_country</th>\n",
       "      <th>director</th>\n",
       "      <th>producer</th>\n",
       "      <th>age_restriction</th>\n",
       "      <th>refundable_support</th>\n",
       "      <th>nonrefundable_support</th>\n",
       "      <th>budget</th>\n",
       "      <th>financing_source</th>\n",
       "      <th>ratings</th>\n",
       "      <th>genres</th>\n",
       "    </tr>\n",
       "  </thead>\n",
       "  <tbody>\n",
       "    <tr>\n",
       "      <th>0</th>\n",
       "      <td>Открытый простор</td>\n",
       "      <td>221048915</td>\n",
       "      <td>2015-11-27T12:00:00.000Z</td>\n",
       "      <td>Художественный</td>\n",
       "      <td>Тачстоун Пикчерз, Кобальт Пикчерз, Бикон Пикче...</td>\n",
       "      <td>США</td>\n",
       "      <td>Кевин Костнер</td>\n",
       "      <td>Дэвид Валдес, Кевин Костнер, Джейк Эбертс</td>\n",
       "      <td>«18+» - запрещено для детей</td>\n",
       "      <td>NaN</td>\n",
       "      <td>NaN</td>\n",
       "      <td>NaN</td>\n",
       "      <td>NaN</td>\n",
       "      <td>7.2</td>\n",
       "      <td>боевик,драма,мелодрама</td>\n",
       "    </tr>\n",
       "    <tr>\n",
       "      <th>1</th>\n",
       "      <td>Особо важное задание</td>\n",
       "      <td>111013716</td>\n",
       "      <td>2016-09-13T12:00:00.000Z</td>\n",
       "      <td>Художественный</td>\n",
       "      <td>Киностудия \"Мосфильм\"</td>\n",
       "      <td>СССР</td>\n",
       "      <td>Е.Матвеев</td>\n",
       "      <td>NaN</td>\n",
       "      <td>«6+» - для детей старше 6 лет</td>\n",
       "      <td>NaN</td>\n",
       "      <td>NaN</td>\n",
       "      <td>NaN</td>\n",
       "      <td>NaN</td>\n",
       "      <td>6.6</td>\n",
       "      <td>драма,военный</td>\n",
       "    </tr>\n",
       "  </tbody>\n",
       "</table>\n",
       "</div>"
      ],
      "text/plain": [
       "                  title   puNumber           show_start_date            type  \\\n",
       "0      Открытый простор  221048915  2015-11-27T12:00:00.000Z  Художественный   \n",
       "1  Особо важное задание  111013716  2016-09-13T12:00:00.000Z  Художественный   \n",
       "\n",
       "                                         film_studio production_country  \\\n",
       "0  Тачстоун Пикчерз, Кобальт Пикчерз, Бикон Пикче...                США   \n",
       "1                              Киностудия \"Мосфильм\"               СССР   \n",
       "\n",
       "        director                                   producer  \\\n",
       "0  Кевин Костнер  Дэвид Валдес, Кевин Костнер, Джейк Эбертс   \n",
       "1      Е.Матвеев                                        NaN   \n",
       "\n",
       "                 age_restriction  refundable_support  nonrefundable_support  \\\n",
       "0    «18+» - запрещено для детей                 NaN                    NaN   \n",
       "1  «6+» - для детей старше 6 лет                 NaN                    NaN   \n",
       "\n",
       "   budget financing_source ratings                  genres  \n",
       "0     NaN              NaN     7.2  боевик,драма,мелодрама  \n",
       "1     NaN              NaN     6.6           драма,военный  "
      ]
     },
     "metadata": {},
     "output_type": "display_data"
    },
    {
     "name": "stdout",
     "output_type": "stream",
     "text": [
      "<class 'pandas.core.frame.DataFrame'>\n",
      "RangeIndex: 7486 entries, 0 to 7485\n",
      "Data columns (total 15 columns):\n",
      " #   Column                 Non-Null Count  Dtype  \n",
      "---  ------                 --------------  -----  \n",
      " 0   title                  7486 non-null   object \n",
      " 1   puNumber               7486 non-null   object \n",
      " 2   show_start_date        7486 non-null   object \n",
      " 3   type                   7486 non-null   object \n",
      " 4   film_studio            7468 non-null   object \n",
      " 5   production_country     7484 non-null   object \n",
      " 6   director               7477 non-null   object \n",
      " 7   producer               6918 non-null   object \n",
      " 8   age_restriction        7486 non-null   object \n",
      " 9   refundable_support     332 non-null    float64\n",
      " 10  nonrefundable_support  332 non-null    float64\n",
      " 11  budget                 332 non-null    float64\n",
      " 12  financing_source       332 non-null    object \n",
      " 13  ratings                6519 non-null   object \n",
      " 14  genres                 6510 non-null   object \n",
      "dtypes: float64(3), object(12)\n",
      "memory usage: 877.4+ KB\n"
     ]
    },
    {
     "data": {
      "text/html": [
       "<div>\n",
       "<style scoped>\n",
       "    .dataframe tbody tr th:only-of-type {\n",
       "        vertical-align: middle;\n",
       "    }\n",
       "\n",
       "    .dataframe tbody tr th {\n",
       "        vertical-align: top;\n",
       "    }\n",
       "\n",
       "    .dataframe thead th {\n",
       "        text-align: right;\n",
       "    }\n",
       "</style>\n",
       "<table border=\"1\" class=\"dataframe\">\n",
       "  <thead>\n",
       "    <tr style=\"text-align: right;\">\n",
       "      <th></th>\n",
       "      <th>puNumber</th>\n",
       "      <th>box_office</th>\n",
       "    </tr>\n",
       "  </thead>\n",
       "  <tbody>\n",
       "    <tr>\n",
       "      <th>0</th>\n",
       "      <td>111000113</td>\n",
       "      <td>2450.00</td>\n",
       "    </tr>\n",
       "  </tbody>\n",
       "</table>\n",
       "</div>"
      ],
      "text/plain": [
       "    puNumber  box_office\n",
       "0  111000113     2450.00"
      ]
     },
     "metadata": {},
     "output_type": "display_data"
    },
    {
     "name": "stdout",
     "output_type": "stream",
     "text": [
      "<class 'pandas.core.frame.DataFrame'>\n",
      "RangeIndex: 3158 entries, 0 to 3157\n",
      "Data columns (total 2 columns):\n",
      " #   Column      Non-Null Count  Dtype  \n",
      "---  ------      --------------  -----  \n",
      " 0   puNumber    3158 non-null   int64  \n",
      " 1   box_office  3158 non-null   float64\n",
      "dtypes: float64(1), int64(1)\n",
      "memory usage: 49.5 KB\n"
     ]
    }
   ],
   "source": [
    "# Set number format for better readability\n",
    "pd.set_option('display.float_format', '{:.2f}'.format)\n",
    "\n",
    "# Data on distribution certificates\n",
    "data1 = pd.read_csv('/datasets/mkrf_movies.csv')\n",
    "display(data1.head(2))\n",
    "data1.info()\n",
    "\n",
    "# Data on film distribution in Russian cinemas\n",
    "data2 = pd.read_csv('/datasets/mkrf_shows.csv')\n",
    "display(data2.head(1))\n",
    "data2.info()\n"
   ]
  },
  {
   "cell_type": "markdown",
   "metadata": {},
   "source": [
    "Let’s note that the data is interconnected, so we can merge it into a single DataFrame.\n",
    "First, we need to standardize the data type of the column we will use for merging."
   ]
  },
  {
   "cell_type": "code",
   "execution_count": 3,
   "metadata": {},
   "outputs": [],
   "source": [
    "data2['puNumber'] = data2['puNumber'].astype('str')\n",
    "\n",
    "data = data1.merge(\n",
    "    data2,\n",
    "    on = 'puNumber',\n",
    "    how = 'left',\n",
    "    suffixes = ('_первый', '_второй'))\n"
   ]
  },
  {
   "cell_type": "code",
   "execution_count": 4,
   "metadata": {},
   "outputs": [
    {
     "data": {
      "text/html": [
       "<div>\n",
       "<style scoped>\n",
       "    .dataframe tbody tr th:only-of-type {\n",
       "        vertical-align: middle;\n",
       "    }\n",
       "\n",
       "    .dataframe tbody tr th {\n",
       "        vertical-align: top;\n",
       "    }\n",
       "\n",
       "    .dataframe thead th {\n",
       "        text-align: right;\n",
       "    }\n",
       "</style>\n",
       "<table border=\"1\" class=\"dataframe\">\n",
       "  <thead>\n",
       "    <tr style=\"text-align: right;\">\n",
       "      <th></th>\n",
       "      <th>title</th>\n",
       "      <th>puNumber</th>\n",
       "      <th>show_start_date</th>\n",
       "      <th>type</th>\n",
       "      <th>film_studio</th>\n",
       "      <th>production_country</th>\n",
       "      <th>director</th>\n",
       "      <th>producer</th>\n",
       "      <th>age_restriction</th>\n",
       "      <th>refundable_support</th>\n",
       "      <th>nonrefundable_support</th>\n",
       "      <th>budget</th>\n",
       "      <th>financing_source</th>\n",
       "      <th>ratings</th>\n",
       "      <th>genres</th>\n",
       "      <th>box_office</th>\n",
       "    </tr>\n",
       "  </thead>\n",
       "  <tbody>\n",
       "    <tr>\n",
       "      <th>0</th>\n",
       "      <td>Открытый простор</td>\n",
       "      <td>221048915</td>\n",
       "      <td>2015-11-27T12:00:00.000Z</td>\n",
       "      <td>Художественный</td>\n",
       "      <td>Тачстоун Пикчерз, Кобальт Пикчерз, Бикон Пикче...</td>\n",
       "      <td>США</td>\n",
       "      <td>Кевин Костнер</td>\n",
       "      <td>Дэвид Валдес, Кевин Костнер, Джейк Эбертс</td>\n",
       "      <td>«18+» - запрещено для детей</td>\n",
       "      <td>NaN</td>\n",
       "      <td>NaN</td>\n",
       "      <td>NaN</td>\n",
       "      <td>NaN</td>\n",
       "      <td>7.2</td>\n",
       "      <td>боевик,драма,мелодрама</td>\n",
       "      <td>NaN</td>\n",
       "    </tr>\n",
       "    <tr>\n",
       "      <th>1</th>\n",
       "      <td>Особо важное задание</td>\n",
       "      <td>111013716</td>\n",
       "      <td>2016-09-13T12:00:00.000Z</td>\n",
       "      <td>Художественный</td>\n",
       "      <td>Киностудия \"Мосфильм\"</td>\n",
       "      <td>СССР</td>\n",
       "      <td>Е.Матвеев</td>\n",
       "      <td>NaN</td>\n",
       "      <td>«6+» - для детей старше 6 лет</td>\n",
       "      <td>NaN</td>\n",
       "      <td>NaN</td>\n",
       "      <td>NaN</td>\n",
       "      <td>NaN</td>\n",
       "      <td>6.6</td>\n",
       "      <td>драма,военный</td>\n",
       "      <td>NaN</td>\n",
       "    </tr>\n",
       "    <tr>\n",
       "      <th>2</th>\n",
       "      <td>Особо опасен</td>\n",
       "      <td>221038416</td>\n",
       "      <td>2016-10-10T12:00:00.000Z</td>\n",
       "      <td>Художественный</td>\n",
       "      <td>Юниверсал Пикчерз, Кикстарт Продакшнз, Марк Пл...</td>\n",
       "      <td>США</td>\n",
       "      <td>Тимур Бекмамбетов</td>\n",
       "      <td>Джим Лемли, Джейсон Нетер, Марк Е.Платт, Яйн Смит</td>\n",
       "      <td>«18+» - запрещено для детей</td>\n",
       "      <td>NaN</td>\n",
       "      <td>NaN</td>\n",
       "      <td>NaN</td>\n",
       "      <td>NaN</td>\n",
       "      <td>6.8</td>\n",
       "      <td>фантастика,боевик,триллер</td>\n",
       "      <td>NaN</td>\n",
       "    </tr>\n",
       "    <tr>\n",
       "      <th>3</th>\n",
       "      <td>Особо опасен</td>\n",
       "      <td>221026916</td>\n",
       "      <td>2016-06-10T12:00:00.000Z</td>\n",
       "      <td>Художественный</td>\n",
       "      <td>Юниверсал Пикчерз, Кикстарт Продакшнз, Марк Пл...</td>\n",
       "      <td>США</td>\n",
       "      <td>Тимур Бекмамбетов</td>\n",
       "      <td>Джим Лемли, Джейсон Нетер, Марк Е.Платт, Яйн Смит</td>\n",
       "      <td>«18+» - запрещено для детей</td>\n",
       "      <td>NaN</td>\n",
       "      <td>NaN</td>\n",
       "      <td>NaN</td>\n",
       "      <td>NaN</td>\n",
       "      <td>6.8</td>\n",
       "      <td>фантастика,боевик,триллер</td>\n",
       "      <td>NaN</td>\n",
       "    </tr>\n",
       "    <tr>\n",
       "      <th>4</th>\n",
       "      <td>Особо опасен</td>\n",
       "      <td>221030815</td>\n",
       "      <td>2015-07-29T12:00:00.000Z</td>\n",
       "      <td>Художественный</td>\n",
       "      <td>Юниверсал Пикчерз, Кикстарт Продакшнз, Марк Пл...</td>\n",
       "      <td>США</td>\n",
       "      <td>Тимур Бекмамбетов</td>\n",
       "      <td>Джим Лемли, Джейсон Нетер, Марк Е.Платт, Яйн Смит</td>\n",
       "      <td>«18+» - запрещено для детей</td>\n",
       "      <td>NaN</td>\n",
       "      <td>NaN</td>\n",
       "      <td>NaN</td>\n",
       "      <td>NaN</td>\n",
       "      <td>6.8</td>\n",
       "      <td>фантастика,боевик,триллер</td>\n",
       "      <td>NaN</td>\n",
       "    </tr>\n",
       "  </tbody>\n",
       "</table>\n",
       "</div>"
      ],
      "text/plain": [
       "                  title   puNumber           show_start_date            type  \\\n",
       "0      Открытый простор  221048915  2015-11-27T12:00:00.000Z  Художественный   \n",
       "1  Особо важное задание  111013716  2016-09-13T12:00:00.000Z  Художественный   \n",
       "2          Особо опасен  221038416  2016-10-10T12:00:00.000Z  Художественный   \n",
       "3          Особо опасен  221026916  2016-06-10T12:00:00.000Z  Художественный   \n",
       "4          Особо опасен  221030815  2015-07-29T12:00:00.000Z  Художественный   \n",
       "\n",
       "                                         film_studio production_country  \\\n",
       "0  Тачстоун Пикчерз, Кобальт Пикчерз, Бикон Пикче...                США   \n",
       "1                              Киностудия \"Мосфильм\"               СССР   \n",
       "2  Юниверсал Пикчерз, Кикстарт Продакшнз, Марк Пл...                США   \n",
       "3  Юниверсал Пикчерз, Кикстарт Продакшнз, Марк Пл...                США   \n",
       "4  Юниверсал Пикчерз, Кикстарт Продакшнз, Марк Пл...                США   \n",
       "\n",
       "            director                                           producer  \\\n",
       "0      Кевин Костнер          Дэвид Валдес, Кевин Костнер, Джейк Эбертс   \n",
       "1          Е.Матвеев                                                NaN   \n",
       "2  Тимур Бекмамбетов  Джим Лемли, Джейсон Нетер, Марк Е.Платт, Яйн Смит   \n",
       "3  Тимур Бекмамбетов  Джим Лемли, Джейсон Нетер, Марк Е.Платт, Яйн Смит   \n",
       "4  Тимур Бекмамбетов  Джим Лемли, Джейсон Нетер, Марк Е.Платт, Яйн Смит   \n",
       "\n",
       "                 age_restriction  refundable_support  nonrefundable_support  \\\n",
       "0    «18+» - запрещено для детей                 NaN                    NaN   \n",
       "1  «6+» - для детей старше 6 лет                 NaN                    NaN   \n",
       "2    «18+» - запрещено для детей                 NaN                    NaN   \n",
       "3    «18+» - запрещено для детей                 NaN                    NaN   \n",
       "4    «18+» - запрещено для детей                 NaN                    NaN   \n",
       "\n",
       "   budget financing_source ratings                     genres  box_office  \n",
       "0     NaN              NaN     7.2     боевик,драма,мелодрама         NaN  \n",
       "1     NaN              NaN     6.6              драма,военный         NaN  \n",
       "2     NaN              NaN     6.8  фантастика,боевик,триллер         NaN  \n",
       "3     NaN              NaN     6.8  фантастика,боевик,триллер         NaN  \n",
       "4     NaN              NaN     6.8  фантастика,боевик,триллер         NaN  "
      ]
     },
     "metadata": {},
     "output_type": "display_data"
    },
    {
     "data": {
      "text/plain": [
       "4328"
      ]
     },
     "metadata": {},
     "output_type": "display_data"
    }
   ],
   "source": [
    "# Check the result\n",
    "display(data.head())\n",
    "\n",
    "# Check how many values are missing in the 'box_office' column\n",
    "display(data['box_office'].isna().sum())"
   ]
  },
  {
   "cell_type": "markdown",
   "metadata": {},
   "source": [
    "Interim Summary: \n",
    "\n",
    "\t•\tWe imported two main libraries: pandas and matplotlib.\n",
    "\t•\tWe read and stored two .csv files, merging them into one.\n",
    "\t•\tThe first dataset contained 7,486 rows, while the second had 3,158 rows.\n",
    "\t•\tAfter merging, the resulting DataFrame consists of 15 columns."
   ]
  },
  {
   "cell_type": "markdown",
   "metadata": {
    "id": "KLDGpPG0gFyM"
   },
   "source": [
    "### Step 2: Data Preprocessing"
   ]
  },
  {
   "cell_type": "markdown",
   "metadata": {
    "id": "ssWwKXsxgFyO"
   },
   "source": [
    "#### Step 2.1: Check Data Types\n",
    "\n",
    " Check the data types in the DataFrame and convert them where necessary."
   ]
  },
  {
   "cell_type": "code",
   "execution_count": 5,
   "metadata": {},
   "outputs": [
    {
     "name": "stdout",
     "output_type": "stream",
     "text": [
      "<class 'pandas.core.frame.DataFrame'>\n",
      "Int64Index: 7486 entries, 0 to 7485\n",
      "Data columns (total 16 columns):\n",
      " #   Column                 Non-Null Count  Dtype  \n",
      "---  ------                 --------------  -----  \n",
      " 0   title                  7486 non-null   object \n",
      " 1   puNumber               7486 non-null   object \n",
      " 2   show_start_date        7486 non-null   object \n",
      " 3   type                   7486 non-null   object \n",
      " 4   film_studio            7468 non-null   object \n",
      " 5   production_country     7484 non-null   object \n",
      " 6   director               7477 non-null   object \n",
      " 7   producer               6918 non-null   object \n",
      " 8   age_restriction        7486 non-null   object \n",
      " 9   refundable_support     332 non-null    float64\n",
      " 10  nonrefundable_support  332 non-null    float64\n",
      " 11  budget                 332 non-null    float64\n",
      " 12  financing_source       332 non-null    object \n",
      " 13  ratings                6519 non-null   object \n",
      " 14  genres                 6510 non-null   object \n",
      " 15  box_office             3158 non-null   float64\n",
      "dtypes: float64(4), object(12)\n",
      "memory usage: 994.2+ KB\n"
     ]
    }
   ],
   "source": [
    "data.info()"
   ]
  },
  {
   "cell_type": "markdown",
   "metadata": {},
   "source": [
    "The most obvious issues with data types are in the following columns:\n",
    "\n",
    "\t•\tshow_start_date should be converted to datetime format.\n",
    "\t•\tratings should be converted to numeric format."
   ]
  },
  {
   "cell_type": "code",
   "execution_count": 6,
   "metadata": {
    "id": "kVGSplJOgFyO"
   },
   "outputs": [],
   "source": [
    "# Convert the mixed-type 'show_start_date' column to datetime format\n",
    "data['show_start_date'] = pd.to_datetime(data['show_start_date'], format='%Y-%m-%dT%H:%M:%S.%fZ')\n",
    "\n",
    "# For easier analysis, keep only the date (remove time)\n",
    "# However, this method converts the data to string format\n",
    "data['show_start_date'] = data['show_start_date'].dt.strftime('%Y-%m-%d')\n",
    "\n",
    "# Convert it back to datetime format\n",
    "data['show_start_date'] = pd.to_datetime(data['show_start_date'], format='%Y-%m-%d')"
   ]
  },
  {
   "cell_type": "code",
   "execution_count": 7,
   "metadata": {},
   "outputs": [],
   "source": [
    "# Check for conversion issues in the 'ratings' column\n",
    "data['ratings'].value_counts()\n",
    "\n",
    "# Some values appear in the format \"__%\", indicating possible input errors.\n",
    "# These values are rare, so we will standardize the format before conversion.\n",
    "\n",
    "# Function to convert ratings from \"n%\" to \"n/10\"\n",
    "def procent(row):\n",
    "    if isinstance(row, str) and '%' in row:\n",
    "        row = row.replace('%', '')\n",
    "        row = float(row) / 10\n",
    "    return row\n",
    "\n",
    "# Apply the function to 'ratings' and convert the column to float\n",
    "data['ratings'] = data['ratings'].apply(procent).astype('float')"
   ]
  },
  {
   "cell_type": "markdown",
   "metadata": {},
   "source": [
    "To optimize memory usage, I will convert columns with a low number of unique values into the `categorical` data type."
   ]
  },
  {
   "cell_type": "code",
   "execution_count": 8,
   "metadata": {},
   "outputs": [
    {
     "data": {
      "text/plain": [
       "{'title': 6772,\n",
       " 'puNumber': 7484,\n",
       " 'show_start_date': 1965,\n",
       " 'type': 8,\n",
       " 'film_studio': 5490,\n",
       " 'production_country': 950,\n",
       " 'director': 4811,\n",
       " 'producer': 5349,\n",
       " 'age_restriction': 5,\n",
       " 'refundable_support': 34,\n",
       " 'nonrefundable_support': 75,\n",
       " 'budget': 290,\n",
       " 'financing_source': 3,\n",
       " 'ratings': 84,\n",
       " 'genres': 742,\n",
       " 'box_office': 2938}"
      ]
     },
     "metadata": {},
     "output_type": "display_data"
    }
   ],
   "source": [
    "# Create a dictionary where the keys are column names and the values are the number of unique values\n",
    "num_unique = {col: data[col].nunique() for col in data.columns}\n",
    "display(num_unique)\n",
    "\n",
    "# The columns \"type\", \"age_restriction\", and \"financing_source\" can be converted to categorical data type\n",
    "data['type'] = data['type'].astype('category')\n",
    "data['age_restriction'] = data['age_restriction'].astype('category')\n",
    "data['financing_source'] = data['financing_source'].astype('category')\n",
    "\n",
    "# The 'ratings' column also has a limited number of unique values.\n",
    "# However, since it represents a quantitative category, we will keep it as is."
   ]
  },
  {
   "cell_type": "markdown",
   "metadata": {},
   "source": [
    "**Interim Summary**: \n",
    "\n",
    "\t•\tConverted the “show_start_date” column to datetime format, keeping only the date for convenience.\n",
    "\t•\tConverted the “ratings” column to float, as it represents a quantitative category.\n",
    "\t•\tConverted the “type”, “age_restriction”, and “financing_source” columns to categorical data type for optimization."
   ]
  },
  {
   "cell_type": "markdown",
   "metadata": {
    "id": "i0MOLbF-gFyP"
   },
   "source": [
    "#### Step 2.2: Handling Missing Values\n",
    "\n"
   ]
  },
  {
   "cell_type": "markdown",
   "metadata": {},
   "source": [
    "Let's check how many columns contain missing values and analyze the missing data."
   ]
  },
  {
   "cell_type": "code",
   "execution_count": 9,
   "metadata": {
    "id": "8MJD_lkngFyP"
   },
   "outputs": [
    {
     "data": {
      "text/html": [
       "<style  type=\"text/css\" >\n",
       "#T_5b706_row0_col0,#T_5b706_row1_col0,#T_5b706_row2_col0,#T_5b706_row3_col0,#T_5b706_row4_col0,#T_5b706_row5_col0,#T_5b706_row6_col0,#T_5b706_row8_col0{\n",
       "            background-color:  #3b4cc0;\n",
       "            color:  #f1f1f1;\n",
       "        }#T_5b706_row7_col0{\n",
       "            background-color:  #536edd;\n",
       "            color:  #000000;\n",
       "        }#T_5b706_row9_col0,#T_5b706_row10_col0,#T_5b706_row11_col0,#T_5b706_row12_col0{\n",
       "            background-color:  #b40426;\n",
       "            color:  #f1f1f1;\n",
       "        }#T_5b706_row13_col0,#T_5b706_row14_col0{\n",
       "            background-color:  #6485ec;\n",
       "            color:  #000000;\n",
       "        }#T_5b706_row15_col0{\n",
       "            background-color:  #f2cab5;\n",
       "            color:  #000000;\n",
       "        }</style><table id=\"T_5b706_\" ><thead>    <tr>        <th class=\"blank level0\" ></th>        <th class=\"col_heading level0 col0\" >0</th>    </tr></thead><tbody>\n",
       "                <tr>\n",
       "                        <th id=\"T_5b706_level0_row0\" class=\"row_heading level0 row0\" >title</th>\n",
       "                        <td id=\"T_5b706_row0_col0\" class=\"data row0 col0\" >0.000000</td>\n",
       "            </tr>\n",
       "            <tr>\n",
       "                        <th id=\"T_5b706_level0_row1\" class=\"row_heading level0 row1\" >puNumber</th>\n",
       "                        <td id=\"T_5b706_row1_col0\" class=\"data row1 col0\" >0.000000</td>\n",
       "            </tr>\n",
       "            <tr>\n",
       "                        <th id=\"T_5b706_level0_row2\" class=\"row_heading level0 row2\" >show_start_date</th>\n",
       "                        <td id=\"T_5b706_row2_col0\" class=\"data row2 col0\" >0.000000</td>\n",
       "            </tr>\n",
       "            <tr>\n",
       "                        <th id=\"T_5b706_level0_row3\" class=\"row_heading level0 row3\" >type</th>\n",
       "                        <td id=\"T_5b706_row3_col0\" class=\"data row3 col0\" >0.000000</td>\n",
       "            </tr>\n",
       "            <tr>\n",
       "                        <th id=\"T_5b706_level0_row4\" class=\"row_heading level0 row4\" >film_studio</th>\n",
       "                        <td id=\"T_5b706_row4_col0\" class=\"data row4 col0\" >0.200000</td>\n",
       "            </tr>\n",
       "            <tr>\n",
       "                        <th id=\"T_5b706_level0_row5\" class=\"row_heading level0 row5\" >production_country</th>\n",
       "                        <td id=\"T_5b706_row5_col0\" class=\"data row5 col0\" >0.000000</td>\n",
       "            </tr>\n",
       "            <tr>\n",
       "                        <th id=\"T_5b706_level0_row6\" class=\"row_heading level0 row6\" >director</th>\n",
       "                        <td id=\"T_5b706_row6_col0\" class=\"data row6 col0\" >0.100000</td>\n",
       "            </tr>\n",
       "            <tr>\n",
       "                        <th id=\"T_5b706_level0_row7\" class=\"row_heading level0 row7\" >producer</th>\n",
       "                        <td id=\"T_5b706_row7_col0\" class=\"data row7 col0\" >7.600000</td>\n",
       "            </tr>\n",
       "            <tr>\n",
       "                        <th id=\"T_5b706_level0_row8\" class=\"row_heading level0 row8\" >age_restriction</th>\n",
       "                        <td id=\"T_5b706_row8_col0\" class=\"data row8 col0\" >0.000000</td>\n",
       "            </tr>\n",
       "            <tr>\n",
       "                        <th id=\"T_5b706_level0_row9\" class=\"row_heading level0 row9\" >refundable_support</th>\n",
       "                        <td id=\"T_5b706_row9_col0\" class=\"data row9 col0\" >95.600000</td>\n",
       "            </tr>\n",
       "            <tr>\n",
       "                        <th id=\"T_5b706_level0_row10\" class=\"row_heading level0 row10\" >nonrefundable_support</th>\n",
       "                        <td id=\"T_5b706_row10_col0\" class=\"data row10 col0\" >95.600000</td>\n",
       "            </tr>\n",
       "            <tr>\n",
       "                        <th id=\"T_5b706_level0_row11\" class=\"row_heading level0 row11\" >budget</th>\n",
       "                        <td id=\"T_5b706_row11_col0\" class=\"data row11 col0\" >95.600000</td>\n",
       "            </tr>\n",
       "            <tr>\n",
       "                        <th id=\"T_5b706_level0_row12\" class=\"row_heading level0 row12\" >financing_source</th>\n",
       "                        <td id=\"T_5b706_row12_col0\" class=\"data row12 col0\" >95.600000</td>\n",
       "            </tr>\n",
       "            <tr>\n",
       "                        <th id=\"T_5b706_level0_row13\" class=\"row_heading level0 row13\" >ratings</th>\n",
       "                        <td id=\"T_5b706_row13_col0\" class=\"data row13 col0\" >12.900000</td>\n",
       "            </tr>\n",
       "            <tr>\n",
       "                        <th id=\"T_5b706_level0_row14\" class=\"row_heading level0 row14\" >genres</th>\n",
       "                        <td id=\"T_5b706_row14_col0\" class=\"data row14 col0\" >13.000000</td>\n",
       "            </tr>\n",
       "            <tr>\n",
       "                        <th id=\"T_5b706_level0_row15\" class=\"row_heading level0 row15\" >box_office</th>\n",
       "                        <td id=\"T_5b706_row15_col0\" class=\"data row15 col0\" >57.800000</td>\n",
       "            </tr>\n",
       "    </tbody></table>"
      ],
      "text/plain": [
       "<pandas.io.formats.style.Styler at 0x7f58cb353c40>"
      ]
     },
     "execution_count": 9,
     "metadata": {},
     "output_type": "execute_result"
    }
   ],
   "source": [
    "pd.DataFrame(round(data.isna().mean()*100, 1)).style.background_gradient('coolwarm')"
   ]
  },
  {
   "cell_type": "markdown",
   "metadata": {},
   "source": [
    "We will specifically examine the following group of columns together:\n",
    "\t•\t**“refundable_support”, “nonrefundable_support”, “budget”, “financing_source”**\n",
    "\n",
    "The **“box_office”** column has missing values because there was no data available in the “mkrf_shows” file.\n",
    "\n",
    "\n",
    "\n",
    "We will also analyze missing values separately for the following columns:\n",
    "\n",
    "\t•\t”ratings”, “genres”, “producer”"
   ]
  },
  {
   "cell_type": "markdown",
   "metadata": {},
   "source": [
    "**Analyzing Missing Values in Financing Data**\n",
    "\n",
    "All four columns with the same number of missing values are related to film financing.\n",
    "Analyzing all financing sources reveals the following categories:\n",
    "\n",
    "\t•\t‘Министерство культуры’ (Ministry of Culture)\n",
    "\t•\t‘Фонд кино’ (Cinema Fund)\n",
    "\t•\t‘Министерство культуры, Фонд кино’ (Ministry of Culture & Cinema Fund)\n",
    "\n",
    "Since this data was published on the official website of the Ministry of Culture, it is reasonable to assume that the listed financing sources were specifically reported by this ministry.\n",
    "This suggests that any missing financing sources likely indicate funding from other sources not recorded in the dataset.\n",
    "\n",
    "Therefore, for movies where financing sources are missing, we can assume the funding came from unknown sources.\n",
    "\n",
    "Thus, we will fill missing values in the **“financing_source”** column with **“Unknown”** as a placeholder for absent data.\n",
    "\n",
    "For the other financing-related columns, it is best not to fill in missing values, as doing so would require filling in all columns consistently, which is not practical—especially for the **“budget”** column.\n"
   ]
  },
  {
   "cell_type": "code",
   "execution_count": 10,
   "metadata": {},
   "outputs": [
    {
     "data": {
      "text/plain": [
       "[NaN, 'Министерство культуры', 'Фонд кино', 'Министерство культуры, Фонд кино']\n",
       "Categories (3, object): ['Министерство культуры', 'Фонд кино', 'Министерство культуры, Фонд кино']"
      ]
     },
     "metadata": {},
     "output_type": "display_data"
    }
   ],
   "source": [
    "# Check unique financing sources\n",
    "display(data['financing_source'].unique())\n",
    "\n",
    "# Fill missing values in the financing_source column\n",
    "data['financing_source'] = data['financing_source'].cat.add_categories('Unknown')\n",
    "data['financing_source'] = data['financing_source'].fillna('Unknown')"
   ]
  },
  {
   "cell_type": "markdown",
   "metadata": {},
   "source": [
    "Handling Missing Values in the **“producer”** Column"
   ]
  },
  {
   "cell_type": "code",
   "execution_count": 11,
   "metadata": {},
   "outputs": [
    {
     "data": {
      "text/plain": [
       "568"
      ]
     },
     "metadata": {},
     "output_type": "display_data"
    },
    {
     "data": {
      "text/plain": [
       "title                    394\n",
       "puNumber                 394\n",
       "show_start_date          394\n",
       "type                     394\n",
       "film_studio              394\n",
       "production_country       394\n",
       "director                 394\n",
       "producer                   0\n",
       "age_restriction          394\n",
       "refundable_support         0\n",
       "nonrefundable_support      0\n",
       "budget                     0\n",
       "financing_source         394\n",
       "ratings                  376\n",
       "genres                   376\n",
       "box_office                79\n",
       "dtype: int64"
      ]
     },
     "metadata": {},
     "output_type": "display_data"
    },
    {
     "data": {
      "text/html": [
       "<div>\n",
       "<style scoped>\n",
       "    .dataframe tbody tr th:only-of-type {\n",
       "        vertical-align: middle;\n",
       "    }\n",
       "\n",
       "    .dataframe tbody tr th {\n",
       "        vertical-align: top;\n",
       "    }\n",
       "\n",
       "    .dataframe thead th {\n",
       "        text-align: right;\n",
       "    }\n",
       "</style>\n",
       "<table border=\"1\" class=\"dataframe\">\n",
       "  <thead>\n",
       "    <tr style=\"text-align: right;\">\n",
       "      <th></th>\n",
       "      <th>title</th>\n",
       "      <th>puNumber</th>\n",
       "      <th>show_start_date</th>\n",
       "      <th>type</th>\n",
       "      <th>film_studio</th>\n",
       "      <th>production_country</th>\n",
       "      <th>director</th>\n",
       "      <th>producer</th>\n",
       "      <th>age_restriction</th>\n",
       "      <th>refundable_support</th>\n",
       "      <th>nonrefundable_support</th>\n",
       "      <th>budget</th>\n",
       "      <th>financing_source</th>\n",
       "      <th>ratings</th>\n",
       "      <th>genres</th>\n",
       "      <th>box_office</th>\n",
       "    </tr>\n",
       "  </thead>\n",
       "  <tbody>\n",
       "    <tr>\n",
       "      <th>3093</th>\n",
       "      <td>Александр Невский (восстановленная версия)</td>\n",
       "      <td>111001516</td>\n",
       "      <td>2016-02-12</td>\n",
       "      <td>Художественный</td>\n",
       "      <td>Киностудия \"Мосфильм\", ФГУП \"Киноконцерн \"Мосф...</td>\n",
       "      <td>СССР, Россия</td>\n",
       "      <td>С.Эйзенштейн, Д.Васильев</td>\n",
       "      <td>ФГУП \"Киноконцерн \"Мосфильм\"</td>\n",
       "      <td>«12+» - для детей старше 12 лет</td>\n",
       "      <td>NaN</td>\n",
       "      <td>NaN</td>\n",
       "      <td>NaN</td>\n",
       "      <td>Unknown</td>\n",
       "      <td>5.70</td>\n",
       "      <td>боевик,драма,криминал</td>\n",
       "      <td>NaN</td>\n",
       "    </tr>\n",
       "    <tr>\n",
       "      <th>3193</th>\n",
       "      <td>Берегись автомобиля (цветная версия)</td>\n",
       "      <td>111001316</td>\n",
       "      <td>2016-02-11</td>\n",
       "      <td>Художественный</td>\n",
       "      <td>Киностудия \"Мосфильм\", ЗАО \"Киновидеообъединен...</td>\n",
       "      <td>СССР, Россия</td>\n",
       "      <td>Э.Рязанов</td>\n",
       "      <td>ЗАО \"Киновидеообъединение \"Крупный план\", ООО ...</td>\n",
       "      <td>«12+» - для детей старше 12 лет</td>\n",
       "      <td>NaN</td>\n",
       "      <td>NaN</td>\n",
       "      <td>NaN</td>\n",
       "      <td>Unknown</td>\n",
       "      <td>8.20</td>\n",
       "      <td>мелодрама,комедия,криминал</td>\n",
       "      <td>NaN</td>\n",
       "    </tr>\n",
       "    <tr>\n",
       "      <th>3926</th>\n",
       "      <td>Сафари № 6</td>\n",
       "      <td>111001611</td>\n",
       "      <td>2011-02-17</td>\n",
       "      <td>Художественный</td>\n",
       "      <td>ИП Аболс А.Р.</td>\n",
       "      <td>СССР</td>\n",
       "      <td>А.Аболс</td>\n",
       "      <td>А.Аболс</td>\n",
       "      <td>«16+» - для детей старше 16 лет</td>\n",
       "      <td>NaN</td>\n",
       "      <td>NaN</td>\n",
       "      <td>NaN</td>\n",
       "      <td>Unknown</td>\n",
       "      <td>6.80</td>\n",
       "      <td>военный</td>\n",
       "      <td>NaN</td>\n",
       "    </tr>\n",
       "    <tr>\n",
       "      <th>3931</th>\n",
       "      <td>Сон в красном тереме</td>\n",
       "      <td>112000311</td>\n",
       "      <td>2011-02-17</td>\n",
       "      <td>Документальный</td>\n",
       "      <td>ИП Аболс А.Р.</td>\n",
       "      <td>СССР</td>\n",
       "      <td>К.Котельников, А.Аболс</td>\n",
       "      <td>А.Аболс</td>\n",
       "      <td>«12+» - для детей старше 12 лет</td>\n",
       "      <td>NaN</td>\n",
       "      <td>NaN</td>\n",
       "      <td>NaN</td>\n",
       "      <td>Unknown</td>\n",
       "      <td>NaN</td>\n",
       "      <td>NaN</td>\n",
       "      <td>NaN</td>\n",
       "    </tr>\n",
       "    <tr>\n",
       "      <th>3962</th>\n",
       "      <td>Небесный тихоход (новая цветная версия)</td>\n",
       "      <td>111000110</td>\n",
       "      <td>2010-01-14</td>\n",
       "      <td>Художественный</td>\n",
       "      <td>Киностудия \"Ленфильм\", ЗАО \"Киновидеообъединен...</td>\n",
       "      <td>СССР, Россия</td>\n",
       "      <td>И.Цветов (режиссер ч/б фильма - С.Тимошенко)</td>\n",
       "      <td>ЗАО \"Киновидеообъединение \"Крупный план\"</td>\n",
       "      <td>«0+» - для любой зрительской аудитории</td>\n",
       "      <td>NaN</td>\n",
       "      <td>NaN</td>\n",
       "      <td>NaN</td>\n",
       "      <td>Unknown</td>\n",
       "      <td>8.00</td>\n",
       "      <td>комедия,военный</td>\n",
       "      <td>NaN</td>\n",
       "    </tr>\n",
       "  </tbody>\n",
       "</table>\n",
       "</div>"
      ],
      "text/plain": [
       "                                           title   puNumber show_start_date  \\\n",
       "3093  Александр Невский (восстановленная версия)  111001516      2016-02-12   \n",
       "3193        Берегись автомобиля (цветная версия)  111001316      2016-02-11   \n",
       "3926                                  Сафари № 6  111001611      2011-02-17   \n",
       "3931                        Сон в красном тереме  112000311      2011-02-17   \n",
       "3962     Небесный тихоход (новая цветная версия)  111000110      2010-01-14   \n",
       "\n",
       "                type                                        film_studio  \\\n",
       "3093  Художественный  Киностудия \"Мосфильм\", ФГУП \"Киноконцерн \"Мосф...   \n",
       "3193  Художественный  Киностудия \"Мосфильм\", ЗАО \"Киновидеообъединен...   \n",
       "3926  Художественный                                      ИП Аболс А.Р.   \n",
       "3931  Документальный                                      ИП Аболс А.Р.   \n",
       "3962  Художественный  Киностудия \"Ленфильм\", ЗАО \"Киновидеообъединен...   \n",
       "\n",
       "     production_country                                      director  \\\n",
       "3093       СССР, Россия                      С.Эйзенштейн, Д.Васильев   \n",
       "3193       СССР, Россия                                     Э.Рязанов   \n",
       "3926               СССР                                       А.Аболс   \n",
       "3931               СССР                        К.Котельников, А.Аболс   \n",
       "3962       СССР, Россия  И.Цветов (режиссер ч/б фильма - С.Тимошенко)   \n",
       "\n",
       "                                               producer  \\\n",
       "3093                       ФГУП \"Киноконцерн \"Мосфильм\"   \n",
       "3193  ЗАО \"Киновидеообъединение \"Крупный план\", ООО ...   \n",
       "3926                                            А.Аболс   \n",
       "3931                                            А.Аболс   \n",
       "3962           ЗАО \"Киновидеообъединение \"Крупный план\"   \n",
       "\n",
       "                             age_restriction  refundable_support  \\\n",
       "3093         «12+» - для детей старше 12 лет                 NaN   \n",
       "3193         «12+» - для детей старше 12 лет                 NaN   \n",
       "3926         «16+» - для детей старше 16 лет                 NaN   \n",
       "3931         «12+» - для детей старше 12 лет                 NaN   \n",
       "3962  «0+» - для любой зрительской аудитории                 NaN   \n",
       "\n",
       "      nonrefundable_support  budget financing_source  ratings  \\\n",
       "3093                    NaN     NaN          Unknown     5.70   \n",
       "3193                    NaN     NaN          Unknown     8.20   \n",
       "3926                    NaN     NaN          Unknown     6.80   \n",
       "3931                    NaN     NaN          Unknown      NaN   \n",
       "3962                    NaN     NaN          Unknown     8.00   \n",
       "\n",
       "                          genres  box_office  \n",
       "3093       боевик,драма,криминал         NaN  \n",
       "3193  мелодрама,комедия,криминал         NaN  \n",
       "3926                     военный         NaN  \n",
       "3931                         NaN         NaN  \n",
       "3962             комедия,военный         NaN  "
      ]
     },
     "metadata": {},
     "output_type": "display_data"
    },
    {
     "data": {
      "text/plain": [
       "174"
      ]
     },
     "metadata": {},
     "output_type": "display_data"
    }
   ],
   "source": [
    "# Count total missing values in the \"producer\" column\n",
    "display(data['producer'].isna().sum())  # 568\n",
    "\n",
    "# Check if missing values are common for USSR-produced films\n",
    "display(data[(data['producer'].isna()) & (data['production_country'].str.contains('СССР', case=False))].count())\n",
    "\n",
    "# Indeed, for 394 rows with missing \"producer\" values, the production country is USSR.\n",
    "# Now, let's check if any USSR-produced films have a specified producer.\n",
    "display(data[(data['producer'].notna()) & (data['production_country'].str.contains('СССР', case=False))].head())\n",
    "\n",
    "# We observe that for USSR-produced films, the producer is often listed as either the director or the film studio.\n",
    "# Replacing missing producer values with the director's name for USSR-produced films seems like a reasonable solution.\n",
    "data.loc[data['production_country'].str.contains('СССР', na=False), 'producer'] = \\\n",
    "    data.loc[data['production_country'].str.contains('СССР', na=False), 'producer'].fillna(data['director'])\n",
    "\n",
    "# Check how many missing values remain.\n",
    "display(data['producer'].isna().sum())  # 174"
   ]
  },
  {
   "cell_type": "markdown",
   "metadata": {},
   "source": [
    "**Summary of Missing Producer Values**\n",
    "\n",
    "We filled in missing values for films produced in the USSR. Due to the specific structure of the film industry, producer information may not have been recorded, but in many cases, the director likely played the role of the producer.\n",
    "While leaving these missing values as they were was an option, I chose to fill them because this information might be useful for further analysis.\n",
    "\n",
    "After filling in producer values for USSR films, 174 rows still contain missing values. The reason remains unclear—it could be due to data loss or missing information during database formation."
   ]
  },
  {
   "cell_type": "markdown",
   "metadata": {},
   "source": [
    "**Handling Missing Values in “ratings” and “genres” Columns**: \n",
    "\n",
    "\t•\t“ratings” is a numerical feature. Missing values cannot be reliably replaced because a movie’s rating on KinoPoisk may be absent due to a low number of reviews, indicating low popularity.\n",
    "\t•\tReplacing missing values with the median is not optimal, as ratings depend on multiple factors, such as country of production or budget, which could significantly impact the analysis.\n",
    "\t•\t“genres” is a categorical feature. We will not fill missing values, as no clear patterns were found. The missing information is likely due to data extraction errors or was simply not entered in the original database."
   ]
  },
  {
   "cell_type": "code",
   "execution_count": 12,
   "metadata": {},
   "outputs": [
    {
     "data": {
      "text/plain": [
       "967"
      ]
     },
     "metadata": {},
     "output_type": "display_data"
    },
    {
     "data": {
      "text/plain": [
       "976"
      ]
     },
     "metadata": {},
     "output_type": "display_data"
    },
    {
     "data": {
      "text/html": [
       "<div>\n",
       "<style scoped>\n",
       "    .dataframe tbody tr th:only-of-type {\n",
       "        vertical-align: middle;\n",
       "    }\n",
       "\n",
       "    .dataframe tbody tr th {\n",
       "        vertical-align: top;\n",
       "    }\n",
       "\n",
       "    .dataframe thead th {\n",
       "        text-align: right;\n",
       "    }\n",
       "</style>\n",
       "<table border=\"1\" class=\"dataframe\">\n",
       "  <thead>\n",
       "    <tr style=\"text-align: right;\">\n",
       "      <th></th>\n",
       "      <th>title</th>\n",
       "      <th>puNumber</th>\n",
       "      <th>show_start_date</th>\n",
       "      <th>type</th>\n",
       "      <th>film_studio</th>\n",
       "      <th>production_country</th>\n",
       "      <th>director</th>\n",
       "      <th>producer</th>\n",
       "      <th>age_restriction</th>\n",
       "      <th>refundable_support</th>\n",
       "      <th>nonrefundable_support</th>\n",
       "      <th>budget</th>\n",
       "      <th>financing_source</th>\n",
       "      <th>ratings</th>\n",
       "      <th>genres</th>\n",
       "      <th>box_office</th>\n",
       "    </tr>\n",
       "  </thead>\n",
       "  <tbody>\n",
       "    <tr>\n",
       "      <th>1874</th>\n",
       "      <td>Короткие истории о любви 2</td>\n",
       "      <td>121002615</td>\n",
       "      <td>2015-02-13</td>\n",
       "      <td>Художественный</td>\n",
       "      <td>Кавиар, Курт 13, СтритЛайт Филмз, Нэйер Дойче ...</td>\n",
       "      <td>Нидерланды - США - Германия - Канада - Франция...</td>\n",
       "      <td>Мэтью Аувро, Лео Брайдл, Бен Бренд, Ден Кларк,...</td>\n",
       "      <td>Мэри Пэт Бентел, Бен Бренд, Сиара Гиллан, Джор...</td>\n",
       "      <td>«18+» - запрещено для детей</td>\n",
       "      <td>NaN</td>\n",
       "      <td>NaN</td>\n",
       "      <td>NaN</td>\n",
       "      <td>Unknown</td>\n",
       "      <td>8.30</td>\n",
       "      <td>NaN</td>\n",
       "      <td>1429859.00</td>\n",
       "    </tr>\n",
       "    <tr>\n",
       "      <th>2910</th>\n",
       "      <td>Аномия</td>\n",
       "      <td>111005216</td>\n",
       "      <td>2016-03-11</td>\n",
       "      <td>Художественный</td>\n",
       "      <td>Козлов Владимир Владимирович</td>\n",
       "      <td>Россия</td>\n",
       "      <td>В.Козлов</td>\n",
       "      <td>Н.Муминова, А.Егай, В.Козлов</td>\n",
       "      <td>«18+» - запрещено для детей</td>\n",
       "      <td>NaN</td>\n",
       "      <td>NaN</td>\n",
       "      <td>NaN</td>\n",
       "      <td>Unknown</td>\n",
       "      <td>4.30</td>\n",
       "      <td>NaN</td>\n",
       "      <td>NaN</td>\n",
       "    </tr>\n",
       "    <tr>\n",
       "      <th>3260</th>\n",
       "      <td>Сборник короткометражек Кинотавра 18+</td>\n",
       "      <td>111012916</td>\n",
       "      <td>2016-08-19</td>\n",
       "      <td>Художественный</td>\n",
       "      <td>ООО \"Кинометр\"</td>\n",
       "      <td>Россия</td>\n",
       "      <td>И.Каграманов, А.Наумов, С.Осипьян, В.Валиуллин...</td>\n",
       "      <td>И.Устинов, И.Каграманов, Е.Филлипова, Г.Стояло...</td>\n",
       "      <td>«18+» - запрещено для детей</td>\n",
       "      <td>NaN</td>\n",
       "      <td>NaN</td>\n",
       "      <td>NaN</td>\n",
       "      <td>Unknown</td>\n",
       "      <td>5.20</td>\n",
       "      <td>NaN</td>\n",
       "      <td>1104161.00</td>\n",
       "    </tr>\n",
       "    <tr>\n",
       "      <th>3434</th>\n",
       "      <td>Сборник короткого метра. Оскар. Фильмы. 2017</td>\n",
       "      <td>121004117</td>\n",
       "      <td>2017-03-03</td>\n",
       "      <td>Художественный</td>\n",
       "      <td>Куалиа Филмз, Марвин и Вейн, Эм энд Эм Продакш...</td>\n",
       "      <td>Франция - Испания - Дания - Венгрия - Швейцария</td>\n",
       "      <td>С.Азази, Х.Г.Пене, К.Дик, Т. вон Гюнтен</td>\n",
       "      <td>С.Азази, Б.Лайарте, Х.Г.Пене, А.Мендиз, К.О.Ад...</td>\n",
       "      <td>«16+» - для детей старше 16 лет</td>\n",
       "      <td>NaN</td>\n",
       "      <td>NaN</td>\n",
       "      <td>NaN</td>\n",
       "      <td>Unknown</td>\n",
       "      <td>7.50</td>\n",
       "      <td>NaN</td>\n",
       "      <td>2322497.00</td>\n",
       "    </tr>\n",
       "    <tr>\n",
       "      <th>3439</th>\n",
       "      <td>Семь диких историй</td>\n",
       "      <td>126005916</td>\n",
       "      <td>2016-11-28</td>\n",
       "      <td>Прочие</td>\n",
       "      <td>Макс Бэйкер, Джон Е.Брайан, Пьер-Луи Гарнон,  ...</td>\n",
       "      <td>США - Пуэрто-Рико - Франция</td>\n",
       "      <td>М.Бэйкер, Д.Е.Брайант, Д.Рондот, Я.Серсар, Д.С...</td>\n",
       "      <td>М.Бэйкер, Д.Е.Брайан, П.-Л.Гарнон, М.Х.Дельгад...</td>\n",
       "      <td>«18+» - запрещено для детей</td>\n",
       "      <td>NaN</td>\n",
       "      <td>NaN</td>\n",
       "      <td>NaN</td>\n",
       "      <td>Unknown</td>\n",
       "      <td>8.80</td>\n",
       "      <td>NaN</td>\n",
       "      <td>1025937.00</td>\n",
       "    </tr>\n",
       "    <tr>\n",
       "      <th>3446</th>\n",
       "      <td>Короткие истории о любви - 4</td>\n",
       "      <td>126006316</td>\n",
       "      <td>2016-12-30</td>\n",
       "      <td>Прочие</td>\n",
       "      <td>Нетворг Айлэнд Телевижн, Магнетфильм, Шорткатс...</td>\n",
       "      <td>Великобритания - Аргентина - США - Франция - Р...</td>\n",
       "      <td>Д.Адар, П.Антохин, М.Биасин, А.Бурунова, К.Кол...</td>\n",
       "      <td>Д.Адар, Д.Амсон, П.Антохин, А.Армстронг, С.Бил...</td>\n",
       "      <td>«18+» - запрещено для детей</td>\n",
       "      <td>NaN</td>\n",
       "      <td>NaN</td>\n",
       "      <td>NaN</td>\n",
       "      <td>Unknown</td>\n",
       "      <td>8.30</td>\n",
       "      <td>NaN</td>\n",
       "      <td>2266408.00</td>\n",
       "    </tr>\n",
       "    <tr>\n",
       "      <th>6779</th>\n",
       "      <td>РУССКОЕ КРАТКОЕ. Выпуск 3</td>\n",
       "      <td>111004219</td>\n",
       "      <td>2019-03-15</td>\n",
       "      <td>Художественный</td>\n",
       "      <td>Архангельская Региональная молодежная обществе...</td>\n",
       "      <td>Россия</td>\n",
       "      <td>С.Сафонова, А.Хмельницкая, А.Сальянов, Н.Назар...</td>\n",
       "      <td>ООО Кинокомпания \"Пионер\"</td>\n",
       "      <td>«16+» - для детей старше 16 лет</td>\n",
       "      <td>NaN</td>\n",
       "      <td>NaN</td>\n",
       "      <td>NaN</td>\n",
       "      <td>Unknown</td>\n",
       "      <td>5.50</td>\n",
       "      <td>NaN</td>\n",
       "      <td>NaN</td>\n",
       "    </tr>\n",
       "    <tr>\n",
       "      <th>7060</th>\n",
       "      <td>Русское краткое. Выпуск 4</td>\n",
       "      <td>111011419</td>\n",
       "      <td>2019-07-16</td>\n",
       "      <td>Художественный</td>\n",
       "      <td>ИП Дибцева О.Н., ИП Булгаков Д.А., ООО \"Киноко...</td>\n",
       "      <td>Россия</td>\n",
       "      <td>О.Дибцева, Д.Булгаков, А.Ильин, А.Шабаров, А.Б...</td>\n",
       "      <td>ООО Кинокомпания \"Пионер\"</td>\n",
       "      <td>«16+» - для детей старше 16 лет</td>\n",
       "      <td>NaN</td>\n",
       "      <td>NaN</td>\n",
       "      <td>NaN</td>\n",
       "      <td>Unknown</td>\n",
       "      <td>5.20</td>\n",
       "      <td>NaN</td>\n",
       "      <td>NaN</td>\n",
       "    </tr>\n",
       "    <tr>\n",
       "      <th>7291</th>\n",
       "      <td>Курьезы</td>\n",
       "      <td>111017619</td>\n",
       "      <td>2019-10-18</td>\n",
       "      <td>Художественный</td>\n",
       "      <td>АНО \"Кинофорум\"</td>\n",
       "      <td>Россия</td>\n",
       "      <td>А.Мышкин</td>\n",
       "      <td>С.Новожилов</td>\n",
       "      <td>«16+» - для детей старше 16 лет</td>\n",
       "      <td>NaN</td>\n",
       "      <td>NaN</td>\n",
       "      <td>NaN</td>\n",
       "      <td>Unknown</td>\n",
       "      <td>5.00</td>\n",
       "      <td>NaN</td>\n",
       "      <td>NaN</td>\n",
       "    </tr>\n",
       "  </tbody>\n",
       "</table>\n",
       "</div>"
      ],
      "text/plain": [
       "                                             title   puNumber show_start_date  \\\n",
       "1874                    Короткие истории о любви 2  121002615      2015-02-13   \n",
       "2910                                        Аномия  111005216      2016-03-11   \n",
       "3260         Сборник короткометражек Кинотавра 18+  111012916      2016-08-19   \n",
       "3434  Сборник короткого метра. Оскар. Фильмы. 2017  121004117      2017-03-03   \n",
       "3439                            Семь диких историй  126005916      2016-11-28   \n",
       "3446                  Короткие истории о любви - 4  126006316      2016-12-30   \n",
       "6779                     РУССКОЕ КРАТКОЕ. Выпуск 3  111004219      2019-03-15   \n",
       "7060                     Русское краткое. Выпуск 4  111011419      2019-07-16   \n",
       "7291                                       Курьезы  111017619      2019-10-18   \n",
       "\n",
       "                 type                                        film_studio  \\\n",
       "1874   Художественный  Кавиар, Курт 13, СтритЛайт Филмз, Нэйер Дойче ...   \n",
       "2910   Художественный                       Козлов Владимир Владимирович   \n",
       "3260   Художественный                                     ООО \"Кинометр\"   \n",
       "3434   Художественный  Куалиа Филмз, Марвин и Вейн, Эм энд Эм Продакш...   \n",
       "3439           Прочие  Макс Бэйкер, Джон Е.Брайан, Пьер-Луи Гарнон,  ...   \n",
       "3446           Прочие  Нетворг Айлэнд Телевижн, Магнетфильм, Шорткатс...   \n",
       "6779   Художественный  Архангельская Региональная молодежная обществе...   \n",
       "7060   Художественный  ИП Дибцева О.Н., ИП Булгаков Д.А., ООО \"Киноко...   \n",
       "7291   Художественный                                    АНО \"Кинофорум\"   \n",
       "\n",
       "                                     production_country  \\\n",
       "1874  Нидерланды - США - Германия - Канада - Франция...   \n",
       "2910                                             Россия   \n",
       "3260                                             Россия   \n",
       "3434    Франция - Испания - Дания - Венгрия - Швейцария   \n",
       "3439                       США - Пуэрто-Рико - Франция    \n",
       "3446  Великобритания - Аргентина - США - Франция - Р...   \n",
       "6779                                             Россия   \n",
       "7060                                             Россия   \n",
       "7291                                             Россия   \n",
       "\n",
       "                                               director  \\\n",
       "1874  Мэтью Аувро, Лео Брайдл, Бен Бренд, Ден Кларк,...   \n",
       "2910                                           В.Козлов   \n",
       "3260  И.Каграманов, А.Наумов, С.Осипьян, В.Валиуллин...   \n",
       "3434           С.Азази, Х.Г.Пене, К.Дик, Т. вон Гюнтен    \n",
       "3439  М.Бэйкер, Д.Е.Брайант, Д.Рондот, Я.Серсар, Д.С...   \n",
       "3446  Д.Адар, П.Антохин, М.Биасин, А.Бурунова, К.Кол...   \n",
       "6779  С.Сафонова, А.Хмельницкая, А.Сальянов, Н.Назар...   \n",
       "7060  О.Дибцева, Д.Булгаков, А.Ильин, А.Шабаров, А.Б...   \n",
       "7291                                           А.Мышкин   \n",
       "\n",
       "                                               producer  \\\n",
       "1874  Мэри Пэт Бентел, Бен Бренд, Сиара Гиллан, Джор...   \n",
       "2910                       Н.Муминова, А.Егай, В.Козлов   \n",
       "3260  И.Устинов, И.Каграманов, Е.Филлипова, Г.Стояло...   \n",
       "3434  С.Азази, Б.Лайарте, Х.Г.Пене, А.Мендиз, К.О.Ад...   \n",
       "3439  М.Бэйкер, Д.Е.Брайан, П.-Л.Гарнон, М.Х.Дельгад...   \n",
       "3446  Д.Адар, Д.Амсон, П.Антохин, А.Армстронг, С.Бил...   \n",
       "6779                          ООО Кинокомпания \"Пионер\"   \n",
       "7060                          ООО Кинокомпания \"Пионер\"   \n",
       "7291                                        С.Новожилов   \n",
       "\n",
       "                      age_restriction  refundable_support  \\\n",
       "1874      «18+» - запрещено для детей                 NaN   \n",
       "2910      «18+» - запрещено для детей                 NaN   \n",
       "3260      «18+» - запрещено для детей                 NaN   \n",
       "3434  «16+» - для детей старше 16 лет                 NaN   \n",
       "3439      «18+» - запрещено для детей                 NaN   \n",
       "3446      «18+» - запрещено для детей                 NaN   \n",
       "6779  «16+» - для детей старше 16 лет                 NaN   \n",
       "7060  «16+» - для детей старше 16 лет                 NaN   \n",
       "7291  «16+» - для детей старше 16 лет                 NaN   \n",
       "\n",
       "      nonrefundable_support  budget financing_source  ratings genres  \\\n",
       "1874                    NaN     NaN          Unknown     8.30    NaN   \n",
       "2910                    NaN     NaN          Unknown     4.30    NaN   \n",
       "3260                    NaN     NaN          Unknown     5.20    NaN   \n",
       "3434                    NaN     NaN          Unknown     7.50    NaN   \n",
       "3439                    NaN     NaN          Unknown     8.80    NaN   \n",
       "3446                    NaN     NaN          Unknown     8.30    NaN   \n",
       "6779                    NaN     NaN          Unknown     5.50    NaN   \n",
       "7060                    NaN     NaN          Unknown     5.20    NaN   \n",
       "7291                    NaN     NaN          Unknown     5.00    NaN   \n",
       "\n",
       "      box_office  \n",
       "1874  1429859.00  \n",
       "2910         NaN  \n",
       "3260  1104161.00  \n",
       "3434  2322497.00  \n",
       "3439  1025937.00  \n",
       "3446  2266408.00  \n",
       "6779         NaN  \n",
       "7060         NaN  \n",
       "7291         NaN  "
      ]
     },
     "metadata": {},
     "output_type": "display_data"
    }
   ],
   "source": [
    "# Count missing values in \"ratings\"\n",
    "display(data['ratings'].isna().sum())  # 967 missing values\n",
    "\n",
    "# Count missing values in \"genres\"\n",
    "display(data['genres'].isna().sum())  # 976 missing values\n",
    "\n",
    "# Check cases where \"genres\" is missing, but \"ratings\" is available\n",
    "display(data[(data['genres'].isna()) & (data['ratings'].notna())].head(10))\n"
   ]
  },
  {
   "cell_type": "markdown",
   "metadata": {
    "id": "4c6k1t9ygFyQ"
   },
   "source": [
    "#### Checking for Duplicates in the DataFrame\n",
    "- We will check whether the dataset contains duplicates and analyze possible reasons for their occurrence."
   ]
  },
  {
   "cell_type": "markdown",
   "metadata": {
    "id": "aKck8RIdgFyQ"
   },
   "source": [
    "Checking for Exact Duplicates:"
   ]
  },
  {
   "cell_type": "code",
   "execution_count": 13,
   "metadata": {},
   "outputs": [
    {
     "data": {
      "text/plain": [
       "0"
      ]
     },
     "metadata": {},
     "output_type": "display_data"
    }
   ],
   "source": [
    "# Count the number of fully duplicated rows\n",
    "display(data.duplicated().sum())"
   ]
  },
  {
   "cell_type": "markdown",
   "metadata": {},
   "source": [
    "Result: No fully duplicated rows were found in the dataset."
   ]
  },
  {
   "cell_type": "markdown",
   "metadata": {},
   "source": [
    "Checking for Partial Duplicates in `title` and `puNumber` Columns. "
   ]
  },
  {
   "cell_type": "code",
   "execution_count": 14,
   "metadata": {},
   "outputs": [
    {
     "data": {
      "text/plain": [
       "714"
      ]
     },
     "metadata": {},
     "output_type": "display_data"
    },
    {
     "data": {
      "text/plain": [
       "2"
      ]
     },
     "metadata": {},
     "output_type": "display_data"
    },
    {
     "data": {
      "text/plain": [
       "713"
      ]
     },
     "metadata": {},
     "output_type": "display_data"
    },
    {
     "data": {
      "text/plain": [
       "0"
      ]
     },
     "metadata": {},
     "output_type": "display_data"
    },
    {
     "data": {
      "text/plain": [
       "7484"
      ]
     },
     "metadata": {},
     "output_type": "display_data"
    }
   ],
   "source": [
    "# Check for duplicate movie titles\n",
    "display(data['title'].duplicated().sum())\n",
    "\n",
    "# Check for duplicate distribution certificate numbers (puNumber)\n",
    "display(data['puNumber'].duplicated().sum())\n",
    "\n",
    "\n",
    "# Remove duplicate rows based on \"puNumber\"\n",
    "data = data.drop_duplicates(subset=['puNumber'])\n",
    "\n",
    "# Reset index after deletion\n",
    "data = data.reset_index(drop=True)\n",
    "\n",
    "# Verify if duplicates remain\n",
    "display(data['title'].duplicated().sum())\n",
    "display(data['puNumber'].duplicated().sum())\n",
    "\n",
    "# Display the total number of rows after cleaning\n",
    "display(len(data))\n",
    "\n"
   ]
  },
  {
   "cell_type": "markdown",
   "metadata": {},
   "source": [
    "**Analysis of Duplicate Titles**\n",
    "\n",
    "We found 714 duplicate movie titles, but these should not be removed.\n",
    "This is because a distribution certificate is issued not only for theatrical releases but also for other purposes, such as television or online streaming.\n",
    "\n",
    "Additionally, we found 2 duplicate distribution certificate numbers (puNumber), one of which we removed.\n"
   ]
  },
  {
   "cell_type": "markdown",
   "metadata": {
    "id": "52fOPrEBgFyQ"
   },
   "source": [
    "####  Checking for Categorical Values\n"
   ]
  },
  {
   "cell_type": "markdown",
   "metadata": {},
   "source": [
    "Among the columns in the table, there are categorical ones that are important to check for duplicates, and this is not very difficult to do.\n",
    "\n",
    "**Columns**:\n",
    "\n",
    "\t•\ttype\n",
    "\t•\tproduction_country\n",
    "\t•\tage_restriction\n",
    "\t•\tgenres"
   ]
  },
  {
   "cell_type": "markdown",
   "metadata": {},
   "source": [
    "Let’s look at the unique values in these four categorical columns."
   ]
  },
  {
   "cell_type": "code",
   "execution_count": 15,
   "metadata": {
    "scrolled": false
   },
   "outputs": [
    {
     "name": "stdout",
     "output_type": "stream",
     "text": [
      "Unique values in the column type:\n",
      "['Художественный', 'Анимационный', 'Прочие', 'Документальный', 'Научно-популярный', ' Художественный', ' Анимационный', 'Музыкально-развлекательный']\n",
      "Categories (8, object): ['Художественный', 'Анимационный', 'Прочие', 'Документальный', 'Научно-популярный', ' Художественный', ' Анимационный', 'Музыкально-развлекательный']\n",
      "\n",
      "\n",
      "Unique values in the column production_country:\n",
      "['США' 'СССР' 'Франция' 'СССР, Венгрия' 'Германия-Великобритания'\n",
      " 'Великобритания - Италия' 'Чехословакия' 'США - Франция - Турция'\n",
      " 'Новая Зеландия' 'Канада - Франция - Испания' 'США-Германия'\n",
      " 'США - Великобритания' 'Великобритания' 'США - Германия'\n",
      " 'Франция - Мексика - США' 'Россия, Казахстан, США' 'СССР, Швеция'\n",
      " 'СССР, Франция, Англия, Куба, ГДР' 'Германия'\n",
      " 'Великобритания-США-Германия-КНР' 'СССР, ЧССР, Западный Берлин, ПНР'\n",
      " 'СССР, Италия' 'Гонконг, КНР' 'США - Франция'\n",
      " 'США - Япония - Франция - Великобритания'\n",
      " 'Гонконг - Сингапур - Таиланд - Великобритания' 'США-Канада'\n",
      " 'Франция - Италия - Великобритания - США' 'Франция - США'\n",
      " 'Ирландия-Великобритания-Германия' 'Чехия' 'США-Австралия'\n",
      " 'СССР, Финляндия' 'США-Франция-Великобритания-Австрия' 'США - Бельгия'\n",
      " 'США - Ирландия - Великобритания' 'Великобритания - США'\n",
      " 'Люксембург - Нидерланды - Испания - Великобритания - США - Италия'\n",
      " 'Великобритания - Франция - США' 'Новая Зеландия - США'\n",
      " 'США - Великобритания - Чехия' 'Канада - Франция - Великобритания'\n",
      " 'Ирландия' 'Великобритания - Германия - США'\n",
      " 'США - Франция - Великобритания' 'Япония' 'СССР, Польша'\n",
      " 'Франция - Испания' 'Канада-Франция' 'Германия - Италия - США'\n",
      " 'Аргентина - Бразилия' 'Дания - Швейцария - Бельгия - Франция'\n",
      " 'США - Испания' 'Германия - США'\n",
      " 'Франция - Австрия - Германия - Италия - США' 'Австрия'\n",
      " 'США - Канада - Германия' 'США - Канада' 'СССР - Швейцария - Франция'\n",
      " 'Россия - Казахстан' 'Гонконг' 'Италия' 'США - ОАЭ' 'Россия'\n",
      " 'США - Франция - Испания - Великобритания' 'Великобритания - Франция'\n",
      " 'США-Италия-Испания-Аргентина' 'Франция-Великобритания' 'КНР - Гонконг'\n",
      " 'Франция - Италия - Швейцария' 'США - Новая Зеландия' 'Франция - Бельгия'\n",
      " 'КНР' 'Германия - Великобритания - Австрия'\n",
      " 'Великобритания - Израиль - Франция - Япония - США' 'Швеция' 'Испания'\n",
      " 'Дания' 'Франция - Бельгия - Люксембург' 'США - Индия - ОАЭ'\n",
      " 'Германия-Канада-Великобритания-Швейцария-Франция' 'Мексика - Чили'\n",
      " 'Аргентина' 'Бразилия' 'Чили' 'Австралия' 'Португалия - Франция'\n",
      " 'США - ЮАР' 'Исландия-Ирландия-Германия' 'США-Индонезия' 'Южная Корея'\n",
      " 'Мексика - Испания - Дания - США' 'Великобритания-США' 'Франция - Италия'\n",
      " 'США-Франция' 'США - Венгрия - Великобритания' 'Бельгия-Франция-Италия'\n",
      " 'Чехия - Германия' 'Германия - Франция' 'США-Нидерланды' 'Украина'\n",
      " 'Великобритания - Германия' 'Франция-Бельгия' 'США-Франция-Испания'\n",
      " 'Италия - Франция' 'Канада' 'Швеция-Франция-Дания'\n",
      " 'Германия-Франция-Польша' 'Франция-Великобритания - Германия'\n",
      " 'США - Бразилия - Франция - Австралия - Великобритания - Германия'\n",
      " 'Германия-Австрия' 'Германия-Италия- Шри-Ланка'\n",
      " 'Великобритания - Испания' 'США - Великобритания - Канада - Швеция'\n",
      " 'Босния и Герцеговина - Франция - Великобритания - Германия - Словения - Бельгия - Сербия'\n",
      " 'Великобритания - Франция - Италия - США' 'США-ОАЭ' 'Испания - Франция'\n",
      " 'США-Великобритания' 'США-ЮАР' 'Великобритания-Австралия - США'\n",
      " 'Норвегия - Швеция - Дания - Германия' 'Норвегия' 'Швейцария'\n",
      " 'Греция - Германия - Франция' 'Норвения' 'Южная Корея - США'\n",
      " 'Чили - Франция - США' 'Австрия - Германия - Франция' 'Швеция - Дания'\n",
      " 'Великобритания - Франция - Бельгия - Италия' 'Франция - Германия'\n",
      " 'Грузия - Франция - Люксембург'\n",
      " 'США - Франция - Великобритания - Бразилия ' 'США - КНР'\n",
      " 'Мексика - Франция' 'США - Германия - Гонконг - Сингапур'\n",
      " 'Финляндия - Австрия - Россия' 'Испания - Куба' 'Великобритания - ЮАР'\n",
      " 'Великобритания - Ирландия' 'Израиль'\n",
      " 'Бразилия - Германия - Порртугалия - Франция '\n",
      " 'Франция - Канада - Бельгия' 'Франция-Испания'\n",
      " 'Испания - Канада - Япония' 'Иран' 'Швеция-Куба'\n",
      " 'США-Великобритания-Ирландия' 'Гонконг - КНР' 'Нидерланды'\n",
      " 'Испания - Канада' 'Япония-Великобритания'\n",
      " 'Великобритания - Норвегия - Дания - Германия'\n",
      " 'Финляндия - Франция - Германия'\n",
      " 'Мексика - Франция - Нидерланды - Германия' 'США - Индия'\n",
      " 'США-Великобритания-Индия' 'США-Канада-Бельгия' 'Республика Узбекистан'\n",
      " 'Италия ' 'Турция'\n",
      " 'Сербия - Словения - Хорватия - Черногория - Македония' 'Киргизия'\n",
      " 'Германия - Нидерланды - Беларусь - Россия - Латвия' 'Индия'\n",
      " 'Нидерланды - Россия - Германия'\n",
      " 'Великобритания - Нидерланды - Франция - Хорватия' 'Канада - Южная Корея'\n",
      " 'Великобритания - Польша - КНР - Индия - Норвегия'\n",
      " 'Япония - Франция - США - Южная Корея - Турция'\n",
      " 'Мексика - Аргентина - Великобритания' 'Израиль - Франция'\n",
      " 'Польша - Португалия - Франция - Великобритания' 'Австралия - США'\n",
      " 'США - Великобритания ' 'Франция - Люксембург - Бельгия' 'Армения'\n",
      " 'Бельгия - Люксембург - Франция - Швейцария'\n",
      " 'США - Великобритания - Канада' 'Норвегия - Швеция' 'Канада - Франция'\n",
      " 'КНР - Гонконг - США' 'США - Сингапур - Малайзия - Индонезия'\n",
      " 'Германия - Россия' 'Япония - Канада'\n",
      " 'Финляндия - Дания - Германия - Ирландия'\n",
      " 'Франция - Люксембург - Германия - Бельгия - Швейцария - Великобритания '\n",
      " 'Канада - США' 'США-Италия-Испания' 'США-Испания'\n",
      " 'США - Швейцария - Франция' 'Испания - США - Колумбия' 'Канада-ЮАР'\n",
      " 'Франция - Россия' 'Германия - Финляндия - Австралия' 'Дания - Швеция'\n",
      " 'Бельгия' 'Германия - Франция - Австрия' 'Франция-Индия' 'ЮАР'\n",
      " 'Франция-Перу' 'Франция - Канада' 'Республика Беларусь'\n",
      " 'Великобритания - Австрия - Франция - США' 'Австрия-Германия-Франция'\n",
      " 'США-Россия' 'Германия-США' 'США - Южная Корея' 'Канада - КНР'\n",
      " 'Дания - Швеция - Италия - Франция - Германия'\n",
      " 'Франция-Италия-Испания-Венгрия' 'Франция - Германия - Бельгия'\n",
      " 'Франция-Великобритания-Чехия' 'Румыния - Франция - Бельгия'\n",
      " 'Болгария - Франция - Изриль'\n",
      " 'Израиль - Германия - Польша - Бельгия - Франция - Люксембург'\n",
      " 'Россия, Германия, Франция, Бельгия' 'Индонезия' 'Франция - Португалия'\n",
      " 'Великобритания - Пуэрто-Рико' 'СССР, ФРГ, Западный Берлин'\n",
      " 'Россия, Республика Беларусь' 'США, Великобритания' 'Франция - Австрия'\n",
      " 'Бельгия-Нидерланды' 'Великобритания - США - Индия'\n",
      " 'США - Великобритания - Австралия'\n",
      " 'Канада - Франция - США - ОАЭ - Великобритания'\n",
      " 'США - Австралия - Франция'\n",
      " 'Дания-Франция-Бельгия-Германия-Великобритания' 'Испания - Аргентина'\n",
      " 'Исландия - Финляндия' 'Россия-Польша-Голландия-Словакия'\n",
      " 'Дания - Германия - Швеция' 'Южная Корея - США - Канада' 'Таиланд'\n",
      " 'США-Мальта' 'США -Германия'\n",
      " 'Великобритания - Германия - Франция - Кипр - США' 'Мексика'\n",
      " 'США - Великобритания - Ирландия' 'США - Украина'\n",
      " 'США - Финляндия - Испания - Великобритания - Франция'\n",
      " 'Австралия-Великобритания'\n",
      " 'США - Канада - Афганистан - Бельгия - Франция'\n",
      " 'США - Великобритания - Германия - Новая Зеландия - Бельгия - Франция'\n",
      " 'Франция-Канада'\n",
      " 'Ирландия - Финляндия - Бельгия - Великобритания - США - Швейцария'\n",
      " 'Малайзия - США' 'Германия - Италия' 'США - Франция - Бельгия - Италия'\n",
      " 'Франция - Ирландия - Швеция' 'Азербайджан-Россия'\n",
      " 'Великобритания - Италия - Швейцария' 'США - Германия - Великобритания'\n",
      " 'Германия - Бельгия - США -Франция' 'США-Китай' 'Чили - Испания'\n",
      " 'Франция - Швейцария' 'Канада - Испания' 'США - Румыния - Великобритания'\n",
      " 'США - Япония' 'США - Россия - Франция' 'Франция-США' 'Парагвай'\n",
      " 'Германия - Канада' 'США - Канада - Великобритания' 'Финляндия - Канада'\n",
      " 'Уругвай-Мексика-Германия ' 'США - Чили'\n",
      " 'Германия - Аргентина - Нидерланды - Чили' 'США - Канада - Индонезия'\n",
      " 'Армения - Казахстан' 'Финляндия' 'Испания - Италия - Франция'\n",
      " 'Бельгия - Испания - Канада - Нидерланды'\n",
      " 'Великобритания - Франция - Швеция - Бельгия'\n",
      " 'Мексика - Эквадор - Канада - США - Франция - Малайзия - Италия - Аргентина - Германия - Индия  '\n",
      " 'Франция - Бенльгия' 'Индия - Великобритания'\n",
      " 'Япония - Великобритания - Франция' 'Испания - Уругвай - Аргентина'\n",
      " 'Франция - Италия - Бельгия - Люксембург'\n",
      " 'Франция - Украина - Грузия - Армения' 'Сербия - Германия - Венгрия'\n",
      " 'Франция-Польша' 'Франция ' 'Румыния-США' 'Россия-Азербайджан'\n",
      " 'США - Нидерланды - Бельгия - Венгрия - Греция - Канада'\n",
      " 'Германия - Франция - Люксембург' 'США - Россия'\n",
      " 'Великобритания - США - Франция' 'США - Австралия - Дания'\n",
      " 'Бельгия-Франция' 'США-Мексика'\n",
      " 'Норвегия - Азербайджан - Россия - Колумбия - Великобритания - Венгрия - Румыния - Франция - Грузия'\n",
      " 'СЩА' 'Бразилия - Испания' 'Россия, Франция, Латвия'\n",
      " 'Нидерланды - США - Германия - Канада - Франция - Ирландия - Великобритания'\n",
      " 'Уругвай - Колумбия' 'США - Испания - Болгария' 'Армения - Германия'\n",
      " 'США - Великобритания- Франция - Швеция' 'США - Мексика'\n",
      " 'Австралия-Турция-США' 'Швеция - Германия' 'Польша - Италия - Россия'\n",
      " 'Франция - Бразилия' 'США - Канада - КНР' 'СССР, Венгрия, ЧССР, ГДР'\n",
      " 'Бельгия - Германия - Люксембург' 'СССР  ' 'СССР ' ' СССР '\n",
      " 'США - Австралия' 'Бразилия - США' 'США - Великобритания - Канада - КНР'\n",
      " 'Франция - Чили'\n",
      " 'Франция - США - Великобритания - Колумбия - Бельгия - Россия'\n",
      " 'Дания - Великобритания - ЮАР' 'СССР   ' 'Россия-США-Канада-Люксембург'\n",
      " 'Россия - Республика Кипр' 'Германия - США - Швеция - Франция'\n",
      " 'Великобритания-Германия-Канада-ЮАР' ' СССР   ' 'СССР     '\n",
      " 'Ирландия, Канада'\n",
      " 'Япония - Великобритания - Швейцария - Ирландия - Дания - Франция - Польша - Австралия - Канада  '\n",
      " 'Великобритания, Канада' 'Бельгия - США' 'Великобритания - США - Россия'\n",
      " 'Россия-Украина' 'Германия - США - Великобритания - Израиль'\n",
      " 'Канада - Германия' 'США- Ю.Корея' 'Индия - Мексика'\n",
      " 'Великобритания - Франция - Республика Кипр - Швейцария - США - Сербия'\n",
      " 'Испания - Аргентина - Индия - США'\n",
      " 'Норвегия - Исландия - США - Великобритания '\n",
      " 'Турция - Германя - Франция' 'Германия - Великобритания'\n",
      " 'Австралия - Германия' 'Мексика - Испания'\n",
      " 'Великобритания - США - Германия - Бельгия' 'США - Чехия - Франция'\n",
      " 'Россия - Италия' 'Франция-Россия' 'Норвегия - Дания - Швеция'\n",
      " 'Франция - Швейцария - Германия' 'Грузия - Украина'\n",
      " 'Россия - Эстония - Финляндия - Беларусь' 'США - Франция - ЮАР'\n",
      " 'Великобритания - США - Швейцария' 'Канада-США'\n",
      " 'Мексика - Нидерланды - Германия - Франция' 'США - Испания - Франция'\n",
      " 'США - Великобритания - КНР' 'США-Франция-Канада'\n",
      " 'Япония, Великобритания, Австрия, Германия, Ю.Корея'\n",
      " 'Великобритания - Ирландия - США' 'Бельгия - Италия - Франция '\n",
      " 'Швейцария-Германия-ЮАР' 'Великобритания - США - Германия'\n",
      " 'Германия - Исландия' 'Испания - США' 'СССР    ' 'Хорватия'\n",
      " 'Финляндия - Исландия - Швеция' 'Канада - США - Германия - Франция'\n",
      " 'США - Великобритания - Испания' 'Ирландия-Великобритания'\n",
      " 'Аргентина - Испания' 'Австрия - Германия' ' СССР'\n",
      " 'Германия - Швейцария - Франция - Южная Корея - США'\n",
      " 'Украина - Нидерланды' 'Венгрия - Германия - Швеция'\n",
      " 'Германия - Франция -  Польша - Турция - Канада - Италия - Россия '\n",
      " 'СССР, Афганистан' 'СССР, Монголия' 'Россия-Кипр'\n",
      " 'Россия, Грузия, Испания'\n",
      " 'Великобритания - Нидерланды - Германия - Франция - Бельгия - Австрия '\n",
      " 'Испания - Великобритания - Франция' 'Дания - Норвегия - Великобритания'\n",
      " 'Бельгия - Франция - Люксембург'\n",
      " 'Италия - Франция - Швейцария - Великобритания'\n",
      " 'Франция - Бельгия - Великобритания - Испания - Германия - США'\n",
      " 'Швейцария - Израиль - Франция - Великобритания'\n",
      " 'Великобритания - США - Канада - Нидерланды - Франция' 'Россия, Италия'\n",
      " 'СССР, Албания' 'Россия, Украина, Республика Беларусь, Литва'\n",
      " 'Финляндия - Великобритания - Германия' 'Россия, Украина, Польша'\n",
      " 'Франция - Италия - Бельгия - КНР'\n",
      " 'Германия - Бельгия - Люксембург - Ирландия' 'КНР - Сингапур'\n",
      " 'Франция - Бельгия - Великобритания - США - Нидерланды - Канада'\n",
      " 'США - Россия - Польша - Германия - Пуэрто Рико'\n",
      " 'Франция - Бельгия - Канада' 'США ' 'Мексика - США'\n",
      " 'США - Гонконг - КНР ' 'Греция - Россия'\n",
      " 'Ирландия - Дания - Бельгия - Люксембург - Франция' 'Эстония - Россия'\n",
      " 'Великобритания - Исландия - Испания - Швейцария - США'\n",
      " 'Австралия - Великобритания - Бельгия - Индия'\n",
      " 'Швеция - Германия - Франция - Норвегия'\n",
      " 'Нидерланды - Бельгия - Германия - Ирландия'\n",
      " 'Нидерланды - Великобритания - Бельгия' 'США - Колумбия - Испания'\n",
      " 'Франция-Испания-Бельгия-Панама' 'США-Великобритания-Чехия-Румыния'\n",
      " 'Аргентина - Уругвай - Россия - Германия - Франция - Нидерланды'\n",
      " 'Швеция - Франция - Норвегия - Дания' 'Италия-Франция-Великобритания'\n",
      " 'Великобритания, Франция' 'Австралия, США' 'Венесуэла'\n",
      " 'Великобритания - США - Австралия - Ирландия - Германия - Куба - Канада'\n",
      " 'Южная Корея - КНР' 'Аргентина - Мексика - Бразилия - Франция - США'\n",
      " 'Швеция - США' 'Франция - Германия - Турция - Катар' 'Франция-Китай'\n",
      " 'Россия, Германия, Великобритания' 'Великобритания - Италия - Испания'\n",
      " 'Италия - Россия' 'Япония - КНР - Южная Корея' 'Россия, Германия'\n",
      " 'Россия-Ирландия' 'Македония - Франция - Великобритания'\n",
      " 'Франция - Бразилия - Италия' 'Россия-США' 'Армения-Россия'\n",
      " 'Россия, Румыния' 'Франция -  Бельгия' 'Грузия-Франция' 'ЮАР - США'\n",
      " 'Великобритания-США-Франция'\n",
      " 'Великобритания - США - Германия - Канада - Австралия' 'США-Ирландия'\n",
      " 'Россия, Республика Кипр' 'Германия - Люксембург - Франция'\n",
      " 'Россия-Франция' 'США - Нидерланды - Финляндия - Великобритания - Италия'\n",
      " 'Республика Кипр' 'Венгрия' 'Франция - США - Норвегия - Дания'\n",
      " 'Германия - Австрия - Ирландия' 'США - Финляндия' 'Италия-Великобритания'\n",
      " 'Россия, Испания' 'США - Великобритания - Болгария'\n",
      " 'Великобритания - Люксембург' 'Индия - США'\n",
      " 'США - Канада - Россия - Франция - Чили - Ирландия' 'Грузия-Россия'\n",
      " 'Дания - Австрия - Ирландия - Финляндия - Норвегия - Швеция - Нидерланды'\n",
      " 'США-КНР' 'Грузия' 'Австралия - Ирландия' 'Великобритания - Канада'\n",
      " 'Италия - Аргентина - Словения '\n",
      " 'Испания - Франция - Нидерланды - Германия - Бельгия - Великобритания - Канада'\n",
      " 'Франция - Чехия - Бельгия' 'Великобритания - Франция - Германия - США'\n",
      " 'Ирландия - Великобритания - Франция - США - Германия - Нидерланды'\n",
      " 'США - Канада - Япония - КНР' 'Италия-Франция'\n",
      " 'США - Великобритания - Исландия' 'Великобритания-Франция'\n",
      " 'Франция - Германия - Нидерланды' 'Иран '\n",
      " 'Франция - Германия - Швеция - США - Чехия - Словакия - Великобритания - Нидерланды'\n",
      " 'Франция - Канада - Н.Зеландия - США - Нидерланды - Германия - Швеция - Россия'\n",
      " 'Турция - США'\n",
      " 'Великобритания - США - Канада - Бельгия - Нидерланды - Австрия - Германия'\n",
      " 'Израиль - Франция - Германия - Палестина - США - Австрия - Великобритания'\n",
      " 'Аргентина - Франция - Испания' 'СССР, Россия'\n",
      " 'Великобритания - Франция - Италия - Индия - Дания - КНР - Бангладеш - Камбоджа - Гаити - Уганда'\n",
      " 'Италия - Франция - Швейцария' 'Ирландия - Великобритания - Канада'\n",
      " 'Перу' 'США - Норвегия' 'Испания-Канада' 'Китай-Гонконг'\n",
      " 'США - Германия - КНР' 'Великобритания - Новая Зеландия'\n",
      " 'Франция - Дания - Швеция - КНР'\n",
      " 'США - Великобритания - Германия - Бельгия - Дания'\n",
      " 'США - Франция - Канада - Германия - Австралия - Индия' nan\n",
      " 'СССР, Румыния, Франция' 'СССР, ГДР' 'Австралия-Ирландия' 'США - Китай'\n",
      " 'Великобритания - Франция - Австрия - Швеция' 'Россия, Таджикистан'\n",
      " 'Нидерланды - Бельгия - Болгария' 'Великобритания - Канада - США'\n",
      " 'Франция - Бельгия - Испания' 'Китай-Гонконг-США'\n",
      " 'Франция - Великобритания' 'США - Вьетнам' 'США - Германия - Франция'\n",
      " 'Германия - Франция - Бельгия' 'США - Италия'\n",
      " 'Германия - Дания - Испания - Швеция - Канада - Эстония - Франция'\n",
      " 'Княжество Андорра - Украина' 'Германия - Люксембург - Бельгия'\n",
      " 'Великобритания - Россия - Украина - США'\n",
      " 'Германия - Бельгия - Люксембург - Норвегия'\n",
      " 'США - Австралия - Новая Зеландия - Великобритания'\n",
      " 'США - Франция - Канада - Великобритания' 'Испания-Колумбия'\n",
      " 'Великобритания - Чехия - Франция' 'Россия, Украина' 'Исландия'\n",
      " 'Великобритания - Франция - Венгрия' 'Россия, Франция, Германия, Бельгия'\n",
      " 'Франция - Македония'\n",
      " 'Нидерланды - Франция - Германия - Бельгия - Швеция - Великобритания'\n",
      " 'Испания - США - Великобритания - Канада' 'Германия - Австрия'\n",
      " 'Республика Казахстан' 'Франция - Испания - Дания - Венгрия - Швейцария'\n",
      " 'Франция-КНР' 'США - Пуэрто-Рико - Франция ' 'Мексика - Тайвань - США'\n",
      " 'Великобритания - Испания - Непал - Индия - Венгрия - Гонконг - Германия - Дания - Бахрейн'\n",
      " 'Великобритания - Аргентина - США - Франция - Россия - Испания'\n",
      " 'КНР - США' 'Италия - США' 'Финляндия - Швеция - Германия'\n",
      " 'Канада- Испания' 'Франция - Бельгия - Чехия' 'Франция-Бельгия-Канада'\n",
      " 'Франция - Германия - США' 'США - Дания' 'Индия - КНР'\n",
      " 'Чехия-Великобритания-США' 'США-ФРГ-Россия'\n",
      " 'Ирландия-Нидерланды-Франция-США-Великобритания'\n",
      " 'Россия, Грузия, Хорватия, Испания' 'Финляндия - Швеция - Норвегия'\n",
      " 'Сербия - Великобритания - США'\n",
      " 'США - Великобритания - Франция - Гонконг' 'Швейцария - Франция'\n",
      " 'Швейцария - Великобритания' 'ОАЭ - США'\n",
      " 'США - Франция - Германия - Канада - Австралия ' 'Германия - Австралия'\n",
      " 'Иран, Франция' 'США - Великобритания - Новая Зеландия' 'США-Колумбия'\n",
      " 'США-Франция-Ирландия' 'Великобритания - Франция - Бельгия'\n",
      " 'США - Великобритания - Япония' 'США - Франция - Германия'\n",
      " 'Польша - Ирландия' 'Ирландия - Великобритания - Франция - США'\n",
      " 'США - Бельгия - Великобритания' 'СССР, ВНР'\n",
      " 'Испания - Франция - США - Великобритания - Бельгия'\n",
      " 'Франция - Дания - США' 'США - Гонконг' 'Бразилия - К;анада'\n",
      " 'Франция-Германия' 'США - Колумбия'\n",
      " 'США - Ирландия - Великобритания - Франция'\n",
      " 'Великобритания - США - Канада' 'Польша - Франция'\n",
      " 'Канада - США - Нидерланды - Великобритания - Аргентина'\n",
      " 'Великобритания - Дания' 'Франция - Бельгия - Япония' 'Россия,  Испания'\n",
      " 'Франция -Бельгия' 'США - Канада - Германия - Франция'\n",
      " 'США-Канада-Франция' 'Россия - Германия' 'Россия-Италия'\n",
      " 'Китай - Гонконг' 'Германия-Австрия-Франция-Италия' 'США-Япония'\n",
      " 'США - Германия - Канада' 'Испания-Мексика'\n",
      " 'США - Япония - Канада - Великобритания - Германия - Франция'\n",
      " 'США -Великобритания - Австралия' 'Россия-Украина-Германия'\n",
      " 'Израиль - Франция - Великобритания - Германия' 'Корея'\n",
      " 'Россия - Болгария' 'США-Индия' 'Германия-Канада-Франция-Бельгия'\n",
      " 'Германия-Кения' 'Франция - Монако' 'Франция-Испания-Швейцария'\n",
      " 'Австрия-Франция-Германия' 'Румыния' 'США-Великобритания-Франция'\n",
      " 'Канада-Великобритания' 'Канада-Бразилия-Япония'\n",
      " 'Германия - Дания - Норвегия' 'Дания - Германия' 'СССР - Италия'\n",
      " 'СССР - ГДР - Польша - Италия' 'США - Испания - Франция - Великобритания'\n",
      " 'Китай' 'Мексика-Аргентина'\n",
      " 'Германия - Великобритания - Италия - Испания'\n",
      " 'Франция-Германия-Великобритания' 'Россия - Германия - Швейцария'\n",
      " 'Франция-Австралия' 'Голландия' 'Швейцария-Франция' 'Россия-Белоруссия'\n",
      " 'Франция - Испания - Тайвань' 'США-Южная Корея-Новая Зеландия'\n",
      " 'Великобритания-Венгрия' 'Россия-Германия'\n",
      " 'Великобритания-Франция-Германия' 'Франция-Германия-Италия'\n",
      " 'Швеция-Финляндия-Франция-Норвегия' 'Франция-Италия' 'Германия-Израиль'\n",
      " 'Швеция - Германия - Дания - Норвегия' 'США-Бельгия'\n",
      " 'Франция-Гонконг-Ирландия' 'Эстония' 'Литва-Россия-Украина'\n",
      " 'Германия - Италия - Франция' 'Великобритания - Австрия - Германия'\n",
      " 'Бельгия - Франция' 'Россия-Казахстан' 'Испания - Мальта'\n",
      " 'Франция-Россия-Румыния-Италия-Бельгия' 'Россия - Польша'\n",
      " 'Испания - Мексика' 'США-Аргентина' 'Великобритания '\n",
      " 'Израиль-США-Франция' 'США - Новая Зеландия - Япония'\n",
      " 'Франция - Чехия - Великобритания' 'Россия-Польша'\n",
      " 'Германия-Франция-Великобритания' 'США-Германия-Канада'\n",
      " 'США-Гонконг-Китай' 'США - Великобритания - Германия'\n",
      " 'США-Канада-Австралия' 'Япония-США-Франция' 'Франция-Испания-Германия'\n",
      " 'США - Хорватия - Босния-Герцеговина'\n",
      " 'Великобритания - Чехия - Франция - Италия' 'США - Германия - Нидерланды'\n",
      " 'Германия - Франция - Канада'\n",
      " 'Франция-Грузия-Германия-Россия-Украина-Бельгия'\n",
      " 'Великобритания - Франция - Италия' 'Россия - США'\n",
      " 'Франция - Италия - Иран' 'Россия - Азербайджан' 'Греция' 'Дания - США'\n",
      " 'США-Великобритания-Новая Зеландия' 'США-Германия-Австралия'\n",
      " 'США-Канада-Италия' 'США - Япония - Германия' 'Австралия-США'\n",
      " 'Франция - Великобритания - Багамские острова - США'\n",
      " 'Швейцария - Люксембург' 'Швейцария - Австрия' 'Германия - Швейцария'\n",
      " 'Дания-Швеция-Франция-Германия' 'Польша' 'Швейцария-Австрия'\n",
      " 'Бразилия - Канада - США' 'Нидерланды - Россия' 'Португалия'\n",
      " 'Франция-Аргентина' 'Швеция-Франция' 'Франция-Украина'\n",
      " 'Германия-Украина-Нидерланды' 'Италия-Швейцария'\n",
      " 'США-Германия-Великобритания' 'Латвия - Россия'\n",
      " 'Германия-Франция-Великобритания-США' 'Канада - Италия'\n",
      " 'США - Объединенные Арабские Эмираты' 'США-Венгрия' 'Малайзия'\n",
      " 'Россия - Германия - Украина' 'США - Австралия - Мексика'\n",
      " 'Литва - Венгрия' 'Германия - Китай' 'Казахстан' 'Республика Корея'\n",
      " 'США - Германия - Франция - Великобритания - Канада '\n",
      " 'Бельгия - Германия - Люксембург - Франция' 'Франция - Греция'\n",
      " 'Италия - Канада' 'США - Великобритания - Франция' 'США-Италия-Греция'\n",
      " 'Германия - США - Великобритания - Ирландия'\n",
      " 'Великобритания - Франция - Германия' 'Германия - Нидерланды - ЮАР'\n",
      " 'США-Япония-Германия-Великобритания-Нидерланды'\n",
      " 'США-Япония-Германия-Великобритания' 'Германия - Франция - Польша'\n",
      " 'Таиланд-Великобритания-Франция-Германия-Испания-Нидерланды'\n",
      " 'Германия-Италия-Швейцария'\n",
      " 'Дания - Швеция - Великобритания - Франция - Германия - Нидерланды - Норвегия - Финляндия'\n",
      " 'Франция - Великобритания - Нидерланды - Люксембург'\n",
      " 'Нидерланды-Великобритания-Франция-Италия-Япония'\n",
      " 'Финляндия-Дания-Германия-Ирландия' 'Испания-Аргентина'\n",
      " 'Великобритания - Нидерланды - Франция - США' 'Канада - Мексика'\n",
      " 'США, Франция' 'Канада-Южная Корея-США'\n",
      " 'Великобритания - Франция - Бельгия - США' 'КНР - Канада - США'\n",
      " 'Италия - Франция - Германия' 'Швеция - Германия - Франция - Дания'\n",
      " 'Франция - США - Бельгия' 'Украина - Германия - Латвия - Эстония'\n",
      " 'Австрия - Люксембург' 'Великобритания - КНР' 'Монголия'\n",
      " 'Франция - Дания' 'Швеция - Дания - Финляндия'\n",
      " 'Сингапур - Великобритания - Индонезия - Канада - США'\n",
      " 'США - Германия - Япония' 'Таиланд - США' 'Франция - Нидерланды'\n",
      " 'Великобритания - Румыния' 'США - Мальта'\n",
      " 'Великобритания - Германия - Нидерланды - Дания'\n",
      " 'Франция - Германия - Литва - Нидерланды - Россия' 'США - ЮАР - Гонконг'\n",
      " 'Австралия - Колумбия' 'Великобритания - Польша'\n",
      " 'США - Великобритания - Швеция' 'Франция - Швеция - Дания - Норвегия'\n",
      " 'Болгария - США' 'СССР, ФРГ' 'Бельгия - Нидерланды - Франция'\n",
      " 'Финляндия - Германия' 'Болгария'\n",
      " 'Грузия - Россия - Украина - Хорватия - Германия' 'Франция - Люксембург'\n",
      " 'Франция - Германия - Австрия' 'Норвегия - США' 'Германия-Швеция'\n",
      " 'Франция - Германия - Италия' 'Франция-Германия-Австрия' 'КНР-США'\n",
      " 'Великобритания - Ирландия - США ' 'Дания - Латвия - Россия - США'\n",
      " 'Финляндия - Польша' 'Германия - Бельгия'\n",
      " 'Германия - США - Франция - Испания'\n",
      " 'Бельгия-Германия-Канада-Франция-США-Великобритания'\n",
      " 'Нидерланды - Бельгия - Люксембург' 'Канада-Германия'\n",
      " 'Люксембург - Бельгия - Франция' 'США-Великобритания-Австралия'\n",
      " 'Великобритания, Новая Зеландия' 'Бельгия, Великобритания, США'\n",
      " 'Великобритания, Австралия' 'Исландия, Бельгия'\n",
      " 'Испания - Швейцария - Великобритания - Германия - Новая Зеландия - Нидерланды - Канада'\n",
      " 'Франция, Бельгия' 'Великобритания, США' 'Киргизия-Россия'\n",
      " 'Германия, США' 'Великобритания, США, Испания'\n",
      " 'Италия - Швейцария - Германия' 'Россия, Армения' 'Франция, Германия'\n",
      " 'Китай, Канада, США' 'Германия, Австралия' 'КНР, США'\n",
      " 'США, Великобритания, Люксембург' 'Испания, Ирландия, Бельгия, Франция'\n",
      " 'Великобритания - Гонконг - Венгрия - США - Ирландия' 'США - Пуэрто Рико'\n",
      " 'Аргентина - Испания - Уругвай'\n",
      " 'Израиль - Германия - Франция - Швейцария'\n",
      " 'Великобритания - Мексика - США' 'Испания - Болгария - США'\n",
      " 'Россия-Словакия-Чехия'\n",
      " 'Швейцария - КНР - США - Россия - Республика Корея - Великобритания'\n",
      " 'Россия, Нидерланды, Финляндия'\n",
      " 'Испания - Бельгия - Франция - Португалия - Великобритания'\n",
      " 'Бразилия - Португалия - Франция' 'Швеция - Норвегия'\n",
      " 'Франция - Польша - Бельгия' 'CША' 'Китай, США'\n",
      " 'Италия, Франция, Германия' 'Германия - Австрия - Франция'\n",
      " 'Чехия - Словакия - Хорватия' 'Россия, Польша, Финляндия'\n",
      " 'Россия, Латвия, Чешская Республика'\n",
      " 'Франция - Великобритания - Камбоджа - США - КНР' 'Чехия - Испания - США'\n",
      " 'Германия - Люксембург - Дания' 'Великобритания - Испания - Германия'\n",
      " 'Дания - Исландия' 'Германия, Франция, Великобритания'\n",
      " 'Великобритания - Испания - Италия - Латвия - Франция - Эстония'\n",
      " 'Дания, Швеция, Великобритания, Франция, Германия, Норвегия, Финляндия, Нидерланды, Италия'\n",
      " 'Польша - Франция - Великобритания' 'Дания, Норвегия, Венгрия, Чехия'\n",
      " 'Дания - Франция - Германия - Швеция' 'Великобритания, Швеция, США'\n",
      " 'Канада, Франция, Италия, Швейцария, США' 'США, Индия'\n",
      " 'США - Великобритания - Германия - - Швеция - Канада' 'Италия, Франция'\n",
      " 'Республика Беларусь, Германия, США, Россия'\n",
      " 'Италия-Швейцария-Франция-Германия '\n",
      " 'Россия - Франция - Великобритания - Латвия' 'Россия-Беларусь'\n",
      " 'Франция - Испания - Румыния - США - Бельгия' 'Италия-США'\n",
      " 'Россия, Австрия' 'Ирландия - Великобритания - США'\n",
      " 'Швейцария, Великобритания, Франция, США, Ирландия'\n",
      " 'Мексика, Франция, Германия, Дания, Швеция' 'Нидерланды, Бельгия'\n",
      " 'Швеция, Норвегия, Финляндия, Франция' 'Испания, Франция, Италия'\n",
      " 'Испания-Франция-Греция-Индия-США-Россия-Великобритания'\n",
      " 'Великобритания - Япония - США' 'Дания, Канада, Норвегия, Австралия, США'\n",
      " 'Аргентина, Испания' 'Россия, Германия, Казахстан, Польша, Китай'\n",
      " 'Португалия, Франция, Польша, США' 'США - Канада - Аргентина' 'Ливан-США'\n",
      " 'Япония - США' 'США, Гонконг '\n",
      " 'Франция - Россия - Швейцария - Румыния - Венгрия' 'Аргентина-Испания'\n",
      " 'Россия, Сербия' 'США - Болгария - Мексика'\n",
      " 'США - Великобритания - Швейцария - Франция' 'Таиланд - КНР - США'\n",
      " 'Великобритания, Нидерланды, Польша, Швейцария, Франция' 'Ирландия - США'\n",
      " 'Германия - Франция - Великобритания - Польша - США'\n",
      " 'Великобритания-Франция-Италия' 'США - Австралия - Индия' 'Франция - КНР'\n",
      " 'Великобритания - Израиль' 'Великобритания - Норвегия - Кения - Хорватия'\n",
      " 'США - Бразилия - Великобритания - Канада' 'Германия, Бельгия'\n",
      " 'Австралия, Канада' 'США, Великобритания, Франция' 'Кения, Германия'\n",
      " 'Нидерланды, Бельгия, Люксембург' 'Колумбия' 'Латвия - Франция'\n",
      " 'Ирландия, Великобритания' 'Франция - Израиль - Германия'\n",
      " 'Швеция, Франция, Великобритания' 'Бельгия - Люксембург'\n",
      " 'Германия - Бельгия - Великобритания'\n",
      " 'Испания, Франция, Великобритания, Дания, Бельгия, Германия'\n",
      " 'Румыния, ЮАР, Иран, Франция, Канада, Великобритания' 'Германия, Франция'\n",
      " 'США, Япония' 'США, Великобритания, Ирландия, Люксембург'\n",
      " 'Республика Армения' 'США, Франция, Япония' 'Япония, США' 'Канада, США'\n",
      " 'Республика Кипр - Россия'\n",
      " 'Дания - Франция - Италия - Бельгия - Нидерланды' 'Россия - Грузия'\n",
      " 'Италия, Германия' 'Норвегия, Швеция, Дания' 'Республика Кипр, Россия'\n",
      " 'КНР, Индия, Гонконг, США' 'Израиль, Украина' 'США, Россия'\n",
      " 'США - КНР - Индия - Ю.Корея' 'США - Швеция' 'Франция, Канада'\n",
      " 'Россия-Китай' 'Канада, Великобритания' 'США, Германия'\n",
      " 'Канада, США, Каймановы острова'\n",
      " 'Бразилия, Уругвай, Дания, Норвегия, Чили, Швеция'\n",
      " 'Пуэрто-Рико, Великобритания, США' 'Уругвай - Аргентина - Испания'\n",
      " 'США - Великобритания - Италия - Израиль - Сербия - Индия'\n",
      " 'США - Канада - Франция - Индия' 'Великобритания - Россия - КНР'\n",
      " 'Франция, Новая Зеландия' 'Франция, Люксембург, Бельгия'\n",
      " 'Канада, США, Норвегия' 'Италия, Испания'\n",
      " 'Испания - Германия - Нидерланды' 'Бразилия - США - КНР '\n",
      " 'Великобритания, Германия, Дания, США' '2019'\n",
      " 'Италия - Фрация - Бразилия - Германия' 'Норвегия - Швеция - Россия'\n",
      " 'Великобритания, Япония, США' 'Сша, Канада' 'Бельгия, Канада'\n",
      " 'Великобритания - Австралия - США' 'США, Канада' 'КНР - США '\n",
      " 'Франция - Финляндия' 'Колумбия - США' 'Великобритания, Франция, Бельгия'\n",
      " 'Норвегия - Нидерланды' 'Великобритания, Канада, США'\n",
      " 'Япония, Великобритания' 'Италия - Бельгия - Франция'\n",
      " 'Россия, Бельгия, Финляндия' 'США, Украина' 'Франция, Норвегия'\n",
      " 'Великобритания, Южная Корея, Канада, США, Индия, Китай, Япония'\n",
      " 'Канада - Норвегия' 'Республика Кипр-Россия' 'Германия, Россия'\n",
      " 'Польша - Франция - Испания - Бразилия - Швеция'\n",
      " 'Австрия, Великобритания, Германия' 'Франция - Сенегал - Бельгия'\n",
      " 'Франция, Бельгия, Люксембург' 'Финляндия, Латвия' 'Пакистан'\n",
      " 'Германия, Франция, США' 'Германия - Великобритания - США'\n",
      " 'КНР - Франция' 'Дания, Норвегия, Швеция, Исландия'\n",
      " 'Республика Кипр, США, Россия' 'Новая Зеландия - КНР'\n",
      " 'Дания - Канада - Швеция - Франция - Германия - Великобритания - США']\n",
      "\n",
      "\n",
      "Unique values in the column age_restriction:\n",
      "['«18+» - запрещено для детей', '«6+» - для детей старше 6 лет', '«12+» - для детей старше 12 лет', '«16+» - для детей старше 16 лет', '«0+» - для любой зрительской аудитории']\n",
      "Categories (5, object): ['«18+» - запрещено для детей', '«6+» - для детей старше 6 лет', '«12+» - для детей старше 12 лет', '«16+» - для детей старше 16 лет', '«0+» - для любой зрительской аудитории']\n",
      "\n",
      "\n",
      "Unique values in the column genres:\n",
      "['боевик,драма,мелодрама' 'драма,военный' 'фантастика,боевик,триллер'\n",
      " 'драма' 'мелодрама,комедия' 'мюзикл,мелодрама,комедия' 'комедия,криминал'\n",
      " 'боевик,триллер,детектив' 'боевик,драма,приключения' 'драма,спорт'\n",
      " 'триллер,драма,мелодрама' 'комедия,мелодрама' 'драма,мелодрама,комедия'\n",
      " 'драма,мелодрама' 'драма,история' 'драма,мелодрама,семейный'\n",
      " 'комедия,мелодрама,криминал' 'комедия' 'боевик,драма,криминал'\n",
      " 'драма,комедия' 'ужасы,фантастика,комедия'\n",
      " 'мультфильм,короткометражка,мелодрама' 'драма,криминал'\n",
      " 'мультфильм,фантастика,фэнтези' 'триллер,драма,криминал'\n",
      " 'драма,мелодрама,биография' 'драма,комедия,военный'\n",
      " 'фантастика,драма,детектив' 'мюзикл,семейный' nan\n",
      " 'военный,приключения,драма' 'документальный,драма'\n",
      " 'драма,биография,история' 'боевик,триллер,драма' 'фэнтези,боевик'\n",
      " 'боевик,комедия,криминал' 'мюзикл,комедия,детский'\n",
      " 'комедия,мелодрама,драма' 'мультфильм,фэнтези,комедия' 'комедия,история'\n",
      " 'мелодрама' 'драма,биография,музыка' 'фэнтези,драма,мелодрама'\n",
      " 'триллер,военный' 'драма,мелодрама,военный' 'мюзикл,драма,мелодрама'\n",
      " 'мюзикл,комедия' 'мультфильм,приключения,семейный' 'ужасы,триллер'\n",
      " 'боевик,драма,военный' 'драма,боевик' 'мультфильм,драма,комедия'\n",
      " 'триллер,криминал' 'военный,биография,драма' 'комедия,семейный' 'военный'\n",
      " 'драма,семейный,биография' 'фэнтези,приключения,семейный'\n",
      " 'драма,криминал,биография' 'ужасы,триллер,детектив'\n",
      " 'боевик,история,драма' 'ужасы,триллер,драма' 'драма,криминал,спорт'\n",
      " 'документальный,короткометражка' 'триллер,драма'\n",
      " 'криминал,детектив,приключения' 'драма,комедия,криминал'\n",
      " 'драма,комедия,вестерн' 'драма,мелодрама,детектив' 'мелодрама,биография'\n",
      " 'фэнтези,мелодрама,драма' 'драма,мелодрама,история'\n",
      " 'комедия,приключения,история' 'приключения' 'драма,семейный'\n",
      " 'криминал,детектив' 'мультфильм,короткометражка,ужасы'\n",
      " 'фантастика,триллер,драма' 'фэнтези,мелодрама,комедия' 'драма,биография'\n",
      " 'комедия,криминал,история' 'триллер,драма,детектив'\n",
      " 'фантастика,комедия,приключения' 'фэнтези,семейный'\n",
      " 'ужасы,фантастика,боевик' 'мелодрама,криминал'\n",
      " 'комедия,приключения,мелодрама' 'боевик,триллер,приключения'\n",
      " 'боевик,приключения' 'боевик,триллер,криминал'\n",
      " 'документальный,военный,история' 'драма,музыка' 'боевик,драма'\n",
      " 'приключения,боевик' 'драма,военный,биография'\n",
      " 'триллер,драма,приключения' 'аниме,мультфильм,фэнтези'\n",
      " 'триллер,детектив,драма' 'боевик,триллер,мелодрама' 'боевик,история'\n",
      " 'приключения,история' 'драма,комедия,приключения'\n",
      " 'фэнтези,комедия,приключения' 'драма,вестерн' 'документальный,музыка'\n",
      " 'мелодрама,драма' 'триллер,криминал,детектив' 'ужасы'\n",
      " 'боевик,комедия,приключения' 'мультфильм,фэнтези,боевик'\n",
      " 'боевик,фэнтези,драма' 'фэнтези,драма' 'фэнтези,боевик,комедия'\n",
      " 'приключения,детский,комедия' 'документальный' 'боевик,триллер,комедия'\n",
      " 'мелодрама,комедия,криминал' 'драма,детектив' 'мюзикл,ужасы,триллер'\n",
      " 'детектив,триллер,ужасы' 'ужасы,фэнтези' 'ужасы,фэнтези,триллер'\n",
      " 'мультфильм,драма' 'ужасы,боевик,фантастика' 'боевик' 'фантастика,боевик'\n",
      " 'мелодрама,комедия,приключения' 'триллер,детектив'\n",
      " 'мюзикл,мелодрама,фэнтези' 'криминал' 'триллер,комедия,криминал'\n",
      " 'боевик,приключения,триллер' 'триллер,драма,военный'\n",
      " 'комедия,семейный,музыка' 'комедия,фантастика,мелодрама'\n",
      " 'фантастика,триллер,криминал' 'комедия,драма' 'боевик,военный'\n",
      " 'ужасы,фантастика,триллер' 'фантастика,драма,мелодрама'\n",
      " 'фэнтези,драма,детектив' 'боевик,триллер' 'боевик,драма,история'\n",
      " 'мультфильм,мюзикл,фэнтези' 'для взрослых,драма,мелодрама'\n",
      " 'мультфильм,боевик,детектив' 'фантастика,мелодрама,боевик'\n",
      " 'ужасы,фантастика,детектив' 'фантастика,боевик,приключения'\n",
      " 'мелодрама,комедия,спорт' 'комедия,боевик,приключения'\n",
      " 'документальный,приключения' 'мультфильм,короткометражка,детский'\n",
      " 'комедия,приключения' 'ужасы,драма' 'ужасы,фэнтези,боевик'\n",
      " 'мультфильм,фэнтези,детский' 'мюзикл,боевик,драма'\n",
      " 'семейный,комедия,драма' 'концерт,музыка' 'фэнтези,боевик,драма'\n",
      " 'драма,комедия,музыка' 'фантастика,фэнтези,боевик'\n",
      " 'фэнтези,комедия,семейный' 'фэнтези,драма,комедия'\n",
      " 'мультфильм,мюзикл,драма' 'триллер' 'боевик,криминал,триллер'\n",
      " 'мультфильм,приключения,драма' 'мелодрама,музыка'\n",
      " 'документальный,музыка,концерт' 'мультфильм,семейный'\n",
      " 'мультфильм,комедия,приключения' 'мультфильм,комедия,семейный'\n",
      " 'фантастика,драма' 'фэнтези,боевик,приключения' 'мультфильм,приключения'\n",
      " 'драма,военный,история' 'история' 'драма,приключения,военный'\n",
      " 'документальный,короткометражка,семейный' 'мелодрама,история,триллер'\n",
      " 'ужасы,детектив' 'мюзикл,комедия,приключения' 'драма,спорт,биография'\n",
      " 'фантастика,боевик,комедия' 'фантастика,приключения,детектив'\n",
      " 'короткометражка,драма,военный' 'драма,мультфильм' 'приключения,семейный'\n",
      " 'детектив' 'триллер,приключения' 'аниме,мультфильм,боевик'\n",
      " 'драма,комедия,биография' 'драма,комедия,спорт'\n",
      " 'боевик,мелодрама,комедия' 'семейный,комедия' 'фэнтези,боевик,триллер'\n",
      " 'документальный,фэнтези,семейный' 'фантастика,фэнтези,драма'\n",
      " 'ужасы,комедия,фэнтези' 'документальный,биография,музыка'\n",
      " 'фантастика,боевик,фэнтези' 'ужасы,боевик,триллер'\n",
      " 'комедия,криминал,семейный' 'приключения,драма' 'криминал,драма,триллер'\n",
      " 'драма,детектив,криминал' 'фэнтези,приключения,комедия' 'комедия,спорт'\n",
      " 'мюзикл,фэнтези,мелодрама' 'мультфильм,фэнтези,приключения'\n",
      " 'фантастика,фэнтези,приключения' 'фэнтези' 'фэнтези,приключения,боевик'\n",
      " 'фантастика,боевик,драма' 'криминал,драма' 'криминал,триллер,драма'\n",
      " 'драма,мелодрама,приключения' 'детский,комедия' 'фантастика,драма,боевик'\n",
      " 'мультфильм,семейный,фэнтези' 'концерт,музыка,документальный'\n",
      " 'ужасы,комедия,приключения' 'драма,мелодрама,криминал'\n",
      " 'ужасы,фантастика,фэнтези' 'боевик,комедия'\n",
      " 'мультфильм,фантастика,комедия' 'триллер,ужасы'\n",
      " 'мультфильм,мюзикл,комедия' 'мелодрама,фэнтези,триллер'\n",
      " 'детский,приключения,комедия' 'комедия,детектив'\n",
      " 'аниме,мультфильм,мелодрама' 'документальный,драма,семейный'\n",
      " 'документальный,биография,история' 'военный,боевик,драма' 'ужасы,комедия'\n",
      " 'комедия,приключения,семейный' 'приключения,биография,история'\n",
      " 'детский,приключения,семейный' 'спорт,драма,биография'\n",
      " 'аниме,мультфильм,ужасы' 'фантастика,боевик,криминал' 'мюзикл,драма'\n",
      " 'драма,криминал,детектив' 'аниме,мультфильм,драма'\n",
      " 'драма,триллер,приключения' 'триллер,криминал,драма'\n",
      " 'фэнтези,комедия,драма' 'мультфильм,комедия' 'драма,комедия,история'\n",
      " 'комедия,биография,история' 'мультфильм,фантастика,приключения'\n",
      " 'аниме,мультфильм,фантастика' 'мультфильм,фэнтези,семейный'\n",
      " 'мультфильм,боевик,комедия' 'комедия,криминал,спорт'\n",
      " 'документальный,мюзикл' 'мелодрама,комедия,музыка' 'биография'\n",
      " 'триллер,криминал,комедия' 'фантастика,драма,комедия'\n",
      " 'комедия,драма,мелодрама' 'фантастика,приключения,боевик'\n",
      " 'мультфильм,фэнтези,драма' 'триллер,комедия'\n",
      " 'драма,приключения,биография' 'фантастика,комедия'\n",
      " 'мелодрама,драма,комедия' 'боевик,криминал' 'драма,криминал,боевик'\n",
      " 'мультфильм,мюзикл,детский' 'драма,фэнтези' 'документальный,семейный'\n",
      " 'фэнтези,драма,приключения' 'ужасы,комедия,фантастика'\n",
      " 'драма,мелодрама,музыка' 'фэнтези,драма,семейный'\n",
      " 'триллер,мелодрама,драма' 'вестерн,боевик,драма'\n",
      " 'мультфильм,короткометражка,комедия' 'триллер,драма,история'\n",
      " 'ужасы,фантастика' 'ужасы,мелодрама,комедия' 'фэнтези,приключения'\n",
      " 'фантастика,триллер' 'ужасы,боевик,фэнтези' 'мультфильм,комедия,детский'\n",
      " 'триллер,драма,биография' 'мультфильм,ужасы,фэнтези'\n",
      " 'мультфильм,ужасы,фантастика' 'ужасы,боевик,комедия'\n",
      " 'драма,биография,спорт' 'мультфильм' 'мелодрама,комедия,драма'\n",
      " 'приключения,фантастика,семейный' 'комедия,криминал,детектив'\n",
      " 'ужасы,триллер,комедия' 'криминал,комедия,триллер'\n",
      " 'семейный,приключения,комедия' 'мультфильм,драма,приключения'\n",
      " 'ужасы,драма,детектив' 'драма,приключения,фэнтези'\n",
      " 'фантастика,мультфильм,драма' 'драма,триллер,детектив'\n",
      " 'драма,история,музыка' 'детский' 'триллер,боевик,криминал'\n",
      " 'драма,фантастика' 'комедия,драма,семейный' 'боевик,драма,комедия'\n",
      " 'комедия,ужасы' 'драма,фантастика,триллер' 'фантастика,драма,триллер'\n",
      " 'история,спорт,драма' 'документальный,биография' 'биография,история'\n",
      " 'спорт,драма' 'боевик,фэнтези' 'мультфильм,фэнтези'\n",
      " 'документальный,комедия,история' 'криминал,комедия,боевик'\n",
      " 'фэнтези,приключения,драма' 'музыка,концерт' 'триллер,драма,боевик'\n",
      " 'комедия,криминал,боевик' 'комедия,фантастика,боевик'\n",
      " 'вестерн,приключения,боевик' 'аниме,мультфильм,комедия'\n",
      " 'детектив,криминал,триллер' 'мультфильм,комедия,криминал'\n",
      " 'комедия,приключения,детектив' 'мелодрама,фантастика,драма'\n",
      " 'драма,комедия,семейный' 'приключения,фантастика'\n",
      " 'триллер,детектив,ужасы' 'комедия,приключения,фэнтези'\n",
      " 'фэнтези,триллер,драма' 'мелодрама,приключения,боевик'\n",
      " 'детектив,триллер,криминал' 'фэнтези,семейный,мелодрама' 'военный,драма'\n",
      " 'документальный,приключения,семейный' 'криминал,комедия,драма'\n",
      " 'комедия,фантастика' 'история,биография,драма' 'мелодрама,драма,музыка'\n",
      " 'боевик,мелодрама' 'комедия,криминал,триллер' 'детектив,триллер,боевик'\n",
      " 'комедия,боевик,криминал' 'комедия,вестерн' 'детский,мелодрама,семейный'\n",
      " 'короткометражка,мультфильм' 'комедия,фэнтези' 'фантастика,драма,ужасы'\n",
      " 'триллер,драма,ужасы' 'драма,фэнтези,история'\n",
      " 'комедия,драма,короткометражка' 'фэнтези,триллер,приключения' 'семейный'\n",
      " 'комедия,криминал,драма' 'комедия,фэнтези,ужасы'\n",
      " 'короткометражка,комедия,криминал' 'фантастика' 'триллер,ужасы,драма'\n",
      " 'мелодрама,драма,фэнтези' 'фантастика,приключения,драма'\n",
      " 'боевик,детектив' 'военный,драма,боевик' 'комедия,мелодрама,фэнтези'\n",
      " 'вестерн,криминал,триллер' 'драма,история,триллер'\n",
      " 'мультфильм,фантастика,боевик' 'детектив,драма,криминал'\n",
      " 'приключения,история,драма' 'мультфильм,семейный,детский'\n",
      " 'биография,драма,история' 'триллер,криминал,боевик' 'история,мелодрама'\n",
      " 'приключения,детский' 'музыка,приключения,концерт'\n",
      " 'военный,драма,комедия' 'фэнтези,боевик,военный'\n",
      " 'фантастика,детектив,боевик' 'мультфильм,фэнтези,история'\n",
      " 'биография,мелодрама,драма' 'документальный,биография,спорт'\n",
      " 'фантастика,комедия,детектив' 'музыка,концерт,документальный'\n",
      " 'триллер,боевик,приключения' 'триллер,драма,комедия' 'детектив,криминал'\n",
      " 'мультфильм,приключения,фэнтези' 'мелодрама,приключения' 'комедия,музыка'\n",
      " 'мелодрама,комедия,ужасы' 'драма,криминал,приключения'\n",
      " 'приключения,детектив,мелодрама' 'драма,криминал,фантастика'\n",
      " 'фэнтези,драма,биография' 'детектив,фантастика,криминал'\n",
      " 'триллер,драма,фантастика' 'ужасы,комедия,боевик' 'мелодрама,история'\n",
      " 'триллер,боевик' 'фильм-нуар,триллер,детектив'\n",
      " 'комедия,криминал,приключения' 'ужасы,триллер,мелодрама'\n",
      " 'военный,драма,история' 'драма,спорт,история'\n",
      " 'документальный,драма,история' 'триллер,мелодрама,детектив'\n",
      " 'детский,семейный' 'мюзикл,семейный,драма' 'биография,военный,драма'\n",
      " 'мультфильм,детский' 'боевик,криминал,драма' 'детектив,фэнтези,триллер'\n",
      " 'драма,боевик,приключения' 'драма,мелодрама,фэнтези'\n",
      " 'детектив,история,драма' 'фэнтези,боевик,ужасы' 'ужасы,фэнтези,мелодрама'\n",
      " 'ужасы,приключения' 'боевик,фантастика' 'ужасы,мелодрама,детектив'\n",
      " 'фантастика,триллер,приключения' 'боевик,приключения,история'\n",
      " 'приключения,боевик,триллер' 'детектив,ужасы,криминал' 'семейный,фэнтези'\n",
      " 'мюзикл,мелодрама' 'драма,военный,приключения'\n",
      " 'фантастика,драма,приключения' 'приключения,семейный,драма'\n",
      " 'история,драма,боевик' 'мультфильм,приключения,комедия'\n",
      " 'криминал,драма,комедия' 'ужасы,комедия,драма'\n",
      " 'комедия,семейный,приключения' 'мюзикл,фэнтези,драма'\n",
      " 'драма,вестерн,боевик' 'фантастика,триллер,детектив'\n",
      " 'драма,история,детектив' 'короткометражка,биография'\n",
      " 'мультфильм,приключения,фантастика' 'комедия,триллер'\n",
      " 'мультфильм,приключения,детектив' 'драма,триллер'\n",
      " 'ужасы,триллер,криминал' 'документальный,криминал,военный'\n",
      " 'ужасы,фэнтези,драма' 'фэнтези,комедия' 'ужасы,фэнтези,комедия'\n",
      " 'комедия,музыка,драма' 'мультфильм,приключения,военный'\n",
      " 'мюзикл,фэнтези,комедия' 'боевик,фантастика,приключения'\n",
      " 'триллер,ужасы,криминал' 'ужасы,фантастика,драма'\n",
      " 'фантастика,приключения,семейный' 'короткометражка,музыка'\n",
      " 'мелодрама,детектив,комедия' 'документальный,триллер,биография'\n",
      " 'боевик,фантастика,триллер' 'спорт,драма,комедия'\n",
      " 'фэнтези,мелодрама,приключения' 'триллер,детектив,криминал'\n",
      " 'короткометражка,мелодрама' 'мультфильм,семейный,спорт'\n",
      " 'комедия,фэнтези,мелодрама' 'драма,спорт,комедия'\n",
      " 'история,драма,мелодрама' 'драма,боевик,криминал' 'драма,комедия,триллер'\n",
      " 'аниме,мультфильм' 'документальный,ужасы' 'мультфильм,короткометражка'\n",
      " 'драма,история,военный' 'мультфильм,короткометражка,фэнтези'\n",
      " 'комедия,военный,музыка' 'биография,история,драма'\n",
      " 'ужасы,драма,мелодрама' 'драма,комедия,детектив'\n",
      " 'комедия,семейный,фантастика' 'мультфильм,семейный,комедия'\n",
      " 'история,детектив' 'приключения,мелодрама,детектив'\n",
      " 'мюзикл,комедия,мелодрама' 'драма,фантастика,ужасы'\n",
      " 'мультфильм,ужасы,комедия' 'для взрослых,драма,комедия'\n",
      " 'ужасы,комедия,музыка' 'комедия,история,драма'\n",
      " 'семейный,детектив,детский' 'короткометражка,драма'\n",
      " 'документальный,новости,драма' 'триллер,мелодрама' 'ужасы,драма,вестерн'\n",
      " 'мюзикл,фэнтези,семейный' 'вестерн,драма,триллер'\n",
      " 'приключения,вестерн,боевик' 'семейный,комедия,музыка'\n",
      " 'боевик,драма,вестерн' 'ужасы,драма,триллер' 'фантастика,мелодрама'\n",
      " 'комедия,криминал,биография' 'семейный,мультфильм,комедия'\n",
      " 'комедия,драма,криминал' 'фантастика,боевик,военный'\n",
      " 'приключения,биография,драма' 'приключения,триллер,биография'\n",
      " 'криминал,боевик,триллер' 'боевик,вестерн,приключения' 'история,драма'\n",
      " 'фантастика,фэнтези,комедия' 'мультфильм,детский,комедия'\n",
      " 'мелодрама,комедия,триллер' 'документальный,боевик,приключения'\n",
      " 'драма,приключения' 'мелодрама,военный,драма' 'триллер,фэнтези'\n",
      " 'драма,триллер,биография' 'фэнтези,боевик,семейный'\n",
      " 'фантастика,триллер,комедия' 'документальный,фэнтези'\n",
      " 'комедия,мультфильм,фантастика' 'криминал,биография,комедия'\n",
      " 'биография,спорт,драма' 'приключения,военный' 'мультфильм,семейный,драма'\n",
      " 'документальный,фэнтези,драма' 'комедия,боевик,фантастика'\n",
      " 'семейный,приключения,военный' 'триллер,ужасы,детектив' 'короткометражка'\n",
      " 'мелодрама,триллер,история' 'документальный,история'\n",
      " 'мультфильм,приключения,детский' 'драма,комедия,мультфильм'\n",
      " 'военный,детектив' 'семейный,приключения,документальный'\n",
      " 'детский,фэнтези' 'документальный,комедия' 'комедия,биография'\n",
      " 'криминал,комедия' 'спорт,мелодрама,криминал' 'фантастика,комедия,боевик'\n",
      " 'боевик,приключения,детектив' 'детектив,триллер,драма'\n",
      " 'документальный,фантастика' 'мелодрама,комедия,семейный'\n",
      " 'мультфильм,мелодрама,комедия' 'драма,спорт,семейный'\n",
      " 'фантастика,мелодрама,фэнтези' 'мюзикл,комедия,музыка'\n",
      " 'фантастика,триллер,мелодрама' 'приключения,комедия,фэнтези'\n",
      " 'фэнтези,боевик,детектив' 'фэнтези,боевик,мелодрама' 'комедия,военный'\n",
      " 'драма,спорт,боевик' 'мультфильм,боевик,триллер' 'мелодрама,семейный'\n",
      " 'фантастика,боевик,детектив' 'драма,приключения,история'\n",
      " 'документальный,драма,музыка' 'фантастика,триллер,боевик'\n",
      " 'фэнтези,боевик,вестерн' 'драма,комедия,мелодрама'\n",
      " 'ужасы,фэнтези,приключения' 'триллер,фэнтези,драма'\n",
      " 'мультфильм,мюзикл,мелодрама' 'ужасы,триллер,фантастика'\n",
      " 'триллер,мелодрама,комедия' 'ужасы,комедия,семейный'\n",
      " 'комедия,приключения,музыка' 'документальный,комедия,криминал'\n",
      " 'мелодрама,детектив' 'детский,приключения,фантастика'\n",
      " 'короткометражка,боевик,драма' 'боевик,комедия,семейный'\n",
      " 'фантастика,боевик,мелодрама' 'фэнтези,триллер,мелодрама'\n",
      " 'драма,детектив,история' 'боевик,криминал,детектив'\n",
      " 'мультфильм,фэнтези,мелодрама' 'мелодрама,драма,боевик'\n",
      " 'драма,вестерн,приключения' 'драма,приключения,мелодрама'\n",
      " 'фэнтези,боевик,криминал' 'фантастика,комедия,семейный'\n",
      " 'детский,фэнтези,приключения' 'ужасы,боевик'\n",
      " 'фантастика,мелодрама,комедия' 'семейный,спорт,боевик'\n",
      " 'триллер,биография,драма' 'ужасы,драма,комедия'\n",
      " 'мультфильм,фэнтези,триллер' 'мюзикл' 'боевик,спорт,драма'\n",
      " 'комедия,приключения,вестерн' 'документальный,ужасы,боевик'\n",
      " 'фантастика,боевик,семейный' 'военный,история' 'ужасы,боевик,криминал'\n",
      " 'детектив,триллер' 'драма,семейный,комедия' 'драма,детектив,приключения'\n",
      " 'драма,криминал,история' 'приключения,триллер' 'боевик,драма,биография'\n",
      " 'драма,приключения,триллер' 'комедия,фэнтези,приключения'\n",
      " 'фантастика,боевик,ужасы' 'драма,комедия,фантастика'\n",
      " 'детектив,криминал,драма' 'боевик,триллер,фэнтези'\n",
      " 'приключения,детектив,семейный' 'ужасы,комедия,криминал'\n",
      " 'мультфильм,биография,драма' 'история,боевик,фэнтези'\n",
      " 'детектив,криминал,боевик' 'приключения,фэнтези'\n",
      " 'комедия,приключения,спорт' 'драма,биография,мюзикл'\n",
      " 'комедия,семейный,фэнтези' 'детектив,драма,триллер'\n",
      " 'боевик,приключения,семейный' 'биография,спорт,комедия'\n",
      " 'фантастика,приключения,военный' 'документальный,драма,биография'\n",
      " 'детектив,приключения,драма' 'аниме,мультфильм,приключения'\n",
      " 'семейный,приключения' 'ужасы,фэнтези,детектив' 'семейный,документальный'\n",
      " 'драма,приключения,семейный' 'приключения,история,военный'\n",
      " 'фэнтези,мелодрама' 'фэнтези,триллер,детектив'\n",
      " 'документальный,спорт,биография' 'комедия,триллер,драма' 'драма,ужасы'\n",
      " 'биография,музыка,драма' 'фэнтези,ужасы' 'детектив,мелодрама,фэнтези'\n",
      " 'боевик,военный,история' 'биография,драма,криминал'\n",
      " 'триллер,мелодрама,криминал' 'семейный,мелодрама' 'биография,драма'\n",
      " 'военный,история,драма' 'фантастика,детектив,фэнтези'\n",
      " 'детектив,приключения,триллер' 'фантастика,приключения'\n",
      " 'мультфильм,короткометражка,мюзикл' 'мультфильм,детский,семейный'\n",
      " 'документальный,драма,комедия' 'комедия,приключения,криминал'\n",
      " 'документальный,семейный,музыка' 'мелодрама,музыка,драма'\n",
      " 'детектив,фантастика,триллер' 'драма,мелодрама,триллер'\n",
      " 'биография,драма,военный' 'приключения,фантастика,драма'\n",
      " 'детектив,фильм-нуар,комедия' 'документальный,спорт'\n",
      " 'триллер,фантастика,драма' 'биография,документальный'\n",
      " 'ужасы,фантастика,мелодрама' 'детектив,комедия'\n",
      " 'история,биография,военный' 'криминал,мелодрама' 'драма,криминал,вестерн'\n",
      " 'мелодрама,семейный,приключения' 'триллер,ужасы,мелодрама'\n",
      " 'фэнтези,драма,фильм-нуар' 'детектив,мелодрама' 'комедия,драма,биография'\n",
      " 'драма,военный,боевик' 'драма,комедия,ужасы' 'фантастика,драма,криминал'\n",
      " 'документальный,музыка,биография' 'мультфильм,боевик,приключения'\n",
      " 'короткометражка,фантастика' 'мультфильм,мелодрама,драма'\n",
      " 'боевик,военный,драма' 'фэнтези,семейный,приключения'\n",
      " 'детский,мультфильм,приключения' 'семейный,фэнтези,комедия'\n",
      " 'фэнтези,ужасы,триллер' 'ужасы,триллер,приключения'\n",
      " 'драма,боевик,история' 'фэнтези,комедия,детектив' 'история,приключения'\n",
      " 'аниме,мультфильм,короткометражка' 'драма,военный,триллер'\n",
      " 'биография,криминал,триллер' 'фантастика,фэнтези,детектив'\n",
      " 'вестерн,биография,драма' 'биография,музыка,мюзикл'\n",
      " 'драма,история,биография' 'приключения,драма,фантастика'\n",
      " 'комедия,фэнтези,криминал' 'биография,спорт,история'\n",
      " 'драма,криминал,семейный' 'детектив,боевик,история'\n",
      " 'ужасы,комедия,детектив' 'триллер,приключения,драма'\n",
      " 'фэнтези,комедия,криминал' 'триллер,криминал,приключения'\n",
      " 'комедия,детектив,приключения' 'фэнтези,драма,ужасы'\n",
      " 'ужасы,драма,военный' 'реальное ТВ' 'аниме,мультфильм,детектив'\n",
      " 'приключения,фэнтези,семейный' 'драма,биография,комедия'\n",
      " 'триллер,комедия,ужасы' 'музыка,мелодрама,фэнтези' 'мультфильм,история'\n",
      " 'мультфильм,комедия,фантастика' 'биография,криминал,драма'\n",
      " 'комедия,мелодрама,фантастика' 'криминал,боевик,комедия'\n",
      " 'история,криминал' 'детектив,комедия,драма' 'триллер,фантастика,боевик'\n",
      " 'криминал,боевик' 'комедия,драма,военный' 'драма,триллер,криминал'\n",
      " 'мультфильм,мелодрама,приключения' 'фантастика,фэнтези,триллер'\n",
      " 'короткометражка,драма,триллер' 'военный,боевик,история'\n",
      " 'боевик,драма,триллер' 'документальный,военный,драма'\n",
      " 'драма,криминал,фильм-нуар' 'мультфильм,детский,приключения'\n",
      " 'мелодрама,история,драма']\n",
      "\n",
      "\n"
     ]
    }
   ],
   "source": [
    "# Checking unique values in the columns\n",
    "unique_values = {\n",
    "    'type': data['type'].unique(),\n",
    "    'production_country': data['production_country'].unique(),\n",
    "    'age_restriction': data['age_restriction'].unique(),\n",
    "    'genres': data['genres'].unique()\n",
    "}\n",
    "\n",
    "# Print unique values\n",
    "for column, values in unique_values.items():\n",
    "    print(f\"Unique values in the column {column}:\")\n",
    "    print(values)\n",
    "    print(\"\\n\")"
   ]
  },
  {
   "cell_type": "markdown",
   "metadata": {},
   "source": [
    "1. **type**:\n",
    "\n",
    "Some values contain extra spaces (e.g., “ Художественный”, “ Анимационный”).\n",
    "\n",
    "2. **production_country**:\n",
    "\n",
    "In this column, different delimiters are used between countries, sometimes “-”, “,”, or “ “.\n",
    "\n",
    "3. **age_restriction**:\n",
    "\n",
    "There are no obvious errors in this column.\n",
    "\n",
    "4. **genres**:\n",
    "\n",
    "Some values contain multiple genres separated by commas (e.g., ‘боевик,драма,мелодрама’). To analyze the data by individual genres, these strings can be split into multiple values or handled using a “multi-label” approach."
   ]
  },
  {
   "cell_type": "markdown",
   "metadata": {},
   "source": [
    "Column **type**\n",
    "\n",
    "We notice that some values contain extra spaces at the beginning of the string."
   ]
  },
  {
   "cell_type": "code",
   "execution_count": 16,
   "metadata": {
    "id": "PnXKIVdFgFyR"
   },
   "outputs": [
    {
     "data": {
      "text/plain": [
       "['Художественный', 'Анимационный', 'Прочие', 'Документальный', 'Научно-популярный', ' Художественный', ' Анимационный', 'Музыкально-развлекательный']\n",
       "Categories (8, object): ['Художественный', 'Анимационный', 'Прочие', 'Документальный', 'Научно-популярный', ' Художественный', ' Анимационный', 'Музыкально-развлекательный']"
      ]
     },
     "metadata": {},
     "output_type": "display_data"
    },
    {
     "data": {
      "text/plain": [
       "6"
      ]
     },
     "metadata": {},
     "output_type": "display_data"
    }
   ],
   "source": [
    "# Check the number of unique values in the column and their list\n",
    "display(data['type'].unique())\n",
    "\n",
    "# Remove extra spaces at the beginning and end of strings\n",
    "data['type'] = data['type'].str.strip()\n",
    "display(len(data['type'].unique()))"
   ]
  },
  {
   "cell_type": "markdown",
   "metadata": {},
   "source": [
    "The number of categories decreased from 8 to 6 after removing the extra spaces."
   ]
  },
  {
   "cell_type": "markdown",
   "metadata": {},
   "source": [
    "Column **production_country**\n",
    "\n",
    "\n"
   ]
  },
  {
   "cell_type": "code",
   "execution_count": 17,
   "metadata": {},
   "outputs": [
    {
     "data": {
      "text/plain": [
       "951"
      ]
     },
     "metadata": {},
     "output_type": "display_data"
    },
    {
     "data": {
      "text/plain": [
       "813"
      ]
     },
     "metadata": {},
     "output_type": "display_data"
    },
    {
     "data": {
      "text/plain": [
       "813"
      ]
     },
     "metadata": {},
     "output_type": "display_data"
    }
   ],
   "source": [
    "display(len(data['production_country'].unique()))\n",
    "\n",
    "# Remove possible spaces at the beginning and end of the strings\n",
    "data['production_country'] = data['production_country'].str.strip()\n",
    "data['production_country'] = data['production_country'].str.replace(r'[\\s,-]+', ',', regex=True)\n",
    "\n",
    "display(len(data['production_country'].unique()))\n",
    "\n",
    "# Check for the presence of letters \"ё\" and \"й\", replace them with \"е\" and \"и\" respectively\n",
    "data['production_country'] = data['production_country'].str.replace(\"ё\", \"е\")\n",
    "data['production_country'] = data['production_country'].str.replace(\"й\", \"и\")\n",
    "\n",
    "display(len(data['production_country'].unique()))  # Check the count\n",
    "\n",
    "\n"
   ]
  },
  {
   "cell_type": "markdown",
   "metadata": {},
   "source": [
    " The number of unique values decreased from 951 to 813.\n"
   ]
  },
  {
   "cell_type": "markdown",
   "metadata": {},
   "source": [
    "Column **age_restriction**"
   ]
  },
  {
   "cell_type": "code",
   "execution_count": 18,
   "metadata": {},
   "outputs": [
    {
     "name": "stdout",
     "output_type": "stream",
     "text": [
      "743\n"
     ]
    },
    {
     "data": {
      "text/plain": [
       "array(['боевик,драма,мелодрама', 'драма,военный',\n",
       "       'фантастика,боевик,триллер', 'драма', 'мелодрама,комедия',\n",
       "       'мюзикл,мелодрама,комедия', 'комедия,криминал',\n",
       "       'боевик,триллер,детектив', 'боевик,драма,приключения',\n",
       "       'драма,спорт', 'триллер,драма,мелодрама', 'комедия,мелодрама',\n",
       "       'драма,мелодрама,комедия', 'драма,мелодрама', 'драма,история',\n",
       "       'драма,мелодрама,семейный', 'комедия,мелодрама,криминал',\n",
       "       'комедия', 'боевик,драма,криминал', 'драма,комедия',\n",
       "       'ужасы,фантастика,комедия', 'мультфильм,короткометражка,мелодрама',\n",
       "       'драма,криминал', 'мультфильм,фантастика,фэнтези',\n",
       "       'триллер,драма,криминал', 'драма,мелодрама,биография',\n",
       "       'драма,комедия,военный', 'фантастика,драма,детектив',\n",
       "       'мюзикл,семейный', nan, 'военный,приключения,драма',\n",
       "       'документальный,драма', 'драма,биография,история',\n",
       "       'боевик,триллер,драма', 'фэнтези,боевик',\n",
       "       'боевик,комедия,криминал', 'мюзикл,комедия,детский',\n",
       "       'комедия,мелодрама,драма', 'мультфильм,фэнтези,комедия',\n",
       "       'комедия,история', 'мелодрама', 'драма,биография,музыка',\n",
       "       'фэнтези,драма,мелодрама', 'триллер,военный',\n",
       "       'драма,мелодрама,военный', 'мюзикл,драма,мелодрама',\n",
       "       'мюзикл,комедия', 'мультфильм,приключения,семейный',\n",
       "       'ужасы,триллер', 'боевик,драма,военный', 'драма,боевик',\n",
       "       'мультфильм,драма,комедия', 'триллер,криминал',\n",
       "       'военный,биография,драма', 'комедия,семейный', 'военный',\n",
       "       'драма,семейный,биография', 'фэнтези,приключения,семейный',\n",
       "       'драма,криминал,биография', 'ужасы,триллер,детектив',\n",
       "       'боевик,история,драма', 'ужасы,триллер,драма',\n",
       "       'драма,криминал,спорт', 'документальный,короткометражка',\n",
       "       'триллер,драма', 'криминал,детектив,приключения',\n",
       "       'драма,комедия,криминал', 'драма,комедия,вестерн',\n",
       "       'драма,мелодрама,детектив', 'мелодрама,биография',\n",
       "       'фэнтези,мелодрама,драма', 'драма,мелодрама,история',\n",
       "       'комедия,приключения,история', 'приключения', 'драма,семейный',\n",
       "       'криминал,детектив', 'мультфильм,короткометражка,ужасы',\n",
       "       'фантастика,триллер,драма', 'фэнтези,мелодрама,комедия',\n",
       "       'драма,биография', 'комедия,криминал,история',\n",
       "       'триллер,драма,детектив', 'фантастика,комедия,приключения',\n",
       "       'фэнтези,семейный', 'ужасы,фантастика,боевик',\n",
       "       'мелодрама,криминал', 'комедия,приключения,мелодрама',\n",
       "       'боевик,триллер,приключения', 'боевик,приключения',\n",
       "       'боевик,триллер,криминал', 'документальный,военный,история',\n",
       "       'драма,музыка', 'боевик,драма', 'приключения,боевик',\n",
       "       'драма,военный,биография', 'триллер,драма,приключения',\n",
       "       'аниме,мультфильм,фэнтези', 'триллер,детектив,драма',\n",
       "       'боевик,триллер,мелодрама', 'боевик,история',\n",
       "       'приключения,история', 'драма,комедия,приключения',\n",
       "       'фэнтези,комедия,приключения', 'драма,вестерн',\n",
       "       'документальный,музыка', 'мелодрама,драма',\n",
       "       'триллер,криминал,детектив', 'ужасы', 'боевик,комедия,приключения',\n",
       "       'мультфильм,фэнтези,боевик', 'боевик,фэнтези,драма',\n",
       "       'фэнтези,драма', 'фэнтези,боевик,комедия',\n",
       "       'приключения,детский,комедия', 'документальный',\n",
       "       'боевик,триллер,комедия', 'мелодрама,комедия,криминал',\n",
       "       'драма,детектив', 'мюзикл,ужасы,триллер', 'детектив,триллер,ужасы',\n",
       "       'ужасы,фэнтези', 'ужасы,фэнтези,триллер', 'мультфильм,драма',\n",
       "       'ужасы,боевик,фантастика', 'боевик', 'фантастика,боевик',\n",
       "       'мелодрама,комедия,приключения', 'триллер,детектив',\n",
       "       'мюзикл,мелодрама,фэнтези', 'криминал', 'триллер,комедия,криминал',\n",
       "       'боевик,приключения,триллер', 'триллер,драма,военный',\n",
       "       'комедия,семейный,музыка', 'комедия,фантастика,мелодрама',\n",
       "       'фантастика,триллер,криминал', 'комедия,драма', 'боевик,военный',\n",
       "       'ужасы,фантастика,триллер', 'фантастика,драма,мелодрама',\n",
       "       'фэнтези,драма,детектив', 'боевик,триллер', 'боевик,драма,история',\n",
       "       'мультфильм,мюзикл,фэнтези', 'для,взрослых,драма,мелодрама',\n",
       "       'мультфильм,боевик,детектив', 'фантастика,мелодрама,боевик',\n",
       "       'ужасы,фантастика,детектив', 'фантастика,боевик,приключения',\n",
       "       'мелодрама,комедия,спорт', 'комедия,боевик,приключения',\n",
       "       'документальный,приключения', 'мультфильм,короткометражка,детский',\n",
       "       'комедия,приключения', 'ужасы,драма', 'ужасы,фэнтези,боевик',\n",
       "       'мультфильм,фэнтези,детский', 'мюзикл,боевик,драма',\n",
       "       'семейный,комедия,драма', 'концерт,музыка', 'фэнтези,боевик,драма',\n",
       "       'драма,комедия,музыка', 'фантастика,фэнтези,боевик',\n",
       "       'фэнтези,комедия,семейный', 'фэнтези,драма,комедия',\n",
       "       'мультфильм,мюзикл,драма', 'триллер', 'боевик,криминал,триллер',\n",
       "       'мультфильм,приключения,драма', 'мелодрама,музыка',\n",
       "       'документальный,музыка,концерт', 'мультфильм,семейный',\n",
       "       'мультфильм,комедия,приключения', 'мультфильм,комедия,семейный',\n",
       "       'фантастика,драма', 'фэнтези,боевик,приключения',\n",
       "       'мультфильм,приключения', 'драма,военный,история', 'история',\n",
       "       'драма,приключения,военный',\n",
       "       'документальный,короткометражка,семейный',\n",
       "       'мелодрама,история,триллер', 'ужасы,детектив',\n",
       "       'мюзикл,комедия,приключения', 'драма,спорт,биография',\n",
       "       'фантастика,боевик,комедия', 'фантастика,приключения,детектив',\n",
       "       'короткометражка,драма,военный', 'драма,мультфильм',\n",
       "       'приключения,семейный', 'детектив', 'триллер,приключения',\n",
       "       'аниме,мультфильм,боевик', 'драма,комедия,биография',\n",
       "       'драма,комедия,спорт', 'боевик,мелодрама,комедия',\n",
       "       'семейный,комедия', 'фэнтези,боевик,триллер',\n",
       "       'документальный,фэнтези,семейный', 'фантастика,фэнтези,драма',\n",
       "       'ужасы,комедия,фэнтези', 'документальный,биография,музыка',\n",
       "       'фантастика,боевик,фэнтези', 'ужасы,боевик,триллер',\n",
       "       'комедия,криминал,семейный', 'приключения,драма',\n",
       "       'криминал,драма,триллер', 'драма,детектив,криминал',\n",
       "       'фэнтези,приключения,комедия', 'комедия,спорт',\n",
       "       'мюзикл,фэнтези,мелодрама', 'мультфильм,фэнтези,приключения',\n",
       "       'фантастика,фэнтези,приключения', 'фэнтези',\n",
       "       'фэнтези,приключения,боевик', 'фантастика,боевик,драма',\n",
       "       'криминал,драма', 'криминал,триллер,драма',\n",
       "       'драма,мелодрама,приключения', 'детский,комедия',\n",
       "       'фантастика,драма,боевик', 'мультфильм,семейный,фэнтези',\n",
       "       'концерт,музыка,документальный', 'ужасы,комедия,приключения',\n",
       "       'драма,мелодрама,криминал', 'ужасы,фантастика,фэнтези',\n",
       "       'боевик,комедия', 'мультфильм,фантастика,комедия', 'триллер,ужасы',\n",
       "       'мультфильм,мюзикл,комедия', 'мелодрама,фэнтези,триллер',\n",
       "       'детский,приключения,комедия', 'комедия,детектив',\n",
       "       'аниме,мультфильм,мелодрама', 'документальный,драма,семейный',\n",
       "       'документальный,биография,история', 'военный,боевик,драма',\n",
       "       'ужасы,комедия', 'комедия,приключения,семейный',\n",
       "       'приключения,биография,история', 'детский,приключения,семейный',\n",
       "       'спорт,драма,биография', 'аниме,мультфильм,ужасы',\n",
       "       'фантастика,боевик,криминал', 'мюзикл,драма',\n",
       "       'драма,криминал,детектив', 'аниме,мультфильм,драма',\n",
       "       'драма,триллер,приключения', 'триллер,криминал,драма',\n",
       "       'фэнтези,комедия,драма', 'мультфильм,комедия',\n",
       "       'драма,комедия,история', 'комедия,биография,история',\n",
       "       'мультфильм,фантастика,приключения', 'аниме,мультфильм,фантастика',\n",
       "       'мультфильм,фэнтези,семейный', 'мультфильм,боевик,комедия',\n",
       "       'комедия,криминал,спорт', 'документальный,мюзикл',\n",
       "       'мелодрама,комедия,музыка', 'биография',\n",
       "       'триллер,криминал,комедия', 'фантастика,драма,комедия',\n",
       "       'комедия,драма,мелодрама', 'фантастика,приключения,боевик',\n",
       "       'мультфильм,фэнтези,драма', 'триллер,комедия',\n",
       "       'драма,приключения,биография', 'фантастика,комедия',\n",
       "       'мелодрама,драма,комедия', 'боевик,криминал',\n",
       "       'драма,криминал,боевик', 'мультфильм,мюзикл,детский',\n",
       "       'драма,фэнтези', 'документальный,семейный',\n",
       "       'фэнтези,драма,приключения', 'ужасы,комедия,фантастика',\n",
       "       'драма,мелодрама,музыка', 'фэнтези,драма,семейный',\n",
       "       'триллер,мелодрама,драма', 'вестерн,боевик,драма',\n",
       "       'мультфильм,короткометражка,комедия', 'триллер,драма,история',\n",
       "       'ужасы,фантастика', 'ужасы,мелодрама,комедия',\n",
       "       'фэнтези,приключения', 'фантастика,триллер',\n",
       "       'ужасы,боевик,фэнтези', 'мультфильм,комедия,детский',\n",
       "       'триллер,драма,биография', 'мультфильм,ужасы,фэнтези',\n",
       "       'мультфильм,ужасы,фантастика', 'ужасы,боевик,комедия',\n",
       "       'драма,биография,спорт', 'мультфильм', 'мелодрама,комедия,драма',\n",
       "       'приключения,фантастика,семейный', 'комедия,криминал,детектив',\n",
       "       'ужасы,триллер,комедия', 'криминал,комедия,триллер',\n",
       "       'семейный,приключения,комедия', 'мультфильм,драма,приключения',\n",
       "       'ужасы,драма,детектив', 'драма,приключения,фэнтези',\n",
       "       'фантастика,мультфильм,драма', 'драма,триллер,детектив',\n",
       "       'драма,история,музыка', 'детский', 'триллер,боевик,криминал',\n",
       "       'драма,фантастика', 'комедия,драма,семейный',\n",
       "       'боевик,драма,комедия', 'комедия,ужасы',\n",
       "       'драма,фантастика,триллер', 'фантастика,драма,триллер',\n",
       "       'история,спорт,драма', 'документальный,биография',\n",
       "       'биография,история', 'спорт,драма', 'боевик,фэнтези',\n",
       "       'мультфильм,фэнтези', 'документальный,комедия,история',\n",
       "       'криминал,комедия,боевик', 'фэнтези,приключения,драма',\n",
       "       'музыка,концерт', 'триллер,драма,боевик',\n",
       "       'комедия,криминал,боевик', 'комедия,фантастика,боевик',\n",
       "       'вестерн,приключения,боевик', 'аниме,мультфильм,комедия',\n",
       "       'детектив,криминал,триллер', 'мультфильм,комедия,криминал',\n",
       "       'комедия,приключения,детектив', 'мелодрама,фантастика,драма',\n",
       "       'драма,комедия,семейный', 'приключения,фантастика',\n",
       "       'триллер,детектив,ужасы', 'комедия,приключения,фэнтези',\n",
       "       'фэнтези,триллер,драма', 'мелодрама,приключения,боевик',\n",
       "       'детектив,триллер,криминал', 'фэнтези,семейный,мелодрама',\n",
       "       'военный,драма', 'документальный,приключения,семейный',\n",
       "       'криминал,комедия,драма', 'комедия,фантастика',\n",
       "       'история,биография,драма', 'мелодрама,драма,музыка',\n",
       "       'боевик,мелодрама', 'комедия,криминал,триллер',\n",
       "       'детектив,триллер,боевик', 'комедия,боевик,криминал',\n",
       "       'комедия,вестерн', 'детский,мелодрама,семейный',\n",
       "       'короткометражка,мультфильм', 'комедия,фэнтези',\n",
       "       'фантастика,драма,ужасы', 'триллер,драма,ужасы',\n",
       "       'драма,фэнтези,история', 'комедия,драма,короткометражка',\n",
       "       'фэнтези,триллер,приключения', 'семейный',\n",
       "       'комедия,криминал,драма', 'комедия,фэнтези,ужасы',\n",
       "       'короткометражка,комедия,криминал', 'фантастика',\n",
       "       'триллер,ужасы,драма', 'мелодрама,драма,фэнтези',\n",
       "       'фантастика,приключения,драма', 'боевик,детектив',\n",
       "       'военный,драма,боевик', 'комедия,мелодрама,фэнтези',\n",
       "       'вестерн,криминал,триллер', 'драма,история,триллер',\n",
       "       'мультфильм,фантастика,боевик', 'детектив,драма,криминал',\n",
       "       'приключения,история,драма', 'мультфильм,семейный,детский',\n",
       "       'биография,драма,история', 'триллер,криминал,боевик',\n",
       "       'история,мелодрама', 'приключения,детский',\n",
       "       'музыка,приключения,концерт', 'военный,драма,комедия',\n",
       "       'фэнтези,боевик,военный', 'фантастика,детектив,боевик',\n",
       "       'мультфильм,фэнтези,история', 'биография,мелодрама,драма',\n",
       "       'документальный,биография,спорт', 'фантастика,комедия,детектив',\n",
       "       'музыка,концерт,документальный', 'триллер,боевик,приключения',\n",
       "       'триллер,драма,комедия', 'детектив,криминал',\n",
       "       'мультфильм,приключения,фэнтези', 'мелодрама,приключения',\n",
       "       'комедия,музыка', 'мелодрама,комедия,ужасы',\n",
       "       'драма,криминал,приключения', 'приключения,детектив,мелодрама',\n",
       "       'драма,криминал,фантастика', 'фэнтези,драма,биография',\n",
       "       'детектив,фантастика,криминал', 'триллер,драма,фантастика',\n",
       "       'ужасы,комедия,боевик', 'мелодрама,история', 'триллер,боевик',\n",
       "       'фильм,нуар,триллер,детектив', 'комедия,криминал,приключения',\n",
       "       'ужасы,триллер,мелодрама', 'военный,драма,история',\n",
       "       'драма,спорт,история', 'документальный,драма,история',\n",
       "       'триллер,мелодрама,детектив', 'детский,семейный',\n",
       "       'мюзикл,семейный,драма', 'биография,военный,драма',\n",
       "       'мультфильм,детский', 'боевик,криминал,драма',\n",
       "       'детектив,фэнтези,триллер', 'драма,боевик,приключения',\n",
       "       'драма,мелодрама,фэнтези', 'детектив,история,драма',\n",
       "       'фэнтези,боевик,ужасы', 'ужасы,фэнтези,мелодрама',\n",
       "       'ужасы,приключения', 'боевик,фантастика',\n",
       "       'ужасы,мелодрама,детектив', 'фантастика,триллер,приключения',\n",
       "       'боевик,приключения,история', 'приключения,боевик,триллер',\n",
       "       'детектив,ужасы,криминал', 'семейный,фэнтези', 'мюзикл,мелодрама',\n",
       "       'драма,военный,приключения', 'фантастика,драма,приключения',\n",
       "       'приключения,семейный,драма', 'история,драма,боевик',\n",
       "       'мультфильм,приключения,комедия', 'криминал,драма,комедия',\n",
       "       'ужасы,комедия,драма', 'комедия,семейный,приключения',\n",
       "       'мюзикл,фэнтези,драма', 'драма,вестерн,боевик',\n",
       "       'фантастика,триллер,детектив', 'драма,история,детектив',\n",
       "       'короткометражка,биография', 'мультфильм,приключения,фантастика',\n",
       "       'комедия,триллер', 'мультфильм,приключения,детектив',\n",
       "       'драма,триллер', 'ужасы,триллер,криминал',\n",
       "       'документальный,криминал,военный', 'ужасы,фэнтези,драма',\n",
       "       'фэнтези,комедия', 'ужасы,фэнтези,комедия', 'комедия,музыка,драма',\n",
       "       'мультфильм,приключения,военный', 'мюзикл,фэнтези,комедия',\n",
       "       'боевик,фантастика,приключения', 'триллер,ужасы,криминал',\n",
       "       'ужасы,фантастика,драма', 'фантастика,приключения,семейный',\n",
       "       'короткометражка,музыка', 'мелодрама,детектив,комедия',\n",
       "       'документальный,триллер,биография', 'боевик,фантастика,триллер',\n",
       "       'спорт,драма,комедия', 'фэнтези,мелодрама,приключения',\n",
       "       'триллер,детектив,криминал', 'короткометражка,мелодрама',\n",
       "       'мультфильм,семейный,спорт', 'комедия,фэнтези,мелодрама',\n",
       "       'драма,спорт,комедия', 'история,драма,мелодрама',\n",
       "       'драма,боевик,криминал', 'драма,комедия,триллер',\n",
       "       'аниме,мультфильм', 'документальный,ужасы',\n",
       "       'мультфильм,короткометражка', 'драма,история,военный',\n",
       "       'мультфильм,короткометражка,фэнтези', 'комедия,военный,музыка',\n",
       "       'биография,история,драма', 'ужасы,драма,мелодрама',\n",
       "       'драма,комедия,детектив', 'комедия,семейный,фантастика',\n",
       "       'мультфильм,семейный,комедия', 'история,детектив',\n",
       "       'приключения,мелодрама,детектив', 'мюзикл,комедия,мелодрама',\n",
       "       'драма,фантастика,ужасы', 'мультфильм,ужасы,комедия',\n",
       "       'для,взрослых,драма,комедия', 'ужасы,комедия,музыка',\n",
       "       'комедия,история,драма', 'семейный,детектив,детский',\n",
       "       'короткометражка,драма', 'документальный,новости,драма',\n",
       "       'триллер,мелодрама', 'ужасы,драма,вестерн',\n",
       "       'мюзикл,фэнтези,семейный', 'вестерн,драма,триллер',\n",
       "       'приключения,вестерн,боевик', 'семейный,комедия,музыка',\n",
       "       'боевик,драма,вестерн', 'ужасы,драма,триллер',\n",
       "       'фантастика,мелодрама', 'комедия,криминал,биография',\n",
       "       'семейный,мультфильм,комедия', 'комедия,драма,криминал',\n",
       "       'фантастика,боевик,военный', 'приключения,биография,драма',\n",
       "       'приключения,триллер,биография', 'криминал,боевик,триллер',\n",
       "       'боевик,вестерн,приключения', 'история,драма',\n",
       "       'фантастика,фэнтези,комедия', 'мультфильм,детский,комедия',\n",
       "       'мелодрама,комедия,триллер', 'документальный,боевик,приключения',\n",
       "       'драма,приключения', 'мелодрама,военный,драма', 'триллер,фэнтези',\n",
       "       'драма,триллер,биография', 'фэнтези,боевик,семейный',\n",
       "       'фантастика,триллер,комедия', 'документальный,фэнтези',\n",
       "       'комедия,мультфильм,фантастика', 'криминал,биография,комедия',\n",
       "       'биография,спорт,драма', 'приключения,военный',\n",
       "       'мультфильм,семейный,драма', 'документальный,фэнтези,драма',\n",
       "       'комедия,боевик,фантастика', 'семейный,приключения,военный',\n",
       "       'триллер,ужасы,детектив', 'короткометражка',\n",
       "       'мелодрама,триллер,история', 'документальный,история',\n",
       "       'мультфильм,приключения,детский', 'драма,комедия,мультфильм',\n",
       "       'военный,детектив', 'семейный,приключения,документальный',\n",
       "       'детский,фэнтези', 'документальный,комедия', 'комедия,биография',\n",
       "       'криминал,комедия', 'спорт,мелодрама,криминал',\n",
       "       'фантастика,комедия,боевик', 'боевик,приключения,детектив',\n",
       "       'детектив,триллер,драма', 'документальный,фантастика',\n",
       "       'мелодрама,комедия,семейный', 'мультфильм,мелодрама,комедия',\n",
       "       'драма,спорт,семейный', 'фантастика,мелодрама,фэнтези',\n",
       "       'мюзикл,комедия,музыка', 'фантастика,триллер,мелодрама',\n",
       "       'приключения,комедия,фэнтези', 'фэнтези,боевик,детектив',\n",
       "       'фэнтези,боевик,мелодрама', 'комедия,военный',\n",
       "       'драма,спорт,боевик', 'мультфильм,боевик,триллер',\n",
       "       'мелодрама,семейный', 'фантастика,боевик,детектив',\n",
       "       'драма,приключения,история', 'документальный,драма,музыка',\n",
       "       'фантастика,триллер,боевик', 'фэнтези,боевик,вестерн',\n",
       "       'драма,комедия,мелодрама', 'ужасы,фэнтези,приключения',\n",
       "       'триллер,фэнтези,драма', 'мультфильм,мюзикл,мелодрама',\n",
       "       'ужасы,триллер,фантастика', 'триллер,мелодрама,комедия',\n",
       "       'ужасы,комедия,семейный', 'комедия,приключения,музыка',\n",
       "       'документальный,комедия,криминал', 'мелодрама,детектив',\n",
       "       'детский,приключения,фантастика', 'короткометражка,боевик,драма',\n",
       "       'боевик,комедия,семейный', 'фантастика,боевик,мелодрама',\n",
       "       'фэнтези,триллер,мелодрама', 'драма,детектив,история',\n",
       "       'боевик,криминал,детектив', 'мультфильм,фэнтези,мелодрама',\n",
       "       'мелодрама,драма,боевик', 'драма,вестерн,приключения',\n",
       "       'драма,приключения,мелодрама', 'фэнтези,боевик,криминал',\n",
       "       'фантастика,комедия,семейный', 'детский,фэнтези,приключения',\n",
       "       'ужасы,боевик', 'фантастика,мелодрама,комедия',\n",
       "       'семейный,спорт,боевик', 'триллер,биография,драма',\n",
       "       'ужасы,драма,комедия', 'мультфильм,фэнтези,триллер', 'мюзикл',\n",
       "       'боевик,спорт,драма', 'комедия,приключения,вестерн',\n",
       "       'документальный,ужасы,боевик', 'фантастика,боевик,семейный',\n",
       "       'военный,история', 'ужасы,боевик,криминал', 'детектив,триллер',\n",
       "       'драма,семейный,комедия', 'драма,детектив,приключения',\n",
       "       'драма,криминал,история', 'приключения,триллер',\n",
       "       'боевик,драма,биография', 'драма,приключения,триллер',\n",
       "       'комедия,фэнтези,приключения', 'фантастика,боевик,ужасы',\n",
       "       'драма,комедия,фантастика', 'детектив,криминал,драма',\n",
       "       'боевик,триллер,фэнтези', 'приключения,детектив,семейный',\n",
       "       'ужасы,комедия,криминал', 'мультфильм,биография,драма',\n",
       "       'история,боевик,фэнтези', 'детектив,криминал,боевик',\n",
       "       'приключения,фэнтези', 'комедия,приключения,спорт',\n",
       "       'драма,биография,мюзикл', 'комедия,семейный,фэнтези',\n",
       "       'детектив,драма,триллер', 'боевик,приключения,семейный',\n",
       "       'биография,спорт,комедия', 'фантастика,приключения,военный',\n",
       "       'документальный,драма,биография', 'детектив,приключения,драма',\n",
       "       'аниме,мультфильм,приключения', 'семейный,приключения',\n",
       "       'ужасы,фэнтези,детектив', 'семейный,документальный',\n",
       "       'драма,приключения,семейный', 'приключения,история,военный',\n",
       "       'фэнтези,мелодрама', 'фэнтези,триллер,детектив',\n",
       "       'документальный,спорт,биография', 'комедия,триллер,драма',\n",
       "       'драма,ужасы', 'биография,музыка,драма', 'фэнтези,ужасы',\n",
       "       'детектив,мелодрама,фэнтези', 'боевик,военный,история',\n",
       "       'биография,драма,криминал', 'триллер,мелодрама,криминал',\n",
       "       'семейный,мелодрама', 'биография,драма', 'военный,история,драма',\n",
       "       'фантастика,детектив,фэнтези', 'детектив,приключения,триллер',\n",
       "       'фантастика,приключения', 'мультфильм,короткометражка,мюзикл',\n",
       "       'мультфильм,детский,семейный', 'документальный,драма,комедия',\n",
       "       'комедия,приключения,криминал', 'документальный,семейный,музыка',\n",
       "       'мелодрама,музыка,драма', 'детектив,фантастика,триллер',\n",
       "       'драма,мелодрама,триллер', 'биография,драма,военный',\n",
       "       'приключения,фантастика,драма', 'детектив,фильм,нуар,комедия',\n",
       "       'документальный,спорт', 'триллер,фантастика,драма',\n",
       "       'биография,документальный', 'ужасы,фантастика,мелодрама',\n",
       "       'детектив,комедия', 'история,биография,военный',\n",
       "       'криминал,мелодрама', 'драма,криминал,вестерн',\n",
       "       'мелодрама,семейный,приключения', 'триллер,ужасы,мелодрама',\n",
       "       'фэнтези,драма,фильм,нуар', 'детектив,мелодрама',\n",
       "       'комедия,драма,биография', 'драма,военный,боевик',\n",
       "       'драма,комедия,ужасы', 'фантастика,драма,криминал',\n",
       "       'документальный,музыка,биография', 'мультфильм,боевик,приключения',\n",
       "       'короткометражка,фантастика', 'мультфильм,мелодрама,драма',\n",
       "       'боевик,военный,драма', 'фэнтези,семейный,приключения',\n",
       "       'детский,мультфильм,приключения', 'семейный,фэнтези,комедия',\n",
       "       'фэнтези,ужасы,триллер', 'ужасы,триллер,приключения',\n",
       "       'драма,боевик,история', 'фэнтези,комедия,детектив',\n",
       "       'история,приключения', 'аниме,мультфильм,короткометражка',\n",
       "       'драма,военный,триллер', 'биография,криминал,триллер',\n",
       "       'фантастика,фэнтези,детектив', 'вестерн,биография,драма',\n",
       "       'биография,музыка,мюзикл', 'драма,история,биография',\n",
       "       'приключения,драма,фантастика', 'комедия,фэнтези,криминал',\n",
       "       'биография,спорт,история', 'драма,криминал,семейный',\n",
       "       'детектив,боевик,история', 'ужасы,комедия,детектив',\n",
       "       'триллер,приключения,драма', 'фэнтези,комедия,криминал',\n",
       "       'триллер,криминал,приключения', 'комедия,детектив,приключения',\n",
       "       'фэнтези,драма,ужасы', 'ужасы,драма,военный', 'реальное,ТВ',\n",
       "       'аниме,мультфильм,детектив', 'приключения,фэнтези,семейный',\n",
       "       'драма,биография,комедия', 'триллер,комедия,ужасы',\n",
       "       'музыка,мелодрама,фэнтези', 'мультфильм,история',\n",
       "       'мультфильм,комедия,фантастика', 'биография,криминал,драма',\n",
       "       'комедия,мелодрама,фантастика', 'криминал,боевик,комедия',\n",
       "       'история,криминал', 'детектив,комедия,драма',\n",
       "       'триллер,фантастика,боевик', 'криминал,боевик',\n",
       "       'комедия,драма,военный', 'драма,триллер,криминал',\n",
       "       'мультфильм,мелодрама,приключения', 'фантастика,фэнтези,триллер',\n",
       "       'короткометражка,драма,триллер', 'военный,боевик,история',\n",
       "       'боевик,драма,триллер', 'документальный,военный,драма',\n",
       "       'драма,криминал,фильм,нуар', 'мультфильм,детский,приключения',\n",
       "       'мелодрама,история,драма'], dtype=object)"
      ]
     },
     "metadata": {},
     "output_type": "display_data"
    },
    {
     "name": "stdout",
     "output_type": "stream",
     "text": [
      "743\n"
     ]
    }
   ],
   "source": [
    "print(len(data['genres'].unique()))\n",
    "\n",
    "# Clean the genres column\n",
    "data['genres'] = data['genres'].str.strip()\n",
    "data['genres'] = data['genres'].str.replace(r'[\\s,-]+', ',', regex=True)\n",
    "\n",
    "display(data['genres'].unique())\n",
    "print(len(data['genres'].unique()))"
   ]
  },
  {
   "cell_type": "markdown",
   "metadata": {},
   "source": [
    "Column **genres**"
   ]
  },
  {
   "cell_type": "code",
   "execution_count": 19,
   "metadata": {},
   "outputs": [
    {
     "name": "stdout",
     "output_type": "stream",
     "text": [
      "743\n"
     ]
    },
    {
     "data": {
      "text/plain": [
       "array(['боевик,драма,мелодрама', 'драма,военный',\n",
       "       'фантастика,боевик,триллер', 'драма', 'мелодрама,комедия',\n",
       "       'мюзикл,мелодрама,комедия', 'комедия,криминал',\n",
       "       'боевик,триллер,детектив', 'боевик,драма,приключения',\n",
       "       'драма,спорт', 'триллер,драма,мелодрама', 'комедия,мелодрама',\n",
       "       'драма,мелодрама,комедия', 'драма,мелодрама', 'драма,история',\n",
       "       'драма,мелодрама,семейный', 'комедия,мелодрама,криминал',\n",
       "       'комедия', 'боевик,драма,криминал', 'драма,комедия',\n",
       "       'ужасы,фантастика,комедия', 'мультфильм,короткометражка,мелодрама',\n",
       "       'драма,криминал', 'мультфильм,фантастика,фэнтези',\n",
       "       'триллер,драма,криминал', 'драма,мелодрама,биография',\n",
       "       'драма,комедия,военный', 'фантастика,драма,детектив',\n",
       "       'мюзикл,семейный', nan, 'военный,приключения,драма',\n",
       "       'документальный,драма', 'драма,биография,история',\n",
       "       'боевик,триллер,драма', 'фэнтези,боевик',\n",
       "       'боевик,комедия,криминал', 'мюзикл,комедия,детский',\n",
       "       'комедия,мелодрама,драма', 'мультфильм,фэнтези,комедия',\n",
       "       'комедия,история', 'мелодрама', 'драма,биография,музыка',\n",
       "       'фэнтези,драма,мелодрама', 'триллер,военный',\n",
       "       'драма,мелодрама,военный', 'мюзикл,драма,мелодрама',\n",
       "       'мюзикл,комедия', 'мультфильм,приключения,семейный',\n",
       "       'ужасы,триллер', 'боевик,драма,военный', 'драма,боевик',\n",
       "       'мультфильм,драма,комедия', 'триллер,криминал',\n",
       "       'военный,биография,драма', 'комедия,семейный', 'военный',\n",
       "       'драма,семейный,биография', 'фэнтези,приключения,семейный',\n",
       "       'драма,криминал,биография', 'ужасы,триллер,детектив',\n",
       "       'боевик,история,драма', 'ужасы,триллер,драма',\n",
       "       'драма,криминал,спорт', 'документальный,короткометражка',\n",
       "       'триллер,драма', 'криминал,детектив,приключения',\n",
       "       'драма,комедия,криминал', 'драма,комедия,вестерн',\n",
       "       'драма,мелодрама,детектив', 'мелодрама,биография',\n",
       "       'фэнтези,мелодрама,драма', 'драма,мелодрама,история',\n",
       "       'комедия,приключения,история', 'приключения', 'драма,семейный',\n",
       "       'криминал,детектив', 'мультфильм,короткометражка,ужасы',\n",
       "       'фантастика,триллер,драма', 'фэнтези,мелодрама,комедия',\n",
       "       'драма,биография', 'комедия,криминал,история',\n",
       "       'триллер,драма,детектив', 'фантастика,комедия,приключения',\n",
       "       'фэнтези,семейный', 'ужасы,фантастика,боевик',\n",
       "       'мелодрама,криминал', 'комедия,приключения,мелодрама',\n",
       "       'боевик,триллер,приключения', 'боевик,приключения',\n",
       "       'боевик,триллер,криминал', 'документальный,военный,история',\n",
       "       'драма,музыка', 'боевик,драма', 'приключения,боевик',\n",
       "       'драма,военный,биография', 'триллер,драма,приключения',\n",
       "       'аниме,мультфильм,фэнтези', 'триллер,детектив,драма',\n",
       "       'боевик,триллер,мелодрама', 'боевик,история',\n",
       "       'приключения,история', 'драма,комедия,приключения',\n",
       "       'фэнтези,комедия,приключения', 'драма,вестерн',\n",
       "       'документальный,музыка', 'мелодрама,драма',\n",
       "       'триллер,криминал,детектив', 'ужасы', 'боевик,комедия,приключения',\n",
       "       'мультфильм,фэнтези,боевик', 'боевик,фэнтези,драма',\n",
       "       'фэнтези,драма', 'фэнтези,боевик,комедия',\n",
       "       'приключения,детский,комедия', 'документальный',\n",
       "       'боевик,триллер,комедия', 'мелодрама,комедия,криминал',\n",
       "       'драма,детектив', 'мюзикл,ужасы,триллер', 'детектив,триллер,ужасы',\n",
       "       'ужасы,фэнтези', 'ужасы,фэнтези,триллер', 'мультфильм,драма',\n",
       "       'ужасы,боевик,фантастика', 'боевик', 'фантастика,боевик',\n",
       "       'мелодрама,комедия,приключения', 'триллер,детектив',\n",
       "       'мюзикл,мелодрама,фэнтези', 'криминал', 'триллер,комедия,криминал',\n",
       "       'боевик,приключения,триллер', 'триллер,драма,военный',\n",
       "       'комедия,семейный,музыка', 'комедия,фантастика,мелодрама',\n",
       "       'фантастика,триллер,криминал', 'комедия,драма', 'боевик,военный',\n",
       "       'ужасы,фантастика,триллер', 'фантастика,драма,мелодрама',\n",
       "       'фэнтези,драма,детектив', 'боевик,триллер', 'боевик,драма,история',\n",
       "       'мультфильм,мюзикл,фэнтези', 'для,взрослых,драма,мелодрама',\n",
       "       'мультфильм,боевик,детектив', 'фантастика,мелодрама,боевик',\n",
       "       'ужасы,фантастика,детектив', 'фантастика,боевик,приключения',\n",
       "       'мелодрама,комедия,спорт', 'комедия,боевик,приключения',\n",
       "       'документальный,приключения', 'мультфильм,короткометражка,детский',\n",
       "       'комедия,приключения', 'ужасы,драма', 'ужасы,фэнтези,боевик',\n",
       "       'мультфильм,фэнтези,детский', 'мюзикл,боевик,драма',\n",
       "       'семейный,комедия,драма', 'концерт,музыка', 'фэнтези,боевик,драма',\n",
       "       'драма,комедия,музыка', 'фантастика,фэнтези,боевик',\n",
       "       'фэнтези,комедия,семейный', 'фэнтези,драма,комедия',\n",
       "       'мультфильм,мюзикл,драма', 'триллер', 'боевик,криминал,триллер',\n",
       "       'мультфильм,приключения,драма', 'мелодрама,музыка',\n",
       "       'документальный,музыка,концерт', 'мультфильм,семейный',\n",
       "       'мультфильм,комедия,приключения', 'мультфильм,комедия,семейный',\n",
       "       'фантастика,драма', 'фэнтези,боевик,приключения',\n",
       "       'мультфильм,приключения', 'драма,военный,история', 'история',\n",
       "       'драма,приключения,военный',\n",
       "       'документальный,короткометражка,семейный',\n",
       "       'мелодрама,история,триллер', 'ужасы,детектив',\n",
       "       'мюзикл,комедия,приключения', 'драма,спорт,биография',\n",
       "       'фантастика,боевик,комедия', 'фантастика,приключения,детектив',\n",
       "       'короткометражка,драма,военный', 'драма,мультфильм',\n",
       "       'приключения,семейный', 'детектив', 'триллер,приключения',\n",
       "       'аниме,мультфильм,боевик', 'драма,комедия,биография',\n",
       "       'драма,комедия,спорт', 'боевик,мелодрама,комедия',\n",
       "       'семейный,комедия', 'фэнтези,боевик,триллер',\n",
       "       'документальный,фэнтези,семейный', 'фантастика,фэнтези,драма',\n",
       "       'ужасы,комедия,фэнтези', 'документальный,биография,музыка',\n",
       "       'фантастика,боевик,фэнтези', 'ужасы,боевик,триллер',\n",
       "       'комедия,криминал,семейный', 'приключения,драма',\n",
       "       'криминал,драма,триллер', 'драма,детектив,криминал',\n",
       "       'фэнтези,приключения,комедия', 'комедия,спорт',\n",
       "       'мюзикл,фэнтези,мелодрама', 'мультфильм,фэнтези,приключения',\n",
       "       'фантастика,фэнтези,приключения', 'фэнтези',\n",
       "       'фэнтези,приключения,боевик', 'фантастика,боевик,драма',\n",
       "       'криминал,драма', 'криминал,триллер,драма',\n",
       "       'драма,мелодрама,приключения', 'детский,комедия',\n",
       "       'фантастика,драма,боевик', 'мультфильм,семейный,фэнтези',\n",
       "       'концерт,музыка,документальный', 'ужасы,комедия,приключения',\n",
       "       'драма,мелодрама,криминал', 'ужасы,фантастика,фэнтези',\n",
       "       'боевик,комедия', 'мультфильм,фантастика,комедия', 'триллер,ужасы',\n",
       "       'мультфильм,мюзикл,комедия', 'мелодрама,фэнтези,триллер',\n",
       "       'детский,приключения,комедия', 'комедия,детектив',\n",
       "       'аниме,мультфильм,мелодрама', 'документальный,драма,семейный',\n",
       "       'документальный,биография,история', 'военный,боевик,драма',\n",
       "       'ужасы,комедия', 'комедия,приключения,семейный',\n",
       "       'приключения,биография,история', 'детский,приключения,семейный',\n",
       "       'спорт,драма,биография', 'аниме,мультфильм,ужасы',\n",
       "       'фантастика,боевик,криминал', 'мюзикл,драма',\n",
       "       'драма,криминал,детектив', 'аниме,мультфильм,драма',\n",
       "       'драма,триллер,приключения', 'триллер,криминал,драма',\n",
       "       'фэнтези,комедия,драма', 'мультфильм,комедия',\n",
       "       'драма,комедия,история', 'комедия,биография,история',\n",
       "       'мультфильм,фантастика,приключения', 'аниме,мультфильм,фантастика',\n",
       "       'мультфильм,фэнтези,семейный', 'мультфильм,боевик,комедия',\n",
       "       'комедия,криминал,спорт', 'документальный,мюзикл',\n",
       "       'мелодрама,комедия,музыка', 'биография',\n",
       "       'триллер,криминал,комедия', 'фантастика,драма,комедия',\n",
       "       'комедия,драма,мелодрама', 'фантастика,приключения,боевик',\n",
       "       'мультфильм,фэнтези,драма', 'триллер,комедия',\n",
       "       'драма,приключения,биография', 'фантастика,комедия',\n",
       "       'мелодрама,драма,комедия', 'боевик,криминал',\n",
       "       'драма,криминал,боевик', 'мультфильм,мюзикл,детский',\n",
       "       'драма,фэнтези', 'документальный,семейный',\n",
       "       'фэнтези,драма,приключения', 'ужасы,комедия,фантастика',\n",
       "       'драма,мелодрама,музыка', 'фэнтези,драма,семейный',\n",
       "       'триллер,мелодрама,драма', 'вестерн,боевик,драма',\n",
       "       'мультфильм,короткометражка,комедия', 'триллер,драма,история',\n",
       "       'ужасы,фантастика', 'ужасы,мелодрама,комедия',\n",
       "       'фэнтези,приключения', 'фантастика,триллер',\n",
       "       'ужасы,боевик,фэнтези', 'мультфильм,комедия,детский',\n",
       "       'триллер,драма,биография', 'мультфильм,ужасы,фэнтези',\n",
       "       'мультфильм,ужасы,фантастика', 'ужасы,боевик,комедия',\n",
       "       'драма,биография,спорт', 'мультфильм', 'мелодрама,комедия,драма',\n",
       "       'приключения,фантастика,семейный', 'комедия,криминал,детектив',\n",
       "       'ужасы,триллер,комедия', 'криминал,комедия,триллер',\n",
       "       'семейный,приключения,комедия', 'мультфильм,драма,приключения',\n",
       "       'ужасы,драма,детектив', 'драма,приключения,фэнтези',\n",
       "       'фантастика,мультфильм,драма', 'драма,триллер,детектив',\n",
       "       'драма,история,музыка', 'детский', 'триллер,боевик,криминал',\n",
       "       'драма,фантастика', 'комедия,драма,семейный',\n",
       "       'боевик,драма,комедия', 'комедия,ужасы',\n",
       "       'драма,фантастика,триллер', 'фантастика,драма,триллер',\n",
       "       'история,спорт,драма', 'документальный,биография',\n",
       "       'биография,история', 'спорт,драма', 'боевик,фэнтези',\n",
       "       'мультфильм,фэнтези', 'документальный,комедия,история',\n",
       "       'криминал,комедия,боевик', 'фэнтези,приключения,драма',\n",
       "       'музыка,концерт', 'триллер,драма,боевик',\n",
       "       'комедия,криминал,боевик', 'комедия,фантастика,боевик',\n",
       "       'вестерн,приключения,боевик', 'аниме,мультфильм,комедия',\n",
       "       'детектив,криминал,триллер', 'мультфильм,комедия,криминал',\n",
       "       'комедия,приключения,детектив', 'мелодрама,фантастика,драма',\n",
       "       'драма,комедия,семейный', 'приключения,фантастика',\n",
       "       'триллер,детектив,ужасы', 'комедия,приключения,фэнтези',\n",
       "       'фэнтези,триллер,драма', 'мелодрама,приключения,боевик',\n",
       "       'детектив,триллер,криминал', 'фэнтези,семейный,мелодрама',\n",
       "       'военный,драма', 'документальный,приключения,семейный',\n",
       "       'криминал,комедия,драма', 'комедия,фантастика',\n",
       "       'история,биография,драма', 'мелодрама,драма,музыка',\n",
       "       'боевик,мелодрама', 'комедия,криминал,триллер',\n",
       "       'детектив,триллер,боевик', 'комедия,боевик,криминал',\n",
       "       'комедия,вестерн', 'детский,мелодрама,семейный',\n",
       "       'короткометражка,мультфильм', 'комедия,фэнтези',\n",
       "       'фантастика,драма,ужасы', 'триллер,драма,ужасы',\n",
       "       'драма,фэнтези,история', 'комедия,драма,короткометражка',\n",
       "       'фэнтези,триллер,приключения', 'семейный',\n",
       "       'комедия,криминал,драма', 'комедия,фэнтези,ужасы',\n",
       "       'короткометражка,комедия,криминал', 'фантастика',\n",
       "       'триллер,ужасы,драма', 'мелодрама,драма,фэнтези',\n",
       "       'фантастика,приключения,драма', 'боевик,детектив',\n",
       "       'военный,драма,боевик', 'комедия,мелодрама,фэнтези',\n",
       "       'вестерн,криминал,триллер', 'драма,история,триллер',\n",
       "       'мультфильм,фантастика,боевик', 'детектив,драма,криминал',\n",
       "       'приключения,история,драма', 'мультфильм,семейный,детский',\n",
       "       'биография,драма,история', 'триллер,криминал,боевик',\n",
       "       'история,мелодрама', 'приключения,детский',\n",
       "       'музыка,приключения,концерт', 'военный,драма,комедия',\n",
       "       'фэнтези,боевик,военный', 'фантастика,детектив,боевик',\n",
       "       'мультфильм,фэнтези,история', 'биография,мелодрама,драма',\n",
       "       'документальный,биография,спорт', 'фантастика,комедия,детектив',\n",
       "       'музыка,концерт,документальный', 'триллер,боевик,приключения',\n",
       "       'триллер,драма,комедия', 'детектив,криминал',\n",
       "       'мультфильм,приключения,фэнтези', 'мелодрама,приключения',\n",
       "       'комедия,музыка', 'мелодрама,комедия,ужасы',\n",
       "       'драма,криминал,приключения', 'приключения,детектив,мелодрама',\n",
       "       'драма,криминал,фантастика', 'фэнтези,драма,биография',\n",
       "       'детектив,фантастика,криминал', 'триллер,драма,фантастика',\n",
       "       'ужасы,комедия,боевик', 'мелодрама,история', 'триллер,боевик',\n",
       "       'фильм,нуар,триллер,детектив', 'комедия,криминал,приключения',\n",
       "       'ужасы,триллер,мелодрама', 'военный,драма,история',\n",
       "       'драма,спорт,история', 'документальный,драма,история',\n",
       "       'триллер,мелодрама,детектив', 'детский,семейный',\n",
       "       'мюзикл,семейный,драма', 'биография,военный,драма',\n",
       "       'мультфильм,детский', 'боевик,криминал,драма',\n",
       "       'детектив,фэнтези,триллер', 'драма,боевик,приключения',\n",
       "       'драма,мелодрама,фэнтези', 'детектив,история,драма',\n",
       "       'фэнтези,боевик,ужасы', 'ужасы,фэнтези,мелодрама',\n",
       "       'ужасы,приключения', 'боевик,фантастика',\n",
       "       'ужасы,мелодрама,детектив', 'фантастика,триллер,приключения',\n",
       "       'боевик,приключения,история', 'приключения,боевик,триллер',\n",
       "       'детектив,ужасы,криминал', 'семейный,фэнтези', 'мюзикл,мелодрама',\n",
       "       'драма,военный,приключения', 'фантастика,драма,приключения',\n",
       "       'приключения,семейный,драма', 'история,драма,боевик',\n",
       "       'мультфильм,приключения,комедия', 'криминал,драма,комедия',\n",
       "       'ужасы,комедия,драма', 'комедия,семейный,приключения',\n",
       "       'мюзикл,фэнтези,драма', 'драма,вестерн,боевик',\n",
       "       'фантастика,триллер,детектив', 'драма,история,детектив',\n",
       "       'короткометражка,биография', 'мультфильм,приключения,фантастика',\n",
       "       'комедия,триллер', 'мультфильм,приключения,детектив',\n",
       "       'драма,триллер', 'ужасы,триллер,криминал',\n",
       "       'документальный,криминал,военный', 'ужасы,фэнтези,драма',\n",
       "       'фэнтези,комедия', 'ужасы,фэнтези,комедия', 'комедия,музыка,драма',\n",
       "       'мультфильм,приключения,военный', 'мюзикл,фэнтези,комедия',\n",
       "       'боевик,фантастика,приключения', 'триллер,ужасы,криминал',\n",
       "       'ужасы,фантастика,драма', 'фантастика,приключения,семейный',\n",
       "       'короткометражка,музыка', 'мелодрама,детектив,комедия',\n",
       "       'документальный,триллер,биография', 'боевик,фантастика,триллер',\n",
       "       'спорт,драма,комедия', 'фэнтези,мелодрама,приключения',\n",
       "       'триллер,детектив,криминал', 'короткометражка,мелодрама',\n",
       "       'мультфильм,семейный,спорт', 'комедия,фэнтези,мелодрама',\n",
       "       'драма,спорт,комедия', 'история,драма,мелодрама',\n",
       "       'драма,боевик,криминал', 'драма,комедия,триллер',\n",
       "       'аниме,мультфильм', 'документальный,ужасы',\n",
       "       'мультфильм,короткометражка', 'драма,история,военный',\n",
       "       'мультфильм,короткометражка,фэнтези', 'комедия,военный,музыка',\n",
       "       'биография,история,драма', 'ужасы,драма,мелодрама',\n",
       "       'драма,комедия,детектив', 'комедия,семейный,фантастика',\n",
       "       'мультфильм,семейный,комедия', 'история,детектив',\n",
       "       'приключения,мелодрама,детектив', 'мюзикл,комедия,мелодрама',\n",
       "       'драма,фантастика,ужасы', 'мультфильм,ужасы,комедия',\n",
       "       'для,взрослых,драма,комедия', 'ужасы,комедия,музыка',\n",
       "       'комедия,история,драма', 'семейный,детектив,детский',\n",
       "       'короткометражка,драма', 'документальный,новости,драма',\n",
       "       'триллер,мелодрама', 'ужасы,драма,вестерн',\n",
       "       'мюзикл,фэнтези,семейный', 'вестерн,драма,триллер',\n",
       "       'приключения,вестерн,боевик', 'семейный,комедия,музыка',\n",
       "       'боевик,драма,вестерн', 'ужасы,драма,триллер',\n",
       "       'фантастика,мелодрама', 'комедия,криминал,биография',\n",
       "       'семейный,мультфильм,комедия', 'комедия,драма,криминал',\n",
       "       'фантастика,боевик,военный', 'приключения,биография,драма',\n",
       "       'приключения,триллер,биография', 'криминал,боевик,триллер',\n",
       "       'боевик,вестерн,приключения', 'история,драма',\n",
       "       'фантастика,фэнтези,комедия', 'мультфильм,детский,комедия',\n",
       "       'мелодрама,комедия,триллер', 'документальный,боевик,приключения',\n",
       "       'драма,приключения', 'мелодрама,военный,драма', 'триллер,фэнтези',\n",
       "       'драма,триллер,биография', 'фэнтези,боевик,семейный',\n",
       "       'фантастика,триллер,комедия', 'документальный,фэнтези',\n",
       "       'комедия,мультфильм,фантастика', 'криминал,биография,комедия',\n",
       "       'биография,спорт,драма', 'приключения,военный',\n",
       "       'мультфильм,семейный,драма', 'документальный,фэнтези,драма',\n",
       "       'комедия,боевик,фантастика', 'семейный,приключения,военный',\n",
       "       'триллер,ужасы,детектив', 'короткометражка',\n",
       "       'мелодрама,триллер,история', 'документальный,история',\n",
       "       'мультфильм,приключения,детский', 'драма,комедия,мультфильм',\n",
       "       'военный,детектив', 'семейный,приключения,документальный',\n",
       "       'детский,фэнтези', 'документальный,комедия', 'комедия,биография',\n",
       "       'криминал,комедия', 'спорт,мелодрама,криминал',\n",
       "       'фантастика,комедия,боевик', 'боевик,приключения,детектив',\n",
       "       'детектив,триллер,драма', 'документальный,фантастика',\n",
       "       'мелодрама,комедия,семейный', 'мультфильм,мелодрама,комедия',\n",
       "       'драма,спорт,семейный', 'фантастика,мелодрама,фэнтези',\n",
       "       'мюзикл,комедия,музыка', 'фантастика,триллер,мелодрама',\n",
       "       'приключения,комедия,фэнтези', 'фэнтези,боевик,детектив',\n",
       "       'фэнтези,боевик,мелодрама', 'комедия,военный',\n",
       "       'драма,спорт,боевик', 'мультфильм,боевик,триллер',\n",
       "       'мелодрама,семейный', 'фантастика,боевик,детектив',\n",
       "       'драма,приключения,история', 'документальный,драма,музыка',\n",
       "       'фантастика,триллер,боевик', 'фэнтези,боевик,вестерн',\n",
       "       'драма,комедия,мелодрама', 'ужасы,фэнтези,приключения',\n",
       "       'триллер,фэнтези,драма', 'мультфильм,мюзикл,мелодрама',\n",
       "       'ужасы,триллер,фантастика', 'триллер,мелодрама,комедия',\n",
       "       'ужасы,комедия,семейный', 'комедия,приключения,музыка',\n",
       "       'документальный,комедия,криминал', 'мелодрама,детектив',\n",
       "       'детский,приключения,фантастика', 'короткометражка,боевик,драма',\n",
       "       'боевик,комедия,семейный', 'фантастика,боевик,мелодрама',\n",
       "       'фэнтези,триллер,мелодрама', 'драма,детектив,история',\n",
       "       'боевик,криминал,детектив', 'мультфильм,фэнтези,мелодрама',\n",
       "       'мелодрама,драма,боевик', 'драма,вестерн,приключения',\n",
       "       'драма,приключения,мелодрама', 'фэнтези,боевик,криминал',\n",
       "       'фантастика,комедия,семейный', 'детский,фэнтези,приключения',\n",
       "       'ужасы,боевик', 'фантастика,мелодрама,комедия',\n",
       "       'семейный,спорт,боевик', 'триллер,биография,драма',\n",
       "       'ужасы,драма,комедия', 'мультфильм,фэнтези,триллер', 'мюзикл',\n",
       "       'боевик,спорт,драма', 'комедия,приключения,вестерн',\n",
       "       'документальный,ужасы,боевик', 'фантастика,боевик,семейный',\n",
       "       'военный,история', 'ужасы,боевик,криминал', 'детектив,триллер',\n",
       "       'драма,семейный,комедия', 'драма,детектив,приключения',\n",
       "       'драма,криминал,история', 'приключения,триллер',\n",
       "       'боевик,драма,биография', 'драма,приключения,триллер',\n",
       "       'комедия,фэнтези,приключения', 'фантастика,боевик,ужасы',\n",
       "       'драма,комедия,фантастика', 'детектив,криминал,драма',\n",
       "       'боевик,триллер,фэнтези', 'приключения,детектив,семейный',\n",
       "       'ужасы,комедия,криминал', 'мультфильм,биография,драма',\n",
       "       'история,боевик,фэнтези', 'детектив,криминал,боевик',\n",
       "       'приключения,фэнтези', 'комедия,приключения,спорт',\n",
       "       'драма,биография,мюзикл', 'комедия,семейный,фэнтези',\n",
       "       'детектив,драма,триллер', 'боевик,приключения,семейный',\n",
       "       'биография,спорт,комедия', 'фантастика,приключения,военный',\n",
       "       'документальный,драма,биография', 'детектив,приключения,драма',\n",
       "       'аниме,мультфильм,приключения', 'семейный,приключения',\n",
       "       'ужасы,фэнтези,детектив', 'семейный,документальный',\n",
       "       'драма,приключения,семейный', 'приключения,история,военный',\n",
       "       'фэнтези,мелодрама', 'фэнтези,триллер,детектив',\n",
       "       'документальный,спорт,биография', 'комедия,триллер,драма',\n",
       "       'драма,ужасы', 'биография,музыка,драма', 'фэнтези,ужасы',\n",
       "       'детектив,мелодрама,фэнтези', 'боевик,военный,история',\n",
       "       'биография,драма,криминал', 'триллер,мелодрама,криминал',\n",
       "       'семейный,мелодрама', 'биография,драма', 'военный,история,драма',\n",
       "       'фантастика,детектив,фэнтези', 'детектив,приключения,триллер',\n",
       "       'фантастика,приключения', 'мультфильм,короткометражка,мюзикл',\n",
       "       'мультфильм,детский,семейный', 'документальный,драма,комедия',\n",
       "       'комедия,приключения,криминал', 'документальный,семейный,музыка',\n",
       "       'мелодрама,музыка,драма', 'детектив,фантастика,триллер',\n",
       "       'драма,мелодрама,триллер', 'биография,драма,военный',\n",
       "       'приключения,фантастика,драма', 'детектив,фильм,нуар,комедия',\n",
       "       'документальный,спорт', 'триллер,фантастика,драма',\n",
       "       'биография,документальный', 'ужасы,фантастика,мелодрама',\n",
       "       'детектив,комедия', 'история,биография,военный',\n",
       "       'криминал,мелодрама', 'драма,криминал,вестерн',\n",
       "       'мелодрама,семейный,приключения', 'триллер,ужасы,мелодрама',\n",
       "       'фэнтези,драма,фильм,нуар', 'детектив,мелодрама',\n",
       "       'комедия,драма,биография', 'драма,военный,боевик',\n",
       "       'драма,комедия,ужасы', 'фантастика,драма,криминал',\n",
       "       'документальный,музыка,биография', 'мультфильм,боевик,приключения',\n",
       "       'короткометражка,фантастика', 'мультфильм,мелодрама,драма',\n",
       "       'боевик,военный,драма', 'фэнтези,семейный,приключения',\n",
       "       'детский,мультфильм,приключения', 'семейный,фэнтези,комедия',\n",
       "       'фэнтези,ужасы,триллер', 'ужасы,триллер,приключения',\n",
       "       'драма,боевик,история', 'фэнтези,комедия,детектив',\n",
       "       'история,приключения', 'аниме,мультфильм,короткометражка',\n",
       "       'драма,военный,триллер', 'биография,криминал,триллер',\n",
       "       'фантастика,фэнтези,детектив', 'вестерн,биография,драма',\n",
       "       'биография,музыка,мюзикл', 'драма,история,биография',\n",
       "       'приключения,драма,фантастика', 'комедия,фэнтези,криминал',\n",
       "       'биография,спорт,история', 'драма,криминал,семейный',\n",
       "       'детектив,боевик,история', 'ужасы,комедия,детектив',\n",
       "       'триллер,приключения,драма', 'фэнтези,комедия,криминал',\n",
       "       'триллер,криминал,приключения', 'комедия,детектив,приключения',\n",
       "       'фэнтези,драма,ужасы', 'ужасы,драма,военный', 'реальное,ТВ',\n",
       "       'аниме,мультфильм,детектив', 'приключения,фэнтези,семейный',\n",
       "       'драма,биография,комедия', 'триллер,комедия,ужасы',\n",
       "       'музыка,мелодрама,фэнтези', 'мультфильм,история',\n",
       "       'мультфильм,комедия,фантастика', 'биография,криминал,драма',\n",
       "       'комедия,мелодрама,фантастика', 'криминал,боевик,комедия',\n",
       "       'история,криминал', 'детектив,комедия,драма',\n",
       "       'триллер,фантастика,боевик', 'криминал,боевик',\n",
       "       'комедия,драма,военный', 'драма,триллер,криминал',\n",
       "       'мультфильм,мелодрама,приключения', 'фантастика,фэнтези,триллер',\n",
       "       'короткометражка,драма,триллер', 'военный,боевик,история',\n",
       "       'боевик,драма,триллер', 'документальный,военный,драма',\n",
       "       'драма,криминал,фильм,нуар', 'мультфильм,детский,приключения',\n",
       "       'мелодрама,история,драма'], dtype=object)"
      ]
     },
     "metadata": {},
     "output_type": "display_data"
    },
    {
     "name": "stdout",
     "output_type": "stream",
     "text": [
      "743\n"
     ]
    }
   ],
   "source": [
    "print(len(data['genres'].unique()))\n",
    "\n",
    "# Clean the genres column\n",
    "data['genres'] = data['genres'].str.strip()\n",
    "data['genres'] = data['genres'].str.replace(r'[\\s,-]+', ',', regex=True)\n",
    "\n",
    "display(data['genres'].unique())\n",
    "print(len(data['genres'].unique()))\n",
    "\n"
   ]
  },
  {
   "cell_type": "markdown",
   "metadata": {},
   "source": [
    "You can standardize the genres by keeping only the first word. While this will lose some information about the genres, it will make the analysis more feasible. Analyzing 743 categories of films would not be productive."
   ]
  },
  {
   "cell_type": "code",
   "execution_count": 20,
   "metadata": {},
   "outputs": [
    {
     "name": "stdout",
     "output_type": "stream",
     "text": [
      "29\n"
     ]
    }
   ],
   "source": [
    "data['genres'] = data['genres'].str.split(',').str[0]\n",
    "print(len(data['genres'].unique())) \n"
   ]
  },
  {
   "cell_type": "markdown",
   "metadata": {},
   "source": [
    "Now we have 29 genres, which is much easier to analyze, so we'll keep it this way."
   ]
  },
  {
   "cell_type": "markdown",
   "metadata": {},
   "source": [
    "\n",
    "# Summary of Categorical Data Processing:\n",
    "\n",
    "1.\tColumn `type`:\n",
    "\t•\tExtra spaces at the beginning of some values were detected.\n",
    "\t•\tAfter removing the spaces, the number of unique values decreased from 8 to 6, indicating a successful correction.\n",
    "2.\tColumn `production_country`:\n",
    "\t•\tVarious delimiters were used between countries (comma, space, hyphen).\n",
    "\t•\tExtra spaces were removed, and delimiters were standardized (replacing spaces and hyphens with commas).\n",
    "\t•\tAdditionally, characters “ё” were replaced with “е” and “й” with “и”.\n",
    "\t•\tThis resulted in the reduction of unique values from 951 to 831.\n",
    "3.\tColumn `age_restriction`:\n",
    "\t•\tNo errors were found in this column, and the unique values correspond to the required age restrictions.\n",
    "\t•\tThere are 5 unique values, and no duplicates were present.\n",
    "4.\tColumn `genres`:\n",
    "\t•\tMultiple genres were listed in a single string, making analysis difficult.\n",
    "\t•\tTo standardize and simplify the analysis, it was decided to keep only the first genre in each string, reducing the number of unique values from 743 to 29.\n",
    "\t•\tThis allows for easier analysis of genre data by focusing on the most common categories.\n",
    "\n",
    "# Overall Conclusion:\n",
    "\n",
    "Significant work was done to clean and standardize the categorical data. As a result, unnecessary spaces were removed, delimiters were unified, and the number of unique values in the `type`, `production_country`, and `genres` columns was reduced. These changes simplify data analysis and reduce complexity in further processing and analysis."
   ]
  },
  {
   "cell_type": "markdown",
   "metadata": {
    "id": "XFSN5lrEgFyR"
   },
   "source": [
    "#### Check Quantitative Values\n"
   ]
  },
  {
   "cell_type": "markdown",
   "metadata": {},
   "source": [
    "At this stage, it’s important to carefully review the columns “budget”, “refundable_support”, and “nonrefundable_support”. It’s essential to keep in mind that:\n",
    "\n",
    "\t•\tThe budget should never be less than the sum of refundable_support and nonrefundable_support, as the budget already includes these forms of support.\n"
   ]
  },
  {
   "cell_type": "code",
   "execution_count": 21,
   "metadata": {
    "id": "YbzClBxagFyS"
   },
   "outputs": [
    {
     "data": {
      "text/plain": [
       "17"
      ]
     },
     "metadata": {},
     "output_type": "display_data"
    },
    {
     "data": {
      "text/html": [
       "<div>\n",
       "<style scoped>\n",
       "    .dataframe tbody tr th:only-of-type {\n",
       "        vertical-align: middle;\n",
       "    }\n",
       "\n",
       "    .dataframe tbody tr th {\n",
       "        vertical-align: top;\n",
       "    }\n",
       "\n",
       "    .dataframe thead th {\n",
       "        text-align: right;\n",
       "    }\n",
       "</style>\n",
       "<table border=\"1\" class=\"dataframe\">\n",
       "  <thead>\n",
       "    <tr style=\"text-align: right;\">\n",
       "      <th></th>\n",
       "      <th>title</th>\n",
       "      <th>puNumber</th>\n",
       "      <th>show_start_date</th>\n",
       "      <th>type</th>\n",
       "      <th>film_studio</th>\n",
       "      <th>production_country</th>\n",
       "      <th>director</th>\n",
       "      <th>producer</th>\n",
       "      <th>age_restriction</th>\n",
       "      <th>refundable_support</th>\n",
       "      <th>nonrefundable_support</th>\n",
       "      <th>budget</th>\n",
       "      <th>financing_source</th>\n",
       "      <th>ratings</th>\n",
       "      <th>genres</th>\n",
       "      <th>box_office</th>\n",
       "    </tr>\n",
       "  </thead>\n",
       "  <tbody>\n",
       "    <tr>\n",
       "      <th>2053</th>\n",
       "      <td>14+</td>\n",
       "      <td>111023614</td>\n",
       "      <td>2014-12-19</td>\n",
       "      <td>Художественный</td>\n",
       "      <td>ООО Киностудия  \"Сентябрь\"</td>\n",
       "      <td>Россия</td>\n",
       "      <td>А.Зайцев</td>\n",
       "      <td>О.Гранина, А.Зайцев</td>\n",
       "      <td>«16+» - для детей старше 16 лет</td>\n",
       "      <td>0.00</td>\n",
       "      <td>23000000.00</td>\n",
       "      <td>0.00</td>\n",
       "      <td>Министерство культуры, Фонд кино</td>\n",
       "      <td>6.60</td>\n",
       "      <td>мелодрама</td>\n",
       "      <td>10234016.10</td>\n",
       "    </tr>\n",
       "    <tr>\n",
       "      <th>2058</th>\n",
       "      <td>Дуxless 2</td>\n",
       "      <td>111000415</td>\n",
       "      <td>2015-01-26</td>\n",
       "      <td>Художественный</td>\n",
       "      <td>ООО \"Киностудия \"Слово\", ООО \"Арт Пикчерс Студия\"</td>\n",
       "      <td>Россия</td>\n",
       "      <td>Р.Прыгунов</td>\n",
       "      <td>П.Ануров, Ф.Бондарчук, Д.Рудовский</td>\n",
       "      <td>«16+» - для детей старше 16 лет</td>\n",
       "      <td>0.00</td>\n",
       "      <td>75000000.00</td>\n",
       "      <td>0.00</td>\n",
       "      <td>Фонд кино</td>\n",
       "      <td>6.60</td>\n",
       "      <td>драма</td>\n",
       "      <td>446163511.00</td>\n",
       "    </tr>\n",
       "    <tr>\n",
       "      <th>2472</th>\n",
       "      <td>Воин (2015)</td>\n",
       "      <td>111017315</td>\n",
       "      <td>2015-09-28</td>\n",
       "      <td>Художественный</td>\n",
       "      <td>ООО \"Форпост Продакшн\", ООО \"Арт Пикчерс Студия\"</td>\n",
       "      <td>Россия</td>\n",
       "      <td>А.Андрианов</td>\n",
       "      <td>ООО \"Арт Пикчерс Студия\"</td>\n",
       "      <td>«12+» - для детей старше 12 лет</td>\n",
       "      <td>10000000.00</td>\n",
       "      <td>70000000.00</td>\n",
       "      <td>0.00</td>\n",
       "      <td>Фонд кино</td>\n",
       "      <td>7.80</td>\n",
       "      <td>боевик</td>\n",
       "      <td>196572438.40</td>\n",
       "    </tr>\n",
       "    <tr>\n",
       "      <th>2532</th>\n",
       "      <td>Бармен.</td>\n",
       "      <td>111009615</td>\n",
       "      <td>2015-05-26</td>\n",
       "      <td>Художественный</td>\n",
       "      <td>АО \"ВайТ Медиа\", ООО \"Арт Пикчерс Студия\"</td>\n",
       "      <td>Россия</td>\n",
       "      <td>Д.Штурманова</td>\n",
       "      <td>Т.Вайнштейн</td>\n",
       "      <td>«16+» - для детей старше 16 лет</td>\n",
       "      <td>20000000.00</td>\n",
       "      <td>0.00</td>\n",
       "      <td>0.00</td>\n",
       "      <td>Фонд кино</td>\n",
       "      <td>6.20</td>\n",
       "      <td>комедия</td>\n",
       "      <td>67418974.80</td>\n",
       "    </tr>\n",
       "    <tr>\n",
       "      <th>2615</th>\n",
       "      <td>Савва. Сердце воина</td>\n",
       "      <td>114001715</td>\n",
       "      <td>2015-07-21</td>\n",
       "      <td>Анимационный</td>\n",
       "      <td>ООО \"Глюкоза Продакшн\", ООО \"Арт Пикчерс Студия\"</td>\n",
       "      <td>Россия</td>\n",
       "      <td>М.Фадеев</td>\n",
       "      <td>А.Чистяков</td>\n",
       "      <td>«6+» - для детей старше 6 лет</td>\n",
       "      <td>60000000.00</td>\n",
       "      <td>100000000.00</td>\n",
       "      <td>0.00</td>\n",
       "      <td>Фонд кино</td>\n",
       "      <td>4.60</td>\n",
       "      <td>мультфильм</td>\n",
       "      <td>184487551.40</td>\n",
       "    </tr>\n",
       "    <tr>\n",
       "      <th>2684</th>\n",
       "      <td>Тряпичный союз</td>\n",
       "      <td>111010215</td>\n",
       "      <td>2015-06-08</td>\n",
       "      <td>Художественный</td>\n",
       "      <td>ООО \"Кинокомпания \"КОКТЕБЕЛЬ\"</td>\n",
       "      <td>Россия</td>\n",
       "      <td>М.Местецкий</td>\n",
       "      <td>Р.Борисевич, А.Кушаев</td>\n",
       "      <td>«18+» - запрещено для детей</td>\n",
       "      <td>0.00</td>\n",
       "      <td>59000000.00</td>\n",
       "      <td>0.00</td>\n",
       "      <td>Фонд кино</td>\n",
       "      <td>6.30</td>\n",
       "      <td>комедия</td>\n",
       "      <td>1957738.51</td>\n",
       "    </tr>\n",
       "    <tr>\n",
       "      <th>2788</th>\n",
       "      <td>Срочно выйду замуж</td>\n",
       "      <td>111017115</td>\n",
       "      <td>2015-09-30</td>\n",
       "      <td>Художественный</td>\n",
       "      <td>АО \"ВайТ Медиа\", ООО \"Арт Пикчерс Студия\"</td>\n",
       "      <td>Россия</td>\n",
       "      <td>С Чекалов</td>\n",
       "      <td>Ф.Бондарчук, Т.Вайнштейн, Д.Рудовский</td>\n",
       "      <td>«16+» - для детей старше 16 лет</td>\n",
       "      <td>0.00</td>\n",
       "      <td>35000000.00</td>\n",
       "      <td>0.00</td>\n",
       "      <td>Фонд кино</td>\n",
       "      <td>5.10</td>\n",
       "      <td>комедия</td>\n",
       "      <td>72937783.20</td>\n",
       "    </tr>\n",
       "    <tr>\n",
       "      <th>2874</th>\n",
       "      <td>Помню - не помню!</td>\n",
       "      <td>111004916</td>\n",
       "      <td>2016-03-01</td>\n",
       "      <td>Художественный</td>\n",
       "      <td>ООО \"КиноФирма\"</td>\n",
       "      <td>Россия</td>\n",
       "      <td>В.Ровенский</td>\n",
       "      <td>ООО \"КиноФирма\"</td>\n",
       "      <td>«12+» - для детей старше 12 лет</td>\n",
       "      <td>0.00</td>\n",
       "      <td>6000000.00</td>\n",
       "      <td>0.00</td>\n",
       "      <td>Министерство культуры</td>\n",
       "      <td>4.30</td>\n",
       "      <td>комедия</td>\n",
       "      <td>15362931.43</td>\n",
       "    </tr>\n",
       "    <tr>\n",
       "      <th>3047</th>\n",
       "      <td>Любовь с ограничениями</td>\n",
       "      <td>111008216</td>\n",
       "      <td>2016-04-29</td>\n",
       "      <td>Художественный</td>\n",
       "      <td>АО \"ВайТ Медиа\", ООО \"Арт Пикчерс Студия\"</td>\n",
       "      <td>Россия</td>\n",
       "      <td>Д.Тюрин</td>\n",
       "      <td>Ф.Бондарчук, Т.Вайнштейн, Д.Рудовский</td>\n",
       "      <td>«16+» - для детей старше 16 лет</td>\n",
       "      <td>19000000.00</td>\n",
       "      <td>51000000.00</td>\n",
       "      <td>0.00</td>\n",
       "      <td>Фонд кино</td>\n",
       "      <td>6.30</td>\n",
       "      <td>комедия</td>\n",
       "      <td>70299052.00</td>\n",
       "    </tr>\n",
       "    <tr>\n",
       "      <th>3565</th>\n",
       "      <td>Притяжение (2016)</td>\n",
       "      <td>111018116</td>\n",
       "      <td>2016-12-16</td>\n",
       "      <td>Художественный</td>\n",
       "      <td>ООО \"Водород 2011\",  ООО \"Арт Пикчерс Студия\"</td>\n",
       "      <td>Россия</td>\n",
       "      <td>Ф.Бондарчук</td>\n",
       "      <td>ООО \"Арт Пикчерс Студия\"</td>\n",
       "      <td>«12+» - для детей старше 12 лет</td>\n",
       "      <td>0.00</td>\n",
       "      <td>250000000.00</td>\n",
       "      <td>0.00</td>\n",
       "      <td>Фонд кино</td>\n",
       "      <td>5.60</td>\n",
       "      <td>фантастика</td>\n",
       "      <td>1038321489.00</td>\n",
       "    </tr>\n",
       "    <tr>\n",
       "      <th>3675</th>\n",
       "      <td>Чудо-юдо</td>\n",
       "      <td>114001817</td>\n",
       "      <td>2017-06-27</td>\n",
       "      <td>Анимационный</td>\n",
       "      <td>ООО \"КиноФирма\"</td>\n",
       "      <td>Россия</td>\n",
       "      <td>А.Лукичев</td>\n",
       "      <td>ООО \"КиноФирма\"</td>\n",
       "      <td>«6+» - для детей старше 6 лет</td>\n",
       "      <td>20000000.00</td>\n",
       "      <td>20000000.00</td>\n",
       "      <td>0.00</td>\n",
       "      <td>Фонд кино</td>\n",
       "      <td>5.20</td>\n",
       "      <td>мультфильм</td>\n",
       "      <td>55108014.76</td>\n",
       "    </tr>\n",
       "    <tr>\n",
       "      <th>3739</th>\n",
       "      <td>Мифы</td>\n",
       "      <td>111004317</td>\n",
       "      <td>2017-06-07</td>\n",
       "      <td>Художественный</td>\n",
       "      <td>ООО \"ХАЙПФИЛМ\", ООО \"Арт Пикчерс Студия\"</td>\n",
       "      <td>Россия</td>\n",
       "      <td>А.Молочников</td>\n",
       "      <td>Ф.Бондарчук, Д.Рудовский, И.Стюарт, М.Османн, ...</td>\n",
       "      <td>«16+» - для детей старше 16 лет</td>\n",
       "      <td>25000000.00</td>\n",
       "      <td>20000000.00</td>\n",
       "      <td>0.00</td>\n",
       "      <td>Фонд кино</td>\n",
       "      <td>4.80</td>\n",
       "      <td>комедия</td>\n",
       "      <td>50451949.00</td>\n",
       "    </tr>\n",
       "    <tr>\n",
       "      <th>5671</th>\n",
       "      <td>Селфи</td>\n",
       "      <td>111012117</td>\n",
       "      <td>2018-02-01</td>\n",
       "      <td>Художественный</td>\n",
       "      <td>ООО \"Киностудия \"Слово\", ООО \"Арт Пикчерс Студия\"</td>\n",
       "      <td>Россия</td>\n",
       "      <td>Н.Хомерики</td>\n",
       "      <td>П.Ануров, Ф.Бондарчук, Д.Рудовский</td>\n",
       "      <td>«16+» - для детей старше 16 лет</td>\n",
       "      <td>20000000.00</td>\n",
       "      <td>40000000.00</td>\n",
       "      <td>0.00</td>\n",
       "      <td>Фонд кино</td>\n",
       "      <td>5.80</td>\n",
       "      <td>триллер</td>\n",
       "      <td>225196400.03</td>\n",
       "    </tr>\n",
       "    <tr>\n",
       "      <th>5804</th>\n",
       "      <td>Два хвоста</td>\n",
       "      <td>114001018</td>\n",
       "      <td>2018-05-31</td>\n",
       "      <td>Анимационный</td>\n",
       "      <td>ООО \"ЛИЦЕНЗИОННЫЕ БРЕНДЫ\"</td>\n",
       "      <td>Россия</td>\n",
       "      <td>В.Ровенский, Н.Лопато, В.Азеев</td>\n",
       "      <td>ООО \"ЛИЦЕНЗИОННЫЕ БРЕНДЫ\"</td>\n",
       "      <td>«6+» - для детей старше 6 лет</td>\n",
       "      <td>10000000.00</td>\n",
       "      <td>60000000.00</td>\n",
       "      <td>0.00</td>\n",
       "      <td>Фонд кино</td>\n",
       "      <td>5.00</td>\n",
       "      <td>мультфильм</td>\n",
       "      <td>106514301.03</td>\n",
       "    </tr>\n",
       "    <tr>\n",
       "      <th>6006</th>\n",
       "      <td>Принцесса и дракон</td>\n",
       "      <td>114003018</td>\n",
       "      <td>2018-08-23</td>\n",
       "      <td>Анимационный</td>\n",
       "      <td>ООО \"ЛИЦЕНЗИОННЫЕ БРЕНДЫ\"</td>\n",
       "      <td>Россия</td>\n",
       "      <td>М.Нефедова</td>\n",
       "      <td>ООО \"ЛИЦЕНЗИОННЫЕ БРЕНДЫ\"</td>\n",
       "      <td>«6+» - для детей старше 6 лет</td>\n",
       "      <td>40000000.00</td>\n",
       "      <td>40000000.00</td>\n",
       "      <td>0.00</td>\n",
       "      <td>Фонд кино</td>\n",
       "      <td>5.20</td>\n",
       "      <td>мультфильм</td>\n",
       "      <td>83366328.66</td>\n",
       "    </tr>\n",
       "    <tr>\n",
       "      <th>6321</th>\n",
       "      <td>Баба Яга</td>\n",
       "      <td>114006518</td>\n",
       "      <td>2018-11-08</td>\n",
       "      <td>Анимационный</td>\n",
       "      <td>ООО \"Арт Пикчерс Студия\"</td>\n",
       "      <td>Россия</td>\n",
       "      <td>В.Саков</td>\n",
       "      <td>ООО \"Арт Пикчерс Студия\", ООО \"КРИЭЙТИВ АНИМЭЙ...</td>\n",
       "      <td>«6+» - для детей старше 6 лет</td>\n",
       "      <td>0.00</td>\n",
       "      <td>138969465.00</td>\n",
       "      <td>0.00</td>\n",
       "      <td>Фонд кино</td>\n",
       "      <td>NaN</td>\n",
       "      <td>NaN</td>\n",
       "      <td>1334699.40</td>\n",
       "    </tr>\n",
       "    <tr>\n",
       "      <th>6821</th>\n",
       "      <td>Большое путешествие</td>\n",
       "      <td>114002419</td>\n",
       "      <td>2019-04-20</td>\n",
       "      <td>Анимационный</td>\n",
       "      <td>ООО \"ЛИЦЕНЗИОННЫЕ БРЕНДЫ\"</td>\n",
       "      <td>Россия</td>\n",
       "      <td>Н.Лопато, В.Ровенский</td>\n",
       "      <td>ООО \"ЛИЦЕНЗИОННЫЕ БРЕНДЫ\"</td>\n",
       "      <td>«6+» - для детей старше 6 лет</td>\n",
       "      <td>60000000.00</td>\n",
       "      <td>120000000.00</td>\n",
       "      <td>0.00</td>\n",
       "      <td>Фонд кино</td>\n",
       "      <td>6.20</td>\n",
       "      <td>мультфильм</td>\n",
       "      <td>147606826.51</td>\n",
       "    </tr>\n",
       "  </tbody>\n",
       "</table>\n",
       "</div>"
      ],
      "text/plain": [
       "                       title   puNumber show_start_date            type  \\\n",
       "2053                     14+  111023614      2014-12-19  Художественный   \n",
       "2058               Дуxless 2  111000415      2015-01-26  Художественный   \n",
       "2472             Воин (2015)  111017315      2015-09-28  Художественный   \n",
       "2532                 Бармен.  111009615      2015-05-26  Художественный   \n",
       "2615     Савва. Сердце воина  114001715      2015-07-21    Анимационный   \n",
       "2684          Тряпичный союз  111010215      2015-06-08  Художественный   \n",
       "2788      Срочно выйду замуж  111017115      2015-09-30  Художественный   \n",
       "2874       Помню - не помню!  111004916      2016-03-01  Художественный   \n",
       "3047  Любовь с ограничениями  111008216      2016-04-29  Художественный   \n",
       "3565       Притяжение (2016)  111018116      2016-12-16  Художественный   \n",
       "3675                Чудо-юдо  114001817      2017-06-27    Анимационный   \n",
       "3739                    Мифы  111004317      2017-06-07  Художественный   \n",
       "5671                   Селфи  111012117      2018-02-01  Художественный   \n",
       "5804              Два хвоста  114001018      2018-05-31    Анимационный   \n",
       "6006      Принцесса и дракон  114003018      2018-08-23    Анимационный   \n",
       "6321                Баба Яга  114006518      2018-11-08    Анимационный   \n",
       "6821     Большое путешествие  114002419      2019-04-20    Анимационный   \n",
       "\n",
       "                                            film_studio production_country  \\\n",
       "2053                         ООО Киностудия  \"Сентябрь\"             Россия   \n",
       "2058  ООО \"Киностудия \"Слово\", ООО \"Арт Пикчерс Студия\"             Россия   \n",
       "2472   ООО \"Форпост Продакшн\", ООО \"Арт Пикчерс Студия\"             Россия   \n",
       "2532          АО \"ВайТ Медиа\", ООО \"Арт Пикчерс Студия\"             Россия   \n",
       "2615   ООО \"Глюкоза Продакшн\", ООО \"Арт Пикчерс Студия\"             Россия   \n",
       "2684                      ООО \"Кинокомпания \"КОКТЕБЕЛЬ\"             Россия   \n",
       "2788          АО \"ВайТ Медиа\", ООО \"Арт Пикчерс Студия\"             Россия   \n",
       "2874                                    ООО \"КиноФирма\"             Россия   \n",
       "3047          АО \"ВайТ Медиа\", ООО \"Арт Пикчерс Студия\"             Россия   \n",
       "3565      ООО \"Водород 2011\",  ООО \"Арт Пикчерс Студия\"             Россия   \n",
       "3675                                    ООО \"КиноФирма\"             Россия   \n",
       "3739           ООО \"ХАЙПФИЛМ\", ООО \"Арт Пикчерс Студия\"             Россия   \n",
       "5671  ООО \"Киностудия \"Слово\", ООО \"Арт Пикчерс Студия\"             Россия   \n",
       "5804                          ООО \"ЛИЦЕНЗИОННЫЕ БРЕНДЫ\"             Россия   \n",
       "6006                          ООО \"ЛИЦЕНЗИОННЫЕ БРЕНДЫ\"             Россия   \n",
       "6321                           ООО \"Арт Пикчерс Студия\"             Россия   \n",
       "6821                          ООО \"ЛИЦЕНЗИОННЫЕ БРЕНДЫ\"             Россия   \n",
       "\n",
       "                            director  \\\n",
       "2053                        А.Зайцев   \n",
       "2058                      Р.Прыгунов   \n",
       "2472                     А.Андрианов   \n",
       "2532                    Д.Штурманова   \n",
       "2615                        М.Фадеев   \n",
       "2684                     М.Местецкий   \n",
       "2788                       С Чекалов   \n",
       "2874                     В.Ровенский   \n",
       "3047                         Д.Тюрин   \n",
       "3565                     Ф.Бондарчук   \n",
       "3675                       А.Лукичев   \n",
       "3739                    А.Молочников   \n",
       "5671                      Н.Хомерики   \n",
       "5804  В.Ровенский, Н.Лопато, В.Азеев   \n",
       "6006                      М.Нефедова   \n",
       "6321                         В.Саков   \n",
       "6821           Н.Лопато, В.Ровенский   \n",
       "\n",
       "                                               producer  \\\n",
       "2053                                О.Гранина, А.Зайцев   \n",
       "2058                 П.Ануров, Ф.Бондарчук, Д.Рудовский   \n",
       "2472                           ООО \"Арт Пикчерс Студия\"   \n",
       "2532                                        Т.Вайнштейн   \n",
       "2615                                         А.Чистяков   \n",
       "2684                              Р.Борисевич, А.Кушаев   \n",
       "2788              Ф.Бондарчук, Т.Вайнштейн, Д.Рудовский   \n",
       "2874                                    ООО \"КиноФирма\"   \n",
       "3047              Ф.Бондарчук, Т.Вайнштейн, Д.Рудовский   \n",
       "3565                           ООО \"Арт Пикчерс Студия\"   \n",
       "3675                                    ООО \"КиноФирма\"   \n",
       "3739  Ф.Бондарчук, Д.Рудовский, И.Стюарт, М.Османн, ...   \n",
       "5671                 П.Ануров, Ф.Бондарчук, Д.Рудовский   \n",
       "5804                          ООО \"ЛИЦЕНЗИОННЫЕ БРЕНДЫ\"   \n",
       "6006                          ООО \"ЛИЦЕНЗИОННЫЕ БРЕНДЫ\"   \n",
       "6321  ООО \"Арт Пикчерс Студия\", ООО \"КРИЭЙТИВ АНИМЭЙ...   \n",
       "6821                          ООО \"ЛИЦЕНЗИОННЫЕ БРЕНДЫ\"   \n",
       "\n",
       "                      age_restriction  refundable_support  \\\n",
       "2053  «16+» - для детей старше 16 лет                0.00   \n",
       "2058  «16+» - для детей старше 16 лет                0.00   \n",
       "2472  «12+» - для детей старше 12 лет         10000000.00   \n",
       "2532  «16+» - для детей старше 16 лет         20000000.00   \n",
       "2615    «6+» - для детей старше 6 лет         60000000.00   \n",
       "2684      «18+» - запрещено для детей                0.00   \n",
       "2788  «16+» - для детей старше 16 лет                0.00   \n",
       "2874  «12+» - для детей старше 12 лет                0.00   \n",
       "3047  «16+» - для детей старше 16 лет         19000000.00   \n",
       "3565  «12+» - для детей старше 12 лет                0.00   \n",
       "3675    «6+» - для детей старше 6 лет         20000000.00   \n",
       "3739  «16+» - для детей старше 16 лет         25000000.00   \n",
       "5671  «16+» - для детей старше 16 лет         20000000.00   \n",
       "5804    «6+» - для детей старше 6 лет         10000000.00   \n",
       "6006    «6+» - для детей старше 6 лет         40000000.00   \n",
       "6321    «6+» - для детей старше 6 лет                0.00   \n",
       "6821    «6+» - для детей старше 6 лет         60000000.00   \n",
       "\n",
       "      nonrefundable_support  budget                  financing_source  \\\n",
       "2053            23000000.00    0.00  Министерство культуры, Фонд кино   \n",
       "2058            75000000.00    0.00                         Фонд кино   \n",
       "2472            70000000.00    0.00                         Фонд кино   \n",
       "2532                   0.00    0.00                         Фонд кино   \n",
       "2615           100000000.00    0.00                         Фонд кино   \n",
       "2684            59000000.00    0.00                         Фонд кино   \n",
       "2788            35000000.00    0.00                         Фонд кино   \n",
       "2874             6000000.00    0.00             Министерство культуры   \n",
       "3047            51000000.00    0.00                         Фонд кино   \n",
       "3565           250000000.00    0.00                         Фонд кино   \n",
       "3675            20000000.00    0.00                         Фонд кино   \n",
       "3739            20000000.00    0.00                         Фонд кино   \n",
       "5671            40000000.00    0.00                         Фонд кино   \n",
       "5804            60000000.00    0.00                         Фонд кино   \n",
       "6006            40000000.00    0.00                         Фонд кино   \n",
       "6321           138969465.00    0.00                         Фонд кино   \n",
       "6821           120000000.00    0.00                         Фонд кино   \n",
       "\n",
       "      ratings      genres    box_office  \n",
       "2053     6.60   мелодрама   10234016.10  \n",
       "2058     6.60       драма  446163511.00  \n",
       "2472     7.80      боевик  196572438.40  \n",
       "2532     6.20     комедия   67418974.80  \n",
       "2615     4.60  мультфильм  184487551.40  \n",
       "2684     6.30     комедия    1957738.51  \n",
       "2788     5.10     комедия   72937783.20  \n",
       "2874     4.30     комедия   15362931.43  \n",
       "3047     6.30     комедия   70299052.00  \n",
       "3565     5.60  фантастика 1038321489.00  \n",
       "3675     5.20  мультфильм   55108014.76  \n",
       "3739     4.80     комедия   50451949.00  \n",
       "5671     5.80     триллер  225196400.03  \n",
       "5804     5.00  мультфильм  106514301.03  \n",
       "6006     5.20  мультфильм   83366328.66  \n",
       "6321      NaN         NaN    1334699.40  \n",
       "6821     6.20  мультфильм  147606826.51  "
      ]
     },
     "metadata": {},
     "output_type": "display_data"
    }
   ],
   "source": [
    "\n",
    "display(len(data[(data['nonrefundable_support'] + data['refundable_support']) > data['budget']]))\n",
    "\n",
    "display(data[(data['nonrefundable_support'] + data['refundable_support']) > data['budget']])\n"
   ]
  },
  {
   "cell_type": "markdown",
   "metadata": {},
   "source": [
    "There are 17 rows where the budget column is filled incorrectly, with budget values equal to 0.\n",
    "\n",
    "Since it’s crucial for us to analyze the share of government support in the total film budget, it is advisable to remove these 17 rows. Filling the budget column with the sum of nonrefundable_support and refundable_support would be incorrect because, in most cases, the budget is larger than just the support.\n",
    "\n"
   ]
  },
  {
   "cell_type": "code",
   "execution_count": 22,
   "metadata": {},
   "outputs": [],
   "source": [
    "data = data[(data['budget'].isna()) | ((data['nonrefundable_support'] + data['refundable_support'])<= data['budget'])]"
   ]
  },
  {
   "cell_type": "markdown",
   "metadata": {},
   "source": [
    "We will only keep rows where the condition **budget** > **refundable_support** + **nonrefundable_support** is not violated."
   ]
  },
  {
   "cell_type": "code",
   "execution_count": 23,
   "metadata": {},
   "outputs": [
    {
     "name": "stdout",
     "output_type": "stream",
     "text": [
      "<class 'pandas.core.frame.DataFrame'>\n",
      "Int64Index: 7467 entries, 0 to 7483\n",
      "Data columns (total 16 columns):\n",
      " #   Column                 Non-Null Count  Dtype         \n",
      "---  ------                 --------------  -----         \n",
      " 0   title                  7467 non-null   object        \n",
      " 1   puNumber               7467 non-null   object        \n",
      " 2   show_start_date        7467 non-null   datetime64[ns]\n",
      " 3   type                   7467 non-null   object        \n",
      " 4   film_studio            7449 non-null   object        \n",
      " 5   production_country     7465 non-null   object        \n",
      " 6   director               7458 non-null   object        \n",
      " 7   producer               7293 non-null   object        \n",
      " 8   age_restriction        7467 non-null   category      \n",
      " 9   refundable_support     315 non-null    float64       \n",
      " 10  nonrefundable_support  315 non-null    float64       \n",
      " 11  budget                 315 non-null    float64       \n",
      " 12  financing_source       7467 non-null   category      \n",
      " 13  ratings                6501 non-null   float64       \n",
      " 14  genres                 6492 non-null   object        \n",
      " 15  box_office             3141 non-null   float64       \n",
      "dtypes: category(2), datetime64[ns](1), float64(5), object(8)\n",
      "memory usage: 890.0+ KB\n"
     ]
    },
    {
     "data": {
      "text/plain": [
       "None"
      ]
     },
     "metadata": {},
     "output_type": "display_data"
    }
   ],
   "source": [
    "# Check the number of missing values\n",
    "display(data.info())\n",
    "\n",
    "# Now the columns budget, refundable_support, nonrefundable_support contain the same number of non-null values."
   ]
  },
  {
   "cell_type": "markdown",
   "metadata": {},
   "source": [
    "Column **box_office**"
   ]
  },
  {
   "cell_type": "code",
   "execution_count": 24,
   "metadata": {},
   "outputs": [
    {
     "name": "stdout",
     "output_type": "stream",
     "text": [
      "Index(['title', 'puNumber', 'show_start_date', 'type', 'film_studio',\n",
      "       'production_country', 'director', 'producer', 'age_restriction',\n",
      "       'refundable_support', 'nonrefundable_support', 'budget',\n",
      "       'financing_source', 'ratings', 'genres', 'box_office'],\n",
      "      dtype='object')\n"
     ]
    }
   ],
   "source": [
    "print(data.columns)"
   ]
  },
  {
   "cell_type": "markdown",
   "metadata": {},
   "source": [
    "Add a \"year\" column."
   ]
  },
  {
   "cell_type": "code",
   "execution_count": 25,
   "metadata": {},
   "outputs": [
    {
     "data": {
      "text/html": [
       "<div>\n",
       "<style scoped>\n",
       "    .dataframe tbody tr th:only-of-type {\n",
       "        vertical-align: middle;\n",
       "    }\n",
       "\n",
       "    .dataframe tbody tr th {\n",
       "        vertical-align: top;\n",
       "    }\n",
       "\n",
       "    .dataframe thead tr th {\n",
       "        text-align: left;\n",
       "    }\n",
       "\n",
       "    .dataframe thead tr:last-of-type th {\n",
       "        text-align: right;\n",
       "    }\n",
       "</style>\n",
       "<table border=\"1\" class=\"dataframe\">\n",
       "  <thead>\n",
       "    <tr>\n",
       "      <th></th>\n",
       "      <th>median</th>\n",
       "      <th>sum</th>\n",
       "      <th>count</th>\n",
       "    </tr>\n",
       "    <tr>\n",
       "      <th></th>\n",
       "      <th>box_office</th>\n",
       "      <th>box_office</th>\n",
       "      <th>box_office</th>\n",
       "    </tr>\n",
       "    <tr>\n",
       "      <th>year</th>\n",
       "      <th></th>\n",
       "      <th></th>\n",
       "      <th></th>\n",
       "    </tr>\n",
       "  </thead>\n",
       "  <tbody>\n",
       "    <tr>\n",
       "      <th>2010</th>\n",
       "      <td>1700.00</td>\n",
       "      <td>2428654.00</td>\n",
       "      <td>105</td>\n",
       "    </tr>\n",
       "    <tr>\n",
       "      <th>2011</th>\n",
       "      <td>3000.00</td>\n",
       "      <td>14102765.00</td>\n",
       "      <td>109</td>\n",
       "    </tr>\n",
       "    <tr>\n",
       "      <th>2012</th>\n",
       "      <td>5660.00</td>\n",
       "      <td>6955423.00</td>\n",
       "      <td>128</td>\n",
       "    </tr>\n",
       "    <tr>\n",
       "      <th>2013</th>\n",
       "      <td>3522.50</td>\n",
       "      <td>29799706.20</td>\n",
       "      <td>184</td>\n",
       "    </tr>\n",
       "    <tr>\n",
       "      <th>2014</th>\n",
       "      <td>18137.50</td>\n",
       "      <td>7434717843.10</td>\n",
       "      <td>278</td>\n",
       "    </tr>\n",
       "    <tr>\n",
       "      <th>2015</th>\n",
       "      <td>4784781.50</td>\n",
       "      <td>38527827199.09</td>\n",
       "      <td>459</td>\n",
       "    </tr>\n",
       "    <tr>\n",
       "      <th>2016</th>\n",
       "      <td>3776087.56</td>\n",
       "      <td>46742316269.48</td>\n",
       "      <td>523</td>\n",
       "    </tr>\n",
       "    <tr>\n",
       "      <th>2017</th>\n",
       "      <td>9919415.00</td>\n",
       "      <td>48458147253.75</td>\n",
       "      <td>355</td>\n",
       "    </tr>\n",
       "    <tr>\n",
       "      <th>2018</th>\n",
       "      <td>8751895.75</td>\n",
       "      <td>49251991405.20</td>\n",
       "      <td>471</td>\n",
       "    </tr>\n",
       "    <tr>\n",
       "      <th>2019</th>\n",
       "      <td>4601033.60</td>\n",
       "      <td>48278101953.08</td>\n",
       "      <td>529</td>\n",
       "    </tr>\n",
       "  </tbody>\n",
       "</table>\n",
       "</div>"
      ],
      "text/plain": [
       "         median            sum      count\n",
       "     box_office     box_office box_office\n",
       "year                                     \n",
       "2010    1700.00     2428654.00        105\n",
       "2011    3000.00    14102765.00        109\n",
       "2012    5660.00     6955423.00        128\n",
       "2013    3522.50    29799706.20        184\n",
       "2014   18137.50  7434717843.10        278\n",
       "2015 4784781.50 38527827199.09        459\n",
       "2016 3776087.56 46742316269.48        523\n",
       "2017 9919415.00 48458147253.75        355\n",
       "2018 8751895.75 49251991405.20        471\n",
       "2019 4601033.60 48278101953.08        529"
      ]
     },
     "metadata": {},
     "output_type": "display_data"
    }
   ],
   "source": [
    "data['year'] = data['show_start_date'].dt.year\n",
    "\n",
    "pivot_years_median = data.pivot_table(index = 'year', values = 'box_office', aggfunc = ['median', 'sum', 'count'])\n",
    "display(pivot_years_median)\n",
    "\n",
    "# Notice that data from 2010 - 2014 significantly differs from later years.\n"
   ]
  },
  {
   "cell_type": "markdown",
   "metadata": {},
   "source": [
    "We observe that box office values under 100,000 rubles are quite common, which seems like an error.\n",
    "\n",
    "I suspect this is a mistake, and it would be correct to multiply such values by 1000."
   ]
  },
  {
   "cell_type": "code",
   "execution_count": 26,
   "metadata": {},
   "outputs": [
    {
     "name": "stdout",
     "output_type": "stream",
     "text": [
      "24\n"
     ]
    }
   ],
   "source": [
    "data.loc[data['box_office'] < 100000, 'box_office'] = data.loc[data['box_office'] < 100000, 'box_office'] * 1000\n",
    "\n",
    "print(len(data[data['box_office'] == 0]))"
   ]
  },
  {
   "cell_type": "markdown",
   "metadata": {},
   "source": [
    "The median for 2010 - 2014 is very low compared to other years. This is likely due to the low values rather than the presence of zeros.\n",
    "\n",
    "We can re-apply the correction for the years 2010-2013 if needed:\n"
   ]
  },
  {
   "cell_type": "code",
   "execution_count": null,
   "metadata": {},
   "outputs": [],
   "source": [
    "#data.loc[data['year'].isin([2010, 2011, 2012, 2013]), 'box_office'] =  data.loc[data['year'].isin([2010, 2011, 2012, 2013]), 'box_office'] / 1000\n",
    "pivot_years_median = data.pivot_table(index = 'year', values = 'box_office', aggfunc = ['median', 'sum', 'count'])\n"
   ]
  },
  {
   "cell_type": "markdown",
   "metadata": {},
   "source": [
    "Also, rows with box office values equal to zero can be dropped:"
   ]
  },
  {
   "cell_type": "code",
   "execution_count": 28,
   "metadata": {},
   "outputs": [],
   "source": [
    "data = data.drop(data[data['box_office'] == 0].index)"
   ]
  },
  {
   "cell_type": "markdown",
   "metadata": {},
   "source": [
    "**Boxplot Analysis for Outliers**\n",
    "\n",
    "Let’s plot the “boxplot” for each relevant column to identify any anomalies."
   ]
  },
  {
   "cell_type": "code",
   "execution_count": 29,
   "metadata": {
    "scrolled": false
   },
   "outputs": [
    {
     "name": "stdout",
     "output_type": "stream",
     "text": [
      "Description of data for nonrefundable_support:\n",
      "count         307.00\n",
      "mean     49360647.71\n",
      "std      60150060.16\n",
      "min       3000000.00\n",
      "25%      25000000.00\n",
      "50%      30000000.00\n",
      "75%      40000000.00\n",
      "max     400000000.00\n",
      "Name: nonrefundable_support, dtype: float64\n",
      "Number of outliers for nonrefundable_support: 42\n",
      "\n",
      "\n"
     ]
    },
    {
     "data": {
      "image/png": "[encoded data removed]",
      "text/plain": [
       "<Figure size 864x576 with 1 Axes>"
      ]
     },
     "metadata": {
      "needs_background": "light"
     },
     "output_type": "display_data"
    },
    {
     "name": "stdout",
     "output_type": "stream",
     "text": [
      "Description of data for refundable_support:\n",
      "count         101.00\n",
      "mean     36188118.81\n",
      "std      32981331.01\n",
      "min       3500000.00\n",
      "25%      15000000.00\n",
      "50%      25000000.00\n",
      "75%      50000000.00\n",
      "max     180000000.00\n",
      "Name: refundable_support, dtype: float64\n",
      "Number of outliers for refundable_support: 5\n",
      "\n",
      "\n"
     ]
    },
    {
     "data": {
      "image/png": "[encoded data removed]",
      "text/plain": [
       "<Figure size 864x576 with 1 Axes>"
      ]
     },
     "metadata": {
      "needs_background": "light"
     },
     "output_type": "display_data"
    },
    {
     "name": "stdout",
     "output_type": "stream",
     "text": [
      "Description of data for budget:\n",
      "count          315.00\n",
      "mean     134096082.35\n",
      "std      191226039.63\n",
      "min       14462464.00\n",
      "25%       46153866.50\n",
      "50%       73379554.00\n",
      "75%      150004286.50\n",
      "max     2305074303.00\n",
      "Name: budget, dtype: float64\n",
      "Number of outliers for budget: 28\n",
      "\n",
      "\n"
     ]
    },
    {
     "data": {
      "image/png": "[encoded data removed]",
      "text/plain": [
       "<Figure size 864x576 with 1 Axes>"
      ]
     },
     "metadata": {
      "needs_background": "light"
     },
     "output_type": "display_data"
    },
    {
     "name": "stdout",
     "output_type": "stream",
     "text": [
      "Description of data for box_office:\n",
      "count         3117.00\n",
      "mean      80399856.89\n",
      "std      240242026.92\n",
      "min          40000.00\n",
      "25%        1262150.50\n",
      "50%        5600007.00\n",
      "75%       37727251.53\n",
      "max     3073568690.79\n",
      "Name: box_office, dtype: float64\n",
      "Number of outliers for box_office: 455\n",
      "\n",
      "\n"
     ]
    },
    {
     "data": {
      "image/png": "[encoded data removed]",
      "text/plain": [
       "<Figure size 864x576 with 1 Axes>"
      ]
     },
     "metadata": {
      "needs_background": "light"
     },
     "output_type": "display_data"
    }
   ],
   "source": [
    "# List of columns to analyze\n",
    "columns_to_plot = ['nonrefundable_support', 'refundable_support', 'budget', 'box_office']\n",
    "\n",
    "# Plotting and describing the data\n",
    "for column in columns_to_plot:\n",
    "    column_data = data[column].dropna()  # Remove NaN values\n",
    "    column_data = column_data[column_data != 0]  # Remove zero values for refundable_support\n",
    "    \n",
    "    if not column_data.empty:  # Check if there is data to plot\n",
    "        print(f\"Description of data for {column}:\")\n",
    "        print(column_data.describe())\n",
    "        \n",
    "        # Calculate bounds for outliers\n",
    "        Q1 = column_data.quantile(0.25)\n",
    "        Q3 = column_data.quantile(0.75)\n",
    "        IQR = Q3 - Q1\n",
    "        lower_bound = Q1 - 1.5 * IQR\n",
    "        upper_bound = Q3 + 1.5 * IQR\n",
    "\n",
    "        # Find outliers\n",
    "        outliers = column_data[(column_data < lower_bound) | (column_data > upper_bound)]\n",
    "        print(f\"Number of outliers for {column}: {len(outliers)}\")\n",
    "        print(\"\\n\")\n",
    "        \n",
    "        # Plot boxplot\n",
    "        plt.figure(figsize=(12, 8)) \n",
    "        plt.boxplot(column_data)  \n",
    "        plt.title(f'Boxplot for {column}') \n",
    "        plt.xlabel('Parameter')  \n",
    "        plt.ylabel('Value')  \n",
    "        plt.xticks([1], [column])  # Column name as x-axis label\n",
    "        plt.show()"
   ]
  },
  {
   "cell_type": "markdown",
   "metadata": {},
   "source": [
    "This approach helps identify outliers, which can be further analyzed and handled according to the data context."
   ]
  },
  {
   "cell_type": "markdown",
   "metadata": {},
   "source": [
    "\n",
    "# Output of Quantitative Data Processing:\n",
    "\n",
    "1.**nonrefundable_support**: \n",
    "\n",
    "\t•\tMean: 48.37 million, Standard Deviation: 56.95 million — a very large variation.\n",
    "\t•\tMost of the data is concentrated around values below 40 million.\n",
    "\t•\tMaximum: 400 million (outlier).\n",
    "\t•\tNumber of outliers: 41. While there are not many outliers, they significantly impact the sample.\n",
    "\t•\tConclusion: The majority of support is non-refundable, which explains the high values and outliers. These funds are likely allocated for large and long-term projects.\n",
    "    \n",
    "2.**refundable_support**:\n",
    "\n",
    "\t•\tMean: 35.86 million, Standard Deviation: 32.53 million.\n",
    "\t•\tMost projects have zero support.\n",
    "\t•\tMaximum: 180 million.\n",
    "\t•\tNumber of outliers: 5.\n",
    "\t•\tConclusion: Refundable support is used less frequently and in exceptional cases, which explains the zero values and rare high amounts.\n",
    "    \n",
    "3.**budget**:\n",
    "\n",
    "\t•\tMean: 131.97 million, Standard Deviation: 186.47 million.\n",
    "\t•\tBudgets vary significantly, from 14.5 million to 2.3 billion.\n",
    "\t•\tNumber of outliers: 27.\n",
    "\t•\tConclusion: The high variability in budgets is due to the differences in project scales. Larger budgets often require non-refundable support.\n",
    "    \n",
    "4.**box_office**:\n",
    "\n",
    "\t•\tMean: 79.58 million, Standard Deviation: 237.6 million.\n",
    "\t•\tMaximum: 3 billion.\n",
    "\t•\tNumber of outliers: 434.\n",
    "\t•\tConclusion: The discrepancy between successful and unsuccessful projects. Some films with huge box office earnings significantly increase the average.\n",
    "    \n",
    "    \n",
    "**General Conclusions**:\n",
    "\n",
    "\t•\tIt’s important to note that the majority of the support is non-refundable, which explains the high values and outliers in the data.\n",
    "\t•\tBudgets and box office earnings vary depending on the scale of government-supported projects and their market success."
   ]
  },
  {
   "cell_type": "markdown",
   "metadata": {
    "id": "Eu6oWp2CgFyS"
   },
   "source": [
    "####  Add New Columns\n"
   ]
  },
  {
   "cell_type": "markdown",
   "metadata": {
    "id": "7GgW-UpAgFyS"
   },
   "source": [
    "Create a column with information about the release year. Extract the year from the film’s premiere date."
   ]
  },
  {
   "cell_type": "code",
   "execution_count": null,
   "metadata": {
    "id": "I-yd1DkWgFyT"
   },
   "outputs": [],
   "source": [
    "# Added in the previous step\n",
    "# data['year'] = data['show_start_date'].dt.year\n",
    "\n",
    "data.head(20)"
   ]
  },
  {
   "cell_type": "markdown",
   "metadata": {
    "id": "nFTDLDYOgFyT"
   },
   "source": [
    "Create two columns: one with the first name and last name of the main director, and the other with the main genre of the film. The columns will contain the first values from the list of directors and genres, respectively."
   ]
  },
  {
   "cell_type": "code",
   "execution_count": null,
   "metadata": {
    "id": "LSbRZKbMgFyU"
   },
   "outputs": [],
   "source": [
    "# Create columns\n",
    "data['first_director'] = ''\n",
    "data['main_genre'] = ''\n",
    "\n",
    "# Create a function that splits the string by commas and keeps only the first element.\n",
    "def dir(x):\n",
    "    if isinstance(x, str):\n",
    "        return x.split(',')[0]\n",
    "\n",
    "# Apply the function to both columns\n",
    "data['first_director'] = data['director'].apply(dir)\n",
    "data['main_genre'] = data['genres'].apply(dir)\n",
    "\n",
    "# Check the results\n",
    "data.head()\n"
   ]
  },
  {
   "cell_type": "markdown",
   "metadata": {},
   "source": [
    "**Percentage of the total film budget**:"
   ]
  },
  {
   "cell_type": "code",
   "execution_count": null,
   "metadata": {
    "id": "LV6qFuZLgFyV"
   },
   "outputs": [],
   "source": [
    "data['dolya_%'] = (data['refundable_support'] + data['nonrefundable_support'] ) / data['budget'] * 100\n",
    "\n",
    "display(data.tail(30))"
   ]
  },
  {
   "cell_type": "markdown",
   "metadata": {},
   "source": [
    "# General Conclusion on Data Processing Section:\n",
    "\n",
    "During the data processing, several steps were taken to improve the quality and standardization of both categorical and quantitative columns. In the categorical data, several issues were addressed: unnecessary spaces in the values of the ‘type’ column were removed, which reduced the number of unique values. Additionally, the ‘production_country’ column was standardized by adjusting the delimiters, further reducing the number of unique values. In the ‘genres’ column, only the first genre category was kept for each film, simplifying the analysis and allowing focus on the most common genres. The ‘age_restriction’ column showed no errors and was entirely correct. These changes helped to reduce the number of unique values in the categorical data and improved consistency, making the data more convenient for analysis.\n",
    "\n",
    "In the quantitative data, outliers were detected, but they did not significantly affect the overall analysis, although it is important to consider them. The columns ‘nonrefundable_support’, ‘refundable_support’, ‘budget’, and ‘box_office’ showed considerable variability, with outliers filtered and taken into account. For instance, nonrefundable support has high values and outliers, which are attributed to large and long-term projects, while refundable support is less frequent, with maximum values explained by exceptional cases. Budgets vary from smaller to very large amounts, due to differences in project scales, while box office revenue demonstrates a significant gap between successful and unsuccessful projects.\n",
    "\n",
    "Additionally, intermediate columns were added for convenience in further analysis.\n",
    "\n",
    "As a result of all the operations performed, the data has become cleaner and more standardized, contributing to more accurate and efficient analysis, allowing conclusions to be drawn about project support, their budgets, and market success."
   ]
  },
  {
   "cell_type": "markdown",
   "metadata": {
    "id": "6t4EukPLgFyV"
   },
   "source": [
    "## Exploratory Data Analysis\n"
   ]
  },
  {
   "cell_type": "markdown",
   "metadata": {
    "id": "vAH8WCzugFyV"
   },
   "source": [
    "Look at how many films were released each year. Note that data on box office revenue is not available for all films. Calculate the proportion of films with available box office information. Analyze how this proportion changed over the years. Make a conclusion about which period is most fully represented in the data."
   ]
  },
  {
   "cell_type": "code",
   "execution_count": null,
   "metadata": {},
   "outputs": [],
   "source": [
    "# Filter out films that have box office data\n",
    "data_box_office = data.dropna(subset=['box_office'])\n",
    "\n",
    "# Look at how many films were released each year\n",
    "display(data_box_office['year'].value_counts().sort_index())\n",
    "\n",
    "pivot = data_box_office.pivot_table(columns='year', aggfunc='size')\n",
    "\n",
    "# Plot the chart\n",
    "pivot.plot(title='Number of Films Released by Year', figsize=(14, 6))\n",
    "plt.xlabel('Year')\n",
    "plt.ylabel('Count')\n",
    "plt.show()\n",
    "\n",
    "# Proportion of films with box office information\n",
    "total_films = data.shape[0]\n",
    "films_with_box_office = data_box_office.shape[0]\n",
    "print('Proportion of films with box office data:', round(films_with_box_office / total_films * 100, 3), '%')"
   ]
  },
  {
   "cell_type": "markdown",
   "metadata": {},
   "source": [
    "From the analysis, it is clear that the number of films released significantly increased from 2010 to 2019. Notably, there was a sharp rise in 2015, when the number of films exceeded 450, and by 2019, it reached over 500 films. This could indicate an increase in film production and their release over time or a lack of data for previous years (pre-2015).\n",
    "\n",
    "The proportion of films with box office information is 41.878%. This means that less than half of the films in the data have box office collection data, suggesting incomplete information for most films in this category."
   ]
  },
  {
   "cell_type": "code",
   "execution_count": 30,
   "metadata": {
    "scrolled": true
   },
   "outputs": [
    {
     "data": {
      "text/html": [
       "<div>\n",
       "<style scoped>\n",
       "    .dataframe tbody tr th:only-of-type {\n",
       "        vertical-align: middle;\n",
       "    }\n",
       "\n",
       "    .dataframe tbody tr th {\n",
       "        vertical-align: top;\n",
       "    }\n",
       "\n",
       "    .dataframe thead th {\n",
       "        text-align: right;\n",
       "    }\n",
       "</style>\n",
       "<table border=\"1\" class=\"dataframe\">\n",
       "  <thead>\n",
       "    <tr style=\"text-align: right;\">\n",
       "      <th></th>\n",
       "      <th>box_office</th>\n",
       "    </tr>\n",
       "    <tr>\n",
       "      <th>year</th>\n",
       "      <th></th>\n",
       "    </tr>\n",
       "  </thead>\n",
       "  <tbody>\n",
       "    <tr>\n",
       "      <th>2010</th>\n",
       "      <td>10.32</td>\n",
       "    </tr>\n",
       "    <tr>\n",
       "      <th>2011</th>\n",
       "      <td>17.52</td>\n",
       "    </tr>\n",
       "    <tr>\n",
       "      <th>2012</th>\n",
       "      <td>20.92</td>\n",
       "    </tr>\n",
       "    <tr>\n",
       "      <th>2013</th>\n",
       "      <td>28.64</td>\n",
       "    </tr>\n",
       "    <tr>\n",
       "      <th>2014</th>\n",
       "      <td>34.00</td>\n",
       "    </tr>\n",
       "    <tr>\n",
       "      <th>2015</th>\n",
       "      <td>65.52</td>\n",
       "    </tr>\n",
       "    <tr>\n",
       "      <th>2016</th>\n",
       "      <td>64.13</td>\n",
       "    </tr>\n",
       "    <tr>\n",
       "      <th>2017</th>\n",
       "      <td>70.58</td>\n",
       "    </tr>\n",
       "    <tr>\n",
       "      <th>2018</th>\n",
       "      <td>53.10</td>\n",
       "    </tr>\n",
       "    <tr>\n",
       "      <th>2019</th>\n",
       "      <td>56.94</td>\n",
       "    </tr>\n",
       "  </tbody>\n",
       "</table>\n",
       "</div>"
      ],
      "text/plain": [
       "      box_office\n",
       "year            \n",
       "2010       10.32\n",
       "2011       17.52\n",
       "2012       20.92\n",
       "2013       28.64\n",
       "2014       34.00\n",
       "2015       65.52\n",
       "2016       64.13\n",
       "2017       70.58\n",
       "2018       53.10\n",
       "2019       56.94"
      ]
     },
     "metadata": {},
     "output_type": "display_data"
    },
    {
     "data": {
      "image/png": "[encoded data removed]",
      "text/plain": [
       "<Figure size 1008x432 with 1 Axes>"
      ]
     },
     "metadata": {
      "needs_background": "light"
     },
     "output_type": "display_data"
    }
   ],
   "source": [
    "pivot_years = data.pivot_table(index = 'year', values = 'box_office', aggfunc = lambda x: (x.count()/x.size) * 100)\n",
    "\n",
    "display(pivot_years)\n",
    "\n",
    "pivot_years.plot(figsize = (14, 6))\n",
    "plt.title('Proportion of Films with Box Office Data by Year')\n",
    "plt.xlabel('Year')\n",
    "plt.ylabel('Proportion, %')\n",
    "plt.show()"
   ]
  },
  {
   "cell_type": "markdown",
   "metadata": {},
   "source": [
    "The most complete information about the years is presented from 2015 to 2018.\n",
    "\t"
   ]
  },
  {
   "cell_type": "markdown",
   "metadata": {
    "id": "BEOdcIrIgFyW"
   },
   "source": [
    "- How the box office dynamics changed over the years. \n",
    "- In which year was the box office revenue the lowest? And the highest?"
   ]
  },
  {
   "cell_type": "code",
   "execution_count": null,
   "metadata": {},
   "outputs": [],
   "source": [
    "pivot_years_median = data.pivot_table(index = 'year', values = 'box_office', aggfunc = ['median', 'sum', 'count'])\n",
    "\n",
    "display(pivot_years_median)\n",
    "\n",
    "print(len(data[data['box_office'] < 1000000]))"
   ]
  },
  {
   "cell_type": "code",
   "execution_count": null,
   "metadata": {},
   "outputs": [],
   "source": [
    "display(data[(data['year'] == 2019) & (data['box_office'] < 100000)].head(30))"
   ]
  },
  {
   "cell_type": "markdown",
   "metadata": {},
   "source": [
    "Change in box office dynamics over the years"
   ]
  },
  {
   "cell_type": "code",
   "execution_count": 2,
   "metadata": {
    "id": "tfEhofYvgFyX"
   },
   "outputs": [
    {
     "ename": "NameError",
     "evalue": "name 'data' is not defined",
     "output_type": "error",
     "traceback": [
      "\u001b[0;31m---------------------------------------------------------------------------\u001b[0m",
      "\u001b[0;31mNameError\u001b[0m                                 Traceback (most recent call last)",
      "\u001b[0;32m/tmp/ipykernel_31/1922916567.py\u001b[0m in \u001b[0;36m<module>\u001b[0;34m\u001b[0m\n\u001b[0;32m----> 1\u001b[0;31m \u001b[0mpivot_years_sum\u001b[0m \u001b[0;34m=\u001b[0m \u001b[0mdata\u001b[0m\u001b[0;34m.\u001b[0m\u001b[0mpivot_table\u001b[0m\u001b[0;34m(\u001b[0m\u001b[0mindex\u001b[0m \u001b[0;34m=\u001b[0m \u001b[0;34m'year'\u001b[0m\u001b[0;34m,\u001b[0m \u001b[0mvalues\u001b[0m \u001b[0;34m=\u001b[0m \u001b[0;34m'box_office'\u001b[0m\u001b[0;34m,\u001b[0m \u001b[0maggfunc\u001b[0m \u001b[0;34m=\u001b[0m \u001b[0;34m'sum'\u001b[0m\u001b[0;34m)\u001b[0m\u001b[0;34m\u001b[0m\u001b[0;34m\u001b[0m\u001b[0m\n\u001b[0m\u001b[1;32m      2\u001b[0m \u001b[0;31m#pivot_years_sum = pivot_years_sum['box_office'].where('b')\u001b[0m\u001b[0;34m\u001b[0m\u001b[0;34m\u001b[0m\u001b[0;34m\u001b[0m\u001b[0m\n\u001b[1;32m      3\u001b[0m \u001b[0mdisplay\u001b[0m\u001b[0;34m(\u001b[0m\u001b[0mpivot_years_sum\u001b[0m\u001b[0;34m)\u001b[0m\u001b[0;34m\u001b[0m\u001b[0;34m\u001b[0m\u001b[0m\n",
      "\u001b[0;31mNameError\u001b[0m: name 'data' is not defined"
     ]
    }
   ],
   "source": [
    "pivot_years_sum = data.pivot_table(index = 'year', values = 'box_office', aggfunc = 'sum')\n",
    "#pivot_years_sum = pivot_years_sum['box_office'].where('b')\n",
    "display(pivot_years_sum)"
   ]
  },
  {
   "cell_type": "markdown",
   "metadata": {},
   "source": [
    "Visualize the total box office revenue dynamics over the years"
   ]
  },
  {
   "cell_type": "code",
   "execution_count": null,
   "metadata": {},
   "outputs": [],
   "source": [
    "pivot_years_sum.plot(kind='bar', figsize=(14, 6))\n",
    "plt.title('Сумма сборов по годам')\n",
    "plt.xlabel('Годы')\n",
    "plt.ylabel('Сумма сборов')\n",
    "plt.show()\n",
    "\n"
   ]
  },
  {
   "cell_type": "markdown",
   "metadata": {
    "id": "G-7qS-N-gFyY"
   },
   "source": [
    "Use a pivot table to calculate the average and median box office revenue for each year."
   ]
  },
  {
   "cell_type": "code",
   "execution_count": null,
   "metadata": {
    "id": "jmp-rgg9gFyY"
   },
   "outputs": [],
   "source": [
    "# Median and sum by year\n",
    "pivot_years_median = data.pivot_table(index='year', values='box_office', aggfunc=['median', 'sum', 'count'])\n",
    "\n",
    "# For films with low revenues that might be less than 100,000, normalization can be done\n",
    "data.loc[data['box_office'] < 100000, 'box_office'] = data.loc[data['box_office'] < 100000, 'box_office'] * 1000\n",
    "\n",
    "pivot_years_median = data.pivot_table(index='year', values='box_office', aggfunc=['median', 'sum', 'count'])\n",
    "\n",
    "display(pivot_years_median)"
   ]
  },
  {
   "cell_type": "markdown",
   "metadata": {},
   "source": [
    "Despite the overall growth, the median box office revenues remain stable or grow more slowly, indicating an increase in the number of films with low or medium earnings. This reflects the high competition in the film market.\n",
    "\n",
    "Thus, 2015 and 2016 are the record years for total box office revenue, but the growth in the number of films with smaller earnings could explain the decrease in median values in recent years.\n",
    "\n",
    "The median value is often lower than the mean because there is a large number of films with low earnings, along with some films with abnormally high earnings. "
   ]
  },
  {
   "cell_type": "code",
   "execution_count": null,
   "metadata": {},
   "outputs": [],
   "source": [
    "pivot_years_sum = data.pivot_table(index='year', values='box_office', aggfunc='sum')\n",
    "\n",
    "# Visualize the total box office revenue dynamics over the years\n",
    "pivot_years_sum.plot(kind='bar', figsize=(14, 6))\n",
    "plt.title('Total Box Office Revenue by Year')\n",
    "plt.xlabel('Year')\n",
    "plt.ylabel('Box Office Revenue')\n",
    "plt.show()"
   ]
  },
  {
   "cell_type": "markdown",
   "metadata": {
    "id": "Ok89WFwJgFyZ"
   },
   "source": [
    "Determine whether the age restriction (“6+”, “12+”, “16+”, “18+”, etc.) affects the box office revenue of films between 2015 and 2019. Which films with which age restrictions earned the most at the box office? Does the picture change depending on the year? If so, hypothesize what it might be related to."
   ]
  },
  {
   "cell_type": "code",
   "execution_count": null,
   "metadata": {
    "id": "jsSbEqfjgFya"
   },
   "outputs": [],
   "source": [
    "# Filter data\n",
    "data15_19 = data[(data['show_start_date'].dt.year >= 2015) & (data['show_start_date'].dt.year <= 2019)]\n",
    "\n",
    "age_box_office = data15_19.groupby('age_restriction')['box_office'].sum().sort_values(ascending=False)\n",
    "display(age_box_office)\n",
    "\n",
    "# Visualization\n",
    "age_box_office.plot(kind='bar', title='Total Box Office Revenue by Age Restriction', figsize=(10, 6))\n",
    "plt.xlabel('Age Restriction')\n",
    "plt.ylabel('Box Office Revenue')\n",
    "plt.show()"
   ]
  },
  {
   "cell_type": "markdown",
   "metadata": {},
   "source": [
    "It is noted that the films with a “16+” age restriction earned the most. The least were those with no age restriction, which refers to animated films/children’s movies."
   ]
  },
  {
   "cell_type": "code",
   "execution_count": null,
   "metadata": {},
   "outputs": [],
   "source": [
    "yearly_age_box_office = data15_19.groupby([data15_19['show_start_date'].dt.year, 'age_restriction'])['box_office'].sum().unstack()\n",
    "\n",
    "# Visualization\n",
    "yearly_age_box_office.plot(kind='bar', stacked=True, figsize=(14, 7), title='Total Box Office Revenue by Age Restriction by Year')\n",
    "plt.xlabel('Year')\n",
    "plt.ylabel('Box Office Revenue')\n",
    "plt.legend(title='Age Restriction', bbox_to_anchor=(1.05, 1), loc='upper left')\n",
    "plt.tight_layout()\n",
    "plt.show()"
   ]
  },
  {
   "cell_type": "markdown",
   "metadata": {},
   "source": [
    "It is noted that the structure of revenues based on age restrictions did not change much. The proportions remained roughly the same. The category “12+” saw the most change in percentage of box office revenue— in 2015, it was the most significant.\n"
   ]
  },
  {
   "cell_type": "markdown",
   "metadata": {},
   "source": [
    "### Intermediate Conclusion for the “Exploratory Data Analysis” Section\n",
    "\n",
    "### Goals and objectives of the section:\n",
    "\n",
    "The goal of this section was to conduct an exploratory analysis of movie data from 2010 to 2019, focusing on the number of films, box office dynamics, age restrictions, and their impact on box office revenues.\n",
    "\n",
    "The analysis of movie data from 2010 to 2019 reveals the following key findings:\n",
    "\n",
    "1.\t**Number of movies released per year**:\n",
    "- \tThe number of films with box office information significantly increased starting in 2015. A sharp rise is particularly noticeable in 2015 when the number of films exceeded 450, and in 2016 and 2019, it reached more than 500.\n",
    "- \tHowever, the proportion of films with box office data remains below 50%, indicating insufficient completeness of data in this category for most films.\n",
    "    \n",
    "2.\t**Box office dynamics over the years**:\n",
    "-\tThe total box office revenue showed steady growth, especially in 2015-2016 when total revenue exceeded 40 billion rubles per year. This reflects the growth of the industry, but also an increase in the number of films with lower or moderate earnings, which lowers the median values.\n",
    "-\tMedian box office values have remained stable or have grown more slowly, which could indicate high competition in the film industry, with a growing number of films generating lower revenues, along with the influence of abnormally successful films.\n",
    "\n",
    "3.\t**Age restrictions and their impact on box office revenue**:\n",
    "-\tFilms with a “16+” age rating earned the highest box office revenue, while films with a “0+” rating (for all audiences) significantly lagged behind, primarily due to animated films and children’s movies.\n",
    "-\tIn the dynamics of box office revenue by age rating from 2015 to 2019, the structure did not undergo significant changes. The “12+” category became more noticeable in 2015, but its share declined over time.\n",
    "\n",
    "The results confirm the hypothesis of the expansion of the film industry between 2015 and 2019, with an increase in the number of films and total revenue, despite the presence of films with lower box office earnings. The median box office values also demonstrate high competition in the market.\n",
    "\n",
    "Thus, movie data from 2015 onward provides the most complete picture, and it can be concluded that the film industry significantly expanded during these years, despite the presence of films with less significant box office earnings.\n"
   ]
  },
  {
   "cell_type": "markdown",
   "metadata": {
    "id": "l_Kg6Ku4gFya"
   },
   "source": [
    "### Explore movies that received government support\n",
    "\n",
    "At this stage, there are no specific instructions or tasks—look for interesting patterns in the data. See how much funding is allocated for movie support. Check if such movies are profitable, and what their ratings are."
   ]
  },
  {
   "cell_type": "markdown",
   "metadata": {
    "id": "W9QKpjUdgFyb"
   },
   "source": [
    "Let’s calculate the total amount of government support.\n",
    "\n",
    "We will look at: \n",
    " - The total amount of refundable and non-refundable support.\n",
    " - The average budget of movies with government support."
   ]
  },
  {
   "cell_type": "code",
   "execution_count": null,
   "metadata": {},
   "outputs": [],
   "source": [
    "# Total amount of refundable and non-refundable support\n",
    "total_refundable_support = data['refundable_support'].sum()\n",
    "total_nonrefundable_support = data['nonrefundable_support'].sum()\n",
    "total_support = total_refundable_support + total_nonrefundable_support\n",
    "\n",
    "print(f\"Total refundable support: {total_refundable_support}\")\n",
    "print(f\"Total non-refundable support: {total_nonrefundable_support}\")\n",
    "print(f\"Total government support: {total_support}\")\n",
    "\n",
    "# Average budget of movies with government support\n",
    "average_budget = data['budget'].mean()\n",
    "print(f\"Average budget of movies with government support: {average_budget}\")"
   ]
  },
  {
   "cell_type": "markdown",
   "metadata": {},
   "source": [
    "Let’s evaluate the profitability of the movies.\n",
    "\n",
    "We will compare:\n",
    "-  The movie’s box office earnings with its budget.\n",
    "- Calculate the profitability ratio (box office / budget).\n",
    "- Look at the percentage of profitable movies (ratio > 1)."
   ]
  },
  {
   "cell_type": "code",
   "execution_count": null,
   "metadata": {},
   "outputs": [],
   "source": [
    "# Убедимся, что сборы и бюджет имеют числовой формат\n",
    "data['box_office'] = pd.to_numeric(data['box_office'], errors='coerce')\n",
    "data['budget'] = pd.to_numeric(data['budget'], errors='coerce')\n",
    "\n",
    "# Ensure box office and budget are in numeric format\n",
    "data['box_office'] = pd.to_numeric(data['box_office'], errors='coerce')\n",
    "data['budget'] = pd.to_numeric(data['budget'], errors='coerce')\n",
    "\n",
    "# Remove rows with missing values in box office and budget data\n",
    "movies_with_data = data.dropna(subset=['box_office', 'budget']).copy()\n",
    "\n",
    "# Calculate profitability ratio\n",
    "movies_with_data['profitability_ratio'] = movies_with_data['box_office'] / movies_with_data['budget']\n",
    "\n",
    "# Comparison of box office and budget (average values)\n",
    "average_box_office = movies_with_data['box_office'].mean()\n",
    "average_budget = movies_with_data['budget'].mean()\n",
    "average_profitability_ratio = movies_with_data['profitability_ratio'].mean()\n",
    "\n",
    "# Percentage of profitable movies (profitability ratio > 1)\n",
    "profitable_movies = movies_with_data[movies_with_data['profitability_ratio'] > 1]\n",
    "percentage_profitable = len(profitable_movies) / len(movies_with_data) * 100\n",
    "\n",
    "# Display results\n",
    "print(f\"Average box office revenue: {average_box_office:.2f} rub.\")\n",
    "print(f\"Average movie budget: {average_budget:.2f} rub.\")\n",
    "print(f\"Average profitability ratio: {average_profitability_ratio:.2f}\")\n",
    "print(f\"Percentage of profitable movies: {percentage_profitable:.2f}%\")\n",
    "\n",
    "# Display the first few rows for visual analysis\n",
    "display(movies_with_data[['title', 'box_office', 'budget', 'profitability_ratio']].sort_values(by='profitability_ratio', ascending=False).head(10))\n",
    "display(movies_with_data[['title', 'box_office', 'budget', 'profitability_ratio']].head())"
   ]
  },
  {
   "cell_type": "markdown",
   "metadata": {},
   "source": [
    "#### **Interim Conclusion.**\n",
    " \n",
    " \n",
    "- \t**Government support**:\n",
    "    - Refundable: 3.655 million rubles, non-refundable: 15.153 million rubles, total: 18.808 million rubles.\n",
    "    - The majority of the support is non-refundable, indicating significant investments in the film industry.\n",
    "- \tAverage movie budget: 134 million rubles. Films with support have large budgets intended for large-scale projects.\n",
    "-    **Profitability**:\n",
    "    - Average box office earnings: 134 million rubles, average profitability ratio: 0.84.\n",
    "    - Percentage of profitable movies: 25.75%. Most movies remain unprofitable.\n",
    "\n",
    "Successful projects: “Kholop” (19.21), “Ice” (9.73), and others show that even high-budget projects can be extremely profitable with successful marketing and high popularity.\n",
    "\n",
    "Unsuccessful projects: Movies with a profitability ratio close to 0 (such as “Still Alive”) suffer from low audience interest or insufficient promotion."
   ]
  },
  {
   "cell_type": "markdown",
   "metadata": {},
   "source": [
    "Let’s explore movie ratings.\n",
    "\n",
    "We’ll look at: \n",
    "-  The average rating of movies with government support.\n",
    "-  The correlation between the rating and the amount of support.\n",
    "-  A comparison with movies without government support.\n"
   ]
  },
  {
   "cell_type": "code",
   "execution_count": null,
   "metadata": {},
   "outputs": [],
   "source": [
    "# Average rating of movies with government support\n",
    "movies_with_support = data[data['refundable_support'].notna() | data['nonrefundable_support'].notna()]\n",
    "average_rating_with_support = movies_with_support['ratings'].mean()\n",
    "print(f\"Average rating of movies with government support: {average_rating_with_support:.2f}\")"
   ]
  },
  {
   "cell_type": "code",
   "execution_count": 3,
   "metadata": {},
   "outputs": [
    {
     "ename": "NameError",
     "evalue": "name 'movies_with_support' is not defined",
     "output_type": "error",
     "traceback": [
      "\u001b[0;31m---------------------------------------------------------------------------\u001b[0m",
      "\u001b[0;31mNameError\u001b[0m                                 Traceback (most recent call last)",
      "\u001b[0;32m/tmp/ipykernel_31/1634806099.py\u001b[0m in \u001b[0;36m<module>\u001b[0;34m\u001b[0m\n\u001b[1;32m      2\u001b[0m \u001b[0;34m\u001b[0m\u001b[0m\n\u001b[1;32m      3\u001b[0m \u001b[0;31m# Total support (refundable + non-refundable)\u001b[0m\u001b[0;34m\u001b[0m\u001b[0;34m\u001b[0m\u001b[0;34m\u001b[0m\u001b[0m\n\u001b[0;32m----> 4\u001b[0;31m \u001b[0mmovies_with_support\u001b[0m\u001b[0;34m.\u001b[0m\u001b[0mloc\u001b[0m\u001b[0;34m[\u001b[0m\u001b[0;34m:\u001b[0m\u001b[0;34m,\u001b[0m \u001b[0;34m'total_support'\u001b[0m\u001b[0;34m]\u001b[0m \u001b[0;34m=\u001b[0m \u001b[0mmovies_with_support\u001b[0m\u001b[0;34m[\u001b[0m\u001b[0;34m'refundable_support'\u001b[0m\u001b[0;34m]\u001b[0m \u001b[0;34m+\u001b[0m \u001b[0mmovies_with_support\u001b[0m\u001b[0;34m[\u001b[0m\u001b[0;34m'nonrefundable_support'\u001b[0m\u001b[0;34m]\u001b[0m\u001b[0;34m\u001b[0m\u001b[0;34m\u001b[0m\u001b[0m\n\u001b[0m\u001b[1;32m      5\u001b[0m \u001b[0;34m\u001b[0m\u001b[0m\n\u001b[1;32m      6\u001b[0m \u001b[0;31m# Plotting the graph\u001b[0m\u001b[0;34m\u001b[0m\u001b[0;34m\u001b[0m\u001b[0;34m\u001b[0m\u001b[0m\n",
      "\u001b[0;31mNameError\u001b[0m: name 'movies_with_support' is not defined"
     ]
    }
   ],
   "source": [
    "import warnings\n",
    "\n",
    "# Total support (refundable + non-refundable)\n",
    "movies_with_support.loc[:, 'total_support'] = movies_with_support['refundable_support'] + movies_with_support['nonrefundable_support']\n",
    "\n",
    "# Plotting the graph\n",
    "plt.figure(figsize=(10, 6))\n",
    "plt.scatter(movies_with_support['total_support'], movies_with_support['ratings'], color='blue', alpha=0.5)\n",
    "plt.title('Relationship between ratings and total government support')\n",
    "plt.xlabel('Amount of government support')\n",
    "plt.ylabel('Movie rating')\n",
    "plt.grid(True)\n",
    "plt.show()\n",
    "\n",
    "# Displaying statistics for analysis\n",
    "total_support_stats = movies_with_support['total_support'].describe()\n",
    "ratings_stats = movies_with_support['ratings'].describe()\n",
    "\n",
    "print(\"Statistics for total government support:\")\n",
    "print(total_support_stats)\n",
    "\n",
    "print(\"\\nStatistics for movie ratings:\")\n",
    "print(ratings_stats)\n",
    "\n",
    "# Movies without government support\n",
    "movies_without_support = data[data['refundable_support'].isna() & data['nonrefundable_support'].isna()]\n",
    "\n",
    "# Average rating for movies with and without support\n",
    "average_rating_without_support = movies_without_support['ratings'].mean()\n",
    "\n",
    "print(f\"Average rating of movies without government support: {average_rating_without_support:.2f}\")\n",
    "warnings.filterwarnings(\"ignore\")"
   ]
  },
  {
   "cell_type": "code",
   "execution_count": null,
   "metadata": {},
   "outputs": [],
   "source": [
    "# Movies without government support\n",
    "movies_without_support = data[data['refundable_support'].isna() & data['nonrefundable_support'].isna()]\n",
    "\n",
    "# Average rating for movies with and without support\n",
    "average_rating_without_support = movies_without_support['ratings'].mean()\n",
    "\n",
    "print(f\"Average rating of movies without government support: {average_rating_without_support:.2f}\")"
   ]
  },
  {
   "cell_type": "markdown",
   "metadata": {},
   "source": [
    "**Interim Conclusion** \n",
    "\n",
    " 1.\tAverage rating of movies with government support: Movies that received government support have an average rating of 6.04. This is slightly lower than the rating of movies without support, which may indicate that support does not always correlate with high audience ratings.\n",
    " 2.\tRelationship between rating and amount of support: Visually, there is a weak correlation between the amount of government support and the movie’s rating. The ratings of movies vary independently of the amount of funding allocated, suggesting that other factors influence how the movie is perceived.\n",
    " 3.\tComparison with movies without government support: The average rating of movies without government support is 6.51, which is higher than the average rating of movies with support (6.04). This supports the hypothesis that movies without government support may be more successful in terms of audience ratings, possibly due to greater independence in project selection and higher expectations for such movies.\n",
    "\n",
    "Thus, while government support can be helpful for film production, it does not always guarantee success in the eyes of viewers, and there is a tendency for movies without support to have slightly higher ratings.\n"
   ]
  },
  {
   "cell_type": "markdown",
   "metadata": {},
   "source": [
    "**It would also be interesting to explore which genres receive government support.**"
   ]
  },
  {
   "cell_type": "code",
   "execution_count": null,
   "metadata": {},
   "outputs": [],
   "source": [
    "# Analysis of Movie Genres with Government Support\n",
    "\n",
    "genre_support = movies_with_support['genres'].value_counts()\n",
    "print(\"Genres of movies with government support:\")\n",
    "print(genre_support)"
   ]
  },
  {
   "cell_type": "markdown",
   "metadata": {},
   "source": [
    "The most common genres are “drama” and “comedy.”"
   ]
  },
  {
   "cell_type": "markdown",
   "metadata": {},
   "source": [
    "## Interim Findings for the “Exploratory Data Analysis” Section, where we analyzed films that received government support.\n",
    "\n",
    "\n",
    "During the analysis of movie data, we identified several interesting trends:\n",
    "\n",
    "\t1.\tNumber of Films in Distribution: We noticed that data on box office performance became more complete starting in 2015, when the proportion of films with box office data significantly increased. For example, in 2010, less than 11% of films had box office data, but by 2015, this figure had reached 65%. This indicates that box office information has become more accessible and comprehensive in recent years.\n",
    "    \n",
    "\t2.\tTotal Box Office by Year: Observations of box office trends showed that since 2015, box office earnings from films in distribution have significantly increased. In 2010, the total box office revenue was just over half a billion rubles, but by 2015, it exceeded 40 billion rubles. Interestingly, 2016 and 2017 showed nearly identical earnings, with a slight increase in 2018.\n",
    "    \n",
    "\t3.\tAge Ratings and Box Office: According to data from 2015–2019, films with the age rating “16+” earned the most on average, while films with the “0+” category (suitable for all audiences) had the lowest earnings. At the same time, the revenue structure by age categories has remained stable over the years. It is important to note that films with the age rating “12+” had the highest percentage of box office revenue in 2015.\n",
    "    \n",
    "\t4.\tGovernment Support: The average budget for films with government support was around 134 million rubles, indicating that these projects generally have higher budgets than films without support. However, despite the large investments, the profitability of such films remained at 25%, meaning that many of them did not generate a profit. Interestingly, films with government support tend to receive slightly lower audience ratings compared to films without support, which could be attributed to various production and promotion factors.\n",
    "    \n",
    "\t5.\tGenres of Films with Government Support: Among films with government support, the most popular genres were drama and comedy. This suggests that these genres attract the most interest from government support, possibly due to their broad appeal and attractiveness to a wide audience.\n",
    "    \n",
    "    \n",
    "Overall, the data shows that while government support and large investments can be beneficial for large-scale projects, a film’s success depends on many factors, such as genre, marketing, and audience interest.\n"
   ]
  },
  {
   "cell_type": "markdown",
   "metadata": {},
   "source": [
    "# General Conclusion for the Project\n",
    "\n",
    "During the course of the project, which covers data processing and exploratory analysis of movies from 2010 to 2019, several key conclusions were made that can be useful for further research and practical application in the film industry.\n",
    "\n",
    "  **1. Data Processing**\n",
    "\n",
    "During data processing, several steps were taken to improve data quality and standardize its representation:\n",
    "\n",
    "- **Categorical Data:** Extra spaces were removed from the `type` column, which significantly reduced the number of unique values and improved data consistency. The `production_country` column was standardized by adjusting country delimiters, which also improved unification. The `genres` column was simplified by keeping only the first genre for each movie, allowing us to focus on the most popular genres and simplifying further analysis.\n",
    "\n",
    "- **Quantitative Data:** Outliers were identified in the `nonrefundable_support`, `refundable_support`, `budget`, and `box_office` columns. These outliers did not have a significant impact on the overall analysis but were considered. For example, outliers in the `nonrefundable_support` column can be explained by large and long-term projects, while outliers in the `refundable_support` column are associated with exceptional cases. Despite this, the data was cleaned and prepared for analysis, which improved the accuracy of the conclusions.\n",
    "\n",
    "- **Other:** Additional intermediate columns were created to facilitate further analysis and conclusions. As a result of the processing, the data became cleaner and more standardized, allowing for more accurate and effective research.\n",
    "\n",
    "\n",
    "  **2. Exploratory Data Analysis**\n",
    "\n",
    "Key Findings:\n",
    "\n",
    "- **Number of Movies by Year:** The number of movies with box office data significantly increased starting from 2015. The growth was particularly noticeable in 2015, when the number of films with available box office information exceeded 400, and by 2019 it reached over 500. However, the proportion of such films remained below 50%, indicating incomplete data for most films.\n",
    "\n",
    "- **Box Office Dynamics by Year:** Between 2015 and 2016, total box office revenues showed steady growth, and by 2019, total box office revenue significantly exceeded 30 billion rubles. Median box office values, however, remained more stable or grew slowly, indicating high competition in the film industry, where the number of films with lower earnings increased, but this was still balanced by abnormally successful films.\n",
    "\n",
    "- **Age Ratings and Box Office Impact:** Movies with the “16+” age rating earned the most on average, which is related to their broad audience. In contrast, films with the “0+” category (for all audiences) lagged behind in earnings, mostly due to animated and children’s films. In 2015, the “12+” category had the highest percentage of box office revenue, but its share decreased over time, which may also be related to changes in viewer preferences.\n",
    "\n",
    "  **3.  Government Support**\n",
    "\n",
    "- **Budget of Movies with Government Support:** The average budget for such films was around 134 million rubles, indicating that they typically have higher budgets than films without government support. However, despite large investments, the profitability of these projects remained at 25%. This suggests that most government-supported films did not generate significant profit.\n",
    "\n",
    "- **Viewer Ratings:** An interesting conclusion is that films with government support have slightly lower viewer ratings compared to films without such support. This may be due to differences in production and marketing approaches, as well as the nature of genres and themes that receive government funding.\n",
    "\n",
    "- **Genres of Movies with Government Support:** Among films with government support, drama and comedy, as well as their combinations such as “comedy, melodrama” and “drama, melodrama”, are the most common genres. This may indicate that these genres are the most popular among government-supported films, possibly due to their broad appeal and ability to attract a wide audience.\n",
    "\n",
    "  **4. Trends by Genre**\n",
    "\n",
    "\n",
    "- **Popular Genres:** For films with government support, the most common genres are drama and comedy. This also suggests a tendency for government support to fund mass-market, more accessible films that can attract a broader audience.\n",
    "\n",
    "\n",
    "`The project helped identify several key trends and patterns that influence the development of the film industry, including:`\n",
    "\n",
    "- The film industry has shown significant growth since 2015, reflected in both the number of films and box office revenue.\n",
    "- Box office information has become more complete and accessible each year, enabling more accurate assessments of movie success.\n",
    "- While government support helps films have higher budgets, the success of these projects does not always justify the investment, and government-supported films tend to have lower viewer ratings on average.\n",
    "- Age ratings have a significant impact on box office revenue, with “16+” rated films showing the highest earnings.\n",
    "- For most projects, the success of a film depends on many factors, including genre, marketing, and target audience.\n",
    "\n",
    "\n",
    "\n",
    "Thus, the analysis provided a more complete picture of the development of the film industry in Russia and highlighted the importance of various factors in determining a film’s success."
   ]
  }
 ],
 "metadata": {
  "ExecuteTimeLog": [
   {
    "duration": 537,
    "start_time": "2021-07-07T10:12:08.634Z"
   },
   {
    "duration": 206,
    "start_time": "2021-07-07T10:12:30.191Z"
   },
   {
    "duration": 227,
    "start_time": "2021-07-07T10:12:33.078Z"
   },
   {
    "duration": 153,
    "start_time": "2021-07-07T10:13:42.146Z"
   },
   {
    "duration": 233,
    "start_time": "2021-07-07T10:30:09.252Z"
   },
   {
    "duration": 19,
    "start_time": "2021-07-07T10:30:15.577Z"
   },
   {
    "duration": 18,
    "start_time": "2021-07-07T10:30:57.348Z"
   },
   {
    "duration": 19,
    "start_time": "2021-07-07T10:31:17.452Z"
   },
   {
    "duration": 21,
    "start_time": "2021-07-07T10:31:32.227Z"
   },
   {
    "duration": 27,
    "start_time": "2021-07-07T10:32:06.588Z"
   },
   {
    "duration": 23,
    "start_time": "2021-07-07T10:32:43.645Z"
   },
   {
    "duration": 24,
    "start_time": "2021-07-07T10:33:06.948Z"
   },
   {
    "duration": 7,
    "start_time": "2021-07-07T10:33:28.558Z"
   },
   {
    "duration": 23,
    "start_time": "2021-07-07T10:33:43.761Z"
   },
   {
    "duration": 28,
    "start_time": "2021-07-07T10:34:13.466Z"
   },
   {
    "duration": 23,
    "start_time": "2021-07-07T10:35:56.187Z"
   },
   {
    "duration": 6,
    "start_time": "2021-07-07T10:36:48.182Z"
   },
   {
    "duration": 14,
    "start_time": "2021-07-07T10:37:49.641Z"
   },
   {
    "duration": 6,
    "start_time": "2021-07-07T10:38:06.694Z"
   },
   {
    "duration": 6,
    "start_time": "2021-07-07T10:38:13.493Z"
   },
   {
    "duration": 19,
    "start_time": "2021-07-07T10:38:44.056Z"
   },
   {
    "duration": 186,
    "start_time": "2021-07-07T10:48:35.618Z"
   },
   {
    "duration": 24,
    "start_time": "2021-07-07T10:48:51.498Z"
   },
   {
    "duration": 20,
    "start_time": "2021-07-07T10:48:59.415Z"
   },
   {
    "duration": 20,
    "start_time": "2021-07-07T10:53:02.195Z"
   },
   {
    "duration": 188,
    "start_time": "2021-07-07T10:54:40.486Z"
   },
   {
    "duration": 115,
    "start_time": "2021-07-07T10:54:52.552Z"
   },
   {
    "duration": 214,
    "start_time": "2021-07-07T10:54:56.354Z"
   },
   {
    "duration": 47,
    "start_time": "2021-07-07T10:54:58.282Z"
   },
   {
    "duration": 217,
    "start_time": "2021-07-07T10:59:16.075Z"
   },
   {
    "duration": 51,
    "start_time": "2021-07-07T10:59:16.243Z"
   },
   {
    "duration": 578,
    "start_time": "2021-07-07T10:59:18.774Z"
   },
   {
    "duration": 161,
    "start_time": "2021-07-07T10:59:21.238Z"
   },
   {
    "duration": 59,
    "start_time": "2021-07-07T10:59:21.453Z"
   },
   {
    "duration": 3,
    "start_time": "2021-07-07T11:02:10.786Z"
   },
   {
    "duration": 13,
    "start_time": "2021-07-07T11:07:07.722Z"
   },
   {
    "duration": 26,
    "start_time": "2021-07-07T11:07:17.958Z"
   },
   {
    "duration": 22,
    "start_time": "2021-07-07T11:08:17.939Z"
   },
   {
    "duration": 212,
    "start_time": "2021-07-07T11:08:19.665Z"
   },
   {
    "duration": 21,
    "start_time": "2021-07-07T11:08:29.945Z"
   },
   {
    "duration": 31,
    "start_time": "2021-07-07T11:08:38.899Z"
   },
   {
    "duration": 23,
    "start_time": "2021-07-07T11:08:54.527Z"
   },
   {
    "duration": 8,
    "start_time": "2021-07-07T11:18:55.974Z"
   },
   {
    "duration": 7,
    "start_time": "2021-07-07T11:19:03.639Z"
   },
   {
    "duration": 7,
    "start_time": "2021-07-07T11:19:06.444Z"
   },
   {
    "duration": 578,
    "start_time": "2021-07-07T12:09:59.576Z"
   },
   {
    "duration": 195,
    "start_time": "2021-07-07T12:10:00.156Z"
   },
   {
    "duration": 115,
    "start_time": "2021-07-07T12:10:00.353Z"
   },
   {
    "duration": 3,
    "start_time": "2021-07-07T12:10:00.470Z"
   },
   {
    "duration": 32,
    "start_time": "2021-07-07T12:10:00.474Z"
   },
   {
    "duration": 23,
    "start_time": "2021-07-07T12:10:00.508Z"
   },
   {
    "duration": 19,
    "start_time": "2021-07-07T12:10:00.533Z"
   },
   {
    "duration": 44,
    "start_time": "2021-07-07T12:10:00.553Z"
   },
   {
    "duration": 7,
    "start_time": "2021-07-07T12:10:00.600Z"
   },
   {
    "duration": 7,
    "start_time": "2021-07-07T12:19:45.761Z"
   },
   {
    "duration": 21,
    "start_time": "2021-07-07T12:21:35.482Z"
   },
   {
    "duration": 21,
    "start_time": "2021-07-07T12:29:23.569Z"
   },
   {
    "duration": 525,
    "start_time": "2021-07-07T12:29:44.542Z"
   },
   {
    "duration": 214,
    "start_time": "2021-07-07T12:29:45.069Z"
   },
   {
    "duration": 92,
    "start_time": "2021-07-07T12:29:45.285Z"
   },
   {
    "duration": 3,
    "start_time": "2021-07-07T12:29:45.379Z"
   },
   {
    "duration": 28,
    "start_time": "2021-07-07T12:29:45.384Z"
   },
   {
    "duration": 23,
    "start_time": "2021-07-07T12:29:45.413Z"
   },
   {
    "duration": 21,
    "start_time": "2021-07-07T12:29:45.437Z"
   },
   {
    "duration": 41,
    "start_time": "2021-07-07T12:29:45.460Z"
   },
   {
    "duration": 7,
    "start_time": "2021-07-07T12:29:45.502Z"
   },
   {
    "duration": 20,
    "start_time": "2021-07-07T12:29:45.511Z"
   },
   {
    "duration": 12,
    "start_time": "2021-07-07T12:34:02.800Z"
   },
   {
    "duration": 7,
    "start_time": "2021-07-07T12:35:10.479Z"
   },
   {
    "duration": 8,
    "start_time": "2021-07-07T12:35:22.440Z"
   },
   {
    "duration": 6,
    "start_time": "2021-07-07T12:35:35.649Z"
   },
   {
    "duration": 6,
    "start_time": "2021-07-07T12:35:43.107Z"
   },
   {
    "duration": 22,
    "start_time": "2021-07-07T12:38:03.029Z"
   },
   {
    "duration": 10,
    "start_time": "2021-07-07T12:38:06.592Z"
   },
   {
    "duration": 563,
    "start_time": "2021-07-07T12:38:46.493Z"
   },
   {
    "duration": 265,
    "start_time": "2021-07-07T12:38:47.058Z"
   },
   {
    "duration": 94,
    "start_time": "2021-07-07T12:38:47.325Z"
   },
   {
    "duration": 3,
    "start_time": "2021-07-07T12:38:47.422Z"
   },
   {
    "duration": 30,
    "start_time": "2021-07-07T12:38:47.427Z"
   },
   {
    "duration": 16,
    "start_time": "2021-07-07T12:38:53.305Z"
   },
   {
    "duration": 10,
    "start_time": "2021-07-07T12:38:53.499Z"
   },
   {
    "duration": 8,
    "start_time": "2021-07-07T12:39:48.161Z"
   },
   {
    "duration": 27,
    "start_time": "2021-07-07T12:41:17.629Z"
   },
   {
    "duration": 17,
    "start_time": "2021-07-07T12:41:17.867Z"
   },
   {
    "duration": 21,
    "start_time": "2021-07-07T12:41:19.310Z"
   },
   {
    "duration": 7,
    "start_time": "2021-07-07T12:41:19.544Z"
   },
   {
    "duration": 20,
    "start_time": "2021-07-07T12:41:20.504Z"
   },
   {
    "duration": 554,
    "start_time": "2021-07-07T12:56:23.696Z"
   },
   {
    "duration": 200,
    "start_time": "2021-07-07T12:56:25.234Z"
   },
   {
    "duration": 119,
    "start_time": "2021-07-07T12:56:25.480Z"
   },
   {
    "duration": 4,
    "start_time": "2021-07-07T12:56:25.762Z"
   },
   {
    "duration": 26,
    "start_time": "2021-07-07T12:56:27.172Z"
   },
   {
    "duration": 12,
    "start_time": "2021-07-07T12:56:29.051Z"
   },
   {
    "duration": 10,
    "start_time": "2021-07-07T12:56:29.291Z"
   },
   {
    "duration": 8,
    "start_time": "2021-07-07T12:56:29.623Z"
   },
   {
    "duration": 28,
    "start_time": "2021-07-07T12:56:32.137Z"
   },
   {
    "duration": 19,
    "start_time": "2021-07-07T12:56:39.785Z"
   },
   {
    "duration": 20,
    "start_time": "2021-07-07T12:56:44.297Z"
   },
   {
    "duration": 7,
    "start_time": "2021-07-07T12:56:45.392Z"
   },
   {
    "duration": 23,
    "start_time": "2021-07-07T12:56:46.615Z"
   },
   {
    "duration": 4,
    "start_time": "2021-07-07T12:57:06.625Z"
   },
   {
    "duration": 32,
    "start_time": "2021-07-07T12:57:36.690Z"
   },
   {
    "duration": 18,
    "start_time": "2021-07-07T12:58:00.149Z"
   },
   {
    "duration": 15,
    "start_time": "2021-07-07T12:59:16.793Z"
   },
   {
    "duration": 7,
    "start_time": "2021-07-07T13:19:22.624Z"
   },
   {
    "duration": 6,
    "start_time": "2021-07-07T14:17:33.527Z"
   },
   {
    "duration": 9,
    "start_time": "2021-07-07T14:17:48.409Z"
   },
   {
    "duration": 8,
    "start_time": "2021-07-07T14:20:13.060Z"
   },
   {
    "duration": 8,
    "start_time": "2021-07-07T14:20:37.957Z"
   },
   {
    "duration": 8,
    "start_time": "2021-07-07T14:20:47.470Z"
   },
   {
    "duration": 9,
    "start_time": "2021-07-07T14:20:54.503Z"
   },
   {
    "duration": 10,
    "start_time": "2021-07-07T14:28:57.763Z"
   },
   {
    "duration": 3,
    "start_time": "2021-07-07T14:30:23.377Z"
   },
   {
    "duration": 3,
    "start_time": "2021-07-07T14:30:36.489Z"
   },
   {
    "duration": 103,
    "start_time": "2021-07-07T14:30:52.351Z"
   },
   {
    "duration": 8,
    "start_time": "2021-07-07T14:30:54.763Z"
   },
   {
    "duration": 8,
    "start_time": "2021-07-07T14:31:29.301Z"
   },
   {
    "duration": 13,
    "start_time": "2021-07-07T14:31:44.516Z"
   },
   {
    "duration": 7,
    "start_time": "2021-07-07T14:33:10.972Z"
   },
   {
    "duration": 11,
    "start_time": "2021-07-07T14:33:27.780Z"
   },
   {
    "duration": 8,
    "start_time": "2021-07-07T14:34:44.588Z"
   },
   {
    "duration": 57,
    "start_time": "2021-07-07T14:35:59.042Z"
   },
   {
    "duration": 3,
    "start_time": "2021-07-07T14:36:28.168Z"
   },
   {
    "duration": 5,
    "start_time": "2021-07-07T14:36:46.254Z"
   },
   {
    "duration": 4,
    "start_time": "2021-07-07T14:36:52.714Z"
   },
   {
    "duration": 3,
    "start_time": "2021-07-07T14:36:56.612Z"
   },
   {
    "duration": 4,
    "start_time": "2021-07-07T14:36:57.049Z"
   },
   {
    "duration": 3,
    "start_time": "2021-07-07T14:39:21.214Z"
   },
   {
    "duration": 7,
    "start_time": "2021-07-07T14:39:52.406Z"
   },
   {
    "duration": 11,
    "start_time": "2021-07-07T14:39:58.576Z"
   },
   {
    "duration": 9,
    "start_time": "2021-07-07T14:40:26.301Z"
   },
   {
    "duration": 10,
    "start_time": "2021-07-07T14:40:31.704Z"
   },
   {
    "duration": 11,
    "start_time": "2021-07-07T14:40:36.249Z"
   },
   {
    "duration": 10,
    "start_time": "2021-07-07T14:40:39.783Z"
   },
   {
    "duration": 9,
    "start_time": "2021-07-07T14:40:48.558Z"
   },
   {
    "duration": 10,
    "start_time": "2021-07-07T14:40:57.143Z"
   },
   {
    "duration": 9,
    "start_time": "2021-07-07T14:41:06.074Z"
   },
   {
    "duration": 4324,
    "start_time": "2021-07-07T14:41:22.004Z"
   },
   {
    "duration": 11,
    "start_time": "2021-07-07T14:41:33.392Z"
   },
   {
    "duration": 9,
    "start_time": "2021-07-07T14:41:39.288Z"
   },
   {
    "duration": 569,
    "start_time": "2021-07-07T14:42:14.387Z"
   },
   {
    "duration": 197,
    "start_time": "2021-07-07T14:42:14.959Z"
   },
   {
    "duration": 84,
    "start_time": "2021-07-07T14:42:16.052Z"
   },
   {
    "duration": 4,
    "start_time": "2021-07-07T14:42:16.900Z"
   },
   {
    "duration": 27,
    "start_time": "2021-07-07T14:42:19.898Z"
   },
   {
    "duration": 12,
    "start_time": "2021-07-07T14:42:21.577Z"
   },
   {
    "duration": 9,
    "start_time": "2021-07-07T14:42:21.813Z"
   },
   {
    "duration": 9,
    "start_time": "2021-07-07T14:42:22.569Z"
   },
   {
    "duration": 29,
    "start_time": "2021-07-07T14:42:25.837Z"
   },
   {
    "duration": 20,
    "start_time": "2021-07-07T14:42:27.003Z"
   },
   {
    "duration": 21,
    "start_time": "2021-07-07T14:42:28.767Z"
   },
   {
    "duration": 7,
    "start_time": "2021-07-07T14:42:29.838Z"
   },
   {
    "duration": 4,
    "start_time": "2021-07-07T14:43:25.493Z"
   },
   {
    "duration": 7,
    "start_time": "2021-07-07T14:43:26.573Z"
   },
   {
    "duration": 10,
    "start_time": "2021-07-07T14:43:31.639Z"
   },
   {
    "duration": 9,
    "start_time": "2021-07-07T14:43:32.046Z"
   },
   {
    "duration": 10,
    "start_time": "2021-07-07T14:43:33.301Z"
   },
   {
    "duration": 12,
    "start_time": "2021-07-07T14:43:33.658Z"
   },
   {
    "duration": 8,
    "start_time": "2021-07-07T14:43:34.552Z"
   },
   {
    "duration": 9,
    "start_time": "2021-07-07T14:43:35.058Z"
   },
   {
    "duration": 12,
    "start_time": "2021-07-07T14:43:35.914Z"
   },
   {
    "duration": 17,
    "start_time": "2021-07-07T14:45:34.368Z"
   },
   {
    "duration": 512,
    "start_time": "2021-07-07T14:51:58.236Z"
   },
   {
    "duration": 223,
    "start_time": "2021-07-07T14:51:58.750Z"
   },
   {
    "duration": 93,
    "start_time": "2021-07-07T14:51:58.977Z"
   },
   {
    "duration": 4,
    "start_time": "2021-07-07T14:51:59.071Z"
   },
   {
    "duration": 37,
    "start_time": "2021-07-07T14:51:59.077Z"
   },
   {
    "duration": 18,
    "start_time": "2021-07-07T14:51:59.116Z"
   },
   {
    "duration": 10,
    "start_time": "2021-07-07T14:51:59.137Z"
   },
   {
    "duration": 8,
    "start_time": "2021-07-07T14:51:59.149Z"
   },
   {
    "duration": 54,
    "start_time": "2021-07-07T14:51:59.158Z"
   },
   {
    "duration": 18,
    "start_time": "2021-07-07T14:51:59.213Z"
   },
   {
    "duration": 22,
    "start_time": "2021-07-07T14:51:59.232Z"
   },
   {
    "duration": 36,
    "start_time": "2021-07-07T14:51:59.255Z"
   },
   {
    "duration": 7,
    "start_time": "2021-07-07T14:51:59.293Z"
   },
   {
    "duration": 10,
    "start_time": "2021-07-07T14:51:59.302Z"
   },
   {
    "duration": 9,
    "start_time": "2021-07-07T14:51:59.313Z"
   },
   {
    "duration": 11,
    "start_time": "2021-07-07T14:51:59.324Z"
   },
   {
    "duration": 8,
    "start_time": "2021-07-07T14:51:59.337Z"
   },
   {
    "duration": 46,
    "start_time": "2021-07-07T14:51:59.347Z"
   },
   {
    "duration": 22,
    "start_time": "2021-07-07T14:51:59.395Z"
   },
   {
    "duration": 24,
    "start_time": "2021-07-07T14:57:32.911Z"
   },
   {
    "duration": 7,
    "start_time": "2021-07-07T14:58:22.070Z"
   },
   {
    "duration": 4,
    "start_time": "2021-07-07T14:59:11.239Z"
   },
   {
    "duration": 25,
    "start_time": "2021-07-07T15:07:22.208Z"
   },
   {
    "duration": 16,
    "start_time": "2021-07-07T15:08:25.560Z"
   },
   {
    "duration": 15,
    "start_time": "2021-07-07T15:08:40.647Z"
   },
   {
    "duration": 14,
    "start_time": "2021-07-07T15:08:46.669Z"
   },
   {
    "duration": 533,
    "start_time": "2021-07-07T15:18:07.440Z"
   },
   {
    "duration": 173,
    "start_time": "2021-07-07T15:18:07.974Z"
   },
   {
    "duration": 84,
    "start_time": "2021-07-07T15:18:08.149Z"
   },
   {
    "duration": 3,
    "start_time": "2021-07-07T15:18:08.235Z"
   },
   {
    "duration": 30,
    "start_time": "2021-07-07T15:18:08.240Z"
   },
   {
    "duration": 22,
    "start_time": "2021-07-07T15:18:08.272Z"
   },
   {
    "duration": 11,
    "start_time": "2021-07-07T15:18:08.295Z"
   },
   {
    "duration": 11,
    "start_time": "2021-07-07T15:18:08.309Z"
   },
   {
    "duration": 40,
    "start_time": "2021-07-07T15:18:08.322Z"
   },
   {
    "duration": 42,
    "start_time": "2021-07-07T15:18:08.364Z"
   },
   {
    "duration": 22,
    "start_time": "2021-07-07T15:18:08.408Z"
   },
   {
    "duration": 5,
    "start_time": "2021-07-07T15:18:08.432Z"
   },
   {
    "duration": 13,
    "start_time": "2021-07-07T15:18:08.439Z"
   },
   {
    "duration": 9,
    "start_time": "2021-07-07T15:18:08.454Z"
   },
   {
    "duration": 32,
    "start_time": "2021-07-07T15:18:08.465Z"
   },
   {
    "duration": 10,
    "start_time": "2021-07-07T15:18:08.501Z"
   },
   {
    "duration": 7,
    "start_time": "2021-07-07T15:18:08.513Z"
   },
   {
    "duration": 11,
    "start_time": "2021-07-07T15:18:08.521Z"
   },
   {
    "duration": 17,
    "start_time": "2021-07-07T15:18:08.534Z"
   },
   {
    "duration": 44,
    "start_time": "2021-07-07T15:18:08.553Z"
   },
   {
    "duration": 22,
    "start_time": "2021-07-07T15:18:08.599Z"
   },
   {
    "duration": 61,
    "start_time": "2021-07-07T15:18:08.622Z"
   },
   {
    "duration": 7,
    "start_time": "2021-07-07T15:18:39.457Z"
   },
   {
    "duration": 5,
    "start_time": "2021-07-07T16:05:17.020Z"
   },
   {
    "duration": 5,
    "start_time": "2021-07-07T16:51:28.794Z"
   },
   {
    "duration": 546,
    "start_time": "2021-07-07T16:52:26.306Z"
   },
   {
    "duration": 203,
    "start_time": "2021-07-07T16:52:27.523Z"
   },
   {
    "duration": 85,
    "start_time": "2021-07-07T16:52:27.736Z"
   },
   {
    "duration": 4,
    "start_time": "2021-07-07T16:52:27.899Z"
   },
   {
    "duration": 25,
    "start_time": "2021-07-07T16:52:28.674Z"
   },
   {
    "duration": 8,
    "start_time": "2021-07-07T16:52:32.956Z"
   },
   {
    "duration": 18,
    "start_time": "2021-07-07T16:52:35.616Z"
   },
   {
    "duration": 6,
    "start_time": "2021-07-07T16:52:36.913Z"
   },
   {
    "duration": 11,
    "start_time": "2021-07-07T16:52:40.258Z"
   },
   {
    "duration": 10,
    "start_time": "2021-07-07T16:52:46.251Z"
   },
   {
    "duration": 8,
    "start_time": "2021-07-07T16:52:47.182Z"
   },
   {
    "duration": 27,
    "start_time": "2021-07-07T16:53:20.391Z"
   },
   {
    "duration": 20,
    "start_time": "2021-07-07T16:53:22.022Z"
   },
   {
    "duration": 23,
    "start_time": "2021-07-07T16:53:23.690Z"
   },
   {
    "duration": 8,
    "start_time": "2021-07-07T16:53:24.261Z"
   },
   {
    "duration": 4,
    "start_time": "2021-07-07T16:53:38.733Z"
   },
   {
    "duration": 7,
    "start_time": "2021-07-07T16:53:40.445Z"
   },
   {
    "duration": 11,
    "start_time": "2021-07-07T16:53:41.348Z"
   },
   {
    "duration": 13,
    "start_time": "2021-07-07T16:53:45.250Z"
   },
   {
    "duration": 12,
    "start_time": "2021-07-07T16:53:45.467Z"
   },
   {
    "duration": 4,
    "start_time": "2021-07-07T16:55:32.704Z"
   },
   {
    "duration": 12,
    "start_time": "2021-07-07T16:55:49.012Z"
   },
   {
    "duration": 18,
    "start_time": "2021-07-07T16:55:49.547Z"
   },
   {
    "duration": 611,
    "start_time": "2021-07-07T16:58:35.156Z"
   },
   {
    "duration": 200,
    "start_time": "2021-07-07T16:58:35.770Z"
   },
   {
    "duration": 86,
    "start_time": "2021-07-07T16:58:35.972Z"
   },
   {
    "duration": 3,
    "start_time": "2021-07-07T16:58:36.060Z"
   },
   {
    "duration": 27,
    "start_time": "2021-07-07T16:58:36.065Z"
   },
   {
    "duration": 8,
    "start_time": "2021-07-07T16:58:36.094Z"
   },
   {
    "duration": 17,
    "start_time": "2021-07-07T16:58:36.103Z"
   },
   {
    "duration": 5,
    "start_time": "2021-07-07T16:58:36.123Z"
   },
   {
    "duration": 11,
    "start_time": "2021-07-07T16:58:36.130Z"
   },
   {
    "duration": 7,
    "start_time": "2021-07-07T16:58:36.143Z"
   },
   {
    "duration": 37,
    "start_time": "2021-07-07T16:58:36.152Z"
   },
   {
    "duration": 27,
    "start_time": "2021-07-07T16:58:36.191Z"
   },
   {
    "duration": 19,
    "start_time": "2021-07-07T16:58:36.219Z"
   },
   {
    "duration": 49,
    "start_time": "2021-07-07T16:58:36.240Z"
   },
   {
    "duration": 6,
    "start_time": "2021-07-07T16:58:36.291Z"
   },
   {
    "duration": 3,
    "start_time": "2021-07-07T16:58:36.299Z"
   },
   {
    "duration": 13,
    "start_time": "2021-07-07T16:58:36.304Z"
   },
   {
    "duration": 10,
    "start_time": "2021-07-07T16:58:36.319Z"
   },
   {
    "duration": 10,
    "start_time": "2021-07-07T16:58:36.331Z"
   },
   {
    "duration": 44,
    "start_time": "2021-07-07T16:58:36.343Z"
   },
   {
    "duration": 4,
    "start_time": "2021-07-07T16:58:36.388Z"
   },
   {
    "duration": 13,
    "start_time": "2021-07-07T16:58:36.394Z"
   },
   {
    "duration": 16,
    "start_time": "2021-07-07T16:58:36.410Z"
   },
   {
    "duration": 8,
    "start_time": "2021-07-07T17:02:31.629Z"
   },
   {
    "duration": 8,
    "start_time": "2021-07-07T17:02:34.308Z"
   },
   {
    "duration": 6,
    "start_time": "2021-07-07T17:05:13.483Z"
   },
   {
    "duration": 17,
    "start_time": "2021-07-07T17:05:20.606Z"
   },
   {
    "duration": 7,
    "start_time": "2021-07-07T17:05:34.638Z"
   },
   {
    "duration": 3,
    "start_time": "2021-07-07T17:06:31.883Z"
   },
   {
    "duration": 570,
    "start_time": "2021-07-07T17:06:37.165Z"
   },
   {
    "duration": 174,
    "start_time": "2021-07-07T17:06:37.737Z"
   },
   {
    "duration": 47,
    "start_time": "2021-07-07T17:06:37.913Z"
   },
   {
    "duration": 3,
    "start_time": "2021-07-07T17:06:37.962Z"
   },
   {
    "duration": 27,
    "start_time": "2021-07-07T17:06:37.967Z"
   },
   {
    "duration": 7,
    "start_time": "2021-07-07T17:06:37.996Z"
   },
   {
    "duration": 16,
    "start_time": "2021-07-07T17:06:38.005Z"
   },
   {
    "duration": 6,
    "start_time": "2021-07-07T17:06:38.024Z"
   },
   {
    "duration": 12,
    "start_time": "2021-07-07T17:06:38.031Z"
   },
   {
    "duration": 41,
    "start_time": "2021-07-07T17:06:38.045Z"
   },
   {
    "duration": 8,
    "start_time": "2021-07-07T17:06:38.088Z"
   },
   {
    "duration": 26,
    "start_time": "2021-07-07T17:06:38.098Z"
   },
   {
    "duration": 17,
    "start_time": "2021-07-07T17:06:38.126Z"
   },
   {
    "duration": 43,
    "start_time": "2021-07-07T17:06:38.144Z"
   },
   {
    "duration": 6,
    "start_time": "2021-07-07T17:06:38.188Z"
   },
   {
    "duration": 5,
    "start_time": "2021-07-07T17:06:38.195Z"
   },
   {
    "duration": 9,
    "start_time": "2021-07-07T17:06:38.201Z"
   },
   {
    "duration": 12,
    "start_time": "2021-07-07T17:06:38.212Z"
   },
   {
    "duration": 11,
    "start_time": "2021-07-07T17:06:38.226Z"
   },
   {
    "duration": 47,
    "start_time": "2021-07-07T17:06:38.239Z"
   },
   {
    "duration": 4,
    "start_time": "2021-07-07T17:06:38.288Z"
   },
   {
    "duration": 13,
    "start_time": "2021-07-07T17:06:38.293Z"
   },
   {
    "duration": 5,
    "start_time": "2021-07-07T17:06:38.309Z"
   },
   {
    "duration": 18,
    "start_time": "2021-07-07T17:06:38.325Z"
   },
   {
    "duration": 20,
    "start_time": "2021-07-07T17:07:02.805Z"
   },
   {
    "duration": 19,
    "start_time": "2021-07-07T17:07:08.527Z"
   },
   {
    "duration": 19,
    "start_time": "2021-07-07T17:07:12.758Z"
   },
   {
    "duration": 22,
    "start_time": "2021-07-07T17:07:17.497Z"
   },
   {
    "duration": 19,
    "start_time": "2021-07-07T17:07:19.645Z"
   },
   {
    "duration": 10,
    "start_time": "2021-07-07T17:07:34.239Z"
   },
   {
    "duration": 17,
    "start_time": "2021-07-07T17:07:54.144Z"
   },
   {
    "duration": 14,
    "start_time": "2021-07-07T17:08:14.357Z"
   },
   {
    "duration": 616,
    "start_time": "2021-07-07T17:08:45.254Z"
   },
   {
    "duration": 178,
    "start_time": "2021-07-07T17:08:45.872Z"
   },
   {
    "duration": 60,
    "start_time": "2021-07-07T17:08:46.054Z"
   },
   {
    "duration": 3,
    "start_time": "2021-07-07T17:08:46.116Z"
   },
   {
    "duration": 26,
    "start_time": "2021-07-07T17:08:46.121Z"
   },
   {
    "duration": 7,
    "start_time": "2021-07-07T17:08:46.149Z"
   },
   {
    "duration": 17,
    "start_time": "2021-07-07T17:08:46.158Z"
   },
   {
    "duration": 14,
    "start_time": "2021-07-07T17:08:46.176Z"
   },
   {
    "duration": 17,
    "start_time": "2021-07-07T17:08:46.193Z"
   },
   {
    "duration": 9,
    "start_time": "2021-07-07T17:08:46.211Z"
   },
   {
    "duration": 21,
    "start_time": "2021-07-07T17:08:46.221Z"
   },
   {
    "duration": 49,
    "start_time": "2021-07-07T17:08:46.244Z"
   },
   {
    "duration": 24,
    "start_time": "2021-07-07T17:08:46.295Z"
   },
   {
    "duration": 22,
    "start_time": "2021-07-07T17:08:46.321Z"
   },
   {
    "duration": 6,
    "start_time": "2021-07-07T17:08:46.345Z"
   },
   {
    "duration": 5,
    "start_time": "2021-07-07T17:08:46.353Z"
   },
   {
    "duration": 13,
    "start_time": "2021-07-07T17:08:46.386Z"
   },
   {
    "duration": 12,
    "start_time": "2021-07-07T17:08:46.402Z"
   },
   {
    "duration": 10,
    "start_time": "2021-07-07T17:08:46.415Z"
   },
   {
    "duration": 7,
    "start_time": "2021-07-07T17:08:46.427Z"
   },
   {
    "duration": 8,
    "start_time": "2021-07-07T17:08:46.435Z"
   },
   {
    "duration": 68,
    "start_time": "2021-07-07T17:08:46.446Z"
   },
   {
    "duration": 13,
    "start_time": "2021-07-07T17:08:46.516Z"
   },
   {
    "duration": 78,
    "start_time": "2021-07-07T17:08:46.530Z"
   },
   {
    "duration": 40,
    "start_time": "2021-07-07T17:09:08.185Z"
   },
   {
    "duration": 16,
    "start_time": "2021-07-07T17:09:19.324Z"
   },
   {
    "duration": 21,
    "start_time": "2021-07-07T17:09:23.290Z"
   },
   {
    "duration": 13,
    "start_time": "2021-07-07T17:09:54.812Z"
   },
   {
    "duration": 13,
    "start_time": "2021-07-07T17:10:02.039Z"
   },
   {
    "duration": 10,
    "start_time": "2021-07-07T17:10:29.632Z"
   },
   {
    "duration": 13,
    "start_time": "2021-07-07T17:10:52.372Z"
   },
   {
    "duration": 13,
    "start_time": "2021-07-07T17:11:17.270Z"
   },
   {
    "duration": 13,
    "start_time": "2021-07-07T17:14:59.284Z"
   },
   {
    "duration": 547,
    "start_time": "2021-07-07T17:18:52.403Z"
   },
   {
    "duration": 163,
    "start_time": "2021-07-07T17:18:52.952Z"
   },
   {
    "duration": 44,
    "start_time": "2021-07-07T17:18:53.117Z"
   },
   {
    "duration": 3,
    "start_time": "2021-07-07T17:18:53.162Z"
   },
   {
    "duration": 26,
    "start_time": "2021-07-07T17:18:53.167Z"
   },
   {
    "duration": 6,
    "start_time": "2021-07-07T17:18:53.195Z"
   },
   {
    "duration": 15,
    "start_time": "2021-07-07T17:18:53.203Z"
   },
   {
    "duration": 5,
    "start_time": "2021-07-07T17:18:53.220Z"
   },
   {
    "duration": 11,
    "start_time": "2021-07-07T17:18:53.228Z"
   },
   {
    "duration": 9,
    "start_time": "2021-07-07T17:18:53.241Z"
   },
   {
    "duration": 41,
    "start_time": "2021-07-07T17:18:53.252Z"
   },
   {
    "duration": 33,
    "start_time": "2021-07-07T17:18:53.295Z"
   },
   {
    "duration": 19,
    "start_time": "2021-07-07T17:18:53.330Z"
   },
   {
    "duration": 49,
    "start_time": "2021-07-07T17:18:53.350Z"
   },
   {
    "duration": 5,
    "start_time": "2021-07-07T17:18:53.401Z"
   },
   {
    "duration": 5,
    "start_time": "2021-07-07T17:18:53.408Z"
   },
   {
    "duration": 11,
    "start_time": "2021-07-07T17:18:53.414Z"
   },
   {
    "duration": 9,
    "start_time": "2021-07-07T17:18:53.427Z"
   },
   {
    "duration": 10,
    "start_time": "2021-07-07T17:18:53.437Z"
   },
   {
    "duration": 39,
    "start_time": "2021-07-07T17:18:53.448Z"
   },
   {
    "duration": 26,
    "start_time": "2021-07-07T17:18:55.799Z"
   },
   {
    "duration": 598,
    "start_time": "2021-07-07T17:20:17.862Z"
   },
   {
    "duration": 161,
    "start_time": "2021-07-07T17:20:18.462Z"
   },
   {
    "duration": 45,
    "start_time": "2021-07-07T17:20:18.626Z"
   },
   {
    "duration": 4,
    "start_time": "2021-07-07T17:20:18.673Z"
   },
   {
    "duration": 38,
    "start_time": "2021-07-07T17:20:26.877Z"
   },
   {
    "duration": 7,
    "start_time": "2021-07-07T17:20:37.405Z"
   },
   {
    "duration": 19,
    "start_time": "2021-07-07T17:20:51.534Z"
   },
   {
    "duration": 5,
    "start_time": "2021-07-07T17:20:57.228Z"
   },
   {
    "duration": 7,
    "start_time": "2021-07-07T17:21:08.235Z"
   },
   {
    "duration": 19,
    "start_time": "2021-07-07T17:21:42.158Z"
   },
   {
    "duration": 14,
    "start_time": "2021-07-07T17:21:50.225Z"
   },
   {
    "duration": 22,
    "start_time": "2021-07-07T17:22:54.104Z"
   },
   {
    "duration": 5,
    "start_time": "2021-07-07T17:22:56.371Z"
   },
   {
    "duration": 14,
    "start_time": "2021-07-07T17:22:58.316Z"
   },
   {
    "duration": 5,
    "start_time": "2021-07-07T17:22:58.493Z"
   },
   {
    "duration": 35,
    "start_time": "2021-07-07T17:22:59.666Z"
   },
   {
    "duration": 6,
    "start_time": "2021-07-07T17:23:02.410Z"
   },
   {
    "duration": 611,
    "start_time": "2021-07-07T17:24:59.664Z"
   },
   {
    "duration": 178,
    "start_time": "2021-07-07T17:25:01.945Z"
   },
   {
    "duration": 47,
    "start_time": "2021-07-07T17:25:02.125Z"
   },
   {
    "duration": 2,
    "start_time": "2021-07-07T17:25:07.903Z"
   },
   {
    "duration": 254,
    "start_time": "2021-07-07T17:25:08.232Z"
   },
   {
    "duration": 182,
    "start_time": "2021-07-07T17:25:08.671Z"
   },
   {
    "duration": 6,
    "start_time": "2021-07-07T17:25:13.104Z"
   },
   {
    "duration": 36,
    "start_time": "2021-07-07T17:25:13.662Z"
   },
   {
    "duration": 7,
    "start_time": "2021-07-07T17:25:14.528Z"
   },
   {
    "duration": 24,
    "start_time": "2021-07-07T17:25:27.982Z"
   },
   {
    "duration": 3,
    "start_time": "2021-07-07T17:25:48.982Z"
   },
   {
    "duration": 165,
    "start_time": "2021-07-07T17:25:48.987Z"
   },
   {
    "duration": 50,
    "start_time": "2021-07-07T17:25:49.154Z"
   },
   {
    "duration": 4,
    "start_time": "2021-07-07T17:25:49.206Z"
   },
   {
    "duration": 26,
    "start_time": "2021-07-07T17:25:49.212Z"
   },
   {
    "duration": 7,
    "start_time": "2021-07-07T17:25:49.240Z"
   },
   {
    "duration": 16,
    "start_time": "2021-07-07T17:25:49.249Z"
   },
   {
    "duration": 22,
    "start_time": "2021-07-07T17:25:49.266Z"
   },
   {
    "duration": 16,
    "start_time": "2021-07-07T17:25:49.291Z"
   },
   {
    "duration": 9,
    "start_time": "2021-07-07T17:25:49.309Z"
   },
   {
    "duration": 7,
    "start_time": "2021-07-07T17:25:49.319Z"
   },
   {
    "duration": 28,
    "start_time": "2021-07-07T17:25:49.328Z"
   },
   {
    "duration": 44,
    "start_time": "2021-07-07T17:25:49.357Z"
   },
   {
    "duration": 22,
    "start_time": "2021-07-07T17:25:49.403Z"
   },
   {
    "duration": 7,
    "start_time": "2021-07-07T17:25:49.427Z"
   },
   {
    "duration": 3,
    "start_time": "2021-07-07T17:25:49.436Z"
   },
   {
    "duration": 44,
    "start_time": "2021-07-07T17:25:49.441Z"
   },
   {
    "duration": 12,
    "start_time": "2021-07-07T17:25:49.488Z"
   },
   {
    "duration": 13,
    "start_time": "2021-07-07T17:25:49.502Z"
   },
   {
    "duration": 10,
    "start_time": "2021-07-07T17:25:49.516Z"
   },
   {
    "duration": 62,
    "start_time": "2021-07-07T17:25:49.527Z"
   },
   {
    "duration": 26,
    "start_time": "2021-07-07T17:26:51.809Z"
   },
   {
    "duration": 26,
    "start_time": "2021-07-07T17:26:55.759Z"
   },
   {
    "duration": 26,
    "start_time": "2021-07-07T17:27:04.501Z"
   },
   {
    "duration": 25,
    "start_time": "2021-07-07T17:28:24.859Z"
   },
   {
    "duration": 21,
    "start_time": "2021-07-07T17:28:55.250Z"
   },
   {
    "duration": 21,
    "start_time": "2021-07-07T17:28:58.885Z"
   },
   {
    "duration": 7,
    "start_time": "2021-07-07T17:45:40.972Z"
   },
   {
    "duration": 13,
    "start_time": "2021-07-07T17:45:42.529Z"
   },
   {
    "duration": 27,
    "start_time": "2021-07-07T17:45:51.026Z"
   },
   {
    "duration": 518,
    "start_time": "2021-07-07T17:46:15.532Z"
   },
   {
    "duration": 235,
    "start_time": "2021-07-07T17:46:16.053Z"
   },
   {
    "duration": 80,
    "start_time": "2021-07-07T17:46:16.292Z"
   },
   {
    "duration": 5,
    "start_time": "2021-07-07T17:46:16.373Z"
   },
   {
    "duration": 26,
    "start_time": "2021-07-07T17:46:16.380Z"
   },
   {
    "duration": 7,
    "start_time": "2021-07-07T17:46:16.408Z"
   },
   {
    "duration": 16,
    "start_time": "2021-07-07T17:46:16.418Z"
   },
   {
    "duration": 5,
    "start_time": "2021-07-07T17:46:16.436Z"
   },
   {
    "duration": 13,
    "start_time": "2021-07-07T17:46:16.442Z"
   },
   {
    "duration": 35,
    "start_time": "2021-07-07T17:46:16.456Z"
   },
   {
    "duration": 8,
    "start_time": "2021-07-07T17:46:16.493Z"
   },
   {
    "duration": 28,
    "start_time": "2021-07-07T17:46:16.502Z"
   },
   {
    "duration": 17,
    "start_time": "2021-07-07T17:46:16.532Z"
   },
   {
    "duration": 44,
    "start_time": "2021-07-07T17:46:16.551Z"
   },
   {
    "duration": 6,
    "start_time": "2021-07-07T17:46:16.597Z"
   },
   {
    "duration": 4,
    "start_time": "2021-07-07T17:46:16.605Z"
   },
   {
    "duration": 9,
    "start_time": "2021-07-07T17:46:16.610Z"
   },
   {
    "duration": 9,
    "start_time": "2021-07-07T17:46:16.621Z"
   },
   {
    "duration": 10,
    "start_time": "2021-07-07T17:46:16.632Z"
   },
   {
    "duration": 43,
    "start_time": "2021-07-07T17:46:16.644Z"
   },
   {
    "duration": 26,
    "start_time": "2021-07-07T17:46:16.689Z"
   },
   {
    "duration": 19,
    "start_time": "2021-07-07T17:46:16.718Z"
   },
   {
    "duration": 8,
    "start_time": "2021-07-07T17:46:16.738Z"
   },
   {
    "duration": 43,
    "start_time": "2021-07-07T17:46:16.747Z"
   },
   {
    "duration": 19,
    "start_time": "2021-07-07T17:46:16.791Z"
   },
   {
    "duration": 9,
    "start_time": "2021-07-07T17:46:16.812Z"
   },
   {
    "duration": 60,
    "start_time": "2021-07-07T17:46:16.822Z"
   },
   {
    "duration": -8,
    "start_time": "2021-07-07T17:46:16.892Z"
   },
   {
    "duration": 12,
    "start_time": "2021-07-07T17:48:47.707Z"
   },
   {
    "duration": 553,
    "start_time": "2021-07-07T18:10:09.350Z"
   },
   {
    "duration": 230,
    "start_time": "2021-07-07T18:10:09.905Z"
   },
   {
    "duration": 97,
    "start_time": "2021-07-07T18:10:10.137Z"
   },
   {
    "duration": 5,
    "start_time": "2021-07-07T18:10:10.236Z"
   },
   {
    "duration": 29,
    "start_time": "2021-07-07T18:10:10.242Z"
   },
   {
    "duration": 7,
    "start_time": "2021-07-07T18:10:10.272Z"
   },
   {
    "duration": 15,
    "start_time": "2021-07-07T18:10:10.281Z"
   },
   {
    "duration": 4,
    "start_time": "2021-07-07T18:10:10.299Z"
   },
   {
    "duration": 14,
    "start_time": "2021-07-07T18:10:10.305Z"
   },
   {
    "duration": 8,
    "start_time": "2021-07-07T18:10:10.321Z"
   },
   {
    "duration": 8,
    "start_time": "2021-07-07T18:10:10.331Z"
   },
   {
    "duration": 56,
    "start_time": "2021-07-07T18:10:10.341Z"
   },
   {
    "duration": 19,
    "start_time": "2021-07-07T18:10:10.399Z"
   },
   {
    "duration": 23,
    "start_time": "2021-07-07T18:10:10.419Z"
   },
   {
    "duration": 6,
    "start_time": "2021-07-07T18:10:10.444Z"
   },
   {
    "duration": 9,
    "start_time": "2021-07-07T18:10:10.451Z"
   },
   {
    "duration": 30,
    "start_time": "2021-07-07T18:10:10.462Z"
   },
   {
    "duration": 9,
    "start_time": "2021-07-07T18:10:10.494Z"
   },
   {
    "duration": 14,
    "start_time": "2021-07-07T18:10:10.505Z"
   },
   {
    "duration": 7,
    "start_time": "2021-07-07T18:10:10.521Z"
   },
   {
    "duration": 26,
    "start_time": "2021-07-07T18:10:10.530Z"
   },
   {
    "duration": 44,
    "start_time": "2021-07-07T18:10:10.558Z"
   },
   {
    "duration": 7,
    "start_time": "2021-07-07T18:10:10.605Z"
   },
   {
    "duration": 11,
    "start_time": "2021-07-07T18:10:10.614Z"
   },
   {
    "duration": 19,
    "start_time": "2021-07-07T18:10:10.626Z"
   },
   {
    "duration": 44,
    "start_time": "2021-07-07T18:10:10.646Z"
   },
   {
    "duration": 516,
    "start_time": "2021-07-07T18:14:00.826Z"
   },
   {
    "duration": 230,
    "start_time": "2021-07-07T18:14:01.344Z"
   },
   {
    "duration": 105,
    "start_time": "2021-07-07T18:14:01.576Z"
   },
   {
    "duration": 5,
    "start_time": "2021-07-07T18:14:01.683Z"
   },
   {
    "duration": 46,
    "start_time": "2021-07-07T18:14:01.690Z"
   },
   {
    "duration": 7,
    "start_time": "2021-07-07T18:14:01.738Z"
   },
   {
    "duration": 20,
    "start_time": "2021-07-07T18:14:01.747Z"
   },
   {
    "duration": 16,
    "start_time": "2021-07-07T18:14:01.769Z"
   },
   {
    "duration": 14,
    "start_time": "2021-07-07T18:14:01.787Z"
   },
   {
    "duration": 15,
    "start_time": "2021-07-07T18:14:01.803Z"
   },
   {
    "duration": 12,
    "start_time": "2021-07-07T18:14:01.820Z"
   },
   {
    "duration": 35,
    "start_time": "2021-07-07T18:14:01.833Z"
   },
   {
    "duration": 31,
    "start_time": "2021-07-07T18:14:01.869Z"
   },
   {
    "duration": 37,
    "start_time": "2021-07-07T18:14:01.902Z"
   },
   {
    "duration": 8,
    "start_time": "2021-07-07T18:14:01.942Z"
   },
   {
    "duration": 16,
    "start_time": "2021-07-07T18:14:01.952Z"
   },
   {
    "duration": 13,
    "start_time": "2021-07-07T18:14:01.970Z"
   },
   {
    "duration": 32,
    "start_time": "2021-07-07T18:14:01.985Z"
   },
   {
    "duration": 11,
    "start_time": "2021-07-07T18:14:02.019Z"
   },
   {
    "duration": 22,
    "start_time": "2021-07-07T18:14:02.031Z"
   },
   {
    "duration": 27,
    "start_time": "2021-07-07T18:14:02.055Z"
   },
   {
    "duration": 18,
    "start_time": "2021-07-07T18:14:02.084Z"
   },
   {
    "duration": 18,
    "start_time": "2021-07-07T18:14:02.106Z"
   },
   {
    "duration": 11,
    "start_time": "2021-07-07T18:14:02.126Z"
   },
   {
    "duration": 21,
    "start_time": "2021-07-07T18:14:02.138Z"
   },
   {
    "duration": 32,
    "start_time": "2021-07-07T18:14:02.161Z"
   },
   {
    "duration": 28,
    "start_time": "2021-07-07T18:14:44.295Z"
   },
   {
    "duration": 6,
    "start_time": "2021-07-07T18:15:05.834Z"
   },
   {
    "duration": 511,
    "start_time": "2021-07-07T18:15:41.541Z"
   },
   {
    "duration": 183,
    "start_time": "2021-07-07T18:15:42.054Z"
   },
   {
    "duration": 50,
    "start_time": "2021-07-07T18:15:42.239Z"
   },
   {
    "duration": 5,
    "start_time": "2021-07-07T18:15:42.291Z"
   },
   {
    "duration": 48,
    "start_time": "2021-07-07T18:15:42.297Z"
   },
   {
    "duration": 8,
    "start_time": "2021-07-07T18:15:42.346Z"
   },
   {
    "duration": 17,
    "start_time": "2021-07-07T18:15:42.356Z"
   },
   {
    "duration": 15,
    "start_time": "2021-07-07T18:15:42.375Z"
   },
   {
    "duration": 12,
    "start_time": "2021-07-07T18:15:42.392Z"
   },
   {
    "duration": 7,
    "start_time": "2021-07-07T18:15:42.406Z"
   },
   {
    "duration": 7,
    "start_time": "2021-07-07T18:15:42.415Z"
   },
   {
    "duration": 29,
    "start_time": "2021-07-07T18:15:42.423Z"
   },
   {
    "duration": 43,
    "start_time": "2021-07-07T18:15:42.453Z"
   },
   {
    "duration": 18,
    "start_time": "2021-07-07T18:15:42.497Z"
   },
   {
    "duration": 6,
    "start_time": "2021-07-07T18:15:42.516Z"
   },
   {
    "duration": 3,
    "start_time": "2021-07-07T18:15:42.523Z"
   },
   {
    "duration": 18,
    "start_time": "2021-07-07T18:15:42.528Z"
   },
   {
    "duration": 10,
    "start_time": "2021-07-07T18:15:42.547Z"
   },
   {
    "duration": 36,
    "start_time": "2021-07-07T18:15:42.559Z"
   },
   {
    "duration": 8,
    "start_time": "2021-07-07T18:15:42.597Z"
   },
   {
    "duration": 28,
    "start_time": "2021-07-07T18:15:42.606Z"
   },
   {
    "duration": 52,
    "start_time": "2021-07-07T18:15:42.635Z"
   },
   {
    "duration": 7,
    "start_time": "2021-07-07T18:15:42.690Z"
   },
   {
    "duration": 10,
    "start_time": "2021-07-07T18:15:42.699Z"
   },
   {
    "duration": 19,
    "start_time": "2021-07-07T18:15:42.711Z"
   },
   {
    "duration": 9,
    "start_time": "2021-07-07T18:15:42.732Z"
   },
   {
    "duration": 5,
    "start_time": "2021-07-07T18:15:42.743Z"
   },
   {
    "duration": 1450,
    "start_time": "2021-07-07T18:15:51.984Z"
   },
   {
    "duration": 161,
    "start_time": "2021-07-07T18:15:53.435Z"
   },
   {
    "duration": 124,
    "start_time": "2021-07-07T18:15:53.598Z"
   },
   {
    "duration": 5,
    "start_time": "2021-07-07T18:15:53.724Z"
   },
   {
    "duration": 34,
    "start_time": "2021-07-07T18:15:53.730Z"
   },
   {
    "duration": 7,
    "start_time": "2021-07-07T18:15:53.765Z"
   },
   {
    "duration": 15,
    "start_time": "2021-07-07T18:15:53.773Z"
   },
   {
    "duration": 5,
    "start_time": "2021-07-07T18:15:53.791Z"
   },
   {
    "duration": 19,
    "start_time": "2021-07-07T18:15:53.798Z"
   },
   {
    "duration": 9,
    "start_time": "2021-07-07T18:15:53.818Z"
   },
   {
    "duration": 19,
    "start_time": "2021-07-07T18:15:53.828Z"
   },
   {
    "duration": 27,
    "start_time": "2021-07-07T18:15:53.848Z"
   },
   {
    "duration": 16,
    "start_time": "2021-07-07T18:15:53.884Z"
   },
   {
    "duration": 29,
    "start_time": "2021-07-07T18:15:53.901Z"
   },
   {
    "duration": 5,
    "start_time": "2021-07-07T18:15:53.932Z"
   },
   {
    "duration": 15,
    "start_time": "2021-07-07T18:15:53.939Z"
   },
   {
    "duration": 13,
    "start_time": "2021-07-07T18:15:53.956Z"
   },
   {
    "duration": 20,
    "start_time": "2021-07-07T18:15:53.971Z"
   },
   {
    "duration": 14,
    "start_time": "2021-07-07T18:15:53.992Z"
   },
   {
    "duration": 9,
    "start_time": "2021-07-07T18:15:54.009Z"
   },
   {
    "duration": 28,
    "start_time": "2021-07-07T18:15:54.020Z"
   },
   {
    "duration": 50,
    "start_time": "2021-07-07T18:15:54.051Z"
   },
   {
    "duration": 8,
    "start_time": "2021-07-07T18:15:54.105Z"
   },
   {
    "duration": 11,
    "start_time": "2021-07-07T18:15:54.115Z"
   },
   {
    "duration": 20,
    "start_time": "2021-07-07T18:15:54.128Z"
   },
   {
    "duration": 13,
    "start_time": "2021-07-07T18:15:54.184Z"
   },
   {
    "duration": 7,
    "start_time": "2021-07-07T18:15:54.199Z"
   },
   {
    "duration": 7,
    "start_time": "2021-07-07T18:17:08.042Z"
   },
   {
    "duration": 8,
    "start_time": "2021-07-07T18:17:21.008Z"
   },
   {
    "duration": 7,
    "start_time": "2021-07-07T18:17:29.003Z"
   },
   {
    "duration": 8,
    "start_time": "2021-07-07T18:17:32.492Z"
   },
   {
    "duration": 9,
    "start_time": "2021-07-07T18:17:41.758Z"
   },
   {
    "duration": 255,
    "start_time": "2021-07-07T18:20:20.897Z"
   },
   {
    "duration": 173,
    "start_time": "2021-07-07T18:20:26.636Z"
   },
   {
    "duration": 7,
    "start_time": "2021-07-07T18:21:47.164Z"
   },
   {
    "duration": 254,
    "start_time": "2021-07-07T18:23:08.703Z"
   },
   {
    "duration": 21,
    "start_time": "2021-07-07T18:23:22.506Z"
   },
   {
    "duration": 315,
    "start_time": "2021-07-07T18:25:54.801Z"
   },
   {
    "duration": 34,
    "start_time": "2021-07-07T18:26:51.817Z"
   },
   {
    "duration": 327,
    "start_time": "2021-07-07T18:26:56.147Z"
   },
   {
    "duration": 342,
    "start_time": "2021-07-07T18:27:15.887Z"
   },
   {
    "duration": 302,
    "start_time": "2021-07-07T18:28:18.569Z"
   },
   {
    "duration": 226,
    "start_time": "2021-07-07T18:29:20.879Z"
   },
   {
    "duration": 207,
    "start_time": "2021-07-07T18:29:58.114Z"
   },
   {
    "duration": 140,
    "start_time": "2021-07-07T18:32:04.372Z"
   },
   {
    "duration": 158,
    "start_time": "2021-07-07T18:32:32.508Z"
   },
   {
    "duration": 145,
    "start_time": "2021-07-07T18:32:41.365Z"
   },
   {
    "duration": 132,
    "start_time": "2021-07-07T18:32:45.199Z"
   },
   {
    "duration": 11,
    "start_time": "2021-07-07T18:35:24.679Z"
   },
   {
    "duration": 268,
    "start_time": "2021-07-07T18:36:16.145Z"
   },
   {
    "duration": 227,
    "start_time": "2021-07-07T18:37:04.918Z"
   },
   {
    "duration": 3,
    "start_time": "2021-07-07T18:37:33.012Z"
   },
   {
    "duration": 671,
    "start_time": "2021-07-07T18:37:38.295Z"
   },
   {
    "duration": 54,
    "start_time": "2021-07-07T18:37:53.406Z"
   },
   {
    "duration": 631,
    "start_time": "2021-07-07T18:37:56.463Z"
   },
   {
    "duration": 19,
    "start_time": "2021-07-07T18:39:40.535Z"
   },
   {
    "duration": 20,
    "start_time": "2021-07-07T18:40:12.236Z"
   },
   {
    "duration": 633,
    "start_time": "2021-07-07T18:42:00.398Z"
   },
   {
    "duration": 218,
    "start_time": "2021-07-07T18:42:01.033Z"
   },
   {
    "duration": 49,
    "start_time": "2021-07-07T18:42:01.253Z"
   },
   {
    "duration": 5,
    "start_time": "2021-07-07T18:42:01.303Z"
   },
   {
    "duration": 27,
    "start_time": "2021-07-07T18:42:01.310Z"
   },
   {
    "duration": 8,
    "start_time": "2021-07-07T18:42:01.339Z"
   },
   {
    "duration": 20,
    "start_time": "2021-07-07T18:42:01.348Z"
   },
   {
    "duration": 6,
    "start_time": "2021-07-07T18:42:01.386Z"
   },
   {
    "duration": 16,
    "start_time": "2021-07-07T18:42:01.394Z"
   },
   {
    "duration": 9,
    "start_time": "2021-07-07T18:42:01.411Z"
   },
   {
    "duration": 11,
    "start_time": "2021-07-07T18:42:01.421Z"
   },
   {
    "duration": 31,
    "start_time": "2021-07-07T18:42:01.434Z"
   },
   {
    "duration": 18,
    "start_time": "2021-07-07T18:42:01.485Z"
   },
   {
    "duration": 23,
    "start_time": "2021-07-07T18:42:01.505Z"
   },
   {
    "duration": 6,
    "start_time": "2021-07-07T18:42:01.530Z"
   },
   {
    "duration": 10,
    "start_time": "2021-07-07T18:42:01.538Z"
   },
   {
    "duration": 13,
    "start_time": "2021-07-07T18:42:01.550Z"
   },
   {
    "duration": 24,
    "start_time": "2021-07-07T18:42:01.564Z"
   },
   {
    "duration": 20,
    "start_time": "2021-07-07T18:42:01.590Z"
   },
   {
    "duration": 8,
    "start_time": "2021-07-07T18:42:01.611Z"
   },
   {
    "duration": 31,
    "start_time": "2021-07-07T18:42:01.620Z"
   },
   {
    "duration": 39,
    "start_time": "2021-07-07T18:42:01.653Z"
   },
   {
    "duration": 8,
    "start_time": "2021-07-07T18:42:01.696Z"
   },
   {
    "duration": 13,
    "start_time": "2021-07-07T18:42:01.705Z"
   },
   {
    "duration": 20,
    "start_time": "2021-07-07T18:42:01.720Z"
   },
   {
    "duration": 12,
    "start_time": "2021-07-07T18:42:01.741Z"
   },
   {
    "duration": 35,
    "start_time": "2021-07-07T18:42:01.755Z"
   },
   {
    "duration": 14,
    "start_time": "2021-07-07T18:42:01.792Z"
   },
   {
    "duration": 188,
    "start_time": "2021-07-07T18:42:01.808Z"
   },
   {
    "duration": 19,
    "start_time": "2021-07-07T18:42:01.998Z"
   },
   {
    "duration": 175,
    "start_time": "2021-07-07T18:42:02.019Z"
   },
   {
    "duration": 134,
    "start_time": "2021-07-07T18:42:02.196Z"
   },
   {
    "duration": 10,
    "start_time": "2021-07-07T18:42:02.331Z"
   },
   {
    "duration": 19,
    "start_time": "2021-07-07T18:42:02.343Z"
   },
   {
    "duration": 628,
    "start_time": "2021-07-07T18:46:30.701Z"
   },
   {
    "duration": 183,
    "start_time": "2021-07-07T18:46:31.331Z"
   },
   {
    "duration": 48,
    "start_time": "2021-07-07T18:46:31.516Z"
   },
   {
    "duration": 5,
    "start_time": "2021-07-07T18:46:31.566Z"
   },
   {
    "duration": 28,
    "start_time": "2021-07-07T18:46:31.572Z"
   },
   {
    "duration": 8,
    "start_time": "2021-07-07T18:46:31.602Z"
   },
   {
    "duration": 19,
    "start_time": "2021-07-07T18:46:31.611Z"
   },
   {
    "duration": 6,
    "start_time": "2021-07-07T18:46:31.633Z"
   },
   {
    "duration": 17,
    "start_time": "2021-07-07T18:46:31.642Z"
   },
   {
    "duration": 10,
    "start_time": "2021-07-07T18:46:31.684Z"
   },
   {
    "duration": 9,
    "start_time": "2021-07-07T18:46:31.695Z"
   },
   {
    "duration": 28,
    "start_time": "2021-07-07T18:46:31.705Z"
   },
   {
    "duration": 18,
    "start_time": "2021-07-07T18:46:31.735Z"
   },
   {
    "duration": 48,
    "start_time": "2021-07-07T18:46:31.755Z"
   },
   {
    "duration": 6,
    "start_time": "2021-07-07T18:46:31.804Z"
   },
   {
    "duration": 4,
    "start_time": "2021-07-07T18:46:31.812Z"
   },
   {
    "duration": 9,
    "start_time": "2021-07-07T18:46:31.817Z"
   },
   {
    "duration": 10,
    "start_time": "2021-07-07T18:46:31.827Z"
   },
   {
    "duration": 12,
    "start_time": "2021-07-07T18:46:31.838Z"
   },
   {
    "duration": 39,
    "start_time": "2021-07-07T18:46:31.851Z"
   },
   {
    "duration": 24,
    "start_time": "2021-07-07T18:46:31.892Z"
   },
   {
    "duration": 15,
    "start_time": "2021-07-07T18:46:31.918Z"
   },
   {
    "duration": 7,
    "start_time": "2021-07-07T18:46:31.936Z"
   },
   {
    "duration": 8,
    "start_time": "2021-07-07T18:46:31.944Z"
   },
   {
    "duration": 19,
    "start_time": "2021-07-07T18:46:31.984Z"
   },
   {
    "duration": 10,
    "start_time": "2021-07-07T18:46:32.004Z"
   },
   {
    "duration": 5,
    "start_time": "2021-07-07T18:46:32.016Z"
   },
   {
    "duration": 9,
    "start_time": "2021-07-07T18:46:32.023Z"
   },
   {
    "duration": 199,
    "start_time": "2021-07-07T18:46:32.033Z"
   },
   {
    "duration": 19,
    "start_time": "2021-07-07T18:46:32.234Z"
   },
   {
    "duration": 159,
    "start_time": "2021-07-07T18:46:32.255Z"
   },
   {
    "duration": 134,
    "start_time": "2021-07-07T18:46:32.416Z"
   },
   {
    "duration": 10,
    "start_time": "2021-07-07T18:46:32.552Z"
   },
   {
    "duration": 34,
    "start_time": "2021-07-07T18:46:32.563Z"
   },
   {
    "duration": 1039,
    "start_time": "2021-07-08T08:41:09.419Z"
   },
   {
    "duration": 333,
    "start_time": "2021-07-08T08:41:10.459Z"
   },
   {
    "duration": 173,
    "start_time": "2021-07-08T08:41:10.794Z"
   },
   {
    "duration": 5,
    "start_time": "2021-07-08T08:41:10.968Z"
   },
   {
    "duration": 25,
    "start_time": "2021-07-08T08:41:10.975Z"
   },
   {
    "duration": 9,
    "start_time": "2021-07-08T08:41:11.002Z"
   },
   {
    "duration": 18,
    "start_time": "2021-07-08T08:41:11.013Z"
   },
   {
    "duration": 6,
    "start_time": "2021-07-08T08:41:11.033Z"
   },
   {
    "duration": 44,
    "start_time": "2021-07-08T08:41:11.042Z"
   },
   {
    "duration": 10,
    "start_time": "2021-07-08T08:41:11.088Z"
   },
   {
    "duration": 9,
    "start_time": "2021-07-08T08:41:11.100Z"
   },
   {
    "duration": 27,
    "start_time": "2021-07-08T08:41:11.111Z"
   },
   {
    "duration": 46,
    "start_time": "2021-07-08T08:41:11.140Z"
   },
   {
    "duration": 17,
    "start_time": "2021-07-08T08:41:11.187Z"
   },
   {
    "duration": 6,
    "start_time": "2021-07-08T08:41:11.206Z"
   },
   {
    "duration": 5,
    "start_time": "2021-07-08T08:41:11.213Z"
   },
   {
    "duration": 10,
    "start_time": "2021-07-08T08:41:11.219Z"
   },
   {
    "duration": 9,
    "start_time": "2021-07-08T08:41:11.230Z"
   },
   {
    "duration": 45,
    "start_time": "2021-07-08T08:41:11.241Z"
   },
   {
    "duration": 7,
    "start_time": "2021-07-08T08:41:11.287Z"
   },
   {
    "duration": 24,
    "start_time": "2021-07-08T08:41:11.296Z"
   },
   {
    "duration": 16,
    "start_time": "2021-07-08T08:41:11.322Z"
   },
   {
    "duration": 7,
    "start_time": "2021-07-08T08:41:11.341Z"
   },
   {
    "duration": 41,
    "start_time": "2021-07-08T08:41:11.349Z"
   },
   {
    "duration": 17,
    "start_time": "2021-07-08T08:41:11.391Z"
   },
   {
    "duration": 9,
    "start_time": "2021-07-08T08:41:11.410Z"
   },
   {
    "duration": 5,
    "start_time": "2021-07-08T08:41:11.421Z"
   },
   {
    "duration": 6,
    "start_time": "2021-07-08T08:41:11.428Z"
   },
   {
    "duration": 198,
    "start_time": "2021-07-08T08:41:11.435Z"
   },
   {
    "duration": 18,
    "start_time": "2021-07-08T08:41:11.635Z"
   },
   {
    "duration": 155,
    "start_time": "2021-07-08T08:41:11.655Z"
   },
   {
    "duration": 138,
    "start_time": "2021-07-08T08:41:11.811Z"
   },
   {
    "duration": 10,
    "start_time": "2021-07-08T08:41:11.950Z"
   },
   {
    "duration": 29,
    "start_time": "2021-07-08T08:41:11.961Z"
   },
   {
    "duration": 171,
    "start_time": "2021-07-08T08:47:44.522Z"
   },
   {
    "duration": 124,
    "start_time": "2021-07-08T08:47:46.872Z"
   },
   {
    "duration": 191,
    "start_time": "2021-07-08T08:47:58.148Z"
   },
   {
    "duration": 191,
    "start_time": "2021-07-08T08:48:07.412Z"
   },
   {
    "duration": 261,
    "start_time": "2021-07-08T08:48:10.385Z"
   },
   {
    "duration": 255,
    "start_time": "2021-07-08T08:48:14.494Z"
   },
   {
    "duration": 219,
    "start_time": "2021-07-08T08:48:22.752Z"
   },
   {
    "duration": 173,
    "start_time": "2021-07-08T08:49:06.395Z"
   },
   {
    "duration": 180,
    "start_time": "2021-07-08T08:49:21.011Z"
   },
   {
    "duration": 6,
    "start_time": "2021-07-08T08:50:31.697Z"
   },
   {
    "duration": 10,
    "start_time": "2021-07-08T08:50:47.394Z"
   },
   {
    "duration": 11,
    "start_time": "2021-07-08T08:53:49.332Z"
   },
   {
    "duration": 171,
    "start_time": "2021-07-08T08:54:28.408Z"
   },
   {
    "duration": 636,
    "start_time": "2021-07-08T09:02:48.385Z"
   },
   {
    "duration": 227,
    "start_time": "2021-07-08T09:02:49.023Z"
   },
   {
    "duration": 104,
    "start_time": "2021-07-08T09:02:49.252Z"
   },
   {
    "duration": 5,
    "start_time": "2021-07-08T09:02:49.358Z"
   },
   {
    "duration": 27,
    "start_time": "2021-07-08T09:02:49.365Z"
   },
   {
    "duration": 8,
    "start_time": "2021-07-08T09:02:49.394Z"
   },
   {
    "duration": 18,
    "start_time": "2021-07-08T09:02:49.404Z"
   },
   {
    "duration": 6,
    "start_time": "2021-07-08T09:02:49.424Z"
   },
   {
    "duration": 11,
    "start_time": "2021-07-08T09:02:49.433Z"
   },
   {
    "duration": 13,
    "start_time": "2021-07-08T09:02:49.485Z"
   },
   {
    "duration": 9,
    "start_time": "2021-07-08T09:02:49.500Z"
   },
   {
    "duration": 38,
    "start_time": "2021-07-08T09:02:49.511Z"
   },
   {
    "duration": 42,
    "start_time": "2021-07-08T09:02:49.551Z"
   },
   {
    "duration": 21,
    "start_time": "2021-07-08T09:02:49.594Z"
   },
   {
    "duration": 6,
    "start_time": "2021-07-08T09:02:49.616Z"
   },
   {
    "duration": 3,
    "start_time": "2021-07-08T09:02:49.623Z"
   },
   {
    "duration": 9,
    "start_time": "2021-07-08T09:02:49.628Z"
   },
   {
    "duration": 52,
    "start_time": "2021-07-08T09:02:49.638Z"
   },
   {
    "duration": 11,
    "start_time": "2021-07-08T09:02:49.692Z"
   },
   {
    "duration": 8,
    "start_time": "2021-07-08T09:02:49.704Z"
   },
   {
    "duration": 27,
    "start_time": "2021-07-08T09:02:49.713Z"
   },
   {
    "duration": 59,
    "start_time": "2021-07-08T09:02:49.741Z"
   },
   {
    "duration": 8,
    "start_time": "2021-07-08T09:02:49.803Z"
   },
   {
    "duration": 14,
    "start_time": "2021-07-08T09:02:49.813Z"
   },
   {
    "duration": 20,
    "start_time": "2021-07-08T09:02:49.829Z"
   },
   {
    "duration": 44,
    "start_time": "2021-07-08T09:02:49.851Z"
   },
   {
    "duration": 14,
    "start_time": "2021-07-08T09:02:49.896Z"
   },
   {
    "duration": 221,
    "start_time": "2021-07-08T09:02:49.912Z"
   },
   {
    "duration": 6,
    "start_time": "2021-07-08T09:02:50.134Z"
   },
   {
    "duration": 206,
    "start_time": "2021-07-08T09:02:50.142Z"
   },
   {
    "duration": 19,
    "start_time": "2021-07-08T09:02:50.350Z"
   },
   {
    "duration": 21,
    "start_time": "2021-07-08T09:02:50.370Z"
   },
   {
    "duration": 20,
    "start_time": "2021-07-08T09:02:50.393Z"
   },
   {
    "duration": 5,
    "start_time": "2021-07-08T09:02:50.414Z"
   },
   {
    "duration": 5,
    "start_time": "2021-07-08T09:03:34.173Z"
   },
   {
    "duration": 6,
    "start_time": "2021-07-08T09:04:49.062Z"
   },
   {
    "duration": 9,
    "start_time": "2021-07-08T09:04:50.118Z"
   },
   {
    "duration": 14,
    "start_time": "2021-07-08T09:04:58.512Z"
   },
   {
    "duration": 9,
    "start_time": "2021-07-08T09:05:10.988Z"
   },
   {
    "duration": 11,
    "start_time": "2021-07-08T09:05:11.743Z"
   },
   {
    "duration": 7,
    "start_time": "2021-07-08T09:05:25.677Z"
   },
   {
    "duration": 13,
    "start_time": "2021-07-08T09:05:47.189Z"
   },
   {
    "duration": 13,
    "start_time": "2021-07-08T09:05:54.755Z"
   },
   {
    "duration": 4,
    "start_time": "2021-07-08T09:06:29.189Z"
   },
   {
    "duration": 244,
    "start_time": "2021-07-08T09:06:29.195Z"
   },
   {
    "duration": 91,
    "start_time": "2021-07-08T09:06:29.441Z"
   },
   {
    "duration": 4,
    "start_time": "2021-07-08T09:06:29.534Z"
   },
   {
    "duration": 28,
    "start_time": "2021-07-08T09:06:29.540Z"
   },
   {
    "duration": 6,
    "start_time": "2021-07-08T09:06:29.570Z"
   },
   {
    "duration": 18,
    "start_time": "2021-07-08T09:06:29.578Z"
   },
   {
    "duration": 5,
    "start_time": "2021-07-08T09:06:29.597Z"
   },
   {
    "duration": 13,
    "start_time": "2021-07-08T09:06:29.605Z"
   },
   {
    "duration": 8,
    "start_time": "2021-07-08T09:06:29.620Z"
   },
   {
    "duration": 7,
    "start_time": "2021-07-08T09:06:29.630Z"
   },
   {
    "duration": 63,
    "start_time": "2021-07-08T09:06:29.639Z"
   },
   {
    "duration": 17,
    "start_time": "2021-07-08T09:06:29.704Z"
   },
   {
    "duration": 20,
    "start_time": "2021-07-08T09:06:29.723Z"
   },
   {
    "duration": 6,
    "start_time": "2021-07-08T09:06:29.745Z"
   },
   {
    "duration": 3,
    "start_time": "2021-07-08T09:06:29.752Z"
   },
   {
    "duration": 7,
    "start_time": "2021-07-08T09:06:29.785Z"
   },
   {
    "duration": 11,
    "start_time": "2021-07-08T09:06:29.794Z"
   },
   {
    "duration": 15,
    "start_time": "2021-07-08T09:06:29.807Z"
   },
   {
    "duration": 8,
    "start_time": "2021-07-08T09:06:29.823Z"
   },
   {
    "duration": 70,
    "start_time": "2021-07-08T09:06:29.832Z"
   },
   {
    "duration": 17,
    "start_time": "2021-07-08T09:06:29.903Z"
   },
   {
    "duration": 9,
    "start_time": "2021-07-08T09:06:29.921Z"
   },
   {
    "duration": 9,
    "start_time": "2021-07-08T09:06:29.932Z"
   },
   {
    "duration": 57,
    "start_time": "2021-07-08T09:06:29.942Z"
   },
   {
    "duration": 11,
    "start_time": "2021-07-08T09:06:30.001Z"
   },
   {
    "duration": 19,
    "start_time": "2021-07-08T09:06:30.016Z"
   },
   {
    "duration": 217,
    "start_time": "2021-07-08T09:06:30.037Z"
   },
   {
    "duration": 6,
    "start_time": "2021-07-08T09:06:30.255Z"
   },
   {
    "duration": 205,
    "start_time": "2021-07-08T09:06:30.263Z"
   },
   {
    "duration": 27,
    "start_time": "2021-07-08T09:06:30.470Z"
   },
   {
    "duration": 11,
    "start_time": "2021-07-08T09:06:30.500Z"
   },
   {
    "duration": 31,
    "start_time": "2021-07-08T09:06:30.513Z"
   },
   {
    "duration": 18,
    "start_time": "2021-07-08T09:06:30.546Z"
   },
   {
    "duration": 11,
    "start_time": "2021-07-08T09:06:30.566Z"
   },
   {
    "duration": 19,
    "start_time": "2021-07-08T09:06:30.579Z"
   },
   {
    "duration": 20,
    "start_time": "2021-07-08T09:06:49.466Z"
   },
   {
    "duration": 9,
    "start_time": "2021-07-08T09:06:51.994Z"
   },
   {
    "duration": 20,
    "start_time": "2021-07-08T09:06:52.273Z"
   },
   {
    "duration": 246,
    "start_time": "2021-07-08T09:10:21.272Z"
   },
   {
    "duration": 84,
    "start_time": "2021-07-08T09:10:21.436Z"
   },
   {
    "duration": 7,
    "start_time": "2021-07-08T09:10:37.608Z"
   },
   {
    "duration": 189,
    "start_time": "2021-07-08T09:10:38.573Z"
   },
   {
    "duration": 185,
    "start_time": "2021-07-08T09:10:53.181Z"
   },
   {
    "duration": 11,
    "start_time": "2021-07-08T09:10:59.549Z"
   },
   {
    "duration": 42,
    "start_time": "2021-07-08T09:10:59.709Z"
   },
   {
    "duration": 12,
    "start_time": "2021-07-08T09:11:02.857Z"
   },
   {
    "duration": 28,
    "start_time": "2021-07-08T09:11:10.062Z"
   },
   {
    "duration": 249,
    "start_time": "2021-07-08T09:11:37.388Z"
   },
   {
    "duration": 232,
    "start_time": "2021-07-08T09:11:49.485Z"
   },
   {
    "duration": 453,
    "start_time": "2021-07-08T09:12:01.546Z"
   },
   {
    "duration": 440,
    "start_time": "2021-07-08T09:12:12.347Z"
   },
   {
    "duration": 213,
    "start_time": "2021-07-08T09:13:32.196Z"
   },
   {
    "duration": 172,
    "start_time": "2021-07-08T09:14:07.400Z"
   },
   {
    "duration": 185,
    "start_time": "2021-07-08T09:14:14.905Z"
   },
   {
    "duration": 209,
    "start_time": "2021-07-08T09:14:40.109Z"
   },
   {
    "duration": 201,
    "start_time": "2021-07-08T09:14:54.506Z"
   },
   {
    "duration": 622,
    "start_time": "2021-07-08T09:18:14.497Z"
   },
   {
    "duration": 220,
    "start_time": "2021-07-08T09:18:15.121Z"
   },
   {
    "duration": 79,
    "start_time": "2021-07-08T09:18:15.343Z"
   },
   {
    "duration": 4,
    "start_time": "2021-07-08T09:18:15.425Z"
   },
   {
    "duration": 24,
    "start_time": "2021-07-08T09:18:15.431Z"
   },
   {
    "duration": 8,
    "start_time": "2021-07-08T09:18:15.457Z"
   },
   {
    "duration": 16,
    "start_time": "2021-07-08T09:18:15.466Z"
   },
   {
    "duration": 5,
    "start_time": "2021-07-08T09:18:15.484Z"
   },
   {
    "duration": 10,
    "start_time": "2021-07-08T09:18:15.493Z"
   },
   {
    "duration": 8,
    "start_time": "2021-07-08T09:18:15.504Z"
   },
   {
    "duration": 7,
    "start_time": "2021-07-08T09:18:15.513Z"
   },
   {
    "duration": 26,
    "start_time": "2021-07-08T09:18:15.522Z"
   },
   {
    "duration": 49,
    "start_time": "2021-07-08T09:18:15.550Z"
   },
   {
    "duration": 21,
    "start_time": "2021-07-08T09:18:15.601Z"
   },
   {
    "duration": 8,
    "start_time": "2021-07-08T09:18:15.624Z"
   },
   {
    "duration": 3,
    "start_time": "2021-07-08T09:18:15.634Z"
   },
   {
    "duration": 8,
    "start_time": "2021-07-08T09:18:15.639Z"
   },
   {
    "duration": 45,
    "start_time": "2021-07-08T09:18:15.649Z"
   },
   {
    "duration": 13,
    "start_time": "2021-07-08T09:18:15.696Z"
   },
   {
    "duration": 10,
    "start_time": "2021-07-08T09:18:15.711Z"
   },
   {
    "duration": 64,
    "start_time": "2021-07-08T09:18:15.722Z"
   },
   {
    "duration": 19,
    "start_time": "2021-07-08T09:18:15.788Z"
   },
   {
    "duration": 9,
    "start_time": "2021-07-08T09:18:15.809Z"
   },
   {
    "duration": 9,
    "start_time": "2021-07-08T09:18:15.820Z"
   },
   {
    "duration": 18,
    "start_time": "2021-07-08T09:18:15.831Z"
   },
   {
    "duration": 43,
    "start_time": "2021-07-08T09:18:15.851Z"
   },
   {
    "duration": 12,
    "start_time": "2021-07-08T09:18:15.897Z"
   },
   {
    "duration": 219,
    "start_time": "2021-07-08T09:18:15.911Z"
   },
   {
    "duration": 8,
    "start_time": "2021-07-08T09:18:16.132Z"
   },
   {
    "duration": 199,
    "start_time": "2021-07-08T09:18:16.141Z"
   },
   {
    "duration": 18,
    "start_time": "2021-07-08T09:18:16.341Z"
   },
   {
    "duration": 24,
    "start_time": "2021-07-08T09:18:16.361Z"
   },
   {
    "duration": 24,
    "start_time": "2021-07-08T09:18:16.387Z"
   },
   {
    "duration": 211,
    "start_time": "2021-07-08T09:18:16.413Z"
   },
   {
    "duration": 18,
    "start_time": "2021-07-08T09:18:16.626Z"
   },
   {
    "duration": 596,
    "start_time": "2021-07-08T10:06:33.623Z"
   },
   {
    "duration": 181,
    "start_time": "2021-07-08T10:06:34.221Z"
   },
   {
    "duration": 176,
    "start_time": "2021-07-08T10:06:34.635Z"
   },
   {
    "duration": 239,
    "start_time": "2021-07-08T10:06:55.572Z"
   },
   {
    "duration": 6,
    "start_time": "2021-07-08T10:06:57.687Z"
   },
   {
    "duration": 4,
    "start_time": "2021-07-08T10:07:03.956Z"
   },
   {
    "duration": 4,
    "start_time": "2021-07-08T10:07:10.376Z"
   },
   {
    "duration": 4,
    "start_time": "2021-07-08T10:17:19.889Z"
   },
   {
    "duration": 3,
    "start_time": "2021-07-08T10:19:19.407Z"
   },
   {
    "duration": 197,
    "start_time": "2021-07-08T10:19:19.412Z"
   },
   {
    "duration": 127,
    "start_time": "2021-07-08T10:19:19.611Z"
   },
   {
    "duration": 4,
    "start_time": "2021-07-08T10:19:19.740Z"
   },
   {
    "duration": 27,
    "start_time": "2021-07-08T10:19:19.746Z"
   },
   {
    "duration": 7,
    "start_time": "2021-07-08T10:19:19.775Z"
   },
   {
    "duration": 30,
    "start_time": "2021-07-08T10:19:19.784Z"
   },
   {
    "duration": 7,
    "start_time": "2021-07-08T10:19:19.817Z"
   },
   {
    "duration": 26,
    "start_time": "2021-07-08T10:19:19.826Z"
   },
   {
    "duration": 18,
    "start_time": "2021-07-08T10:19:19.854Z"
   },
   {
    "duration": 14,
    "start_time": "2021-07-08T10:19:19.874Z"
   },
   {
    "duration": 48,
    "start_time": "2021-07-08T10:19:19.890Z"
   },
   {
    "duration": 17,
    "start_time": "2021-07-08T10:19:19.940Z"
   },
   {
    "duration": 38,
    "start_time": "2021-07-08T10:19:19.959Z"
   },
   {
    "duration": 8,
    "start_time": "2021-07-08T10:19:19.999Z"
   },
   {
    "duration": 15,
    "start_time": "2021-07-08T10:19:20.009Z"
   },
   {
    "duration": 22,
    "start_time": "2021-07-08T10:19:20.026Z"
   },
   {
    "duration": 10,
    "start_time": "2021-07-08T10:19:20.050Z"
   },
   {
    "duration": 10,
    "start_time": "2021-07-08T10:19:20.062Z"
   },
   {
    "duration": 20,
    "start_time": "2021-07-08T10:19:20.073Z"
   },
   {
    "duration": 29,
    "start_time": "2021-07-08T10:19:20.095Z"
   },
   {
    "duration": 17,
    "start_time": "2021-07-08T10:19:20.126Z"
   },
   {
    "duration": 40,
    "start_time": "2021-07-08T10:19:20.146Z"
   },
   {
    "duration": 15,
    "start_time": "2021-07-08T10:19:20.189Z"
   },
   {
    "duration": 19,
    "start_time": "2021-07-08T10:19:20.206Z"
   },
   {
    "duration": 10,
    "start_time": "2021-07-08T10:19:20.226Z"
   },
   {
    "duration": 11,
    "start_time": "2021-07-08T10:19:20.238Z"
   },
   {
    "duration": 297,
    "start_time": "2021-07-08T10:19:20.250Z"
   },
   {
    "duration": 6,
    "start_time": "2021-07-08T10:19:20.549Z"
   },
   {
    "duration": 191,
    "start_time": "2021-07-08T10:19:20.557Z"
   },
   {
    "duration": 19,
    "start_time": "2021-07-08T10:19:20.750Z"
   },
   {
    "duration": 20,
    "start_time": "2021-07-08T10:19:20.771Z"
   },
   {
    "duration": 15,
    "start_time": "2021-07-08T10:19:20.793Z"
   },
   {
    "duration": 222,
    "start_time": "2021-07-08T10:19:20.809Z"
   },
   {
    "duration": 20,
    "start_time": "2021-07-08T10:19:21.033Z"
   },
   {
    "duration": 27,
    "start_time": "2021-07-08T10:45:04.055Z"
   },
   {
    "duration": 8,
    "start_time": "2021-07-08T10:45:08.478Z"
   },
   {
    "duration": 8,
    "start_time": "2021-07-08T10:45:31.982Z"
   },
   {
    "duration": 10,
    "start_time": "2021-07-08T10:46:01.221Z"
   },
   {
    "duration": 17,
    "start_time": "2021-07-08T10:46:40.011Z"
   },
   {
    "duration": 193,
    "start_time": "2021-07-08T10:48:19.471Z"
   },
   {
    "duration": 225,
    "start_time": "2021-07-08T10:49:26.480Z"
   },
   {
    "duration": 204,
    "start_time": "2021-07-08T10:49:59.992Z"
   },
   {
    "duration": 435,
    "start_time": "2021-07-08T10:50:06.779Z"
   },
   {
    "duration": 199,
    "start_time": "2021-07-08T10:50:14.891Z"
   },
   {
    "duration": 204,
    "start_time": "2021-07-08T10:50:18.501Z"
   },
   {
    "duration": 244,
    "start_time": "2021-07-08T10:50:23.359Z"
   },
   {
    "duration": 192,
    "start_time": "2021-07-08T10:50:29.135Z"
   },
   {
    "duration": 218,
    "start_time": "2021-07-08T10:50:33.092Z"
   },
   {
    "duration": 207,
    "start_time": "2021-07-08T10:52:45.381Z"
   },
   {
    "duration": 5,
    "start_time": "2021-07-08T10:53:34.641Z"
   },
   {
    "duration": 196,
    "start_time": "2021-07-08T10:53:41.478Z"
   },
   {
    "duration": 43,
    "start_time": "2021-07-08T10:53:50.335Z"
   },
   {
    "duration": 32,
    "start_time": "2021-07-08T10:53:55.294Z"
   },
   {
    "duration": 55,
    "start_time": "2021-07-08T10:54:09.675Z"
   },
   {
    "duration": 16,
    "start_time": "2021-07-08T10:54:12.260Z"
   },
   {
    "duration": 15,
    "start_time": "2021-07-08T10:54:49.150Z"
   },
   {
    "duration": 20,
    "start_time": "2021-07-08T10:56:07.596Z"
   },
   {
    "duration": 16,
    "start_time": "2021-07-08T10:58:26.276Z"
   },
   {
    "duration": 22,
    "start_time": "2021-07-08T10:59:00.486Z"
   },
   {
    "duration": 18,
    "start_time": "2021-07-08T11:02:09.653Z"
   },
   {
    "duration": 10,
    "start_time": "2021-07-08T11:03:44.331Z"
   },
   {
    "duration": 10,
    "start_time": "2021-07-08T11:03:54.055Z"
   },
   {
    "duration": 12,
    "start_time": "2021-07-08T11:04:41.967Z"
   },
   {
    "duration": 24,
    "start_time": "2021-07-08T11:07:30.732Z"
   },
   {
    "duration": 6,
    "start_time": "2021-07-08T11:07:37.364Z"
   },
   {
    "duration": 16,
    "start_time": "2021-07-08T11:08:01.819Z"
   },
   {
    "duration": 17,
    "start_time": "2021-07-08T11:09:47.488Z"
   },
   {
    "duration": 246,
    "start_time": "2021-07-08T11:10:00.830Z"
   },
   {
    "duration": 18,
    "start_time": "2021-07-08T11:13:55.195Z"
   },
   {
    "duration": 204,
    "start_time": "2021-07-08T11:14:04.951Z"
   },
   {
    "duration": 19,
    "start_time": "2021-07-08T11:15:10.613Z"
   },
   {
    "duration": 680,
    "start_time": "2021-07-08T11:16:25.793Z"
   },
   {
    "duration": 451,
    "start_time": "2021-07-08T11:16:40.313Z"
   },
   {
    "duration": 469,
    "start_time": "2021-07-08T11:17:21.286Z"
   },
   {
    "duration": 20,
    "start_time": "2021-07-08T11:19:12.554Z"
   },
   {
    "duration": 35,
    "start_time": "2021-07-08T11:20:05.484Z"
   },
   {
    "duration": 53,
    "start_time": "2021-07-08T11:21:40.050Z"
   },
   {
    "duration": 13,
    "start_time": "2021-07-08T11:22:26.059Z"
   },
   {
    "duration": 19,
    "start_time": "2021-07-08T11:22:47.419Z"
   },
   {
    "duration": 25,
    "start_time": "2021-07-08T11:23:19.958Z"
   },
   {
    "duration": 29,
    "start_time": "2021-07-08T11:23:25.415Z"
   },
   {
    "duration": 10,
    "start_time": "2021-07-08T11:24:45.138Z"
   },
   {
    "duration": 19,
    "start_time": "2021-07-08T11:24:54.498Z"
   },
   {
    "duration": 12,
    "start_time": "2021-07-08T11:25:32.225Z"
   },
   {
    "duration": 19,
    "start_time": "2021-07-08T11:25:37.092Z"
   },
   {
    "duration": 17,
    "start_time": "2021-07-08T11:25:58.116Z"
   },
   {
    "duration": 15,
    "start_time": "2021-07-08T11:26:02.258Z"
   },
   {
    "duration": 8,
    "start_time": "2021-07-08T11:26:59.682Z"
   },
   {
    "duration": 184,
    "start_time": "2021-07-08T11:27:21.894Z"
   },
   {
    "duration": 8,
    "start_time": "2021-07-08T11:27:23.824Z"
   },
   {
    "duration": 202,
    "start_time": "2021-07-08T11:27:23.962Z"
   },
   {
    "duration": 360,
    "start_time": "2021-07-08T11:28:33.215Z"
   },
   {
    "duration": 231,
    "start_time": "2021-07-08T11:32:05.542Z"
   },
   {
    "duration": 607,
    "start_time": "2021-07-08T11:36:27.854Z"
   },
   {
    "duration": 241,
    "start_time": "2021-07-08T11:36:28.463Z"
   },
   {
    "duration": 67,
    "start_time": "2021-07-08T11:36:28.709Z"
   },
   {
    "duration": 5,
    "start_time": "2021-07-08T11:36:28.778Z"
   },
   {
    "duration": 32,
    "start_time": "2021-07-08T11:36:28.784Z"
   },
   {
    "duration": 11,
    "start_time": "2021-07-08T11:36:28.819Z"
   },
   {
    "duration": 20,
    "start_time": "2021-07-08T11:36:28.834Z"
   },
   {
    "duration": 36,
    "start_time": "2021-07-08T11:36:28.857Z"
   },
   {
    "duration": 16,
    "start_time": "2021-07-08T11:36:28.895Z"
   },
   {
    "duration": 14,
    "start_time": "2021-07-08T11:36:28.913Z"
   },
   {
    "duration": 9,
    "start_time": "2021-07-08T11:36:28.930Z"
   },
   {
    "duration": 55,
    "start_time": "2021-07-08T11:36:28.941Z"
   },
   {
    "duration": 27,
    "start_time": "2021-07-08T11:36:28.999Z"
   },
   {
    "duration": 30,
    "start_time": "2021-07-08T11:36:29.028Z"
   },
   {
    "duration": 31,
    "start_time": "2021-07-08T11:36:29.060Z"
   },
   {
    "duration": 3,
    "start_time": "2021-07-08T11:36:29.093Z"
   },
   {
    "duration": 12,
    "start_time": "2021-07-08T11:36:29.099Z"
   },
   {
    "duration": 11,
    "start_time": "2021-07-08T11:36:29.112Z"
   },
   {
    "duration": 12,
    "start_time": "2021-07-08T11:36:29.125Z"
   },
   {
    "duration": 9,
    "start_time": "2021-07-08T11:36:29.139Z"
   },
   {
    "duration": 31,
    "start_time": "2021-07-08T11:36:29.191Z"
   },
   {
    "duration": 17,
    "start_time": "2021-07-08T11:36:29.226Z"
   },
   {
    "duration": 7,
    "start_time": "2021-07-08T11:36:29.245Z"
   },
   {
    "duration": 10,
    "start_time": "2021-07-08T11:36:29.254Z"
   },
   {
    "duration": 30,
    "start_time": "2021-07-08T11:36:29.292Z"
   },
   {
    "duration": 11,
    "start_time": "2021-07-08T11:36:29.324Z"
   },
   {
    "duration": 11,
    "start_time": "2021-07-08T11:36:29.337Z"
   },
   {
    "duration": 230,
    "start_time": "2021-07-08T11:36:29.349Z"
   },
   {
    "duration": 13,
    "start_time": "2021-07-08T11:36:29.588Z"
   },
   {
    "duration": 205,
    "start_time": "2021-07-08T11:36:29.603Z"
   },
   {
    "duration": 20,
    "start_time": "2021-07-08T11:36:29.810Z"
   },
   {
    "duration": 9,
    "start_time": "2021-07-08T11:36:29.832Z"
   },
   {
    "duration": 16,
    "start_time": "2021-07-08T11:36:29.843Z"
   },
   {
    "duration": 283,
    "start_time": "2021-07-08T11:36:29.861Z"
   },
   {
    "duration": 50,
    "start_time": "2021-07-08T11:36:30.146Z"
   },
   {
    "duration": 14,
    "start_time": "2021-07-08T11:36:30.198Z"
   },
   {
    "duration": 11,
    "start_time": "2021-07-08T11:36:30.214Z"
   },
   {
    "duration": 245,
    "start_time": "2021-07-08T11:36:30.227Z"
   },
   {
    "duration": 439,
    "start_time": "2021-07-08T11:36:30.474Z"
   },
   {
    "duration": 210,
    "start_time": "2021-07-08T11:36:30.915Z"
   },
   {
    "duration": 15,
    "start_time": "2021-07-08T11:36:31.127Z"
   },
   {
    "duration": 17,
    "start_time": "2021-07-08T11:38:20.451Z"
   },
   {
    "duration": 642,
    "start_time": "2021-07-08T11:46:17.881Z"
   },
   {
    "duration": 210,
    "start_time": "2021-07-08T11:46:18.525Z"
   },
   {
    "duration": 104,
    "start_time": "2021-07-08T11:46:18.741Z"
   },
   {
    "duration": 8,
    "start_time": "2021-07-08T11:46:18.847Z"
   },
   {
    "duration": 25,
    "start_time": "2021-07-08T11:46:18.857Z"
   },
   {
    "duration": 14,
    "start_time": "2021-07-08T11:46:18.884Z"
   },
   {
    "duration": 22,
    "start_time": "2021-07-08T11:46:18.900Z"
   },
   {
    "duration": 5,
    "start_time": "2021-07-08T11:46:18.924Z"
   },
   {
    "duration": 13,
    "start_time": "2021-07-08T11:46:18.931Z"
   },
   {
    "duration": 45,
    "start_time": "2021-07-08T11:46:18.946Z"
   },
   {
    "duration": 12,
    "start_time": "2021-07-08T11:46:18.993Z"
   },
   {
    "duration": 38,
    "start_time": "2021-07-08T11:46:19.006Z"
   },
   {
    "duration": 50,
    "start_time": "2021-07-08T11:46:19.046Z"
   },
   {
    "duration": 29,
    "start_time": "2021-07-08T11:46:19.099Z"
   },
   {
    "duration": 7,
    "start_time": "2021-07-08T11:46:19.130Z"
   },
   {
    "duration": 3,
    "start_time": "2021-07-08T11:46:19.139Z"
   },
   {
    "duration": 11,
    "start_time": "2021-07-08T11:46:19.144Z"
   },
   {
    "duration": 40,
    "start_time": "2021-07-08T11:46:19.157Z"
   },
   {
    "duration": 15,
    "start_time": "2021-07-08T11:46:19.199Z"
   },
   {
    "duration": 10,
    "start_time": "2021-07-08T11:46:19.217Z"
   },
   {
    "duration": 68,
    "start_time": "2021-07-08T11:46:19.230Z"
   },
   {
    "duration": 17,
    "start_time": "2021-07-08T11:46:19.301Z"
   },
   {
    "duration": 7,
    "start_time": "2021-07-08T11:46:19.321Z"
   },
   {
    "duration": 11,
    "start_time": "2021-07-08T11:46:19.330Z"
   },
   {
    "duration": 59,
    "start_time": "2021-07-08T11:46:19.343Z"
   },
   {
    "duration": 17,
    "start_time": "2021-07-08T11:46:19.405Z"
   },
   {
    "duration": 16,
    "start_time": "2021-07-08T11:46:19.424Z"
   },
   {
    "duration": 252,
    "start_time": "2021-07-08T11:46:19.443Z"
   },
   {
    "duration": 9,
    "start_time": "2021-07-08T11:46:19.697Z"
   },
   {
    "duration": 224,
    "start_time": "2021-07-08T11:46:19.708Z"
   },
   {
    "duration": 21,
    "start_time": "2021-07-08T11:46:19.934Z"
   },
   {
    "duration": 9,
    "start_time": "2021-07-08T11:46:19.956Z"
   },
   {
    "duration": 32,
    "start_time": "2021-07-08T11:46:19.967Z"
   },
   {
    "duration": 288,
    "start_time": "2021-07-08T11:46:20.004Z"
   },
   {
    "duration": 23,
    "start_time": "2021-07-08T11:46:20.300Z"
   },
   {
    "duration": 11,
    "start_time": "2021-07-08T11:46:20.325Z"
   },
   {
    "duration": 11,
    "start_time": "2021-07-08T11:46:20.339Z"
   },
   {
    "duration": 259,
    "start_time": "2021-07-08T11:46:20.352Z"
   },
   {
    "duration": 438,
    "start_time": "2021-07-08T11:46:20.613Z"
   },
   {
    "duration": 207,
    "start_time": "2021-07-08T11:46:21.054Z"
   },
   {
    "duration": 27,
    "start_time": "2021-07-08T11:46:21.262Z"
   },
   {
    "duration": 19,
    "start_time": "2021-07-08T11:46:21.291Z"
   },
   {
    "duration": 820,
    "start_time": "2021-07-08T11:49:01.655Z"
   },
   {
    "duration": 372,
    "start_time": "2021-07-08T11:49:02.478Z"
   },
   {
    "duration": 98,
    "start_time": "2021-07-08T11:49:02.853Z"
   },
   {
    "duration": 6,
    "start_time": "2021-07-08T11:49:02.953Z"
   },
   {
    "duration": 39,
    "start_time": "2021-07-08T11:49:02.960Z"
   },
   {
    "duration": 9,
    "start_time": "2021-07-08T11:49:03.003Z"
   },
   {
    "duration": 23,
    "start_time": "2021-07-08T11:49:03.014Z"
   },
   {
    "duration": 6,
    "start_time": "2021-07-08T11:49:03.041Z"
   },
   {
    "duration": 20,
    "start_time": "2021-07-08T11:49:03.049Z"
   },
   {
    "duration": 18,
    "start_time": "2021-07-08T11:49:03.084Z"
   },
   {
    "duration": 14,
    "start_time": "2021-07-08T11:49:03.104Z"
   },
   {
    "duration": 39,
    "start_time": "2021-07-08T11:49:03.119Z"
   },
   {
    "duration": 38,
    "start_time": "2021-07-08T11:49:03.160Z"
   },
   {
    "duration": 26,
    "start_time": "2021-07-08T11:49:03.200Z"
   },
   {
    "duration": 7,
    "start_time": "2021-07-08T11:49:03.227Z"
   },
   {
    "duration": 4,
    "start_time": "2021-07-08T11:49:03.236Z"
   },
   {
    "duration": 15,
    "start_time": "2021-07-08T11:49:03.243Z"
   },
   {
    "duration": 21,
    "start_time": "2021-07-08T11:49:03.285Z"
   },
   {
    "duration": 17,
    "start_time": "2021-07-08T11:49:03.309Z"
   },
   {
    "duration": 10,
    "start_time": "2021-07-08T11:49:03.328Z"
   },
   {
    "duration": 65,
    "start_time": "2021-07-08T11:49:03.340Z"
   },
   {
    "duration": 18,
    "start_time": "2021-07-08T11:49:03.407Z"
   },
   {
    "duration": 8,
    "start_time": "2021-07-08T11:49:03.428Z"
   },
   {
    "duration": 15,
    "start_time": "2021-07-08T11:49:03.438Z"
   },
   {
    "duration": 40,
    "start_time": "2021-07-08T11:49:03.455Z"
   },
   {
    "duration": 12,
    "start_time": "2021-07-08T11:49:03.497Z"
   },
   {
    "duration": 29,
    "start_time": "2021-07-08T11:49:03.511Z"
   },
   {
    "duration": 285,
    "start_time": "2021-07-08T11:49:03.542Z"
   },
   {
    "duration": 8,
    "start_time": "2021-07-08T11:49:03.829Z"
   },
   {
    "duration": 227,
    "start_time": "2021-07-08T11:49:03.838Z"
   },
   {
    "duration": 40,
    "start_time": "2021-07-08T11:49:04.066Z"
   },
   {
    "duration": 10,
    "start_time": "2021-07-08T11:49:04.108Z"
   },
   {
    "duration": 26,
    "start_time": "2021-07-08T11:49:04.121Z"
   },
   {
    "duration": 290,
    "start_time": "2021-07-08T11:49:04.149Z"
   },
   {
    "duration": 26,
    "start_time": "2021-07-08T11:49:04.441Z"
   },
   {
    "duration": 31,
    "start_time": "2021-07-08T11:49:04.470Z"
   },
   {
    "duration": 14,
    "start_time": "2021-07-08T11:49:04.503Z"
   },
   {
    "duration": 259,
    "start_time": "2021-07-08T11:49:04.521Z"
   },
   {
    "duration": 480,
    "start_time": "2021-07-08T11:49:04.782Z"
   },
   {
    "duration": 225,
    "start_time": "2021-07-08T11:49:05.264Z"
   },
   {
    "duration": 22,
    "start_time": "2021-07-08T11:49:05.491Z"
   },
   {
    "duration": 24,
    "start_time": "2021-07-08T11:49:05.515Z"
   },
   {
    "duration": 634,
    "start_time": "2021-07-08T11:52:24.960Z"
   },
   {
    "duration": 199,
    "start_time": "2021-07-08T11:52:25.599Z"
   },
   {
    "duration": 106,
    "start_time": "2021-07-08T11:52:25.803Z"
   },
   {
    "duration": 7,
    "start_time": "2021-07-08T11:52:25.911Z"
   },
   {
    "duration": 29,
    "start_time": "2021-07-08T11:52:25.920Z"
   },
   {
    "duration": 7,
    "start_time": "2021-07-08T11:52:25.951Z"
   },
   {
    "duration": 26,
    "start_time": "2021-07-08T11:52:25.961Z"
   },
   {
    "duration": 11,
    "start_time": "2021-07-08T11:52:25.990Z"
   },
   {
    "duration": 29,
    "start_time": "2021-07-08T11:52:26.005Z"
   },
   {
    "duration": 9,
    "start_time": "2021-07-08T11:52:26.036Z"
   },
   {
    "duration": 8,
    "start_time": "2021-07-08T11:52:26.047Z"
   },
   {
    "duration": 63,
    "start_time": "2021-07-08T11:52:26.057Z"
   },
   {
    "duration": 17,
    "start_time": "2021-07-08T11:52:26.122Z"
   },
   {
    "duration": 43,
    "start_time": "2021-07-08T11:52:26.142Z"
   },
   {
    "duration": 17,
    "start_time": "2021-07-08T11:52:26.187Z"
   },
   {
    "duration": 5,
    "start_time": "2021-07-08T11:52:26.206Z"
   },
   {
    "duration": 12,
    "start_time": "2021-07-08T11:52:26.212Z"
   },
   {
    "duration": 11,
    "start_time": "2021-07-08T11:52:26.226Z"
   },
   {
    "duration": 12,
    "start_time": "2021-07-08T11:52:26.238Z"
   },
   {
    "duration": 38,
    "start_time": "2021-07-08T11:52:26.252Z"
   },
   {
    "duration": 40,
    "start_time": "2021-07-08T11:52:26.292Z"
   },
   {
    "duration": 17,
    "start_time": "2021-07-08T11:52:26.336Z"
   },
   {
    "duration": 39,
    "start_time": "2021-07-08T11:52:26.355Z"
   },
   {
    "duration": 11,
    "start_time": "2021-07-08T11:52:26.395Z"
   },
   {
    "duration": 23,
    "start_time": "2021-07-08T11:52:26.408Z"
   },
   {
    "duration": 12,
    "start_time": "2021-07-08T11:52:26.432Z"
   },
   {
    "duration": 41,
    "start_time": "2021-07-08T11:52:26.446Z"
   },
   {
    "duration": 215,
    "start_time": "2021-07-08T11:52:26.493Z"
   },
   {
    "duration": 8,
    "start_time": "2021-07-08T11:52:26.710Z"
   },
   {
    "duration": 228,
    "start_time": "2021-07-08T11:52:26.720Z"
   },
   {
    "duration": 18,
    "start_time": "2021-07-08T11:52:26.950Z"
   },
   {
    "duration": 35,
    "start_time": "2021-07-08T11:52:26.969Z"
   },
   {
    "duration": 23,
    "start_time": "2021-07-08T11:52:27.006Z"
   },
   {
    "duration": 258,
    "start_time": "2021-07-08T11:52:27.030Z"
   },
   {
    "duration": 24,
    "start_time": "2021-07-08T11:52:27.290Z"
   },
   {
    "duration": 12,
    "start_time": "2021-07-08T11:52:27.316Z"
   },
   {
    "duration": 10,
    "start_time": "2021-07-08T11:52:27.329Z"
   },
   {
    "duration": 298,
    "start_time": "2021-07-08T11:52:27.341Z"
   },
   {
    "duration": 436,
    "start_time": "2021-07-08T11:52:27.641Z"
   },
   {
    "duration": 216,
    "start_time": "2021-07-08T11:52:28.079Z"
   },
   {
    "duration": 20,
    "start_time": "2021-07-08T11:52:28.297Z"
   },
   {
    "duration": 17,
    "start_time": "2021-07-08T11:52:28.319Z"
   },
   {
    "duration": 725,
    "start_time": "2024-12-26T17:51:36.106Z"
   },
   {
    "duration": 233,
    "start_time": "2024-12-26T19:16:54.261Z"
   },
   {
    "duration": 144,
    "start_time": "2024-12-26T19:17:15.155Z"
   },
   {
    "duration": 85,
    "start_time": "2024-12-26T19:28:33.386Z"
   },
   {
    "duration": 138,
    "start_time": "2024-12-26T19:28:40.300Z"
   },
   {
    "duration": 200,
    "start_time": "2024-12-26T19:56:33.379Z"
   },
   {
    "duration": 144,
    "start_time": "2024-12-26T20:03:51.677Z"
   },
   {
    "duration": 175,
    "start_time": "2024-12-26T20:05:42.900Z"
   },
   {
    "duration": 49,
    "start_time": "2024-12-28T17:02:03.923Z"
   },
   {
    "duration": 789,
    "start_time": "2024-12-28T17:02:22.813Z"
   },
   {
    "duration": 438,
    "start_time": "2024-12-28T17:02:24.217Z"
   },
   {
    "duration": 363,
    "start_time": "2024-12-28T17:07:45.685Z"
   },
   {
    "duration": 158,
    "start_time": "2024-12-28T17:08:07.807Z"
   },
   {
    "duration": 7,
    "start_time": "2024-12-28T17:09:05.669Z"
   },
   {
    "duration": 4,
    "start_time": "2024-12-28T17:09:32.085Z"
   },
   {
    "duration": 355,
    "start_time": "2024-12-28T17:09:42.418Z"
   },
   {
    "duration": 359,
    "start_time": "2024-12-28T17:09:54.516Z"
   },
   {
    "duration": 4,
    "start_time": "2024-12-28T17:11:16.733Z"
   },
   {
    "duration": 157,
    "start_time": "2024-12-28T17:11:46.120Z"
   },
   {
    "duration": 381,
    "start_time": "2024-12-28T17:20:48.306Z"
   },
   {
    "duration": 170,
    "start_time": "2024-12-28T17:22:21.134Z"
   },
   {
    "duration": 4,
    "start_time": "2024-12-28T17:22:31.484Z"
   },
   {
    "duration": 8,
    "start_time": "2024-12-28T17:22:36.057Z"
   },
   {
    "duration": 7,
    "start_time": "2024-12-28T17:22:44.500Z"
   },
   {
    "duration": 14,
    "start_time": "2024-12-28T17:22:52.691Z"
   },
   {
    "duration": 13,
    "start_time": "2024-12-28T17:23:16.612Z"
   },
   {
    "duration": 15,
    "start_time": "2024-12-28T17:23:19.342Z"
   },
   {
    "duration": 160,
    "start_time": "2024-12-28T17:23:34.140Z"
   },
   {
    "duration": 160,
    "start_time": "2024-12-28T17:23:55.343Z"
   },
   {
    "duration": 163,
    "start_time": "2024-12-28T17:27:47.939Z"
   },
   {
    "duration": 30,
    "start_time": "2024-12-28T17:28:57.912Z"
   },
   {
    "duration": 17,
    "start_time": "2024-12-28T17:29:13.151Z"
   },
   {
    "duration": 18,
    "start_time": "2024-12-28T17:30:03.116Z"
   },
   {
    "duration": 9,
    "start_time": "2024-12-28T17:30:26.319Z"
   },
   {
    "duration": 8,
    "start_time": "2024-12-28T17:30:34.578Z"
   },
   {
    "duration": 161,
    "start_time": "2024-12-28T17:30:58.731Z"
   },
   {
    "duration": 159,
    "start_time": "2024-12-28T17:31:07.883Z"
   },
   {
    "duration": 159,
    "start_time": "2024-12-28T17:31:21.882Z"
   },
   {
    "duration": 10,
    "start_time": "2024-12-28T17:31:52.960Z"
   },
   {
    "duration": 7,
    "start_time": "2024-12-28T17:32:09.219Z"
   },
   {
    "duration": 20,
    "start_time": "2024-12-28T17:32:19.581Z"
   },
   {
    "duration": 166,
    "start_time": "2024-12-28T17:34:29.439Z"
   },
   {
    "duration": 14,
    "start_time": "2024-12-28T17:34:34.650Z"
   },
   {
    "duration": 159,
    "start_time": "2024-12-28T17:34:50.146Z"
   },
   {
    "duration": 20,
    "start_time": "2024-12-28T17:34:53.315Z"
   },
   {
    "duration": 25,
    "start_time": "2024-12-28T17:35:24.322Z"
   },
   {
    "duration": 164,
    "start_time": "2024-12-28T17:35:49.438Z"
   },
   {
    "duration": 26,
    "start_time": "2024-12-28T17:35:52.596Z"
   },
   {
    "duration": 385,
    "start_time": "2024-12-28T17:36:11.533Z"
   },
   {
    "duration": 162,
    "start_time": "2024-12-28T17:37:37.082Z"
   },
   {
    "duration": 25,
    "start_time": "2024-12-28T17:37:39.885Z"
   },
   {
    "duration": 158,
    "start_time": "2024-12-28T17:38:08.366Z"
   },
   {
    "duration": 26,
    "start_time": "2024-12-28T17:38:11.300Z"
   },
   {
    "duration": 159,
    "start_time": "2024-12-28T17:38:15.716Z"
   },
   {
    "duration": 26,
    "start_time": "2024-12-28T17:38:17.997Z"
   },
   {
    "duration": 161,
    "start_time": "2024-12-28T17:45:08.871Z"
   },
   {
    "duration": 172,
    "start_time": "2024-12-28T17:46:05.182Z"
   },
   {
    "duration": 27,
    "start_time": "2024-12-28T17:46:09.730Z"
   },
   {
    "duration": 24,
    "start_time": "2024-12-28T17:46:36.779Z"
   },
   {
    "duration": 159,
    "start_time": "2024-12-28T17:47:47.129Z"
   },
   {
    "duration": 165,
    "start_time": "2024-12-28T17:48:08.010Z"
   },
   {
    "duration": 165,
    "start_time": "2024-12-28T17:48:20.123Z"
   },
   {
    "duration": 5,
    "start_time": "2024-12-28T17:49:23.603Z"
   },
   {
    "duration": 167,
    "start_time": "2024-12-28T17:49:26.406Z"
   },
   {
    "duration": 168,
    "start_time": "2024-12-28T17:49:33.929Z"
   },
   {
    "duration": 12,
    "start_time": "2024-12-28T17:59:23.845Z"
   },
   {
    "duration": 29,
    "start_time": "2024-12-28T17:59:31.743Z"
   },
   {
    "duration": 159,
    "start_time": "2024-12-28T18:04:26.116Z"
   },
   {
    "duration": 159,
    "start_time": "2024-12-28T18:04:38.825Z"
   },
   {
    "duration": 160,
    "start_time": "2024-12-28T18:04:43.557Z"
   },
   {
    "duration": 20,
    "start_time": "2024-12-28T18:17:39.831Z"
   },
   {
    "duration": 8,
    "start_time": "2024-12-28T18:18:46.628Z"
   },
   {
    "duration": 9,
    "start_time": "2024-12-28T18:18:53.898Z"
   },
   {
    "duration": 53,
    "start_time": "2024-12-28T18:19:41.195Z"
   },
   {
    "duration": 14,
    "start_time": "2024-12-28T18:21:02.261Z"
   },
   {
    "duration": 17,
    "start_time": "2024-12-28T18:21:10.130Z"
   },
   {
    "duration": 14,
    "start_time": "2024-12-28T18:21:17.709Z"
   },
   {
    "duration": 704,
    "start_time": "2024-12-28T18:31:41.179Z"
   },
   {
    "duration": 487,
    "start_time": "2024-12-28T18:42:10.749Z"
   },
   {
    "duration": 897,
    "start_time": "2024-12-28T18:42:21.843Z"
   },
   {
    "duration": 421,
    "start_time": "2024-12-28T18:42:27.578Z"
   },
   {
    "duration": 436,
    "start_time": "2024-12-28T18:42:53.712Z"
   },
   {
    "duration": 24,
    "start_time": "2024-12-28T18:43:09.861Z"
   },
   {
    "duration": 28,
    "start_time": "2024-12-28T18:44:49.981Z"
   },
   {
    "duration": 59,
    "start_time": "2024-12-28T18:45:49.139Z"
   },
   {
    "duration": 445,
    "start_time": "2024-12-28T19:12:58.350Z"
   },
   {
    "duration": 901,
    "start_time": "2024-12-28T19:13:09.466Z"
   },
   {
    "duration": 23,
    "start_time": "2024-12-28T19:13:18.705Z"
   },
   {
    "duration": 36,
    "start_time": "2024-12-28T19:13:35.586Z"
   },
   {
    "duration": 20,
    "start_time": "2024-12-28T19:13:57.444Z"
   },
   {
    "duration": 21,
    "start_time": "2024-12-28T19:14:06.424Z"
   },
   {
    "duration": 28,
    "start_time": "2024-12-28T19:14:09.430Z"
   },
   {
    "duration": 18,
    "start_time": "2024-12-28T19:14:16.661Z"
   },
   {
    "duration": 238,
    "start_time": "2024-12-28T20:44:15.409Z"
   },
   {
    "duration": 237,
    "start_time": "2024-12-28T20:44:53.765Z"
   },
   {
    "duration": 231,
    "start_time": "2024-12-28T20:46:17.068Z"
   },
   {
    "duration": 227,
    "start_time": "2024-12-28T20:47:00.982Z"
   },
   {
    "duration": 219,
    "start_time": "2024-12-28T20:47:39.671Z"
   },
   {
    "duration": 246,
    "start_time": "2024-12-28T20:55:31.018Z"
   },
   {
    "duration": 246,
    "start_time": "2024-12-28T20:55:54.010Z"
   },
   {
    "duration": 225,
    "start_time": "2024-12-28T20:56:03.177Z"
   },
   {
    "duration": 224,
    "start_time": "2024-12-28T20:56:07.000Z"
   },
   {
    "duration": 223,
    "start_time": "2024-12-28T20:56:12.799Z"
   },
   {
    "duration": 236,
    "start_time": "2024-12-28T20:56:16.207Z"
   },
   {
    "duration": 20,
    "start_time": "2024-12-28T20:56:24.895Z"
   },
   {
    "duration": 20,
    "start_time": "2024-12-28T20:56:39.698Z"
   },
   {
    "duration": 19,
    "start_time": "2024-12-28T20:56:46.282Z"
   },
   {
    "duration": 3,
    "start_time": "2024-12-28T20:57:33.995Z"
   },
   {
    "duration": 144,
    "start_time": "2024-12-28T20:57:34.393Z"
   },
   {
    "duration": 14,
    "start_time": "2024-12-28T20:57:34.841Z"
   },
   {
    "duration": 21,
    "start_time": "2024-12-28T20:57:35.526Z"
   },
   {
    "duration": 11,
    "start_time": "2024-12-28T20:57:49.571Z"
   },
   {
    "duration": 82,
    "start_time": "2024-12-28T20:58:29.786Z"
   },
   {
    "duration": 16,
    "start_time": "2024-12-28T20:58:38.147Z"
   },
   {
    "duration": 2,
    "start_time": "2024-12-28T20:59:26.266Z"
   },
   {
    "duration": 148,
    "start_time": "2024-12-28T20:59:26.675Z"
   },
   {
    "duration": 15,
    "start_time": "2024-12-28T20:59:27.104Z"
   },
   {
    "duration": 15,
    "start_time": "2024-12-28T20:59:27.767Z"
   },
   {
    "duration": 19,
    "start_time": "2024-12-28T20:59:36.759Z"
   },
   {
    "duration": 6,
    "start_time": "2024-12-28T21:00:47.522Z"
   },
   {
    "duration": 15,
    "start_time": "2024-12-28T21:00:56.648Z"
   },
   {
    "duration": 3,
    "start_time": "2024-12-28T21:04:15.019Z"
   },
   {
    "duration": 150,
    "start_time": "2024-12-28T21:04:15.695Z"
   },
   {
    "duration": 22,
    "start_time": "2024-12-28T21:04:16.684Z"
   },
   {
    "duration": 15,
    "start_time": "2024-12-28T21:04:17.211Z"
   },
   {
    "duration": 225,
    "start_time": "2024-12-28T21:04:20.494Z"
   },
   {
    "duration": 31,
    "start_time": "2024-12-28T21:08:01.225Z"
   },
   {
    "duration": 3,
    "start_time": "2024-12-28T21:10:30.726Z"
   },
   {
    "duration": 154,
    "start_time": "2024-12-28T21:10:31.100Z"
   },
   {
    "duration": 15,
    "start_time": "2024-12-28T21:10:31.510Z"
   },
   {
    "duration": 16,
    "start_time": "2024-12-28T21:10:32.149Z"
   },
   {
    "duration": 254,
    "start_time": "2024-12-28T21:10:36.223Z"
   },
   {
    "duration": 20,
    "start_time": "2024-12-28T21:12:41.938Z"
   },
   {
    "duration": 57,
    "start_time": "2024-12-29T11:39:00.182Z"
   },
   {
    "duration": 8,
    "start_time": "2024-12-29T11:39:01.790Z"
   },
   {
    "duration": 844,
    "start_time": "2024-12-29T11:39:07.108Z"
   },
   {
    "duration": 282,
    "start_time": "2024-12-29T11:39:07.955Z"
   },
   {
    "duration": 15,
    "start_time": "2024-12-29T11:39:08.503Z"
   },
   {
    "duration": 21,
    "start_time": "2024-12-29T11:39:09.480Z"
   },
   {
    "duration": 47,
    "start_time": "2024-12-29T11:45:39.419Z"
   },
   {
    "duration": 981,
    "start_time": "2024-12-29T11:50:08.211Z"
   },
   {
    "duration": 9,
    "start_time": "2024-12-29T11:52:47.137Z"
   },
   {
    "duration": 16,
    "start_time": "2024-12-29T11:53:59.372Z"
   },
   {
    "duration": 15,
    "start_time": "2024-12-29T11:54:04.742Z"
   },
   {
    "duration": 788,
    "start_time": "2024-12-29T11:54:26.593Z"
   },
   {
    "duration": 15,
    "start_time": "2024-12-29T11:54:29.186Z"
   },
   {
    "duration": 652,
    "start_time": "2024-12-29T11:54:32.694Z"
   },
   {
    "duration": 16,
    "start_time": "2024-12-29T11:54:46.422Z"
   },
   {
    "duration": 15,
    "start_time": "2024-12-29T11:54:47.645Z"
   },
   {
    "duration": 14,
    "start_time": "2024-12-29T11:54:48.216Z"
   },
   {
    "duration": 16,
    "start_time": "2024-12-29T11:54:48.652Z"
   },
   {
    "duration": 15,
    "start_time": "2024-12-29T11:54:49.104Z"
   },
   {
    "duration": 12,
    "start_time": "2024-12-29T11:54:57.213Z"
   },
   {
    "duration": 10,
    "start_time": "2024-12-29T11:55:08.108Z"
   },
   {
    "duration": 10,
    "start_time": "2024-12-29T11:55:32.799Z"
   },
   {
    "duration": 7,
    "start_time": "2024-12-29T11:55:36.892Z"
   },
   {
    "duration": 16,
    "start_time": "2024-12-29T11:55:40.492Z"
   },
   {
    "duration": 2,
    "start_time": "2024-12-29T11:59:16.756Z"
   },
   {
    "duration": 161,
    "start_time": "2024-12-29T11:59:17.133Z"
   },
   {
    "duration": 17,
    "start_time": "2024-12-29T11:59:17.541Z"
   },
   {
    "duration": 21,
    "start_time": "2024-12-29T11:59:17.828Z"
   },
   {
    "duration": 16,
    "start_time": "2024-12-29T11:59:19.931Z"
   },
   {
    "duration": 50,
    "start_time": "2024-12-29T11:59:20.969Z"
   },
   {
    "duration": 10,
    "start_time": "2024-12-29T11:59:21.782Z"
   },
   {
    "duration": 15,
    "start_time": "2024-12-29T11:59:25.556Z"
   },
   {
    "duration": 59,
    "start_time": "2024-12-29T12:00:23.164Z"
   },
   {
    "duration": 6,
    "start_time": "2024-12-29T12:00:59.638Z"
   },
   {
    "duration": 9,
    "start_time": "2024-12-29T12:01:36.849Z"
   },
   {
    "duration": 18,
    "start_time": "2024-12-29T12:01:38.181Z"
   },
   {
    "duration": 10,
    "start_time": "2024-12-29T12:01:57.963Z"
   },
   {
    "duration": 7,
    "start_time": "2024-12-29T12:02:30.426Z"
   },
   {
    "duration": 29,
    "start_time": "2024-12-29T12:29:43.386Z"
   },
   {
    "duration": 29,
    "start_time": "2024-12-29T12:29:52.506Z"
   },
   {
    "duration": 30,
    "start_time": "2024-12-29T12:30:23.324Z"
   },
   {
    "duration": 39,
    "start_time": "2024-12-29T12:31:27.215Z"
   },
   {
    "duration": 39,
    "start_time": "2024-12-29T12:32:27.625Z"
   },
   {
    "duration": 23,
    "start_time": "2024-12-29T12:36:04.844Z"
   },
   {
    "duration": 23,
    "start_time": "2024-12-29T12:36:08.829Z"
   },
   {
    "duration": 24,
    "start_time": "2024-12-29T12:36:13.992Z"
   },
   {
    "duration": 6,
    "start_time": "2024-12-29T12:38:33.704Z"
   },
   {
    "duration": 29,
    "start_time": "2024-12-29T12:38:37.561Z"
   },
   {
    "duration": 20,
    "start_time": "2024-12-29T12:38:41.922Z"
   },
   {
    "duration": 40,
    "start_time": "2024-12-29T12:41:07.304Z"
   },
   {
    "duration": 58,
    "start_time": "2024-12-29T12:42:27.488Z"
   },
   {
    "duration": 8,
    "start_time": "2024-12-29T12:45:50.370Z"
   },
   {
    "duration": 7,
    "start_time": "2024-12-29T12:45:54.491Z"
   },
   {
    "duration": 21,
    "start_time": "2024-12-29T13:16:29.674Z"
   },
   {
    "duration": 17,
    "start_time": "2024-12-29T13:16:38.563Z"
   },
   {
    "duration": 12,
    "start_time": "2024-12-29T13:23:24.080Z"
   },
   {
    "duration": 22,
    "start_time": "2024-12-29T13:25:30.235Z"
   },
   {
    "duration": 19,
    "start_time": "2024-12-29T13:25:43.117Z"
   },
   {
    "duration": 19,
    "start_time": "2024-12-29T13:26:55.292Z"
   },
   {
    "duration": 118,
    "start_time": "2024-12-29T13:28:01.228Z"
   },
   {
    "duration": 4,
    "start_time": "2024-12-29T13:28:05.283Z"
   },
   {
    "duration": 4,
    "start_time": "2024-12-29T13:28:11.866Z"
   },
   {
    "duration": 4,
    "start_time": "2024-12-29T13:28:22.014Z"
   },
   {
    "duration": 5,
    "start_time": "2024-12-29T13:28:25.549Z"
   },
   {
    "duration": 22,
    "start_time": "2024-12-29T13:29:10.808Z"
   },
   {
    "duration": 24,
    "start_time": "2024-12-29T13:29:52.765Z"
   },
   {
    "duration": 22,
    "start_time": "2024-12-29T13:30:04.633Z"
   },
   {
    "duration": 1405,
    "start_time": "2024-12-29T13:36:41.712Z"
   },
   {
    "duration": 1246,
    "start_time": "2024-12-29T13:36:50.356Z"
   },
   {
    "duration": 23,
    "start_time": "2024-12-29T13:36:53.563Z"
   },
   {
    "duration": 22,
    "start_time": "2024-12-29T13:37:14.427Z"
   },
   {
    "duration": 22,
    "start_time": "2024-12-29T13:39:04.420Z"
   },
   {
    "duration": 23,
    "start_time": "2024-12-29T16:41:27.112Z"
   },
   {
    "duration": 19,
    "start_time": "2024-12-29T17:01:51.823Z"
   },
   {
    "duration": 8,
    "start_time": "2024-12-29T17:03:58.952Z"
   },
   {
    "duration": 5,
    "start_time": "2024-12-29T17:12:43.478Z"
   },
   {
    "duration": 11,
    "start_time": "2024-12-29T17:13:06.990Z"
   },
   {
    "duration": 10,
    "start_time": "2024-12-29T17:13:15.922Z"
   },
   {
    "duration": 11,
    "start_time": "2024-12-29T17:13:34.823Z"
   },
   {
    "duration": 24,
    "start_time": "2024-12-29T17:13:50.127Z"
   },
   {
    "duration": 26,
    "start_time": "2024-12-29T17:15:51.337Z"
   },
   {
    "duration": 39,
    "start_time": "2024-12-29T17:16:22.299Z"
   },
   {
    "duration": 78,
    "start_time": "2024-12-29T17:16:29.552Z"
   },
   {
    "duration": 20,
    "start_time": "2024-12-29T17:16:32.218Z"
   },
   {
    "duration": 58,
    "start_time": "2025-01-02T20:11:25.705Z"
   },
   {
    "duration": 889,
    "start_time": "2025-01-02T20:11:31.525Z"
   },
   {
    "duration": 286,
    "start_time": "2025-01-02T20:11:32.417Z"
   },
   {
    "duration": 19,
    "start_time": "2025-01-02T20:11:32.705Z"
   },
   {
    "duration": 73,
    "start_time": "2025-01-02T20:11:32.726Z"
   },
   {
    "duration": 23,
    "start_time": "2025-01-02T20:11:34.330Z"
   },
   {
    "duration": 62,
    "start_time": "2025-01-02T20:11:35.455Z"
   },
   {
    "duration": 9,
    "start_time": "2025-01-02T20:11:35.682Z"
   },
   {
    "duration": 53,
    "start_time": "2025-01-02T20:11:36.717Z"
   },
   {
    "duration": 71,
    "start_time": "2025-01-02T20:11:40.771Z"
   },
   {
    "duration": 9,
    "start_time": "2025-01-02T20:11:42.069Z"
   },
   {
    "duration": 28,
    "start_time": "2025-01-02T20:11:45.383Z"
   },
   {
    "duration": 23,
    "start_time": "2025-01-02T20:12:01.349Z"
   },
   {
    "duration": 4,
    "start_time": "2025-01-02T20:12:34.062Z"
   },
   {
    "duration": 4,
    "start_time": "2025-01-02T20:12:43.334Z"
   },
   {
    "duration": 23,
    "start_time": "2025-01-02T20:13:51.760Z"
   },
   {
    "duration": 25,
    "start_time": "2025-01-02T20:14:11.631Z"
   },
   {
    "duration": 30,
    "start_time": "2025-01-02T20:14:19.654Z"
   },
   {
    "duration": 19,
    "start_time": "2025-01-02T20:33:17.928Z"
   },
   {
    "duration": 24,
    "start_time": "2025-01-02T20:33:36.728Z"
   },
   {
    "duration": 50,
    "start_time": "2025-01-02T20:33:42.817Z"
   },
   {
    "duration": 13,
    "start_time": "2025-01-02T20:33:44.886Z"
   },
   {
    "duration": 9,
    "start_time": "2025-01-02T20:34:19.859Z"
   },
   {
    "duration": 14,
    "start_time": "2025-01-02T20:34:48.758Z"
   },
   {
    "duration": 12,
    "start_time": "2025-01-02T20:35:45.519Z"
   },
   {
    "duration": 19,
    "start_time": "2025-01-02T20:37:19.236Z"
   },
   {
    "duration": 18,
    "start_time": "2025-01-02T20:37:37.577Z"
   },
   {
    "duration": 18,
    "start_time": "2025-01-02T20:38:51.761Z"
   },
   {
    "duration": 83,
    "start_time": "2025-01-02T20:39:45.505Z"
   },
   {
    "duration": 26,
    "start_time": "2025-01-02T20:39:52.395Z"
   },
   {
    "duration": 50,
    "start_time": "2025-01-02T20:40:10.224Z"
   },
   {
    "duration": 33,
    "start_time": "2025-01-02T20:40:39.391Z"
   },
   {
    "duration": 30,
    "start_time": "2025-01-02T20:40:54.501Z"
   },
   {
    "duration": 49,
    "start_time": "2025-01-02T20:43:30.214Z"
   },
   {
    "duration": 26,
    "start_time": "2025-01-02T20:44:06.025Z"
   },
   {
    "duration": 33,
    "start_time": "2025-01-02T20:47:25.789Z"
   },
   {
    "duration": 57,
    "start_time": "2025-01-02T21:06:18.712Z"
   },
   {
    "duration": 55,
    "start_time": "2025-01-02T21:06:50.834Z"
   },
   {
    "duration": 5,
    "start_time": "2025-01-02T21:07:04.272Z"
   },
   {
    "duration": 28,
    "start_time": "2025-01-02T21:07:15.463Z"
   },
   {
    "duration": 17,
    "start_time": "2025-01-02T21:08:04.795Z"
   },
   {
    "duration": 3,
    "start_time": "2025-01-02T21:08:33.117Z"
   },
   {
    "duration": 14,
    "start_time": "2025-01-02T21:08:36.322Z"
   },
   {
    "duration": 21,
    "start_time": "2025-01-02T21:08:45.128Z"
   },
   {
    "duration": 14,
    "start_time": "2025-01-02T21:09:05.689Z"
   },
   {
    "duration": 118,
    "start_time": "2025-01-02T21:09:13.133Z"
   },
   {
    "duration": 12,
    "start_time": "2025-01-02T21:09:20.107Z"
   },
   {
    "duration": 16,
    "start_time": "2025-01-02T21:09:28.750Z"
   },
   {
    "duration": 10,
    "start_time": "2025-01-02T21:09:33.195Z"
   },
   {
    "duration": 9,
    "start_time": "2025-01-02T21:10:05.385Z"
   },
   {
    "duration": 16,
    "start_time": "2025-01-02T21:10:54.008Z"
   },
   {
    "duration": 6,
    "start_time": "2025-01-02T21:16:45.615Z"
   },
   {
    "duration": 7,
    "start_time": "2025-01-02T21:17:03.661Z"
   },
   {
    "duration": 30,
    "start_time": "2025-01-02T21:18:12.123Z"
   },
   {
    "duration": 22,
    "start_time": "2025-01-02T21:19:15.676Z"
   },
   {
    "duration": 50,
    "start_time": "2025-01-02T21:19:36.429Z"
   },
   {
    "duration": 55,
    "start_time": "2025-01-02T21:19:59.641Z"
   },
   {
    "duration": 58,
    "start_time": "2025-01-02T21:20:05.788Z"
   },
   {
    "duration": 56,
    "start_time": "2025-01-02T21:20:42.846Z"
   },
   {
    "duration": 53,
    "start_time": "2025-01-02T21:20:54.487Z"
   },
   {
    "duration": 5,
    "start_time": "2025-01-02T21:26:09.448Z"
   },
   {
    "duration": 90,
    "start_time": "2025-01-02T21:26:14.995Z"
   },
   {
    "duration": 45,
    "start_time": "2025-01-02T21:26:40.939Z"
   },
   {
    "duration": 52,
    "start_time": "2025-01-02T21:27:19.446Z"
   },
   {
    "duration": 59,
    "start_time": "2025-01-02T21:27:32.321Z"
   },
   {
    "duration": 44,
    "start_time": "2025-01-02T21:27:42.469Z"
   },
   {
    "duration": 17,
    "start_time": "2025-01-02T21:27:51.663Z"
   },
   {
    "duration": 25,
    "start_time": "2025-01-02T21:28:15.655Z"
   },
   {
    "duration": 37,
    "start_time": "2025-01-02T21:28:30.713Z"
   },
   {
    "duration": 22,
    "start_time": "2025-01-02T22:03:07.445Z"
   },
   {
    "duration": 49,
    "start_time": "2025-01-03T22:28:55.639Z"
   },
   {
    "duration": 6,
    "start_time": "2025-01-03T22:29:09.892Z"
   },
   {
    "duration": 811,
    "start_time": "2025-01-03T22:29:17.222Z"
   },
   {
    "duration": 292,
    "start_time": "2025-01-03T22:29:18.036Z"
   },
   {
    "duration": 15,
    "start_time": "2025-01-03T22:29:18.331Z"
   },
   {
    "duration": 16,
    "start_time": "2025-01-03T22:29:18.348Z"
   },
   {
    "duration": 15,
    "start_time": "2025-01-03T22:29:19.117Z"
   },
   {
    "duration": 48,
    "start_time": "2025-01-03T22:29:19.632Z"
   },
   {
    "duration": 9,
    "start_time": "2025-01-03T22:29:20.180Z"
   },
   {
    "duration": 34,
    "start_time": "2025-01-03T22:29:20.755Z"
   },
   {
    "duration": 55,
    "start_time": "2025-01-03T22:29:22.212Z"
   },
   {
    "duration": 8,
    "start_time": "2025-01-03T22:29:23.185Z"
   },
   {
    "duration": 51,
    "start_time": "2025-01-03T22:29:24.038Z"
   },
   {
    "duration": 22,
    "start_time": "2025-01-03T22:29:25.399Z"
   },
   {
    "duration": 18,
    "start_time": "2025-01-03T22:29:27.183Z"
   },
   {
    "duration": 38,
    "start_time": "2025-01-03T22:29:34.502Z"
   },
   {
    "duration": 9,
    "start_time": "2025-01-03T22:29:42.548Z"
   },
   {
    "duration": 81,
    "start_time": "2025-01-03T22:29:50.933Z"
   },
   {
    "duration": 5,
    "start_time": "2025-01-03T22:29:54.275Z"
   },
   {
    "duration": 6,
    "start_time": "2025-01-03T22:30:01.727Z"
   },
   {
    "duration": 8,
    "start_time": "2025-01-03T22:33:04.899Z"
   },
   {
    "duration": 4,
    "start_time": "2025-01-03T22:36:34.952Z"
   },
   {
    "duration": 10,
    "start_time": "2025-01-03T22:36:54.931Z"
   },
   {
    "duration": 16,
    "start_time": "2025-01-03T22:37:43.205Z"
   },
   {
    "duration": 23,
    "start_time": "2025-01-03T22:38:06.410Z"
   },
   {
    "duration": 22,
    "start_time": "2025-01-03T22:38:08.046Z"
   },
   {
    "duration": 9,
    "start_time": "2025-01-03T22:41:13.064Z"
   },
   {
    "duration": 4,
    "start_time": "2025-01-03T22:44:02.918Z"
   },
   {
    "duration": 5,
    "start_time": "2025-01-03T22:44:11.189Z"
   },
   {
    "duration": 4,
    "start_time": "2025-01-03T22:44:13.278Z"
   },
   {
    "duration": 7,
    "start_time": "2025-01-03T22:44:38.129Z"
   },
   {
    "duration": 7,
    "start_time": "2025-01-03T22:45:10.118Z"
   },
   {
    "duration": 9,
    "start_time": "2025-01-03T22:45:25.826Z"
   },
   {
    "duration": 134,
    "start_time": "2025-01-03T22:57:31.920Z"
   },
   {
    "duration": 115,
    "start_time": "2025-01-03T22:58:17.010Z"
   },
   {
    "duration": 5,
    "start_time": "2025-01-03T22:58:31.431Z"
   },
   {
    "duration": 25,
    "start_time": "2025-01-03T22:58:47.752Z"
   },
   {
    "duration": 896,
    "start_time": "2025-01-04T15:43:19.005Z"
   },
   {
    "duration": 308,
    "start_time": "2025-01-04T15:43:19.904Z"
   },
   {
    "duration": 19,
    "start_time": "2025-01-04T15:43:20.214Z"
   },
   {
    "duration": 32,
    "start_time": "2025-01-04T15:43:20.235Z"
   },
   {
    "duration": 17,
    "start_time": "2025-01-04T15:43:20.822Z"
   },
   {
    "duration": 50,
    "start_time": "2025-01-04T15:43:21.366Z"
   },
   {
    "duration": 16,
    "start_time": "2025-01-04T15:43:21.713Z"
   },
   {
    "duration": 35,
    "start_time": "2025-01-04T15:43:22.716Z"
   },
   {
    "duration": 59,
    "start_time": "2025-01-04T15:43:25.586Z"
   },
   {
    "duration": 9,
    "start_time": "2025-01-04T15:43:27.772Z"
   },
   {
    "duration": 89,
    "start_time": "2025-01-04T15:43:29.743Z"
   },
   {
    "duration": 37,
    "start_time": "2025-01-04T15:43:34.939Z"
   },
   {
    "duration": 17,
    "start_time": "2025-01-04T15:43:37.840Z"
   },
   {
    "duration": 13,
    "start_time": "2025-01-04T15:43:40.508Z"
   },
   {
    "duration": 29,
    "start_time": "2025-01-04T15:43:42.012Z"
   },
   {
    "duration": 10,
    "start_time": "2025-01-04T15:43:45.792Z"
   },
   {
    "duration": 39,
    "start_time": "2025-01-04T15:43:54.876Z"
   },
   {
    "duration": 76,
    "start_time": "2025-01-04T15:44:10.416Z"
   },
   {
    "duration": 43,
    "start_time": "2025-01-04T15:44:21.162Z"
   },
   {
    "duration": 35,
    "start_time": "2025-01-04T15:44:35.262Z"
   },
   {
    "duration": 9,
    "start_time": "2025-01-04T15:50:16.099Z"
   },
   {
    "duration": 119,
    "start_time": "2025-01-04T15:50:29.670Z"
   },
   {
    "duration": 8,
    "start_time": "2025-01-04T15:50:33.675Z"
   },
   {
    "duration": 9,
    "start_time": "2025-01-04T15:50:55.511Z"
   },
   {
    "duration": 17,
    "start_time": "2025-01-04T16:00:15.024Z"
   },
   {
    "duration": 7,
    "start_time": "2025-01-04T16:00:34.248Z"
   },
   {
    "duration": 6,
    "start_time": "2025-01-04T16:00:41.750Z"
   },
   {
    "duration": 26,
    "start_time": "2025-01-04T16:00:59.043Z"
   },
   {
    "duration": 26,
    "start_time": "2025-01-04T16:10:21.169Z"
   },
   {
    "duration": 5,
    "start_time": "2025-01-04T16:55:24.534Z"
   },
   {
    "duration": 7,
    "start_time": "2025-01-04T16:55:36.197Z"
   },
   {
    "duration": 17,
    "start_time": "2025-01-04T16:58:56.066Z"
   },
   {
    "duration": 3,
    "start_time": "2025-01-04T16:59:01.610Z"
   },
   {
    "duration": 163,
    "start_time": "2025-01-04T16:59:01.944Z"
   },
   {
    "duration": 14,
    "start_time": "2025-01-04T16:59:02.278Z"
   },
   {
    "duration": 21,
    "start_time": "2025-01-04T16:59:02.440Z"
   },
   {
    "duration": 15,
    "start_time": "2025-01-04T16:59:03.210Z"
   },
   {
    "duration": 43,
    "start_time": "2025-01-04T16:59:03.603Z"
   },
   {
    "duration": 9,
    "start_time": "2025-01-04T16:59:03.883Z"
   },
   {
    "duration": 38,
    "start_time": "2025-01-04T16:59:04.348Z"
   },
   {
    "duration": 19,
    "start_time": "2025-01-04T16:59:05.357Z"
   },
   {
    "duration": 9,
    "start_time": "2025-01-04T16:59:06.677Z"
   },
   {
    "duration": 47,
    "start_time": "2025-01-04T16:59:07.535Z"
   },
   {
    "duration": 24,
    "start_time": "2025-01-04T16:59:09.397Z"
   },
   {
    "duration": 17,
    "start_time": "2025-01-04T16:59:11.812Z"
   },
   {
    "duration": 51,
    "start_time": "2025-01-04T16:59:24.633Z"
   },
   {
    "duration": 9,
    "start_time": "2025-01-04T16:59:45.798Z"
   },
   {
    "duration": 29,
    "start_time": "2025-01-04T16:59:46.726Z"
   },
   {
    "duration": 11,
    "start_time": "2025-01-04T16:59:47.417Z"
   },
   {
    "duration": 45,
    "start_time": "2025-01-04T16:59:47.997Z"
   },
   {
    "duration": 15,
    "start_time": "2025-01-04T16:59:48.168Z"
   },
   {
    "duration": 14,
    "start_time": "2025-01-04T16:59:52.025Z"
   },
   {
    "duration": 33,
    "start_time": "2025-01-04T17:00:01.675Z"
   },
   {
    "duration": 13,
    "start_time": "2025-01-04T17:00:05.154Z"
   },
   {
    "duration": 38,
    "start_time": "2025-01-04T17:01:11.651Z"
   },
   {
    "duration": 45,
    "start_time": "2025-01-04T17:01:27.744Z"
   },
   {
    "duration": 30,
    "start_time": "2025-01-04T17:01:39.853Z"
   },
   {
    "duration": 38,
    "start_time": "2025-01-04T17:08:57.257Z"
   },
   {
    "duration": 29,
    "start_time": "2025-01-04T17:08:58.078Z"
   },
   {
    "duration": 29,
    "start_time": "2025-01-04T17:09:29.840Z"
   },
   {
    "duration": 20,
    "start_time": "2025-01-04T17:09:31.911Z"
   },
   {
    "duration": 19,
    "start_time": "2025-01-04T17:09:37.948Z"
   },
   {
    "duration": 15,
    "start_time": "2025-01-04T17:09:43.430Z"
   },
   {
    "duration": 10,
    "start_time": "2025-01-04T17:10:09.163Z"
   },
   {
    "duration": 11,
    "start_time": "2025-01-04T17:10:33.106Z"
   },
   {
    "duration": 26,
    "start_time": "2025-01-04T17:10:49.846Z"
   },
   {
    "duration": 24,
    "start_time": "2025-01-04T17:17:10.997Z"
   },
   {
    "duration": 23,
    "start_time": "2025-01-04T17:58:15.566Z"
   },
   {
    "duration": 58,
    "start_time": "2025-01-04T17:58:22.111Z"
   },
   {
    "duration": 41,
    "start_time": "2025-01-04T17:58:31.729Z"
   },
   {
    "duration": 686,
    "start_time": "2025-01-04T17:59:36.012Z"
   },
   {
    "duration": 168,
    "start_time": "2025-01-04T17:59:36.700Z"
   },
   {
    "duration": 16,
    "start_time": "2025-01-04T17:59:36.870Z"
   },
   {
    "duration": 29,
    "start_time": "2025-01-04T17:59:36.888Z"
   },
   {
    "duration": 20,
    "start_time": "2025-01-04T17:59:36.919Z"
   },
   {
    "duration": 56,
    "start_time": "2025-01-04T17:59:36.941Z"
   },
   {
    "duration": 9,
    "start_time": "2025-01-04T17:59:36.999Z"
   },
   {
    "duration": 76,
    "start_time": "2025-01-04T17:59:37.010Z"
   },
   {
    "duration": 67,
    "start_time": "2025-01-04T17:59:37.088Z"
   },
   {
    "duration": 9,
    "start_time": "2025-01-04T17:59:37.158Z"
   },
   {
    "duration": 79,
    "start_time": "2025-01-04T17:59:37.169Z"
   },
   {
    "duration": 26,
    "start_time": "2025-01-04T17:59:37.250Z"
   },
   {
    "duration": 49,
    "start_time": "2025-01-04T17:59:37.277Z"
   },
   {
    "duration": 10,
    "start_time": "2025-01-04T17:59:37.327Z"
   },
   {
    "duration": 40,
    "start_time": "2025-01-04T17:59:37.339Z"
   },
   {
    "duration": 7,
    "start_time": "2025-01-04T17:59:37.381Z"
   },
   {
    "duration": 58,
    "start_time": "2025-01-04T17:59:37.390Z"
   },
   {
    "duration": 25,
    "start_time": "2025-01-04T17:59:37.450Z"
   },
   {
    "duration": 29,
    "start_time": "2025-01-04T17:59:43.932Z"
   },
   {
    "duration": 19,
    "start_time": "2025-01-04T17:59:53.636Z"
   },
   {
    "duration": 19,
    "start_time": "2025-01-04T18:06:31.020Z"
   },
   {
    "duration": 23,
    "start_time": "2025-01-04T18:06:34.526Z"
   },
   {
    "duration": 73,
    "start_time": "2025-01-04T18:07:35.225Z"
   },
   {
    "duration": 16,
    "start_time": "2025-01-04T18:07:45.045Z"
   },
   {
    "duration": 24,
    "start_time": "2025-01-04T18:43:29.410Z"
   },
   {
    "duration": 95,
    "start_time": "2025-01-04T20:24:41.059Z"
   },
   {
    "duration": 11,
    "start_time": "2025-01-04T20:24:44.157Z"
   },
   {
    "duration": 21,
    "start_time": "2025-01-04T20:24:55.098Z"
   },
   {
    "duration": 41,
    "start_time": "2025-01-04T20:26:55.892Z"
   },
   {
    "duration": 17,
    "start_time": "2025-01-04T20:28:54.470Z"
   },
   {
    "duration": 5,
    "start_time": "2025-01-04T20:37:36.244Z"
   },
   {
    "duration": 4,
    "start_time": "2025-01-04T20:37:37.304Z"
   },
   {
    "duration": 12,
    "start_time": "2025-01-04T20:37:46.730Z"
   },
   {
    "duration": 24,
    "start_time": "2025-01-04T20:37:53.821Z"
   },
   {
    "duration": 33,
    "start_time": "2025-01-04T20:38:10.618Z"
   },
   {
    "duration": 37,
    "start_time": "2025-01-04T20:38:31.648Z"
   },
   {
    "duration": 35,
    "start_time": "2025-01-04T20:38:56.958Z"
   },
   {
    "duration": 47,
    "start_time": "2025-01-05T12:13:46.191Z"
   },
   {
    "duration": 855,
    "start_time": "2025-01-05T12:13:54.824Z"
   },
   {
    "duration": 280,
    "start_time": "2025-01-05T12:13:55.682Z"
   },
   {
    "duration": 17,
    "start_time": "2025-01-05T12:13:55.964Z"
   },
   {
    "duration": 33,
    "start_time": "2025-01-05T12:13:55.983Z"
   },
   {
    "duration": 32,
    "start_time": "2025-01-05T12:13:56.019Z"
   },
   {
    "duration": 60,
    "start_time": "2025-01-05T12:13:56.053Z"
   },
   {
    "duration": 17,
    "start_time": "2025-01-05T12:13:56.114Z"
   },
   {
    "duration": 44,
    "start_time": "2025-01-05T12:13:56.133Z"
   },
   {
    "duration": 60,
    "start_time": "2025-01-05T12:13:56.179Z"
   },
   {
    "duration": 7,
    "start_time": "2025-01-05T12:13:56.241Z"
   },
   {
    "duration": 50,
    "start_time": "2025-01-05T12:13:56.249Z"
   },
   {
    "duration": 48,
    "start_time": "2025-01-05T12:13:56.301Z"
   },
   {
    "duration": 75,
    "start_time": "2025-01-05T12:13:56.351Z"
   },
   {
    "duration": 51,
    "start_time": "2025-01-05T12:13:56.428Z"
   },
   {
    "duration": 53,
    "start_time": "2025-01-05T12:13:56.480Z"
   },
   {
    "duration": 8,
    "start_time": "2025-01-05T12:13:56.535Z"
   },
   {
    "duration": 30,
    "start_time": "2025-01-05T12:13:56.544Z"
   },
   {
    "duration": 77,
    "start_time": "2025-01-05T12:13:56.576Z"
   },
   {
    "duration": 59,
    "start_time": "2025-01-05T12:13:56.655Z"
   },
   {
    "duration": 11,
    "start_time": "2025-01-05T12:13:56.716Z"
   },
   {
    "duration": 16,
    "start_time": "2025-01-05T12:13:56.729Z"
   },
   {
    "duration": 30,
    "start_time": "2025-01-05T12:13:56.747Z"
   },
   {
    "duration": 6,
    "start_time": "2025-01-05T12:13:56.779Z"
   },
   {
    "duration": 5,
    "start_time": "2025-01-05T12:14:30.570Z"
   },
   {
    "duration": 5,
    "start_time": "2025-01-05T12:14:44.093Z"
   },
   {
    "duration": 5,
    "start_time": "2025-01-05T12:16:41.594Z"
   },
   {
    "duration": 112,
    "start_time": "2025-01-05T12:24:46.068Z"
   },
   {
    "duration": 128,
    "start_time": "2025-01-05T12:24:53.596Z"
   },
   {
    "duration": 65,
    "start_time": "2025-01-05T12:25:26.711Z"
   },
   {
    "duration": 37,
    "start_time": "2025-01-05T12:25:45.806Z"
   },
   {
    "duration": 28,
    "start_time": "2025-01-05T12:26:09.924Z"
   },
   {
    "duration": 25,
    "start_time": "2025-01-05T12:26:20.136Z"
   },
   {
    "duration": 19,
    "start_time": "2025-01-05T12:26:30.347Z"
   },
   {
    "duration": 24,
    "start_time": "2025-01-05T12:26:33.518Z"
   },
   {
    "duration": 88,
    "start_time": "2025-01-05T12:28:44.080Z"
   },
   {
    "duration": 99,
    "start_time": "2025-01-05T12:28:47.059Z"
   },
   {
    "duration": 17,
    "start_time": "2025-01-05T12:29:00.215Z"
   },
   {
    "duration": 24,
    "start_time": "2025-01-05T12:29:15.080Z"
   },
   {
    "duration": 28,
    "start_time": "2025-01-05T12:30:23.649Z"
   },
   {
    "duration": 22,
    "start_time": "2025-01-05T12:30:33.762Z"
   },
   {
    "duration": 16,
    "start_time": "2025-01-05T12:30:37.300Z"
   },
   {
    "duration": 9,
    "start_time": "2025-01-05T12:31:00.637Z"
   },
   {
    "duration": 138,
    "start_time": "2025-01-05T12:33:10.663Z"
   },
   {
    "duration": 119,
    "start_time": "2025-01-05T12:33:33.064Z"
   },
   {
    "duration": 134,
    "start_time": "2025-01-05T12:34:05.920Z"
   },
   {
    "duration": 169,
    "start_time": "2025-01-05T12:34:28.823Z"
   },
   {
    "duration": 126,
    "start_time": "2025-01-05T12:34:49.414Z"
   },
   {
    "duration": 122,
    "start_time": "2025-01-05T12:35:04.113Z"
   },
   {
    "duration": 121,
    "start_time": "2025-01-05T12:35:21.455Z"
   },
   {
    "duration": 121,
    "start_time": "2025-01-05T12:35:34.548Z"
   },
   {
    "duration": 126,
    "start_time": "2025-01-05T12:36:32.856Z"
   },
   {
    "duration": 124,
    "start_time": "2025-01-05T12:37:27.838Z"
   },
   {
    "duration": 157,
    "start_time": "2025-01-05T12:37:55.090Z"
   },
   {
    "duration": 637,
    "start_time": "2025-01-05T12:38:39.171Z"
   },
   {
    "duration": 168,
    "start_time": "2025-01-05T12:38:39.810Z"
   },
   {
    "duration": 21,
    "start_time": "2025-01-05T12:38:39.980Z"
   },
   {
    "duration": 22,
    "start_time": "2025-01-05T12:38:40.004Z"
   },
   {
    "duration": 24,
    "start_time": "2025-01-05T12:38:40.027Z"
   },
   {
    "duration": 47,
    "start_time": "2025-01-05T12:38:40.053Z"
   },
   {
    "duration": 8,
    "start_time": "2025-01-05T12:38:40.102Z"
   },
   {
    "duration": 42,
    "start_time": "2025-01-05T12:38:40.134Z"
   },
   {
    "duration": 59,
    "start_time": "2025-01-05T12:38:40.178Z"
   },
   {
    "duration": 10,
    "start_time": "2025-01-05T12:38:40.241Z"
   },
   {
    "duration": 49,
    "start_time": "2025-01-05T12:38:40.252Z"
   },
   {
    "duration": 52,
    "start_time": "2025-01-05T12:38:40.303Z"
   },
   {
    "duration": 18,
    "start_time": "2025-01-05T12:38:40.357Z"
   },
   {
    "duration": 9,
    "start_time": "2025-01-05T12:38:40.376Z"
   },
   {
    "duration": 22,
    "start_time": "2025-01-05T12:38:40.386Z"
   },
   {
    "duration": 12,
    "start_time": "2025-01-05T12:38:40.431Z"
   },
   {
    "duration": 44,
    "start_time": "2025-01-05T12:38:40.446Z"
   },
   {
    "duration": 64,
    "start_time": "2025-01-05T12:38:40.492Z"
   },
   {
    "duration": 22,
    "start_time": "2025-01-05T12:38:40.558Z"
   },
   {
    "duration": 115,
    "start_time": "2025-01-05T12:38:40.581Z"
   },
   {
    "duration": 94,
    "start_time": "2025-01-05T12:38:40.698Z"
   },
   {
    "duration": 33,
    "start_time": "2025-01-05T12:38:40.793Z"
   },
   {
    "duration": 156,
    "start_time": "2025-01-05T12:38:40.827Z"
   },
   {
    "duration": 48,
    "start_time": "2025-01-06T12:15:55.763Z"
   },
   {
    "duration": 7,
    "start_time": "2025-01-06T12:16:51.657Z"
   },
   {
    "duration": 851,
    "start_time": "2025-01-06T12:40:32.813Z"
   },
   {
    "duration": 281,
    "start_time": "2025-01-06T12:40:33.667Z"
   },
   {
    "duration": 15,
    "start_time": "2025-01-06T12:40:33.949Z"
   },
   {
    "duration": 39,
    "start_time": "2025-01-06T12:40:33.967Z"
   },
   {
    "duration": 64,
    "start_time": "2025-01-06T12:40:34.008Z"
   },
   {
    "duration": 46,
    "start_time": "2025-01-06T12:40:34.074Z"
   },
   {
    "duration": 15,
    "start_time": "2025-01-06T12:40:34.122Z"
   },
   {
    "duration": 70,
    "start_time": "2025-01-06T12:40:34.139Z"
   },
   {
    "duration": 55,
    "start_time": "2025-01-06T12:40:34.211Z"
   },
   {
    "duration": 8,
    "start_time": "2025-01-06T12:40:34.268Z"
   },
   {
    "duration": 71,
    "start_time": "2025-01-06T12:40:34.278Z"
   },
   {
    "duration": 41,
    "start_time": "2025-01-06T12:40:34.351Z"
   },
   {
    "duration": 30,
    "start_time": "2025-01-06T12:40:34.393Z"
   },
   {
    "duration": 57,
    "start_time": "2025-01-06T12:40:34.425Z"
   },
   {
    "duration": 123,
    "start_time": "2025-01-06T12:40:34.484Z"
   },
   {
    "duration": 6,
    "start_time": "2025-01-06T12:40:34.609Z"
   },
   {
    "duration": 41,
    "start_time": "2025-01-06T12:40:34.617Z"
   },
   {
    "duration": 54,
    "start_time": "2025-01-06T12:40:34.660Z"
   },
   {
    "duration": 25,
    "start_time": "2025-01-06T12:40:34.715Z"
   },
   {
    "duration": 30,
    "start_time": "2025-01-06T12:40:34.741Z"
   },
   {
    "duration": 34,
    "start_time": "2025-01-06T12:40:34.773Z"
   },
   {
    "duration": 42,
    "start_time": "2025-01-06T12:40:34.808Z"
   },
   {
    "duration": 198,
    "start_time": "2025-01-06T12:40:34.852Z"
   },
   {
    "duration": 144,
    "start_time": "2025-01-06T12:40:47.312Z"
   },
   {
    "duration": 146,
    "start_time": "2025-01-06T12:40:51.647Z"
   },
   {
    "duration": 822,
    "start_time": "2025-01-06T21:08:54.018Z"
   },
   {
    "duration": 289,
    "start_time": "2025-01-06T21:08:54.842Z"
   },
   {
    "duration": 16,
    "start_time": "2025-01-06T21:08:55.132Z"
   },
   {
    "duration": 21,
    "start_time": "2025-01-06T21:08:55.149Z"
   },
   {
    "duration": 16,
    "start_time": "2025-01-06T21:08:55.172Z"
   },
   {
    "duration": 67,
    "start_time": "2025-01-06T21:08:55.189Z"
   },
   {
    "duration": 9,
    "start_time": "2025-01-06T21:08:55.258Z"
   },
   {
    "duration": 47,
    "start_time": "2025-01-06T21:08:55.268Z"
   },
   {
    "duration": 56,
    "start_time": "2025-01-06T21:08:55.316Z"
   },
   {
    "duration": 9,
    "start_time": "2025-01-06T21:08:55.373Z"
   },
   {
    "duration": 73,
    "start_time": "2025-01-06T21:08:55.384Z"
   },
   {
    "duration": 25,
    "start_time": "2025-01-06T21:08:55.459Z"
   },
   {
    "duration": 44,
    "start_time": "2025-01-06T21:08:55.486Z"
   },
   {
    "duration": 10,
    "start_time": "2025-01-06T21:08:55.532Z"
   },
   {
    "duration": 24,
    "start_time": "2025-01-06T21:08:55.543Z"
   },
   {
    "duration": 8,
    "start_time": "2025-01-06T21:08:55.569Z"
   },
   {
    "duration": 57,
    "start_time": "2025-01-06T21:08:55.579Z"
   },
   {
    "duration": 16,
    "start_time": "2025-01-06T21:08:55.637Z"
   },
   {
    "duration": 26,
    "start_time": "2025-01-06T21:08:55.654Z"
   },
   {
    "duration": 11,
    "start_time": "2025-01-06T21:08:55.682Z"
   },
   {
    "duration": 15,
    "start_time": "2025-01-06T21:08:55.716Z"
   },
   {
    "duration": 38,
    "start_time": "2025-01-06T21:08:55.733Z"
   },
   {
    "duration": 179,
    "start_time": "2025-01-06T21:08:55.772Z"
   },
   {
    "duration": 148,
    "start_time": "2025-01-06T21:29:29.394Z"
   },
   {
    "duration": 150,
    "start_time": "2025-01-06T21:29:43.607Z"
   },
   {
    "duration": 206,
    "start_time": "2025-01-06T21:30:12.955Z"
   },
   {
    "duration": 120,
    "start_time": "2025-01-06T21:48:12.812Z"
   },
   {
    "duration": 290,
    "start_time": "2025-01-06T21:50:20.943Z"
   },
   {
    "duration": 150,
    "start_time": "2025-01-06T21:50:29.738Z"
   },
   {
    "duration": 47,
    "start_time": "2025-01-06T21:51:37.729Z"
   },
   {
    "duration": 65,
    "start_time": "2025-01-06T21:54:44.039Z"
   },
   {
    "duration": 62,
    "start_time": "2025-01-06T21:55:05.428Z"
   },
   {
    "duration": 65,
    "start_time": "2025-01-06T21:55:11.852Z"
   },
   {
    "duration": 69,
    "start_time": "2025-01-06T21:55:20.152Z"
   },
   {
    "duration": 17,
    "start_time": "2025-01-06T21:55:34.337Z"
   },
   {
    "duration": 1790,
    "start_time": "2025-01-06T21:55:36.926Z"
   },
   {
    "duration": 1793,
    "start_time": "2025-01-06T21:55:38.992Z"
   },
   {
    "duration": 79,
    "start_time": "2025-01-06T21:56:41.680Z"
   },
   {
    "duration": 17,
    "start_time": "2025-01-06T21:56:45.183Z"
   },
   {
    "duration": 23,
    "start_time": "2025-01-06T22:19:00.921Z"
   },
   {
    "duration": 25,
    "start_time": "2025-01-06T22:19:08.067Z"
   },
   {
    "duration": 140,
    "start_time": "2025-01-06T22:19:11.736Z"
   },
   {
    "duration": 206,
    "start_time": "2025-01-06T22:19:19.076Z"
   },
   {
    "duration": 10,
    "start_time": "2025-01-06T22:22:03.446Z"
   },
   {
    "duration": 152,
    "start_time": "2025-01-06T22:22:05.719Z"
   },
   {
    "duration": 154,
    "start_time": "2025-01-06T22:25:00.227Z"
   },
   {
    "duration": 180,
    "start_time": "2025-01-06T22:25:24.945Z"
   },
   {
    "duration": 148,
    "start_time": "2025-01-06T22:25:44.144Z"
   },
   {
    "duration": 183,
    "start_time": "2025-01-06T22:27:21.674Z"
   },
   {
    "duration": 188,
    "start_time": "2025-01-06T22:27:29.212Z"
   },
   {
    "duration": 241,
    "start_time": "2025-01-06T22:38:00.977Z"
   },
   {
    "duration": 16,
    "start_time": "2025-01-06T22:51:41.552Z"
   },
   {
    "duration": 3,
    "start_time": "2025-01-06T22:51:44.101Z"
   },
   {
    "duration": 35,
    "start_time": "2025-01-06T22:56:52.086Z"
   },
   {
    "duration": 34,
    "start_time": "2025-01-06T22:59:01.103Z"
   },
   {
    "duration": 10,
    "start_time": "2025-01-06T23:03:19.895Z"
   },
   {
    "duration": 34,
    "start_time": "2025-01-06T23:03:34.158Z"
   },
   {
    "duration": 11,
    "start_time": "2025-01-06T23:04:08.588Z"
   },
   {
    "duration": 15,
    "start_time": "2025-01-06T23:04:14.904Z"
   },
   {
    "duration": 16,
    "start_time": "2025-01-06T23:04:20.812Z"
   },
   {
    "duration": 17,
    "start_time": "2025-01-06T23:07:41.377Z"
   },
   {
    "duration": 16,
    "start_time": "2025-01-06T23:08:22.495Z"
   },
   {
    "duration": 200,
    "start_time": "2025-01-06T23:08:24.329Z"
   },
   {
    "duration": 157,
    "start_time": "2025-01-06T23:08:43.149Z"
   },
   {
    "duration": 163,
    "start_time": "2025-01-06T23:09:11.464Z"
   },
   {
    "duration": 1422,
    "start_time": "2025-01-06T23:30:31.126Z"
   },
   {
    "duration": 194,
    "start_time": "2025-01-06T23:30:48.947Z"
   },
   {
    "duration": 214,
    "start_time": "2025-01-06T23:32:15.636Z"
   },
   {
    "duration": 194,
    "start_time": "2025-01-06T23:32:19.439Z"
   },
   {
    "duration": 209,
    "start_time": "2025-01-06T23:32:28.990Z"
   },
   {
    "duration": 14,
    "start_time": "2025-01-06T23:42:30.632Z"
   },
   {
    "duration": 13,
    "start_time": "2025-01-06T23:43:10.800Z"
   },
   {
    "duration": 23,
    "start_time": "2025-01-06T23:44:27.429Z"
   },
   {
    "duration": 89,
    "start_time": "2025-01-06T23:46:31.208Z"
   },
   {
    "duration": 29,
    "start_time": "2025-01-06T23:46:42.214Z"
   },
   {
    "duration": 41,
    "start_time": "2025-01-06T23:46:50.505Z"
   },
   {
    "duration": 41,
    "start_time": "2025-01-06T23:48:15.087Z"
   },
   {
    "duration": 44,
    "start_time": "2025-01-06T23:48:49.319Z"
   },
   {
    "duration": 44,
    "start_time": "2025-01-06T23:49:22.666Z"
   },
   {
    "duration": 41,
    "start_time": "2025-01-06T23:49:28.290Z"
   },
   {
    "duration": 21,
    "start_time": "2025-01-06T23:59:34.080Z"
   },
   {
    "duration": 20,
    "start_time": "2025-01-06T23:59:42.008Z"
   },
   {
    "duration": 20,
    "start_time": "2025-01-07T00:00:23.991Z"
   },
   {
    "duration": 22,
    "start_time": "2025-01-07T00:00:25.444Z"
   },
   {
    "duration": 21,
    "start_time": "2025-01-07T00:07:25.744Z"
   },
   {
    "duration": 21,
    "start_time": "2025-01-07T00:07:28.444Z"
   },
   {
    "duration": 21,
    "start_time": "2025-01-07T00:07:29.401Z"
   },
   {
    "duration": 31,
    "start_time": "2025-01-07T00:07:45.054Z"
   },
   {
    "duration": 34,
    "start_time": "2025-01-07T00:07:50.741Z"
   },
   {
    "duration": 32,
    "start_time": "2025-01-07T00:07:52.055Z"
   },
   {
    "duration": 31,
    "start_time": "2025-01-07T00:07:52.583Z"
   },
   {
    "duration": 23,
    "start_time": "2025-01-07T00:07:56.392Z"
   },
   {
    "duration": 23,
    "start_time": "2025-01-07T00:08:44.696Z"
   },
   {
    "duration": 19,
    "start_time": "2025-01-07T00:09:12.449Z"
   },
   {
    "duration": 20,
    "start_time": "2025-01-07T00:09:21.319Z"
   },
   {
    "duration": 20,
    "start_time": "2025-01-07T00:09:25.171Z"
   },
   {
    "duration": 34,
    "start_time": "2025-01-07T00:09:32.399Z"
   },
   {
    "duration": 677,
    "start_time": "2025-01-07T00:10:17.512Z"
   },
   {
    "duration": 165,
    "start_time": "2025-01-07T00:10:18.191Z"
   },
   {
    "duration": 15,
    "start_time": "2025-01-07T00:10:18.358Z"
   },
   {
    "duration": 17,
    "start_time": "2025-01-07T00:10:18.375Z"
   },
   {
    "duration": 15,
    "start_time": "2025-01-07T00:10:18.393Z"
   },
   {
    "duration": 44,
    "start_time": "2025-01-07T00:10:18.415Z"
   },
   {
    "duration": 8,
    "start_time": "2025-01-07T00:10:18.461Z"
   },
   {
    "duration": 56,
    "start_time": "2025-01-07T00:10:18.470Z"
   },
   {
    "duration": 51,
    "start_time": "2025-01-07T00:10:18.528Z"
   },
   {
    "duration": 7,
    "start_time": "2025-01-07T00:10:18.582Z"
   },
   {
    "duration": 74,
    "start_time": "2025-01-07T00:10:18.590Z"
   },
   {
    "duration": 49,
    "start_time": "2025-01-07T00:10:18.665Z"
   },
   {
    "duration": 18,
    "start_time": "2025-01-07T00:10:18.716Z"
   },
   {
    "duration": 8,
    "start_time": "2025-01-07T00:10:18.736Z"
   },
   {
    "duration": 19,
    "start_time": "2025-01-07T00:10:18.745Z"
   },
   {
    "duration": 7,
    "start_time": "2025-01-07T00:10:18.766Z"
   },
   {
    "duration": 29,
    "start_time": "2025-01-07T00:10:18.814Z"
   },
   {
    "duration": 17,
    "start_time": "2025-01-07T00:10:18.845Z"
   },
   {
    "duration": 53,
    "start_time": "2025-01-07T00:10:18.863Z"
   },
   {
    "duration": 11,
    "start_time": "2025-01-07T00:10:18.918Z"
   },
   {
    "duration": 41,
    "start_time": "2025-01-07T00:10:18.931Z"
   },
   {
    "duration": 31,
    "start_time": "2025-01-07T00:10:18.974Z"
   },
   {
    "duration": 181,
    "start_time": "2025-01-07T00:10:19.007Z"
   },
   {
    "duration": 177,
    "start_time": "2025-01-07T00:10:19.189Z"
   },
   {
    "duration": 22,
    "start_time": "2025-01-07T00:10:19.368Z"
   },
   {
    "duration": 391,
    "start_time": "2025-01-07T00:10:19.391Z"
   },
   {
    "duration": 18,
    "start_time": "2025-01-07T00:13:39.264Z"
   },
   {
    "duration": 644,
    "start_time": "2025-01-07T00:15:27.628Z"
   },
   {
    "duration": 162,
    "start_time": "2025-01-07T00:15:28.274Z"
   },
   {
    "duration": 15,
    "start_time": "2025-01-07T00:15:28.438Z"
   },
   {
    "duration": 17,
    "start_time": "2025-01-07T00:15:28.455Z"
   },
   {
    "duration": 51,
    "start_time": "2025-01-07T00:15:28.473Z"
   },
   {
    "duration": 44,
    "start_time": "2025-01-07T00:15:28.526Z"
   },
   {
    "duration": 8,
    "start_time": "2025-01-07T00:15:28.572Z"
   },
   {
    "duration": 59,
    "start_time": "2025-01-07T00:15:28.582Z"
   },
   {
    "duration": 73,
    "start_time": "2025-01-07T00:15:28.643Z"
   },
   {
    "duration": 7,
    "start_time": "2025-01-07T00:15:28.719Z"
   },
   {
    "duration": 48,
    "start_time": "2025-01-07T00:15:28.728Z"
   },
   {
    "duration": 55,
    "start_time": "2025-01-07T00:15:28.777Z"
   },
   {
    "duration": 18,
    "start_time": "2025-01-07T00:15:28.833Z"
   },
   {
    "duration": 8,
    "start_time": "2025-01-07T00:15:28.852Z"
   },
   {
    "duration": 58,
    "start_time": "2025-01-07T00:15:28.862Z"
   },
   {
    "duration": 8,
    "start_time": "2025-01-07T00:15:28.921Z"
   },
   {
    "duration": 28,
    "start_time": "2025-01-07T00:15:28.931Z"
   },
   {
    "duration": 54,
    "start_time": "2025-01-07T00:15:28.961Z"
   },
   {
    "duration": 25,
    "start_time": "2025-01-07T00:15:29.017Z"
   },
   {
    "duration": 12,
    "start_time": "2025-01-07T00:15:29.043Z"
   },
   {
    "duration": 25,
    "start_time": "2025-01-07T00:15:29.056Z"
   },
   {
    "duration": 59,
    "start_time": "2025-01-07T00:15:29.082Z"
   },
   {
    "duration": 184,
    "start_time": "2025-01-07T00:15:29.143Z"
   },
   {
    "duration": 180,
    "start_time": "2025-01-07T00:15:29.328Z"
   },
   {
    "duration": 22,
    "start_time": "2025-01-07T00:15:29.510Z"
   },
   {
    "duration": 538,
    "start_time": "2025-01-07T00:15:29.534Z"
   },
   {
    "duration": 161,
    "start_time": "2025-01-07T00:17:19.199Z"
   },
   {
    "duration": 20,
    "start_time": "2025-01-07T00:17:57.539Z"
   },
   {
    "duration": 21,
    "start_time": "2025-01-07T00:18:11.195Z"
   },
   {
    "duration": 20,
    "start_time": "2025-01-07T00:18:22.931Z"
   },
   {
    "duration": 20,
    "start_time": "2025-01-07T00:18:23.726Z"
   },
   {
    "duration": 678,
    "start_time": "2025-01-07T00:18:28.094Z"
   },
   {
    "duration": 164,
    "start_time": "2025-01-07T00:18:28.774Z"
   },
   {
    "duration": 17,
    "start_time": "2025-01-07T00:18:28.941Z"
   },
   {
    "duration": 51,
    "start_time": "2025-01-07T00:18:28.961Z"
   },
   {
    "duration": 75,
    "start_time": "2025-01-07T00:18:29.014Z"
   },
   {
    "duration": 76,
    "start_time": "2025-01-07T00:18:29.091Z"
   },
   {
    "duration": 22,
    "start_time": "2025-01-07T00:18:29.169Z"
   },
   {
    "duration": 81,
    "start_time": "2025-01-07T00:18:29.193Z"
   },
   {
    "duration": 108,
    "start_time": "2025-01-07T00:18:29.275Z"
   },
   {
    "duration": 8,
    "start_time": "2025-01-07T00:18:29.384Z"
   },
   {
    "duration": 82,
    "start_time": "2025-01-07T00:18:29.394Z"
   },
   {
    "duration": 40,
    "start_time": "2025-01-07T00:18:29.478Z"
   },
   {
    "duration": 60,
    "start_time": "2025-01-07T00:18:29.521Z"
   },
   {
    "duration": 120,
    "start_time": "2025-01-07T00:18:29.582Z"
   },
   {
    "duration": 209,
    "start_time": "2025-01-07T00:18:29.704Z"
   },
   {
    "duration": 53,
    "start_time": "2025-01-07T00:18:29.915Z"
   },
   {
    "duration": 90,
    "start_time": "2025-01-07T00:18:29.969Z"
   },
   {
    "duration": 81,
    "start_time": "2025-01-07T00:18:30.060Z"
   },
   {
    "duration": 104,
    "start_time": "2025-01-07T00:18:30.143Z"
   },
   {
    "duration": 39,
    "start_time": "2025-01-07T00:18:30.249Z"
   },
   {
    "duration": 80,
    "start_time": "2025-01-07T00:18:30.290Z"
   },
   {
    "duration": 109,
    "start_time": "2025-01-07T00:18:30.372Z"
   },
   {
    "duration": 195,
    "start_time": "2025-01-07T00:18:30.482Z"
   },
   {
    "duration": 188,
    "start_time": "2025-01-07T00:18:30.679Z"
   },
   {
    "duration": 23,
    "start_time": "2025-01-07T00:18:30.868Z"
   },
   {
    "duration": 186,
    "start_time": "2025-01-07T00:18:30.893Z"
   },
   {
    "duration": 53,
    "start_time": "2025-01-07T11:38:46.900Z"
   },
   {
    "duration": 872,
    "start_time": "2025-01-07T11:38:55.373Z"
   },
   {
    "duration": 270,
    "start_time": "2025-01-07T11:38:56.247Z"
   },
   {
    "duration": 15,
    "start_time": "2025-01-07T11:38:56.518Z"
   },
   {
    "duration": 17,
    "start_time": "2025-01-07T11:38:56.535Z"
   },
   {
    "duration": 16,
    "start_time": "2025-01-07T11:38:56.554Z"
   },
   {
    "duration": 48,
    "start_time": "2025-01-07T11:38:56.571Z"
   },
   {
    "duration": 32,
    "start_time": "2025-01-07T11:38:56.620Z"
   },
   {
    "duration": 40,
    "start_time": "2025-01-07T11:38:56.654Z"
   },
   {
    "duration": 58,
    "start_time": "2025-01-07T11:38:56.696Z"
   },
   {
    "duration": 20,
    "start_time": "2025-01-07T11:38:56.756Z"
   },
   {
    "duration": 61,
    "start_time": "2025-01-07T11:38:56.777Z"
   },
   {
    "duration": 35,
    "start_time": "2025-01-07T11:38:56.840Z"
   },
   {
    "duration": 19,
    "start_time": "2025-01-07T11:38:56.877Z"
   },
   {
    "duration": 9,
    "start_time": "2025-01-07T11:38:56.898Z"
   },
   {
    "duration": 24,
    "start_time": "2025-01-07T11:38:56.908Z"
   },
   {
    "duration": 37,
    "start_time": "2025-01-07T11:38:56.934Z"
   },
   {
    "duration": 29,
    "start_time": "2025-01-07T11:38:56.973Z"
   },
   {
    "duration": 17,
    "start_time": "2025-01-07T11:38:57.004Z"
   },
   {
    "duration": 51,
    "start_time": "2025-01-07T11:38:57.023Z"
   },
   {
    "duration": 12,
    "start_time": "2025-01-07T11:38:57.075Z"
   },
   {
    "duration": 75,
    "start_time": "2025-01-07T11:38:57.088Z"
   },
   {
    "duration": 32,
    "start_time": "2025-01-07T11:38:57.165Z"
   },
   {
    "duration": 185,
    "start_time": "2025-01-07T11:38:57.199Z"
   },
   {
    "duration": 181,
    "start_time": "2025-01-07T11:38:57.385Z"
   },
   {
    "duration": 23,
    "start_time": "2025-01-07T11:38:57.567Z"
   },
   {
    "duration": 179,
    "start_time": "2025-01-07T11:38:57.591Z"
   },
   {
    "duration": 95,
    "start_time": "2025-01-07T11:40:29.802Z"
   },
   {
    "duration": 24,
    "start_time": "2025-01-07T11:40:57.888Z"
   },
   {
    "duration": 25,
    "start_time": "2025-01-07T12:15:00.012Z"
   },
   {
    "duration": 79,
    "start_time": "2025-01-07T12:15:06.749Z"
   },
   {
    "duration": 23,
    "start_time": "2025-01-07T12:15:07.492Z"
   },
   {
    "duration": 23,
    "start_time": "2025-01-07T12:15:08.063Z"
   },
   {
    "duration": 24,
    "start_time": "2025-01-07T12:15:08.519Z"
   },
   {
    "duration": 24,
    "start_time": "2025-01-07T12:15:08.985Z"
   },
   {
    "duration": 31,
    "start_time": "2025-01-07T12:16:28.035Z"
   },
   {
    "duration": 4,
    "start_time": "2025-01-07T12:17:58.563Z"
   },
   {
    "duration": 14,
    "start_time": "2025-01-07T12:18:08.655Z"
   },
   {
    "duration": 13,
    "start_time": "2025-01-07T12:18:22.283Z"
   },
   {
    "duration": 30,
    "start_time": "2025-01-07T12:18:48.803Z"
   },
   {
    "duration": 26,
    "start_time": "2025-01-07T12:20:33.254Z"
   },
   {
    "duration": 20,
    "start_time": "2025-01-07T12:20:40.794Z"
   },
   {
    "duration": 34,
    "start_time": "2025-01-07T13:19:00.856Z"
   },
   {
    "duration": 10,
    "start_time": "2025-01-07T13:19:40.308Z"
   },
   {
    "duration": 34,
    "start_time": "2025-01-07T13:19:49.487Z"
   },
   {
    "duration": 34,
    "start_time": "2025-01-07T13:20:03.779Z"
   },
   {
    "duration": 31,
    "start_time": "2025-01-07T13:20:10.200Z"
   },
   {
    "duration": 22,
    "start_time": "2025-01-07T13:20:26.005Z"
   },
   {
    "duration": 26,
    "start_time": "2025-01-07T14:24:08.600Z"
   },
   {
    "duration": 26,
    "start_time": "2025-01-07T14:25:28.925Z"
   },
   {
    "duration": 31,
    "start_time": "2025-01-07T14:29:16.208Z"
   },
   {
    "duration": 12,
    "start_time": "2025-01-07T14:30:06.554Z"
   },
   {
    "duration": 24,
    "start_time": "2025-01-07T14:32:06.132Z"
   },
   {
    "duration": 164,
    "start_time": "2025-01-07T14:32:16.239Z"
   },
   {
    "duration": 189,
    "start_time": "2025-01-07T14:32:45.647Z"
   },
   {
    "duration": 29,
    "start_time": "2025-01-07T14:33:06.268Z"
   },
   {
    "duration": 28,
    "start_time": "2025-01-07T14:33:08.463Z"
   },
   {
    "duration": 170,
    "start_time": "2025-01-07T14:33:46.584Z"
   },
   {
    "duration": 664,
    "start_time": "2025-01-07T14:34:23.153Z"
   },
   {
    "duration": 161,
    "start_time": "2025-01-07T14:34:23.819Z"
   },
   {
    "duration": 15,
    "start_time": "2025-01-07T14:34:23.982Z"
   },
   {
    "duration": 18,
    "start_time": "2025-01-07T14:34:23.999Z"
   },
   {
    "duration": 16,
    "start_time": "2025-01-07T14:34:24.018Z"
   },
   {
    "duration": 77,
    "start_time": "2025-01-07T14:34:24.035Z"
   },
   {
    "duration": 9,
    "start_time": "2025-01-07T14:34:24.114Z"
   },
   {
    "duration": 64,
    "start_time": "2025-01-07T14:34:24.125Z"
   },
   {
    "duration": 53,
    "start_time": "2025-01-07T14:34:24.191Z"
   },
   {
    "duration": 25,
    "start_time": "2025-01-07T14:34:24.248Z"
   },
   {
    "duration": 53,
    "start_time": "2025-01-07T14:34:24.275Z"
   },
   {
    "duration": 50,
    "start_time": "2025-01-07T14:34:24.330Z"
   },
   {
    "duration": 19,
    "start_time": "2025-01-07T14:34:24.381Z"
   },
   {
    "duration": 8,
    "start_time": "2025-01-07T14:34:24.402Z"
   },
   {
    "duration": 18,
    "start_time": "2025-01-07T14:34:24.412Z"
   },
   {
    "duration": 40,
    "start_time": "2025-01-07T14:34:24.431Z"
   },
   {
    "duration": 30,
    "start_time": "2025-01-07T14:34:24.473Z"
   },
   {
    "duration": 17,
    "start_time": "2025-01-07T14:34:24.504Z"
   },
   {
    "duration": 54,
    "start_time": "2025-01-07T14:34:24.523Z"
   },
   {
    "duration": 12,
    "start_time": "2025-01-07T14:34:24.579Z"
   },
   {
    "duration": 17,
    "start_time": "2025-01-07T14:34:24.592Z"
   },
   {
    "duration": 38,
    "start_time": "2025-01-07T14:34:24.610Z"
   },
   {
    "duration": 200,
    "start_time": "2025-01-07T14:34:24.649Z"
   },
   {
    "duration": 202,
    "start_time": "2025-01-07T14:34:24.851Z"
   },
   {
    "duration": 37,
    "start_time": "2025-01-07T14:34:25.055Z"
   },
   {
    "duration": 23,
    "start_time": "2025-01-07T14:34:25.094Z"
   },
   {
    "duration": 12,
    "start_time": "2025-01-07T14:34:25.118Z"
   },
   {
    "duration": 198,
    "start_time": "2025-01-07T14:34:25.133Z"
   },
   {
    "duration": 27,
    "start_time": "2025-01-07T14:37:09.871Z"
   },
   {
    "duration": 30,
    "start_time": "2025-01-07T14:48:47.898Z"
   },
   {
    "duration": 26,
    "start_time": "2025-01-07T15:00:50.227Z"
   },
   {
    "duration": 92,
    "start_time": "2025-01-07T21:02:46.556Z"
   },
   {
    "duration": 63,
    "start_time": "2025-01-07T21:03:19.197Z"
   },
   {
    "duration": 836,
    "start_time": "2025-01-12T19:41:44.314Z"
   },
   {
    "duration": 302,
    "start_time": "2025-01-12T19:41:45.152Z"
   },
   {
    "duration": 16,
    "start_time": "2025-01-12T19:41:45.456Z"
   },
   {
    "duration": 31,
    "start_time": "2025-01-12T19:41:45.476Z"
   },
   {
    "duration": 17,
    "start_time": "2025-01-12T19:41:45.509Z"
   },
   {
    "duration": 63,
    "start_time": "2025-01-12T19:41:45.528Z"
   },
   {
    "duration": 9,
    "start_time": "2025-01-12T19:41:45.592Z"
   },
   {
    "duration": 38,
    "start_time": "2025-01-12T19:41:45.603Z"
   },
   {
    "duration": 76,
    "start_time": "2025-01-12T19:41:45.643Z"
   },
   {
    "duration": 10,
    "start_time": "2025-01-12T19:41:45.721Z"
   },
   {
    "duration": 98,
    "start_time": "2025-01-12T19:41:45.733Z"
   },
   {
    "duration": 44,
    "start_time": "2025-01-12T19:41:45.832Z"
   },
   {
    "duration": 25,
    "start_time": "2025-01-12T19:41:45.877Z"
   },
   {
    "duration": 10,
    "start_time": "2025-01-12T19:41:45.904Z"
   },
   {
    "duration": 20,
    "start_time": "2025-01-12T19:41:45.915Z"
   },
   {
    "duration": 43,
    "start_time": "2025-01-12T19:41:45.936Z"
   },
   {
    "duration": 33,
    "start_time": "2025-01-12T19:41:45.982Z"
   },
   {
    "duration": 27,
    "start_time": "2025-01-12T19:41:46.017Z"
   },
   {
    "duration": 104,
    "start_time": "2025-01-12T19:41:46.046Z"
   },
   {
    "duration": 0,
    "start_time": "2025-01-12T19:41:46.152Z"
   },
   {
    "duration": 0,
    "start_time": "2025-01-12T19:41:46.153Z"
   },
   {
    "duration": 0,
    "start_time": "2025-01-12T19:41:46.154Z"
   },
   {
    "duration": 0,
    "start_time": "2025-01-12T19:41:46.155Z"
   },
   {
    "duration": 0,
    "start_time": "2025-01-12T19:41:46.156Z"
   },
   {
    "duration": 0,
    "start_time": "2025-01-12T19:41:46.158Z"
   },
   {
    "duration": 0,
    "start_time": "2025-01-12T19:41:46.170Z"
   },
   {
    "duration": 0,
    "start_time": "2025-01-12T19:41:46.172Z"
   },
   {
    "duration": 0,
    "start_time": "2025-01-12T19:41:46.173Z"
   },
   {
    "duration": 0,
    "start_time": "2025-01-12T19:41:46.174Z"
   },
   {
    "duration": 20,
    "start_time": "2025-01-12T19:42:30.676Z"
   },
   {
    "duration": 11,
    "start_time": "2025-01-12T19:43:03.131Z"
   },
   {
    "duration": 10,
    "start_time": "2025-01-12T19:43:05.188Z"
   },
   {
    "duration": 16,
    "start_time": "2025-01-12T19:43:12.956Z"
   },
   {
    "duration": 4,
    "start_time": "2025-01-12T19:43:52.077Z"
   },
   {
    "duration": 23,
    "start_time": "2025-01-12T19:44:53.127Z"
   },
   {
    "duration": 60,
    "start_time": "2025-01-12T19:44:59.280Z"
   },
   {
    "duration": 60,
    "start_time": "2025-01-12T19:46:31.925Z"
   },
   {
    "duration": 725,
    "start_time": "2025-01-12T19:46:42.759Z"
   },
   {
    "duration": 175,
    "start_time": "2025-01-12T19:46:43.486Z"
   },
   {
    "duration": 24,
    "start_time": "2025-01-12T19:46:43.662Z"
   },
   {
    "duration": 22,
    "start_time": "2025-01-12T19:46:43.688Z"
   },
   {
    "duration": 17,
    "start_time": "2025-01-12T19:46:43.712Z"
   },
   {
    "duration": 85,
    "start_time": "2025-01-12T19:46:43.730Z"
   },
   {
    "duration": 10,
    "start_time": "2025-01-12T19:46:43.817Z"
   },
   {
    "duration": 44,
    "start_time": "2025-01-12T19:46:43.829Z"
   },
   {
    "duration": 64,
    "start_time": "2025-01-12T19:46:43.875Z"
   },
   {
    "duration": 7,
    "start_time": "2025-01-12T19:46:43.940Z"
   },
   {
    "duration": 75,
    "start_time": "2025-01-12T19:46:43.949Z"
   },
   {
    "duration": 50,
    "start_time": "2025-01-12T19:46:44.026Z"
   },
   {
    "duration": 28,
    "start_time": "2025-01-12T19:46:44.078Z"
   },
   {
    "duration": 10,
    "start_time": "2025-01-12T19:46:44.109Z"
   },
   {
    "duration": 18,
    "start_time": "2025-01-12T19:46:44.120Z"
   },
   {
    "duration": 18,
    "start_time": "2025-01-12T19:46:44.182Z"
   },
   {
    "duration": 37,
    "start_time": "2025-01-12T19:46:44.202Z"
   },
   {
    "duration": 32,
    "start_time": "2025-01-12T19:46:44.240Z"
   },
   {
    "duration": 5,
    "start_time": "2025-01-12T19:46:44.274Z"
   },
   {
    "duration": 69,
    "start_time": "2025-01-12T19:46:44.281Z"
   },
   {
    "duration": 87,
    "start_time": "2025-01-12T19:46:44.371Z"
   },
   {
    "duration": 0,
    "start_time": "2025-01-12T19:46:44.460Z"
   },
   {
    "duration": 1,
    "start_time": "2025-01-12T19:46:44.461Z"
   },
   {
    "duration": 0,
    "start_time": "2025-01-12T19:46:44.463Z"
   },
   {
    "duration": 0,
    "start_time": "2025-01-12T19:46:44.464Z"
   },
   {
    "duration": 0,
    "start_time": "2025-01-12T19:46:44.465Z"
   },
   {
    "duration": 0,
    "start_time": "2025-01-12T19:46:44.466Z"
   },
   {
    "duration": 0,
    "start_time": "2025-01-12T19:46:44.467Z"
   },
   {
    "duration": 0,
    "start_time": "2025-01-12T19:46:44.468Z"
   },
   {
    "duration": 0,
    "start_time": "2025-01-12T19:46:44.469Z"
   },
   {
    "duration": 39,
    "start_time": "2025-01-12T19:49:59.701Z"
   },
   {
    "duration": 206,
    "start_time": "2025-01-12T19:50:18.224Z"
   },
   {
    "duration": 49,
    "start_time": "2025-01-13T21:47:34.223Z"
   },
   {
    "duration": 7,
    "start_time": "2025-01-13T21:47:36.259Z"
   },
   {
    "duration": 939,
    "start_time": "2025-01-14T15:37:01.307Z"
   },
   {
    "duration": 292,
    "start_time": "2025-01-14T15:37:02.316Z"
   },
   {
    "duration": 669,
    "start_time": "2025-01-14T15:37:09.154Z"
   },
   {
    "duration": 177,
    "start_time": "2025-01-14T15:37:09.825Z"
   },
   {
    "duration": 17,
    "start_time": "2025-01-14T15:37:10.004Z"
   },
   {
    "duration": 46,
    "start_time": "2025-01-14T15:37:10.023Z"
   },
   {
    "duration": 26,
    "start_time": "2025-01-14T15:37:10.072Z"
   },
   {
    "duration": 56,
    "start_time": "2025-01-14T15:37:10.100Z"
   },
   {
    "duration": 11,
    "start_time": "2025-01-14T15:37:10.158Z"
   },
   {
    "duration": 37,
    "start_time": "2025-01-14T15:37:10.171Z"
   },
   {
    "duration": 83,
    "start_time": "2025-01-14T15:37:10.210Z"
   },
   {
    "duration": 9,
    "start_time": "2025-01-14T15:37:10.295Z"
   },
   {
    "duration": 58,
    "start_time": "2025-01-14T15:37:10.331Z"
   },
   {
    "duration": 55,
    "start_time": "2025-01-14T15:37:10.390Z"
   },
   {
    "duration": 18,
    "start_time": "2025-01-14T15:37:10.447Z"
   },
   {
    "duration": 9,
    "start_time": "2025-01-14T15:37:10.468Z"
   },
   {
    "duration": 62,
    "start_time": "2025-01-14T15:37:10.479Z"
   },
   {
    "duration": 10,
    "start_time": "2025-01-14T15:37:10.545Z"
   },
   {
    "duration": 94,
    "start_time": "2025-01-14T15:37:10.557Z"
   },
   {
    "duration": 18,
    "start_time": "2025-01-14T15:37:10.653Z"
   },
   {
    "duration": 3,
    "start_time": "2025-01-14T15:37:10.673Z"
   },
   {
    "duration": 67,
    "start_time": "2025-01-14T15:37:10.678Z"
   },
   {
    "duration": 90,
    "start_time": "2025-01-14T15:37:10.747Z"
   },
   {
    "duration": 0,
    "start_time": "2025-01-14T15:37:10.839Z"
   },
   {
    "duration": 0,
    "start_time": "2025-01-14T15:37:10.841Z"
   },
   {
    "duration": 0,
    "start_time": "2025-01-14T15:37:10.842Z"
   },
   {
    "duration": 0,
    "start_time": "2025-01-14T15:37:10.844Z"
   },
   {
    "duration": 0,
    "start_time": "2025-01-14T15:37:10.845Z"
   },
   {
    "duration": 0,
    "start_time": "2025-01-14T15:37:10.846Z"
   },
   {
    "duration": 0,
    "start_time": "2025-01-14T15:37:10.847Z"
   },
   {
    "duration": 0,
    "start_time": "2025-01-14T15:37:10.848Z"
   },
   {
    "duration": 0,
    "start_time": "2025-01-14T15:37:10.850Z"
   },
   {
    "duration": 0,
    "start_time": "2025-01-14T15:37:10.851Z"
   },
   {
    "duration": 0,
    "start_time": "2025-01-14T15:37:10.852Z"
   },
   {
    "duration": 21,
    "start_time": "2025-01-14T15:38:43.590Z"
   },
   {
    "duration": 12,
    "start_time": "2025-01-14T15:38:43.947Z"
   },
   {
    "duration": 18,
    "start_time": "2025-01-14T15:38:44.143Z"
   },
   {
    "duration": 30,
    "start_time": "2025-01-14T15:38:44.781Z"
   },
   {
    "duration": 186,
    "start_time": "2025-01-14T15:38:46.855Z"
   },
   {
    "duration": 172,
    "start_time": "2025-01-14T15:38:52.645Z"
   },
   {
    "duration": 27,
    "start_time": "2025-01-14T15:38:54.653Z"
   },
   {
    "duration": 11,
    "start_time": "2025-01-14T15:38:55.056Z"
   },
   {
    "duration": 414,
    "start_time": "2025-01-14T15:38:56.474Z"
   },
   {
    "duration": 41,
    "start_time": "2025-01-14T15:39:01.863Z"
   },
   {
    "duration": 183,
    "start_time": "2025-01-14T15:40:42.982Z"
   },
   {
    "duration": 75,
    "start_time": "2025-01-14T15:43:58.655Z"
   },
   {
    "duration": 416,
    "start_time": "2025-01-14T15:44:11.851Z"
   },
   {
    "duration": 10,
    "start_time": "2025-01-14T16:14:04.570Z"
   },
   {
    "duration": 12,
    "start_time": "2025-01-14T16:14:25.487Z"
   },
   {
    "duration": 6,
    "start_time": "2025-01-14T16:14:35.518Z"
   },
   {
    "duration": 20,
    "start_time": "2025-01-14T16:16:48.326Z"
   },
   {
    "duration": 28,
    "start_time": "2025-01-14T16:17:49.094Z"
   },
   {
    "duration": 7,
    "start_time": "2025-01-14T16:29:38.843Z"
   },
   {
    "duration": 646,
    "start_time": "2025-01-14T16:29:53.199Z"
   },
   {
    "duration": 221,
    "start_time": "2025-01-14T16:30:34.005Z"
   },
   {
    "duration": 143,
    "start_time": "2025-01-14T16:30:37.435Z"
   },
   {
    "duration": 155,
    "start_time": "2025-01-14T16:31:26.623Z"
   },
   {
    "duration": 172,
    "start_time": "2025-01-14T16:32:11.560Z"
   },
   {
    "duration": 7,
    "start_time": "2025-01-14T16:32:44.993Z"
   },
   {
    "duration": 5,
    "start_time": "2025-01-14T16:36:30.011Z"
   },
   {
    "duration": 159,
    "start_time": "2025-01-14T16:36:43.215Z"
   },
   {
    "duration": 1423,
    "start_time": "2025-01-14T16:37:36.032Z"
   },
   {
    "duration": 4748,
    "start_time": "2025-01-14T16:38:57.901Z"
   },
   {
    "duration": 15,
    "start_time": "2025-01-14T16:40:11.169Z"
   },
   {
    "duration": 6,
    "start_time": "2025-01-14T16:40:27.426Z"
   },
   {
    "duration": 660,
    "start_time": "2025-01-14T16:47:45.954Z"
   },
   {
    "duration": 166,
    "start_time": "2025-01-14T16:47:46.616Z"
   },
   {
    "duration": 16,
    "start_time": "2025-01-14T16:47:46.783Z"
   },
   {
    "duration": 52,
    "start_time": "2025-01-14T16:47:46.801Z"
   },
   {
    "duration": 34,
    "start_time": "2025-01-14T16:47:46.855Z"
   },
   {
    "duration": 58,
    "start_time": "2025-01-14T16:47:46.890Z"
   },
   {
    "duration": 11,
    "start_time": "2025-01-14T16:47:46.950Z"
   },
   {
    "duration": 44,
    "start_time": "2025-01-14T16:47:46.962Z"
   },
   {
    "duration": 68,
    "start_time": "2025-01-14T16:47:47.008Z"
   },
   {
    "duration": 9,
    "start_time": "2025-01-14T16:47:47.080Z"
   },
   {
    "duration": 78,
    "start_time": "2025-01-14T16:47:47.090Z"
   },
   {
    "duration": 24,
    "start_time": "2025-01-14T16:47:47.169Z"
   },
   {
    "duration": 47,
    "start_time": "2025-01-14T16:47:47.195Z"
   },
   {
    "duration": 9,
    "start_time": "2025-01-14T16:47:47.243Z"
   },
   {
    "duration": 21,
    "start_time": "2025-01-14T16:47:47.254Z"
   },
   {
    "duration": 7,
    "start_time": "2025-01-14T16:47:47.277Z"
   },
   {
    "duration": 75,
    "start_time": "2025-01-14T16:47:47.285Z"
   },
   {
    "duration": 17,
    "start_time": "2025-01-14T16:47:47.361Z"
   },
   {
    "duration": 8,
    "start_time": "2025-01-14T16:47:47.379Z"
   },
   {
    "duration": 77,
    "start_time": "2025-01-14T16:47:47.389Z"
   },
   {
    "duration": 20,
    "start_time": "2025-01-14T16:47:47.468Z"
   },
   {
    "duration": 13,
    "start_time": "2025-01-14T16:47:47.489Z"
   },
   {
    "duration": 17,
    "start_time": "2025-01-14T16:47:47.529Z"
   },
   {
    "duration": 28,
    "start_time": "2025-01-14T16:47:47.548Z"
   },
   {
    "duration": 196,
    "start_time": "2025-01-14T16:47:47.577Z"
   },
   {
    "duration": 186,
    "start_time": "2025-01-14T16:47:47.774Z"
   },
   {
    "duration": 28,
    "start_time": "2025-01-14T16:47:47.962Z"
   },
   {
    "duration": 11,
    "start_time": "2025-01-14T16:47:47.993Z"
   },
   {
    "duration": 448,
    "start_time": "2025-01-14T16:47:48.005Z"
   },
   {
    "duration": 41,
    "start_time": "2025-01-14T16:47:48.455Z"
   },
   {
    "duration": 215,
    "start_time": "2025-01-14T16:47:48.498Z"
   },
   {
    "duration": 215,
    "start_time": "2025-01-14T16:47:48.714Z"
   },
   {
    "duration": 414,
    "start_time": "2025-01-14T16:47:48.930Z"
   },
   {
    "duration": 7,
    "start_time": "2025-01-14T16:47:49.346Z"
   },
   {
    "duration": 30,
    "start_time": "2025-01-14T16:47:49.354Z"
   },
   {
    "duration": 9,
    "start_time": "2025-01-14T16:47:49.386Z"
   },
   {
    "duration": 1513,
    "start_time": "2025-01-14T16:47:49.396Z"
   },
   {
    "duration": 0,
    "start_time": "2025-01-14T16:47:50.911Z"
   },
   {
    "duration": 0,
    "start_time": "2025-01-14T16:47:50.912Z"
   },
   {
    "duration": 165,
    "start_time": "2025-01-14T16:48:39.968Z"
   },
   {
    "duration": 676,
    "start_time": "2025-01-14T16:48:55.474Z"
   },
   {
    "duration": 166,
    "start_time": "2025-01-14T16:48:56.152Z"
   },
   {
    "duration": 18,
    "start_time": "2025-01-14T16:48:56.319Z"
   },
   {
    "duration": 73,
    "start_time": "2025-01-14T16:48:56.340Z"
   },
   {
    "duration": 17,
    "start_time": "2025-01-14T16:48:56.415Z"
   },
   {
    "duration": 50,
    "start_time": "2025-01-14T16:48:56.434Z"
   },
   {
    "duration": 9,
    "start_time": "2025-01-14T16:48:56.486Z"
   },
   {
    "duration": 61,
    "start_time": "2025-01-14T16:48:56.497Z"
   },
   {
    "duration": 71,
    "start_time": "2025-01-14T16:48:56.560Z"
   },
   {
    "duration": 9,
    "start_time": "2025-01-14T16:48:56.634Z"
   },
   {
    "duration": 107,
    "start_time": "2025-01-14T16:48:56.645Z"
   },
   {
    "duration": 25,
    "start_time": "2025-01-14T16:48:56.754Z"
   },
   {
    "duration": 18,
    "start_time": "2025-01-14T16:48:56.780Z"
   },
   {
    "duration": 43,
    "start_time": "2025-01-14T16:48:56.831Z"
   },
   {
    "duration": 20,
    "start_time": "2025-01-14T16:48:56.876Z"
   },
   {
    "duration": 7,
    "start_time": "2025-01-14T16:48:56.898Z"
   },
   {
    "duration": 41,
    "start_time": "2025-01-14T16:48:56.906Z"
   },
   {
    "duration": 19,
    "start_time": "2025-01-14T16:48:56.948Z"
   },
   {
    "duration": 4,
    "start_time": "2025-01-14T16:48:56.969Z"
   },
   {
    "duration": 81,
    "start_time": "2025-01-14T16:48:56.975Z"
   },
   {
    "duration": 23,
    "start_time": "2025-01-14T16:48:57.058Z"
   },
   {
    "duration": 16,
    "start_time": "2025-01-14T16:48:57.082Z"
   },
   {
    "duration": 47,
    "start_time": "2025-01-14T16:48:57.099Z"
   },
   {
    "duration": 34,
    "start_time": "2025-01-14T16:48:57.148Z"
   },
   {
    "duration": 202,
    "start_time": "2025-01-14T16:48:57.184Z"
   },
   {
    "duration": 187,
    "start_time": "2025-01-14T16:48:57.388Z"
   },
   {
    "duration": 29,
    "start_time": "2025-01-14T16:48:57.576Z"
   },
   {
    "duration": 59,
    "start_time": "2025-01-14T16:48:57.608Z"
   },
   {
    "duration": 398,
    "start_time": "2025-01-14T16:48:57.669Z"
   },
   {
    "duration": 40,
    "start_time": "2025-01-14T16:48:58.069Z"
   },
   {
    "duration": 213,
    "start_time": "2025-01-14T16:48:58.110Z"
   },
   {
    "duration": 206,
    "start_time": "2025-01-14T16:48:58.324Z"
   },
   {
    "duration": 384,
    "start_time": "2025-01-14T16:48:58.532Z"
   },
   {
    "duration": 14,
    "start_time": "2025-01-14T16:48:58.918Z"
   },
   {
    "duration": 25,
    "start_time": "2025-01-14T16:48:58.934Z"
   },
   {
    "duration": 7,
    "start_time": "2025-01-14T16:48:58.960Z"
   },
   {
    "duration": 189,
    "start_time": "2025-01-14T16:48:58.968Z"
   },
   {
    "duration": 8,
    "start_time": "2025-01-14T16:48:59.158Z"
   },
   {
    "duration": 11,
    "start_time": "2025-01-14T16:48:59.168Z"
   },
   {
    "duration": 155,
    "start_time": "2025-01-14T16:50:36.945Z"
   },
   {
    "duration": 157,
    "start_time": "2025-01-14T16:52:34.957Z"
   },
   {
    "duration": 164,
    "start_time": "2025-01-14T16:53:01.079Z"
   },
   {
    "duration": 688,
    "start_time": "2025-01-14T16:53:06.721Z"
   },
   {
    "duration": 169,
    "start_time": "2025-01-14T16:53:07.411Z"
   },
   {
    "duration": 15,
    "start_time": "2025-01-14T16:53:07.582Z"
   },
   {
    "duration": 16,
    "start_time": "2025-01-14T16:53:07.599Z"
   },
   {
    "duration": 101,
    "start_time": "2025-01-14T16:53:07.617Z"
   },
   {
    "duration": 69,
    "start_time": "2025-01-14T16:53:07.719Z"
   },
   {
    "duration": 10,
    "start_time": "2025-01-14T16:53:07.790Z"
   },
   {
    "duration": 46,
    "start_time": "2025-01-14T16:53:07.801Z"
   },
   {
    "duration": 86,
    "start_time": "2025-01-14T16:53:07.849Z"
   },
   {
    "duration": 7,
    "start_time": "2025-01-14T16:53:07.938Z"
   },
   {
    "duration": 52,
    "start_time": "2025-01-14T16:53:07.947Z"
   },
   {
    "duration": 30,
    "start_time": "2025-01-14T16:53:08.000Z"
   },
   {
    "duration": 19,
    "start_time": "2025-01-14T16:53:08.031Z"
   },
   {
    "duration": 8,
    "start_time": "2025-01-14T16:53:08.051Z"
   },
   {
    "duration": 17,
    "start_time": "2025-01-14T16:53:08.061Z"
   },
   {
    "duration": 7,
    "start_time": "2025-01-14T16:53:08.079Z"
   },
   {
    "duration": 46,
    "start_time": "2025-01-14T16:53:08.087Z"
   },
   {
    "duration": 18,
    "start_time": "2025-01-14T16:53:08.134Z"
   },
   {
    "duration": 3,
    "start_time": "2025-01-14T16:53:08.153Z"
   },
   {
    "duration": 49,
    "start_time": "2025-01-14T16:53:08.158Z"
   },
   {
    "duration": 29,
    "start_time": "2025-01-14T16:53:08.208Z"
   },
   {
    "duration": 14,
    "start_time": "2025-01-14T16:53:08.238Z"
   },
   {
    "duration": 17,
    "start_time": "2025-01-14T16:53:08.254Z"
   },
   {
    "duration": 29,
    "start_time": "2025-01-14T16:53:08.273Z"
   },
   {
    "duration": 310,
    "start_time": "2025-01-14T16:53:08.331Z"
   },
   {
    "duration": 234,
    "start_time": "2025-01-14T16:53:08.643Z"
   },
   {
    "duration": 26,
    "start_time": "2025-01-14T16:53:08.879Z"
   },
   {
    "duration": 31,
    "start_time": "2025-01-14T16:53:08.908Z"
   },
   {
    "duration": 416,
    "start_time": "2025-01-14T16:53:08.941Z"
   },
   {
    "duration": 40,
    "start_time": "2025-01-14T16:53:09.359Z"
   },
   {
    "duration": 205,
    "start_time": "2025-01-14T16:53:09.400Z"
   },
   {
    "duration": 200,
    "start_time": "2025-01-14T16:53:09.607Z"
   },
   {
    "duration": 395,
    "start_time": "2025-01-14T16:53:09.809Z"
   },
   {
    "duration": 7,
    "start_time": "2025-01-14T16:53:10.206Z"
   },
   {
    "duration": 39,
    "start_time": "2025-01-14T16:53:10.215Z"
   },
   {
    "duration": 44,
    "start_time": "2025-01-14T16:53:10.256Z"
   },
   {
    "duration": 263,
    "start_time": "2025-01-14T16:53:10.302Z"
   },
   {
    "duration": 7,
    "start_time": "2025-01-14T16:53:10.567Z"
   },
   {
    "duration": 12,
    "start_time": "2025-01-14T16:53:10.576Z"
   },
   {
    "duration": 701,
    "start_time": "2025-01-14T16:57:02.501Z"
   },
   {
    "duration": 167,
    "start_time": "2025-01-14T16:57:03.205Z"
   },
   {
    "duration": 18,
    "start_time": "2025-01-14T16:57:03.374Z"
   },
   {
    "duration": 21,
    "start_time": "2025-01-14T16:57:03.394Z"
   },
   {
    "duration": 50,
    "start_time": "2025-01-14T16:57:03.417Z"
   },
   {
    "duration": 50,
    "start_time": "2025-01-14T16:57:03.469Z"
   },
   {
    "duration": 22,
    "start_time": "2025-01-14T16:57:03.520Z"
   },
   {
    "duration": 37,
    "start_time": "2025-01-14T16:57:03.544Z"
   },
   {
    "duration": 63,
    "start_time": "2025-01-14T16:57:03.583Z"
   },
   {
    "duration": 96,
    "start_time": "2025-01-14T16:57:03.649Z"
   },
   {
    "duration": 56,
    "start_time": "2025-01-14T16:57:03.747Z"
   },
   {
    "duration": 89,
    "start_time": "2025-01-14T16:57:03.806Z"
   },
   {
    "duration": 0,
    "start_time": "2025-01-14T16:57:03.897Z"
   },
   {
    "duration": 0,
    "start_time": "2025-01-14T16:57:03.899Z"
   },
   {
    "duration": 0,
    "start_time": "2025-01-14T16:57:03.900Z"
   },
   {
    "duration": 0,
    "start_time": "2025-01-14T16:57:03.902Z"
   },
   {
    "duration": 0,
    "start_time": "2025-01-14T16:57:03.903Z"
   },
   {
    "duration": 0,
    "start_time": "2025-01-14T16:57:03.904Z"
   },
   {
    "duration": 0,
    "start_time": "2025-01-14T16:57:03.905Z"
   },
   {
    "duration": 0,
    "start_time": "2025-01-14T16:57:03.906Z"
   },
   {
    "duration": 0,
    "start_time": "2025-01-14T16:57:03.907Z"
   },
   {
    "duration": 0,
    "start_time": "2025-01-14T16:57:03.908Z"
   },
   {
    "duration": 0,
    "start_time": "2025-01-14T16:57:03.909Z"
   },
   {
    "duration": 0,
    "start_time": "2025-01-14T16:57:03.910Z"
   },
   {
    "duration": 0,
    "start_time": "2025-01-14T16:57:03.911Z"
   },
   {
    "duration": 0,
    "start_time": "2025-01-14T16:57:03.913Z"
   },
   {
    "duration": 0,
    "start_time": "2025-01-14T16:57:03.914Z"
   },
   {
    "duration": 0,
    "start_time": "2025-01-14T16:57:03.915Z"
   },
   {
    "duration": 0,
    "start_time": "2025-01-14T16:57:03.916Z"
   },
   {
    "duration": 0,
    "start_time": "2025-01-14T16:57:03.917Z"
   },
   {
    "duration": 0,
    "start_time": "2025-01-14T16:57:03.918Z"
   },
   {
    "duration": 0,
    "start_time": "2025-01-14T16:57:03.919Z"
   },
   {
    "duration": 0,
    "start_time": "2025-01-14T16:57:03.920Z"
   },
   {
    "duration": 0,
    "start_time": "2025-01-14T16:57:03.921Z"
   },
   {
    "duration": 0,
    "start_time": "2025-01-14T16:57:03.922Z"
   },
   {
    "duration": 0,
    "start_time": "2025-01-14T16:57:03.923Z"
   },
   {
    "duration": 0,
    "start_time": "2025-01-14T16:57:03.924Z"
   },
   {
    "duration": 0,
    "start_time": "2025-01-14T16:57:03.926Z"
   },
   {
    "duration": 0,
    "start_time": "2025-01-14T16:57:03.927Z"
   },
   {
    "duration": 23,
    "start_time": "2025-01-14T16:57:28.784Z"
   },
   {
    "duration": 676,
    "start_time": "2025-01-14T16:57:35.549Z"
   },
   {
    "duration": 168,
    "start_time": "2025-01-14T16:57:36.227Z"
   },
   {
    "duration": 16,
    "start_time": "2025-01-14T16:57:36.397Z"
   },
   {
    "duration": 20,
    "start_time": "2025-01-14T16:57:36.415Z"
   },
   {
    "duration": 21,
    "start_time": "2025-01-14T16:57:36.437Z"
   },
   {
    "duration": 70,
    "start_time": "2025-01-14T16:57:36.460Z"
   },
   {
    "duration": 10,
    "start_time": "2025-01-14T16:57:36.531Z"
   },
   {
    "duration": 41,
    "start_time": "2025-01-14T16:57:36.543Z"
   },
   {
    "duration": 83,
    "start_time": "2025-01-14T16:57:36.585Z"
   },
   {
    "duration": 8,
    "start_time": "2025-01-14T16:57:36.671Z"
   },
   {
    "duration": 80,
    "start_time": "2025-01-14T16:57:36.680Z"
   },
   {
    "duration": 24,
    "start_time": "2025-01-14T16:57:36.761Z"
   },
   {
    "duration": 48,
    "start_time": "2025-01-14T16:57:36.786Z"
   },
   {
    "duration": 10,
    "start_time": "2025-01-14T16:57:36.835Z"
   },
   {
    "duration": 53,
    "start_time": "2025-01-14T16:57:36.847Z"
   },
   {
    "duration": 9,
    "start_time": "2025-01-14T16:57:36.902Z"
   },
   {
    "duration": 47,
    "start_time": "2025-01-14T16:57:36.913Z"
   },
   {
    "duration": 19,
    "start_time": "2025-01-14T16:57:36.962Z"
   },
   {
    "duration": 11,
    "start_time": "2025-01-14T16:57:36.983Z"
   },
   {
    "duration": 81,
    "start_time": "2025-01-14T16:57:36.996Z"
   },
   {
    "duration": 22,
    "start_time": "2025-01-14T16:57:37.080Z"
   },
   {
    "duration": 15,
    "start_time": "2025-01-14T16:57:37.129Z"
   },
   {
    "duration": 22,
    "start_time": "2025-01-14T16:57:37.145Z"
   },
   {
    "duration": 40,
    "start_time": "2025-01-14T16:57:37.169Z"
   },
   {
    "duration": 189,
    "start_time": "2025-01-14T16:57:37.211Z"
   },
   {
    "duration": 191,
    "start_time": "2025-01-14T16:57:37.402Z"
   },
   {
    "duration": 42,
    "start_time": "2025-01-14T16:57:37.595Z"
   },
   {
    "duration": 12,
    "start_time": "2025-01-14T16:57:37.641Z"
   },
   {
    "duration": 427,
    "start_time": "2025-01-14T16:57:37.657Z"
   },
   {
    "duration": 53,
    "start_time": "2025-01-14T16:57:38.086Z"
   },
   {
    "duration": 203,
    "start_time": "2025-01-14T16:57:38.141Z"
   },
   {
    "duration": 200,
    "start_time": "2025-01-14T16:57:38.346Z"
   },
   {
    "duration": 399,
    "start_time": "2025-01-14T16:57:38.548Z"
   },
   {
    "duration": 6,
    "start_time": "2025-01-14T16:57:38.949Z"
   },
   {
    "duration": 27,
    "start_time": "2025-01-14T16:57:38.957Z"
   },
   {
    "duration": 8,
    "start_time": "2025-01-14T16:57:38.986Z"
   },
   {
    "duration": 165,
    "start_time": "2025-01-14T16:57:39.030Z"
   },
   {
    "duration": 7,
    "start_time": "2025-01-14T16:57:39.197Z"
   },
   {
    "duration": 26,
    "start_time": "2025-01-14T16:57:39.206Z"
   },
   {
    "duration": 724,
    "start_time": "2025-01-14T17:17:20.098Z"
   },
   {
    "duration": 294,
    "start_time": "2025-01-14T17:17:20.824Z"
   },
   {
    "duration": 33,
    "start_time": "2025-01-14T17:17:21.120Z"
   },
   {
    "duration": 19,
    "start_time": "2025-01-14T17:17:21.159Z"
   },
   {
    "duration": 18,
    "start_time": "2025-01-14T17:17:21.180Z"
   },
   {
    "duration": 77,
    "start_time": "2025-01-14T17:17:21.200Z"
   },
   {
    "duration": 9,
    "start_time": "2025-01-14T17:17:21.279Z"
   },
   {
    "duration": 53,
    "start_time": "2025-01-14T17:17:21.290Z"
   },
   {
    "duration": 67,
    "start_time": "2025-01-14T17:17:21.351Z"
   },
   {
    "duration": 30,
    "start_time": "2025-01-14T17:17:21.430Z"
   },
   {
    "duration": 55,
    "start_time": "2025-01-14T17:17:21.462Z"
   },
   {
    "duration": 48,
    "start_time": "2025-01-14T17:17:21.519Z"
   },
   {
    "duration": 20,
    "start_time": "2025-01-14T17:17:21.569Z"
   },
   {
    "duration": 9,
    "start_time": "2025-01-14T17:17:21.590Z"
   },
   {
    "duration": 60,
    "start_time": "2025-01-14T17:17:21.601Z"
   },
   {
    "duration": 8,
    "start_time": "2025-01-14T17:17:21.664Z"
   },
   {
    "duration": 52,
    "start_time": "2025-01-14T17:17:21.673Z"
   },
   {
    "duration": 30,
    "start_time": "2025-01-14T17:17:21.727Z"
   },
   {
    "duration": 7,
    "start_time": "2025-01-14T17:17:21.759Z"
   },
   {
    "duration": 68,
    "start_time": "2025-01-14T17:17:21.768Z"
   },
   {
    "duration": 31,
    "start_time": "2025-01-14T17:17:21.843Z"
   },
   {
    "duration": 12,
    "start_time": "2025-01-14T17:17:21.876Z"
   },
   {
    "duration": 28,
    "start_time": "2025-01-14T17:17:21.890Z"
   },
   {
    "duration": 65,
    "start_time": "2025-01-14T17:17:21.920Z"
   },
   {
    "duration": 205,
    "start_time": "2025-01-14T17:17:21.987Z"
   },
   {
    "duration": 222,
    "start_time": "2025-01-14T17:17:22.194Z"
   },
   {
    "duration": 40,
    "start_time": "2025-01-14T17:17:22.427Z"
   },
   {
    "duration": 34,
    "start_time": "2025-01-14T17:17:22.471Z"
   },
   {
    "duration": 475,
    "start_time": "2025-01-14T17:17:22.508Z"
   },
   {
    "duration": 53,
    "start_time": "2025-01-14T17:17:22.984Z"
   },
   {
    "duration": 231,
    "start_time": "2025-01-14T17:17:23.038Z"
   },
   {
    "duration": 237,
    "start_time": "2025-01-14T17:17:23.271Z"
   },
   {
    "duration": 419,
    "start_time": "2025-01-14T17:17:23.510Z"
   },
   {
    "duration": 15,
    "start_time": "2025-01-14T17:17:23.931Z"
   },
   {
    "duration": 29,
    "start_time": "2025-01-14T17:17:23.956Z"
   },
   {
    "duration": 7,
    "start_time": "2025-01-14T17:17:23.987Z"
   },
   {
    "duration": 238,
    "start_time": "2025-01-14T17:17:23.995Z"
   },
   {
    "duration": 12,
    "start_time": "2025-01-14T17:17:24.241Z"
   },
   {
    "duration": 15,
    "start_time": "2025-01-14T17:17:24.256Z"
   },
   {
    "duration": 6,
    "start_time": "2025-01-14T17:33:00.114Z"
   },
   {
    "duration": 740,
    "start_time": "2025-01-14T17:33:19.404Z"
   },
   {
    "duration": 182,
    "start_time": "2025-01-14T17:33:20.147Z"
   },
   {
    "duration": 26,
    "start_time": "2025-01-14T17:33:20.331Z"
   },
   {
    "duration": 19,
    "start_time": "2025-01-14T17:33:20.359Z"
   },
   {
    "duration": 18,
    "start_time": "2025-01-14T17:33:20.380Z"
   },
   {
    "duration": 79,
    "start_time": "2025-01-14T17:33:20.400Z"
   },
   {
    "duration": 9,
    "start_time": "2025-01-14T17:33:20.482Z"
   },
   {
    "duration": 73,
    "start_time": "2025-01-14T17:33:20.493Z"
   },
   {
    "duration": 6,
    "start_time": "2025-01-14T17:33:20.568Z"
   },
   {
    "duration": 78,
    "start_time": "2025-01-14T17:33:20.576Z"
   },
   {
    "duration": 8,
    "start_time": "2025-01-14T17:33:20.656Z"
   },
   {
    "duration": 90,
    "start_time": "2025-01-14T17:33:20.666Z"
   },
   {
    "duration": 25,
    "start_time": "2025-01-14T17:33:20.758Z"
   },
   {
    "duration": 20,
    "start_time": "2025-01-14T17:33:20.786Z"
   },
   {
    "duration": 21,
    "start_time": "2025-01-14T17:33:20.830Z"
   },
   {
    "duration": 36,
    "start_time": "2025-01-14T17:33:20.852Z"
   },
   {
    "duration": 9,
    "start_time": "2025-01-14T17:33:20.889Z"
   },
   {
    "duration": 57,
    "start_time": "2025-01-14T17:33:20.900Z"
   },
   {
    "duration": 19,
    "start_time": "2025-01-14T17:33:20.959Z"
   },
   {
    "duration": 15,
    "start_time": "2025-01-14T17:33:21.030Z"
   },
   {
    "duration": 103,
    "start_time": "2025-01-14T17:33:21.047Z"
   },
   {
    "duration": 23,
    "start_time": "2025-01-14T17:33:21.152Z"
   },
   {
    "duration": 21,
    "start_time": "2025-01-14T17:33:21.229Z"
   },
   {
    "duration": 22,
    "start_time": "2025-01-14T17:33:21.252Z"
   },
   {
    "duration": 102,
    "start_time": "2025-01-14T17:33:21.276Z"
   },
   {
    "duration": 485,
    "start_time": "2025-01-14T17:33:21.380Z"
   },
   {
    "duration": 480,
    "start_time": "2025-01-14T17:33:21.867Z"
   },
   {
    "duration": 84,
    "start_time": "2025-01-14T17:33:22.350Z"
   },
   {
    "duration": 15,
    "start_time": "2025-01-14T17:33:22.436Z"
   },
   {
    "duration": 741,
    "start_time": "2025-01-14T17:33:22.453Z"
   },
   {
    "duration": 65,
    "start_time": "2025-01-14T17:33:23.196Z"
   },
   {
    "duration": 228,
    "start_time": "2025-01-14T17:33:23.263Z"
   },
   {
    "duration": 223,
    "start_time": "2025-01-14T17:33:23.493Z"
   },
   {
    "duration": 442,
    "start_time": "2025-01-14T17:33:23.717Z"
   },
   {
    "duration": 8,
    "start_time": "2025-01-14T17:33:24.161Z"
   },
   {
    "duration": 62,
    "start_time": "2025-01-14T17:33:24.171Z"
   },
   {
    "duration": 9,
    "start_time": "2025-01-14T17:33:24.243Z"
   },
   {
    "duration": 204,
    "start_time": "2025-01-14T17:33:24.254Z"
   },
   {
    "duration": 8,
    "start_time": "2025-01-14T17:33:24.460Z"
   },
   {
    "duration": 6,
    "start_time": "2025-01-14T17:33:24.471Z"
   },
   {
    "duration": 6,
    "start_time": "2025-01-14T17:45:09.298Z"
   },
   {
    "duration": 6,
    "start_time": "2025-01-14T17:45:23.859Z"
   },
   {
    "duration": 4,
    "start_time": "2025-01-14T17:47:30.585Z"
   },
   {
    "duration": 48,
    "start_time": "2025-01-14T20:54:11.212Z"
   },
   {
    "duration": 7,
    "start_time": "2025-01-14T21:41:49.263Z"
   },
   {
    "duration": 851,
    "start_time": "2025-01-14T21:41:56.056Z"
   },
   {
    "duration": 279,
    "start_time": "2025-01-14T21:41:56.911Z"
   },
   {
    "duration": 15,
    "start_time": "2025-01-14T21:41:57.313Z"
   },
   {
    "duration": 17,
    "start_time": "2025-01-14T21:41:57.466Z"
   },
   {
    "duration": 16,
    "start_time": "2025-01-14T21:41:58.504Z"
   },
   {
    "duration": 49,
    "start_time": "2025-01-14T21:41:58.907Z"
   },
   {
    "duration": 9,
    "start_time": "2025-01-14T21:41:59.316Z"
   },
   {
    "duration": 38,
    "start_time": "2025-01-14T21:42:00.137Z"
   },
   {
    "duration": 5,
    "start_time": "2025-01-14T21:42:01.233Z"
   },
   {
    "duration": 60,
    "start_time": "2025-01-14T21:42:01.703Z"
   },
   {
    "duration": 8,
    "start_time": "2025-01-14T21:42:02.610Z"
   },
   {
    "duration": 53,
    "start_time": "2025-01-14T21:42:03.165Z"
   },
   {
    "duration": 24,
    "start_time": "2025-01-14T21:42:04.055Z"
   },
   {
    "duration": 19,
    "start_time": "2025-01-14T21:42:05.984Z"
   },
   {
    "duration": 5,
    "start_time": "2025-01-14T21:42:10.641Z"
   },
   {
    "duration": 6,
    "start_time": "2025-01-14T21:42:32.060Z"
   },
   {
    "duration": 20,
    "start_time": "2025-01-14T21:42:46.456Z"
   },
   {
    "duration": 24,
    "start_time": "2025-01-14T21:43:31.629Z"
   },
   {
    "duration": 23,
    "start_time": "2025-01-14T21:43:40.332Z"
   },
   {
    "duration": 34,
    "start_time": "2025-01-14T21:46:49.127Z"
   },
   {
    "duration": 37,
    "start_time": "2025-01-14T21:47:01.860Z"
   },
   {
    "duration": 40,
    "start_time": "2025-01-14T21:48:09.025Z"
   },
   {
    "duration": 36,
    "start_time": "2025-01-14T21:49:09.811Z"
   },
   {
    "duration": 25,
    "start_time": "2025-01-14T21:49:31.717Z"
   },
   {
    "duration": 27,
    "start_time": "2025-01-14T22:05:46.824Z"
   },
   {
    "duration": 7,
    "start_time": "2025-01-14T22:05:59.720Z"
   },
   {
    "duration": 17,
    "start_time": "2025-01-14T22:10:36.549Z"
   },
   {
    "duration": 41,
    "start_time": "2025-01-14T22:11:44.983Z"
   },
   {
    "duration": 9,
    "start_time": "2025-01-14T22:11:50.085Z"
   },
   {
    "duration": 5,
    "start_time": "2025-01-14T22:12:31.195Z"
   },
   {
    "duration": 6,
    "start_time": "2025-01-14T22:12:52.589Z"
   },
   {
    "duration": 8,
    "start_time": "2025-01-14T22:12:54.028Z"
   },
   {
    "duration": 12,
    "start_time": "2025-01-14T22:13:47.539Z"
   },
   {
    "duration": 36,
    "start_time": "2025-01-14T22:14:08.195Z"
   },
   {
    "duration": 27,
    "start_time": "2025-01-14T22:16:45.383Z"
   },
   {
    "duration": 28,
    "start_time": "2025-01-14T22:16:55.482Z"
   },
   {
    "duration": 31,
    "start_time": "2025-01-14T22:17:01.941Z"
   },
   {
    "duration": 12,
    "start_time": "2025-01-14T22:17:14.308Z"
   },
   {
    "duration": 893,
    "start_time": "2025-01-15T15:18:01.695Z"
   },
   {
    "duration": 428,
    "start_time": "2025-01-15T15:18:02.590Z"
   },
   {
    "duration": 18,
    "start_time": "2025-01-15T15:18:03.207Z"
   },
   {
    "duration": 18,
    "start_time": "2025-01-15T15:18:04.227Z"
   },
   {
    "duration": 18,
    "start_time": "2025-01-15T15:18:07.312Z"
   },
   {
    "duration": 50,
    "start_time": "2025-01-15T15:18:20.513Z"
   },
   {
    "duration": 10,
    "start_time": "2025-01-15T15:18:21.472Z"
   },
   {
    "duration": 38,
    "start_time": "2025-01-15T15:18:23.822Z"
   },
   {
    "duration": 5,
    "start_time": "2025-01-15T15:18:29.816Z"
   },
   {
    "duration": 61,
    "start_time": "2025-01-15T15:18:33.152Z"
   },
   {
    "duration": 6,
    "start_time": "2025-01-15T15:18:35.101Z"
   },
   {
    "duration": 18,
    "start_time": "2025-01-15T15:18:35.759Z"
   },
   {
    "duration": 10,
    "start_time": "2025-01-15T15:18:37.567Z"
   },
   {
    "duration": 57,
    "start_time": "2025-01-15T15:18:41.363Z"
   },
   {
    "duration": 28,
    "start_time": "2025-01-15T15:18:43.707Z"
   },
   {
    "duration": 19,
    "start_time": "2025-01-15T15:18:50.641Z"
   },
   {
    "duration": 26,
    "start_time": "2025-01-15T15:18:53.029Z"
   },
   {
    "duration": 39,
    "start_time": "2025-01-15T15:18:59.593Z"
   },
   {
    "duration": 717,
    "start_time": "2025-01-15T15:22:00.042Z"
   },
   {
    "duration": 172,
    "start_time": "2025-01-15T15:22:00.761Z"
   },
   {
    "duration": 17,
    "start_time": "2025-01-15T15:22:01.116Z"
   },
   {
    "duration": 19,
    "start_time": "2025-01-15T15:22:01.331Z"
   },
   {
    "duration": 17,
    "start_time": "2025-01-15T15:22:03.204Z"
   },
   {
    "duration": 51,
    "start_time": "2025-01-15T15:22:04.281Z"
   },
   {
    "duration": 9,
    "start_time": "2025-01-15T15:22:05.193Z"
   },
   {
    "duration": 35,
    "start_time": "2025-01-15T15:22:06.916Z"
   },
   {
    "duration": 5,
    "start_time": "2025-01-15T15:22:09.332Z"
   },
   {
    "duration": 60,
    "start_time": "2025-01-15T15:22:10.228Z"
   },
   {
    "duration": 8,
    "start_time": "2025-01-15T15:22:11.333Z"
   },
   {
    "duration": 51,
    "start_time": "2025-01-15T15:22:13.173Z"
   },
   {
    "duration": 27,
    "start_time": "2025-01-15T15:22:16.511Z"
   },
   {
    "duration": 19,
    "start_time": "2025-01-15T15:22:20.120Z"
   },
   {
    "duration": 27,
    "start_time": "2025-01-15T15:22:23.649Z"
   },
   {
    "duration": 51,
    "start_time": "2025-01-15T15:22:31.345Z"
   },
   {
    "duration": 27,
    "start_time": "2025-01-15T15:35:58.465Z"
   },
   {
    "duration": 24,
    "start_time": "2025-01-15T15:37:41.610Z"
   },
   {
    "duration": 87,
    "start_time": "2025-01-15T15:41:20.276Z"
   },
   {
    "duration": 8,
    "start_time": "2025-01-15T15:41:24.976Z"
   },
   {
    "duration": 10,
    "start_time": "2025-01-15T15:41:31.237Z"
   },
   {
    "duration": 16,
    "start_time": "2025-01-15T15:41:34.343Z"
   },
   {
    "duration": 152,
    "start_time": "2025-01-15T16:28:15.150Z"
   },
   {
    "duration": 477,
    "start_time": "2025-01-15T16:29:06.664Z"
   },
   {
    "duration": 398,
    "start_time": "2025-01-15T16:30:21.003Z"
   },
   {
    "duration": 431,
    "start_time": "2025-01-15T16:30:26.164Z"
   },
   {
    "duration": 22,
    "start_time": "2025-01-15T16:33:16.360Z"
   },
   {
    "duration": 488,
    "start_time": "2025-01-15T16:35:36.661Z"
   },
   {
    "duration": 406,
    "start_time": "2025-01-15T16:36:07.242Z"
   },
   {
    "duration": 3,
    "start_time": "2025-01-15T16:36:28.723Z"
   },
   {
    "duration": 168,
    "start_time": "2025-01-15T16:36:29.033Z"
   },
   {
    "duration": 17,
    "start_time": "2025-01-15T16:36:29.478Z"
   },
   {
    "duration": 17,
    "start_time": "2025-01-15T16:36:29.753Z"
   },
   {
    "duration": 18,
    "start_time": "2025-01-15T16:36:30.455Z"
   },
   {
    "duration": 53,
    "start_time": "2025-01-15T16:36:30.764Z"
   },
   {
    "duration": 9,
    "start_time": "2025-01-15T16:36:31.093Z"
   },
   {
    "duration": 39,
    "start_time": "2025-01-15T16:36:31.826Z"
   },
   {
    "duration": 5,
    "start_time": "2025-01-15T16:36:33.330Z"
   },
   {
    "duration": 20,
    "start_time": "2025-01-15T16:36:33.870Z"
   },
   {
    "duration": 9,
    "start_time": "2025-01-15T16:36:34.951Z"
   },
   {
    "duration": 58,
    "start_time": "2025-01-15T16:36:35.403Z"
   },
   {
    "duration": 27,
    "start_time": "2025-01-15T16:36:36.451Z"
   },
   {
    "duration": 20,
    "start_time": "2025-01-15T16:36:37.616Z"
   },
   {
    "duration": 29,
    "start_time": "2025-01-15T16:36:38.955Z"
   },
   {
    "duration": 15,
    "start_time": "2025-01-15T16:36:41.022Z"
   },
   {
    "duration": 10,
    "start_time": "2025-01-15T16:36:42.240Z"
   },
   {
    "duration": 27,
    "start_time": "2025-01-15T16:36:43.339Z"
   },
   {
    "duration": 8,
    "start_time": "2025-01-15T16:36:46.028Z"
   },
   {
    "duration": 27,
    "start_time": "2025-01-15T16:36:50.297Z"
   },
   {
    "duration": 16,
    "start_time": "2025-01-15T16:36:51.669Z"
   },
   {
    "duration": 31,
    "start_time": "2025-01-15T16:36:54.146Z"
   },
   {
    "duration": 8,
    "start_time": "2025-01-15T16:36:55.334Z"
   },
   {
    "duration": 19,
    "start_time": "2025-01-15T16:36:56.810Z"
   },
   {
    "duration": 4,
    "start_time": "2025-01-15T16:36:57.629Z"
   },
   {
    "duration": 52,
    "start_time": "2025-01-15T16:36:57.839Z"
   },
   {
    "duration": 7,
    "start_time": "2025-01-15T16:36:58.861Z"
   },
   {
    "duration": 495,
    "start_time": "2025-01-15T16:37:03.947Z"
   },
   {
    "duration": 493,
    "start_time": "2025-01-15T16:37:50.677Z"
   },
   {
    "duration": 452,
    "start_time": "2025-01-15T16:39:01.945Z"
   },
   {
    "duration": 539,
    "start_time": "2025-01-15T16:40:54.873Z"
   },
   {
    "duration": 93,
    "start_time": "2025-01-15T16:42:06.081Z"
   },
   {
    "duration": 74,
    "start_time": "2025-01-15T16:42:21.819Z"
   },
   {
    "duration": 69,
    "start_time": "2025-01-15T16:42:48.629Z"
   },
   {
    "duration": 451,
    "start_time": "2025-01-15T16:42:55.270Z"
   },
   {
    "duration": 633,
    "start_time": "2025-01-15T16:43:03.721Z"
   },
   {
    "duration": 580,
    "start_time": "2025-01-15T16:47:16.527Z"
   },
   {
    "duration": 570,
    "start_time": "2025-01-15T16:51:50.181Z"
   },
   {
    "duration": 671,
    "start_time": "2025-01-15T16:57:19.396Z"
   },
   {
    "duration": 170,
    "start_time": "2025-01-15T17:11:24.528Z"
   },
   {
    "duration": 683,
    "start_time": "2025-01-15T17:11:32.977Z"
   },
   {
    "duration": 183,
    "start_time": "2025-01-15T17:11:33.662Z"
   },
   {
    "duration": 17,
    "start_time": "2025-01-15T17:11:33.847Z"
   },
   {
    "duration": 26,
    "start_time": "2025-01-15T17:11:33.866Z"
   },
   {
    "duration": 35,
    "start_time": "2025-01-15T17:11:33.893Z"
   },
   {
    "duration": 70,
    "start_time": "2025-01-15T17:11:33.930Z"
   },
   {
    "duration": 11,
    "start_time": "2025-01-15T17:11:34.002Z"
   },
   {
    "duration": 64,
    "start_time": "2025-01-15T17:11:34.015Z"
   },
   {
    "duration": 4,
    "start_time": "2025-01-15T17:11:34.081Z"
   },
   {
    "duration": 80,
    "start_time": "2025-01-15T17:11:34.088Z"
   },
   {
    "duration": 9,
    "start_time": "2025-01-15T17:11:34.170Z"
   },
   {
    "duration": 90,
    "start_time": "2025-01-15T17:11:34.181Z"
   },
   {
    "duration": 34,
    "start_time": "2025-01-15T17:11:34.273Z"
   },
   {
    "duration": 22,
    "start_time": "2025-01-15T17:11:34.309Z"
   },
   {
    "duration": 53,
    "start_time": "2025-01-15T17:11:34.332Z"
   },
   {
    "duration": 66,
    "start_time": "2025-01-15T17:11:34.387Z"
   },
   {
    "duration": 12,
    "start_time": "2025-01-15T17:11:34.456Z"
   },
   {
    "duration": 31,
    "start_time": "2025-01-15T17:11:34.470Z"
   },
   {
    "duration": 8,
    "start_time": "2025-01-15T17:11:34.503Z"
   },
   {
    "duration": 66,
    "start_time": "2025-01-15T17:11:34.513Z"
   },
   {
    "duration": 18,
    "start_time": "2025-01-15T17:11:34.581Z"
   },
   {
    "duration": 32,
    "start_time": "2025-01-15T17:11:34.601Z"
   },
   {
    "duration": 9,
    "start_time": "2025-01-15T17:11:34.660Z"
   },
   {
    "duration": 45,
    "start_time": "2025-01-15T17:11:34.672Z"
   },
   {
    "duration": 3,
    "start_time": "2025-01-15T17:11:34.719Z"
   },
   {
    "duration": 88,
    "start_time": "2025-01-15T17:11:34.724Z"
   },
   {
    "duration": 6,
    "start_time": "2025-01-15T17:11:34.814Z"
   },
   {
    "duration": 739,
    "start_time": "2025-01-15T17:11:34.823Z"
   },
   {
    "duration": 4,
    "start_time": "2025-01-15T17:11:35.565Z"
   },
   {
    "duration": 26,
    "start_time": "2025-01-15T17:11:35.571Z"
   },
   {
    "duration": 26,
    "start_time": "2025-01-15T17:11:35.600Z"
   },
   {
    "duration": 65,
    "start_time": "2025-01-15T17:11:35.629Z"
   },
   {
    "duration": 51,
    "start_time": "2025-01-15T17:11:35.696Z"
   },
   {
    "duration": 168,
    "start_time": "2025-01-15T17:11:35.749Z"
   },
   {
    "duration": 197,
    "start_time": "2025-01-15T17:11:35.919Z"
   },
   {
    "duration": 30,
    "start_time": "2025-01-15T17:11:36.118Z"
   },
   {
    "duration": 12,
    "start_time": "2025-01-15T17:11:36.161Z"
   },
   {
    "duration": 400,
    "start_time": "2025-01-15T17:11:36.175Z"
   },
   {
    "duration": 40,
    "start_time": "2025-01-15T17:11:36.577Z"
   },
   {
    "duration": 217,
    "start_time": "2025-01-15T17:11:36.619Z"
   },
   {
    "duration": 215,
    "start_time": "2025-01-15T17:11:36.838Z"
   },
   {
    "duration": 476,
    "start_time": "2025-01-15T17:11:37.055Z"
   },
   {
    "duration": 9,
    "start_time": "2025-01-15T17:11:37.533Z"
   },
   {
    "duration": 48,
    "start_time": "2025-01-15T17:11:37.544Z"
   },
   {
    "duration": 7,
    "start_time": "2025-01-15T17:11:37.593Z"
   },
   {
    "duration": 216,
    "start_time": "2025-01-15T17:11:37.602Z"
   },
   {
    "duration": 8,
    "start_time": "2025-01-15T17:11:37.820Z"
   },
   {
    "duration": 6,
    "start_time": "2025-01-15T17:11:37.830Z"
   },
   {
    "duration": 162,
    "start_time": "2025-01-15T17:13:34.465Z"
   },
   {
    "duration": 447,
    "start_time": "2025-01-15T17:15:37.845Z"
   },
   {
    "duration": 210,
    "start_time": "2025-01-15T17:16:19.498Z"
   },
   {
    "duration": 753,
    "start_time": "2025-01-15T17:21:02.866Z"
   },
   {
    "duration": 173,
    "start_time": "2025-01-15T17:21:03.621Z"
   },
   {
    "duration": 17,
    "start_time": "2025-01-15T17:21:03.796Z"
   },
   {
    "duration": 42,
    "start_time": "2025-01-15T17:21:03.816Z"
   },
   {
    "duration": 35,
    "start_time": "2025-01-15T17:21:03.860Z"
   },
   {
    "duration": 55,
    "start_time": "2025-01-15T17:21:03.898Z"
   },
   {
    "duration": 10,
    "start_time": "2025-01-15T17:21:03.955Z"
   },
   {
    "duration": 46,
    "start_time": "2025-01-15T17:21:03.967Z"
   },
   {
    "duration": 6,
    "start_time": "2025-01-15T17:21:04.016Z"
   },
   {
    "duration": 84,
    "start_time": "2025-01-15T17:21:04.026Z"
   },
   {
    "duration": 10,
    "start_time": "2025-01-15T17:21:04.111Z"
   },
   {
    "duration": 77,
    "start_time": "2025-01-15T17:21:04.123Z"
   },
   {
    "duration": 27,
    "start_time": "2025-01-15T17:21:04.202Z"
   },
   {
    "duration": 47,
    "start_time": "2025-01-15T17:21:04.231Z"
   },
   {
    "duration": 38,
    "start_time": "2025-01-15T17:21:04.280Z"
   },
   {
    "duration": 60,
    "start_time": "2025-01-15T17:21:04.321Z"
   },
   {
    "duration": 12,
    "start_time": "2025-01-15T17:21:04.384Z"
   },
   {
    "duration": 60,
    "start_time": "2025-01-15T17:21:04.398Z"
   },
   {
    "duration": 30,
    "start_time": "2025-01-15T17:21:04.460Z"
   },
   {
    "duration": 50,
    "start_time": "2025-01-15T17:21:04.492Z"
   },
   {
    "duration": 17,
    "start_time": "2025-01-15T17:21:04.543Z"
   },
   {
    "duration": 44,
    "start_time": "2025-01-15T17:21:04.561Z"
   },
   {
    "duration": 8,
    "start_time": "2025-01-15T17:21:04.607Z"
   },
   {
    "duration": 36,
    "start_time": "2025-01-15T17:21:04.616Z"
   },
   {
    "duration": 6,
    "start_time": "2025-01-15T17:21:04.654Z"
   },
   {
    "duration": 51,
    "start_time": "2025-01-15T17:21:04.662Z"
   },
   {
    "duration": 6,
    "start_time": "2025-01-15T17:21:04.714Z"
   },
   {
    "duration": 707,
    "start_time": "2025-01-15T17:21:04.724Z"
   },
   {
    "duration": 3,
    "start_time": "2025-01-15T17:21:05.433Z"
   },
   {
    "duration": 42,
    "start_time": "2025-01-15T17:21:05.437Z"
   },
   {
    "duration": 37,
    "start_time": "2025-01-15T17:21:05.481Z"
   },
   {
    "duration": 58,
    "start_time": "2025-01-15T17:21:05.520Z"
   },
   {
    "duration": 54,
    "start_time": "2025-01-15T17:21:05.580Z"
   },
   {
    "duration": 182,
    "start_time": "2025-01-15T17:21:05.636Z"
   },
   {
    "duration": 190,
    "start_time": "2025-01-15T17:21:05.820Z"
   },
   {
    "duration": 28,
    "start_time": "2025-01-15T17:21:06.012Z"
   },
   {
    "duration": 46,
    "start_time": "2025-01-15T17:21:06.042Z"
   },
   {
    "duration": 236,
    "start_time": "2025-01-15T17:21:06.089Z"
   },
   {
    "duration": 48,
    "start_time": "2025-01-15T17:21:06.327Z"
   },
   {
    "duration": 199,
    "start_time": "2025-01-15T17:21:06.377Z"
   },
   {
    "duration": 193,
    "start_time": "2025-01-15T17:21:06.578Z"
   },
   {
    "duration": 406,
    "start_time": "2025-01-15T17:21:06.773Z"
   },
   {
    "duration": 6,
    "start_time": "2025-01-15T17:21:07.180Z"
   },
   {
    "duration": 38,
    "start_time": "2025-01-15T17:21:07.188Z"
   },
   {
    "duration": 70,
    "start_time": "2025-01-15T17:21:07.228Z"
   },
   {
    "duration": 174,
    "start_time": "2025-01-15T17:21:07.300Z"
   },
   {
    "duration": 8,
    "start_time": "2025-01-15T17:21:07.475Z"
   },
   {
    "duration": 11,
    "start_time": "2025-01-15T17:21:07.485Z"
   },
   {
    "duration": 77,
    "start_time": "2025-01-15T17:35:22.405Z"
   },
   {
    "duration": 684,
    "start_time": "2025-01-15T18:33:19.695Z"
   },
   {
    "duration": 452,
    "start_time": "2025-01-15T18:33:20.381Z"
   },
   {
    "duration": 18,
    "start_time": "2025-01-15T18:33:20.835Z"
   },
   {
    "duration": 23,
    "start_time": "2025-01-15T18:33:20.855Z"
   },
   {
    "duration": 16,
    "start_time": "2025-01-15T18:33:20.880Z"
   },
   {
    "duration": 77,
    "start_time": "2025-01-15T18:33:20.898Z"
   },
   {
    "duration": 9,
    "start_time": "2025-01-15T18:33:20.978Z"
   },
   {
    "duration": 40,
    "start_time": "2025-01-15T18:33:20.989Z"
   },
   {
    "duration": 5,
    "start_time": "2025-01-15T18:33:21.031Z"
   },
   {
    "duration": 82,
    "start_time": "2025-01-15T18:33:21.038Z"
   },
   {
    "duration": 8,
    "start_time": "2025-01-15T18:33:21.121Z"
   },
   {
    "duration": 77,
    "start_time": "2025-01-15T18:33:21.130Z"
   },
   {
    "duration": 24,
    "start_time": "2025-01-15T18:33:21.209Z"
   },
   {
    "duration": 40,
    "start_time": "2025-01-15T18:33:21.236Z"
   },
   {
    "duration": 24,
    "start_time": "2025-01-15T18:33:21.278Z"
   },
   {
    "duration": 29,
    "start_time": "2025-01-15T18:33:21.304Z"
   },
   {
    "duration": 37,
    "start_time": "2025-01-15T18:33:21.335Z"
   },
   {
    "duration": 28,
    "start_time": "2025-01-15T18:33:21.374Z"
   },
   {
    "duration": 7,
    "start_time": "2025-01-15T18:33:21.404Z"
   },
   {
    "duration": 24,
    "start_time": "2025-01-15T18:33:21.413Z"
   },
   {
    "duration": 23,
    "start_time": "2025-01-15T18:33:21.460Z"
   },
   {
    "duration": 26,
    "start_time": "2025-01-15T18:33:21.485Z"
   },
   {
    "duration": 7,
    "start_time": "2025-01-15T18:33:21.513Z"
   },
   {
    "duration": 54,
    "start_time": "2025-01-15T18:33:21.521Z"
   },
   {
    "duration": 32,
    "start_time": "2025-01-15T18:33:21.577Z"
   },
   {
    "duration": 49,
    "start_time": "2025-01-15T18:33:21.611Z"
   },
   {
    "duration": 11,
    "start_time": "2025-01-15T18:33:21.662Z"
   },
   {
    "duration": 705,
    "start_time": "2025-01-15T18:33:21.676Z"
   },
   {
    "duration": 4,
    "start_time": "2025-01-15T18:33:22.382Z"
   },
   {
    "duration": 37,
    "start_time": "2025-01-15T18:33:22.388Z"
   },
   {
    "duration": 26,
    "start_time": "2025-01-15T18:33:22.427Z"
   },
   {
    "duration": 27,
    "start_time": "2025-01-15T18:33:22.454Z"
   },
   {
    "duration": 33,
    "start_time": "2025-01-15T18:33:22.483Z"
   },
   {
    "duration": 190,
    "start_time": "2025-01-15T18:33:22.517Z"
   },
   {
    "duration": 190,
    "start_time": "2025-01-15T18:33:22.709Z"
   },
   {
    "duration": 28,
    "start_time": "2025-01-15T18:33:22.901Z"
   },
   {
    "duration": 43,
    "start_time": "2025-01-15T18:33:22.931Z"
   },
   {
    "duration": 215,
    "start_time": "2025-01-15T18:33:22.978Z"
   },
   {
    "duration": 39,
    "start_time": "2025-01-15T18:33:23.195Z"
   },
   {
    "duration": 243,
    "start_time": "2025-01-15T18:33:23.235Z"
   },
   {
    "duration": 201,
    "start_time": "2025-01-15T18:33:23.482Z"
   },
   {
    "duration": 422,
    "start_time": "2025-01-15T18:33:23.684Z"
   },
   {
    "duration": 7,
    "start_time": "2025-01-15T18:33:24.108Z"
   },
   {
    "duration": 55,
    "start_time": "2025-01-15T18:33:24.117Z"
   },
   {
    "duration": 7,
    "start_time": "2025-01-15T18:33:24.174Z"
   },
   {
    "duration": 189,
    "start_time": "2025-01-15T18:33:24.182Z"
   },
   {
    "duration": 9,
    "start_time": "2025-01-15T18:33:24.373Z"
   },
   {
    "duration": 6,
    "start_time": "2025-01-15T18:33:24.384Z"
   },
   {
    "duration": 12,
    "start_time": "2025-01-15T18:35:34.052Z"
   },
   {
    "duration": 772,
    "start_time": "2025-01-15T18:35:47.829Z"
   },
   {
    "duration": 185,
    "start_time": "2025-01-15T18:35:48.603Z"
   },
   {
    "duration": 16,
    "start_time": "2025-01-15T18:35:48.790Z"
   },
   {
    "duration": 18,
    "start_time": "2025-01-15T18:35:48.808Z"
   },
   {
    "duration": 35,
    "start_time": "2025-01-15T18:35:48.828Z"
   },
   {
    "duration": 51,
    "start_time": "2025-01-15T18:35:48.864Z"
   },
   {
    "duration": 9,
    "start_time": "2025-01-15T18:35:48.918Z"
   },
   {
    "duration": 69,
    "start_time": "2025-01-15T18:35:48.928Z"
   },
   {
    "duration": 5,
    "start_time": "2025-01-15T18:35:48.999Z"
   },
   {
    "duration": 77,
    "start_time": "2025-01-15T18:35:49.006Z"
   },
   {
    "duration": 7,
    "start_time": "2025-01-15T18:35:49.085Z"
   },
   {
    "duration": 80,
    "start_time": "2025-01-15T18:35:49.094Z"
   },
   {
    "duration": 26,
    "start_time": "2025-01-15T18:35:49.176Z"
   },
   {
    "duration": 20,
    "start_time": "2025-01-15T18:35:49.205Z"
   },
   {
    "duration": 57,
    "start_time": "2025-01-15T18:35:49.226Z"
   },
   {
    "duration": 10,
    "start_time": "2025-01-15T18:35:49.285Z"
   },
   {
    "duration": 40,
    "start_time": "2025-01-15T18:35:49.297Z"
   },
   {
    "duration": 26,
    "start_time": "2025-01-15T18:35:49.338Z"
   },
   {
    "duration": 28,
    "start_time": "2025-01-15T18:35:49.366Z"
   },
   {
    "duration": 9,
    "start_time": "2025-01-15T18:35:49.395Z"
   },
   {
    "duration": 63,
    "start_time": "2025-01-15T18:35:49.406Z"
   },
   {
    "duration": 19,
    "start_time": "2025-01-15T18:35:49.470Z"
   },
   {
    "duration": 29,
    "start_time": "2025-01-15T18:35:49.491Z"
   },
   {
    "duration": 38,
    "start_time": "2025-01-15T18:35:49.522Z"
   },
   {
    "duration": 32,
    "start_time": "2025-01-15T18:35:49.562Z"
   },
   {
    "duration": 4,
    "start_time": "2025-01-15T18:35:49.596Z"
   },
   {
    "duration": 65,
    "start_time": "2025-01-15T18:35:49.602Z"
   },
   {
    "duration": 6,
    "start_time": "2025-01-15T18:35:49.668Z"
   },
   {
    "duration": 674,
    "start_time": "2025-01-15T18:35:49.676Z"
   },
   {
    "duration": 8,
    "start_time": "2025-01-15T18:35:50.352Z"
   },
   {
    "duration": 23,
    "start_time": "2025-01-15T18:35:50.362Z"
   },
   {
    "duration": 24,
    "start_time": "2025-01-15T18:35:50.387Z"
   },
   {
    "duration": 25,
    "start_time": "2025-01-15T18:35:50.413Z"
   },
   {
    "duration": 42,
    "start_time": "2025-01-15T18:35:50.439Z"
   },
   {
    "duration": 177,
    "start_time": "2025-01-15T18:35:50.483Z"
   },
   {
    "duration": 194,
    "start_time": "2025-01-15T18:35:50.661Z"
   },
   {
    "duration": 30,
    "start_time": "2025-01-15T18:35:50.857Z"
   },
   {
    "duration": 17,
    "start_time": "2025-01-15T18:35:50.889Z"
   },
   {
    "duration": 234,
    "start_time": "2025-01-15T18:35:50.908Z"
   },
   {
    "duration": 49,
    "start_time": "2025-01-15T18:35:51.146Z"
   },
   {
    "duration": 275,
    "start_time": "2025-01-15T18:35:51.199Z"
   },
   {
    "duration": 415,
    "start_time": "2025-01-15T18:35:51.476Z"
   },
   {
    "duration": 688,
    "start_time": "2025-01-15T18:35:51.893Z"
   },
   {
    "duration": 7,
    "start_time": "2025-01-15T18:35:52.583Z"
   },
   {
    "duration": 82,
    "start_time": "2025-01-15T18:35:52.592Z"
   },
   {
    "duration": 8,
    "start_time": "2025-01-15T18:35:52.675Z"
   },
   {
    "duration": 347,
    "start_time": "2025-01-15T18:35:52.685Z"
   },
   {
    "duration": 26,
    "start_time": "2025-01-15T18:35:53.034Z"
   },
   {
    "duration": 6,
    "start_time": "2025-01-15T18:35:53.063Z"
   },
   {
    "duration": 889,
    "start_time": "2025-01-15T18:46:44.666Z"
   },
   {
    "duration": 231,
    "start_time": "2025-01-15T18:46:51.477Z"
   },
   {
    "duration": 52,
    "start_time": "2025-01-15T19:47:30.262Z"
   },
   {
    "duration": 872,
    "start_time": "2025-01-15T19:47:38.118Z"
   },
   {
    "duration": 292,
    "start_time": "2025-01-15T19:47:38.993Z"
   },
   {
    "duration": 16,
    "start_time": "2025-01-15T19:47:39.287Z"
   },
   {
    "duration": 87,
    "start_time": "2025-01-15T19:47:39.306Z"
   },
   {
    "duration": 16,
    "start_time": "2025-01-15T19:47:39.395Z"
   },
   {
    "duration": 51,
    "start_time": "2025-01-15T19:47:39.413Z"
   },
   {
    "duration": 41,
    "start_time": "2025-01-15T19:47:39.466Z"
   },
   {
    "duration": 72,
    "start_time": "2025-01-15T19:47:39.509Z"
   },
   {
    "duration": 5,
    "start_time": "2025-01-15T19:47:39.583Z"
   },
   {
    "duration": 60,
    "start_time": "2025-01-15T19:47:39.591Z"
   },
   {
    "duration": 9,
    "start_time": "2025-01-15T19:47:39.653Z"
   },
   {
    "duration": 69,
    "start_time": "2025-01-15T19:47:39.663Z"
   },
   {
    "duration": 25,
    "start_time": "2025-01-15T19:47:39.734Z"
   },
   {
    "duration": 19,
    "start_time": "2025-01-15T19:47:39.761Z"
   },
   {
    "duration": 58,
    "start_time": "2025-01-15T19:47:39.782Z"
   },
   {
    "duration": 11,
    "start_time": "2025-01-15T19:47:39.841Z"
   },
   {
    "duration": 45,
    "start_time": "2025-01-15T19:47:39.854Z"
   },
   {
    "duration": 10,
    "start_time": "2025-01-15T19:47:39.901Z"
   },
   {
    "duration": 40,
    "start_time": "2025-01-15T19:47:39.913Z"
   },
   {
    "duration": 8,
    "start_time": "2025-01-15T19:47:39.955Z"
   },
   {
    "duration": 23,
    "start_time": "2025-01-15T19:47:39.965Z"
   },
   {
    "duration": 76,
    "start_time": "2025-01-15T19:47:39.990Z"
   },
   {
    "duration": 25,
    "start_time": "2025-01-15T19:47:40.068Z"
   },
   {
    "duration": 7,
    "start_time": "2025-01-15T19:47:40.095Z"
   },
   {
    "duration": 19,
    "start_time": "2025-01-15T19:47:40.104Z"
   },
   {
    "duration": 8,
    "start_time": "2025-01-15T19:47:40.125Z"
   },
   {
    "duration": 59,
    "start_time": "2025-01-15T19:47:40.135Z"
   },
   {
    "duration": 6,
    "start_time": "2025-01-15T19:47:40.199Z"
   },
   {
    "duration": 668,
    "start_time": "2025-01-15T19:47:40.231Z"
   },
   {
    "duration": 3,
    "start_time": "2025-01-15T19:47:40.901Z"
   },
   {
    "duration": 56,
    "start_time": "2025-01-15T19:47:40.906Z"
   },
   {
    "duration": 12,
    "start_time": "2025-01-15T19:47:40.964Z"
   },
   {
    "duration": 18,
    "start_time": "2025-01-15T19:47:40.978Z"
   },
   {
    "duration": 33,
    "start_time": "2025-01-15T19:47:40.997Z"
   },
   {
    "duration": 170,
    "start_time": "2025-01-15T19:47:41.031Z"
   },
   {
    "duration": 190,
    "start_time": "2025-01-15T19:47:41.202Z"
   },
   {
    "duration": 40,
    "start_time": "2025-01-15T19:47:41.394Z"
   },
   {
    "duration": 12,
    "start_time": "2025-01-15T19:47:41.436Z"
   },
   {
    "duration": 281,
    "start_time": "2025-01-15T19:47:41.450Z"
   },
   {
    "duration": 40,
    "start_time": "2025-01-15T19:47:41.733Z"
   },
   {
    "duration": 214,
    "start_time": "2025-01-15T19:47:41.775Z"
   },
   {
    "duration": 224,
    "start_time": "2025-01-15T19:47:41.991Z"
   },
   {
    "duration": 475,
    "start_time": "2025-01-15T19:47:42.217Z"
   },
   {
    "duration": 785,
    "start_time": "2025-01-15T19:47:42.694Z"
   },
   {
    "duration": 7,
    "start_time": "2025-01-15T19:47:43.481Z"
   },
   {
    "duration": 72,
    "start_time": "2025-01-15T19:47:43.489Z"
   },
   {
    "duration": 6,
    "start_time": "2025-01-15T19:47:43.563Z"
   },
   {
    "duration": 182,
    "start_time": "2025-01-15T19:47:43.570Z"
   },
   {
    "duration": 7,
    "start_time": "2025-01-15T19:47:43.754Z"
   },
   {
    "duration": 5,
    "start_time": "2025-01-15T19:47:43.762Z"
   },
   {
    "duration": 633,
    "start_time": "2025-01-15T19:58:14.678Z"
   },
   {
    "duration": 175,
    "start_time": "2025-01-15T19:58:15.313Z"
   },
   {
    "duration": 17,
    "start_time": "2025-01-15T19:58:15.490Z"
   },
   {
    "duration": 72,
    "start_time": "2025-01-15T19:58:15.509Z"
   },
   {
    "duration": 16,
    "start_time": "2025-01-15T19:58:15.582Z"
   },
   {
    "duration": 49,
    "start_time": "2025-01-15T19:58:15.599Z"
   },
   {
    "duration": 9,
    "start_time": "2025-01-15T19:58:15.650Z"
   },
   {
    "duration": 47,
    "start_time": "2025-01-15T19:58:15.660Z"
   },
   {
    "duration": 6,
    "start_time": "2025-01-15T19:58:15.708Z"
   },
   {
    "duration": 81,
    "start_time": "2025-01-15T19:58:15.717Z"
   },
   {
    "duration": 8,
    "start_time": "2025-01-15T19:58:15.799Z"
   },
   {
    "duration": 63,
    "start_time": "2025-01-15T19:58:15.809Z"
   },
   {
    "duration": 25,
    "start_time": "2025-01-15T19:58:15.873Z"
   },
   {
    "duration": 44,
    "start_time": "2025-01-15T19:58:15.900Z"
   },
   {
    "duration": 20,
    "start_time": "2025-01-15T19:58:15.945Z"
   },
   {
    "duration": 8,
    "start_time": "2025-01-15T19:58:15.967Z"
   },
   {
    "duration": 54,
    "start_time": "2025-01-15T19:58:15.977Z"
   },
   {
    "duration": 14,
    "start_time": "2025-01-15T19:58:16.034Z"
   },
   {
    "duration": 44,
    "start_time": "2025-01-15T19:58:16.050Z"
   },
   {
    "duration": 40,
    "start_time": "2025-01-15T19:58:16.096Z"
   },
   {
    "duration": 32,
    "start_time": "2025-01-15T19:58:16.138Z"
   },
   {
    "duration": 18,
    "start_time": "2025-01-15T19:58:16.172Z"
   },
   {
    "duration": 54,
    "start_time": "2025-01-15T19:58:16.192Z"
   },
   {
    "duration": 7,
    "start_time": "2025-01-15T19:58:16.247Z"
   },
   {
    "duration": 19,
    "start_time": "2025-01-15T19:58:16.255Z"
   },
   {
    "duration": 3,
    "start_time": "2025-01-15T19:58:16.276Z"
   },
   {
    "duration": 77,
    "start_time": "2025-01-15T19:58:16.280Z"
   },
   {
    "duration": 5,
    "start_time": "2025-01-15T19:58:16.361Z"
   },
   {
    "duration": 665,
    "start_time": "2025-01-15T19:58:16.368Z"
   },
   {
    "duration": 4,
    "start_time": "2025-01-15T19:58:17.034Z"
   },
   {
    "duration": 25,
    "start_time": "2025-01-15T19:58:17.039Z"
   },
   {
    "duration": 26,
    "start_time": "2025-01-15T19:58:17.066Z"
   },
   {
    "duration": 35,
    "start_time": "2025-01-15T19:58:17.094Z"
   },
   {
    "duration": 123,
    "start_time": "2025-01-15T19:58:17.131Z"
   },
   {
    "duration": 177,
    "start_time": "2025-01-15T19:58:17.256Z"
   },
   {
    "duration": 191,
    "start_time": "2025-01-15T19:58:17.435Z"
   },
   {
    "duration": 26,
    "start_time": "2025-01-15T19:58:17.629Z"
   },
   {
    "duration": 11,
    "start_time": "2025-01-15T19:58:17.657Z"
   },
   {
    "duration": 225,
    "start_time": "2025-01-15T19:58:17.670Z"
   },
   {
    "duration": 53,
    "start_time": "2025-01-15T19:58:17.898Z"
   },
   {
    "duration": 204,
    "start_time": "2025-01-15T19:58:17.953Z"
   },
   {
    "duration": 197,
    "start_time": "2025-01-15T19:58:18.159Z"
   },
   {
    "duration": 397,
    "start_time": "2025-01-15T19:58:18.358Z"
   },
   {
    "duration": 723,
    "start_time": "2025-01-15T19:58:18.757Z"
   },
   {
    "duration": 6,
    "start_time": "2025-01-15T19:58:19.482Z"
   },
   {
    "duration": 104,
    "start_time": "2025-01-15T19:58:19.490Z"
   },
   {
    "duration": 7,
    "start_time": "2025-01-15T19:58:19.595Z"
   },
   {
    "duration": 160,
    "start_time": "2025-01-15T19:58:19.604Z"
   },
   {
    "duration": 9,
    "start_time": "2025-01-15T19:58:19.766Z"
   },
   {
    "duration": 5,
    "start_time": "2025-01-15T19:58:19.777Z"
   },
   {
    "duration": 673,
    "start_time": "2025-01-15T20:03:37.047Z"
   },
   {
    "duration": 177,
    "start_time": "2025-01-15T20:03:37.723Z"
   },
   {
    "duration": 18,
    "start_time": "2025-01-15T20:03:37.902Z"
   },
   {
    "duration": 19,
    "start_time": "2025-01-15T20:03:37.923Z"
   },
   {
    "duration": 18,
    "start_time": "2025-01-15T20:03:37.944Z"
   },
   {
    "duration": 74,
    "start_time": "2025-01-15T20:03:37.964Z"
   },
   {
    "duration": 9,
    "start_time": "2025-01-15T20:03:38.040Z"
   },
   {
    "duration": 52,
    "start_time": "2025-01-15T20:03:38.051Z"
   },
   {
    "duration": 6,
    "start_time": "2025-01-15T20:03:38.105Z"
   },
   {
    "duration": 89,
    "start_time": "2025-01-15T20:03:38.114Z"
   },
   {
    "duration": 8,
    "start_time": "2025-01-15T20:03:38.205Z"
   },
   {
    "duration": 56,
    "start_time": "2025-01-15T20:03:38.215Z"
   },
   {
    "duration": 25,
    "start_time": "2025-01-15T20:03:38.273Z"
   },
   {
    "duration": 42,
    "start_time": "2025-01-15T20:03:38.300Z"
   },
   {
    "duration": 23,
    "start_time": "2025-01-15T20:03:38.344Z"
   },
   {
    "duration": 11,
    "start_time": "2025-01-15T20:03:38.370Z"
   },
   {
    "duration": 79,
    "start_time": "2025-01-15T20:03:38.383Z"
   },
   {
    "duration": 14,
    "start_time": "2025-01-15T20:03:38.465Z"
   },
   {
    "duration": 50,
    "start_time": "2025-01-15T20:03:38.481Z"
   },
   {
    "duration": 8,
    "start_time": "2025-01-15T20:03:38.532Z"
   },
   {
    "duration": 32,
    "start_time": "2025-01-15T20:03:38.541Z"
   },
   {
    "duration": 17,
    "start_time": "2025-01-15T20:03:38.575Z"
   },
   {
    "duration": 49,
    "start_time": "2025-01-15T20:03:38.593Z"
   },
   {
    "duration": 7,
    "start_time": "2025-01-15T20:03:38.643Z"
   },
   {
    "duration": 20,
    "start_time": "2025-01-15T20:03:38.652Z"
   },
   {
    "duration": 4,
    "start_time": "2025-01-15T20:03:38.674Z"
   },
   {
    "duration": 82,
    "start_time": "2025-01-15T20:03:38.679Z"
   },
   {
    "duration": 6,
    "start_time": "2025-01-15T20:03:38.765Z"
   },
   {
    "duration": 674,
    "start_time": "2025-01-15T20:03:38.773Z"
   },
   {
    "duration": 4,
    "start_time": "2025-01-15T20:03:39.448Z"
   },
   {
    "duration": 22,
    "start_time": "2025-01-15T20:03:39.454Z"
   },
   {
    "duration": 25,
    "start_time": "2025-01-15T20:03:39.478Z"
   },
   {
    "duration": 41,
    "start_time": "2025-01-15T20:03:39.505Z"
   },
   {
    "duration": 74,
    "start_time": "2025-01-15T20:03:39.548Z"
   },
   {
    "duration": 169,
    "start_time": "2025-01-15T20:03:39.624Z"
   },
   {
    "duration": 206,
    "start_time": "2025-01-15T20:03:39.795Z"
   },
   {
    "duration": 38,
    "start_time": "2025-01-15T20:03:40.003Z"
   },
   {
    "duration": 14,
    "start_time": "2025-01-15T20:03:40.043Z"
   },
   {
    "duration": 235,
    "start_time": "2025-01-15T20:03:40.059Z"
   },
   {
    "duration": 48,
    "start_time": "2025-01-15T20:03:40.296Z"
   },
   {
    "duration": 200,
    "start_time": "2025-01-15T20:03:40.345Z"
   },
   {
    "duration": 209,
    "start_time": "2025-01-15T20:03:40.547Z"
   },
   {
    "duration": 420,
    "start_time": "2025-01-15T20:03:40.758Z"
   },
   {
    "duration": 825,
    "start_time": "2025-01-15T20:03:41.180Z"
   },
   {
    "duration": 8,
    "start_time": "2025-01-15T20:03:42.008Z"
   },
   {
    "duration": 32,
    "start_time": "2025-01-15T20:03:42.031Z"
   },
   {
    "duration": 13,
    "start_time": "2025-01-15T20:03:42.065Z"
   },
   {
    "duration": 191,
    "start_time": "2025-01-15T20:03:42.080Z"
   },
   {
    "duration": 8,
    "start_time": "2025-01-15T20:03:42.273Z"
   },
   {
    "duration": 5,
    "start_time": "2025-01-15T20:03:42.283Z"
   },
   {
    "duration": 167,
    "start_time": "2025-01-15T20:19:25.510Z"
   },
   {
    "duration": 775,
    "start_time": "2025-01-15T22:50:36.546Z"
   },
   {
    "duration": 283,
    "start_time": "2025-01-15T22:50:37.323Z"
   },
   {
    "duration": 16,
    "start_time": "2025-01-15T22:50:37.607Z"
   },
   {
    "duration": 17,
    "start_time": "2025-01-15T22:50:37.625Z"
   },
   {
    "duration": 13,
    "start_time": "2025-01-15T22:50:37.643Z"
   },
   {
    "duration": 64,
    "start_time": "2025-01-15T22:50:37.658Z"
   },
   {
    "duration": 8,
    "start_time": "2025-01-15T22:50:37.724Z"
   },
   {
    "duration": 32,
    "start_time": "2025-01-15T22:50:37.734Z"
   },
   {
    "duration": 5,
    "start_time": "2025-01-15T22:50:37.767Z"
   },
   {
    "duration": 73,
    "start_time": "2025-01-15T22:50:37.774Z"
   },
   {
    "duration": 7,
    "start_time": "2025-01-15T22:50:37.849Z"
   },
   {
    "duration": 66,
    "start_time": "2025-01-15T22:50:37.857Z"
   },
   {
    "duration": 21,
    "start_time": "2025-01-15T22:50:37.925Z"
   },
   {
    "duration": 17,
    "start_time": "2025-01-15T22:50:37.947Z"
   },
   {
    "duration": 17,
    "start_time": "2025-01-15T22:50:37.965Z"
   },
   {
    "duration": 46,
    "start_time": "2025-01-15T22:50:37.983Z"
   },
   {
    "duration": 37,
    "start_time": "2025-01-15T22:50:38.030Z"
   },
   {
    "duration": 9,
    "start_time": "2025-01-15T22:50:38.069Z"
   },
   {
    "duration": 25,
    "start_time": "2025-01-15T22:50:38.079Z"
   },
   {
    "duration": 18,
    "start_time": "2025-01-15T22:50:38.105Z"
   },
   {
    "duration": 26,
    "start_time": "2025-01-15T22:50:38.125Z"
   },
   {
    "duration": 14,
    "start_time": "2025-01-15T22:50:38.153Z"
   },
   {
    "duration": 28,
    "start_time": "2025-01-15T22:50:38.169Z"
   },
   {
    "duration": 28,
    "start_time": "2025-01-15T22:50:38.199Z"
   },
   {
    "duration": 20,
    "start_time": "2025-01-15T22:50:38.229Z"
   },
   {
    "duration": 3,
    "start_time": "2025-01-15T22:50:38.250Z"
   },
   {
    "duration": 78,
    "start_time": "2025-01-15T22:50:38.254Z"
   },
   {
    "duration": 6,
    "start_time": "2025-01-15T22:50:38.335Z"
   },
   {
    "duration": 601,
    "start_time": "2025-01-15T22:50:38.342Z"
   },
   {
    "duration": 4,
    "start_time": "2025-01-15T22:50:38.945Z"
   },
   {
    "duration": 60,
    "start_time": "2025-01-15T22:50:38.950Z"
   },
   {
    "duration": 12,
    "start_time": "2025-01-15T22:50:39.011Z"
   },
   {
    "duration": 29,
    "start_time": "2025-01-15T22:50:39.025Z"
   },
   {
    "duration": 25,
    "start_time": "2025-01-15T22:50:39.056Z"
   },
   {
    "duration": 161,
    "start_time": "2025-01-15T22:50:39.083Z"
   },
   {
    "duration": 178,
    "start_time": "2025-01-15T22:50:39.246Z"
   },
   {
    "duration": 24,
    "start_time": "2025-01-15T22:50:39.426Z"
   },
   {
    "duration": 10,
    "start_time": "2025-01-15T22:50:39.451Z"
   },
   {
    "duration": 194,
    "start_time": "2025-01-15T22:50:39.462Z"
   },
   {
    "duration": 35,
    "start_time": "2025-01-15T22:50:39.658Z"
   },
   {
    "duration": 184,
    "start_time": "2025-01-15T22:50:39.694Z"
   },
   {
    "duration": 184,
    "start_time": "2025-01-15T22:50:39.880Z"
   },
   {
    "duration": 421,
    "start_time": "2025-01-15T22:50:40.066Z"
   },
   {
    "duration": 733,
    "start_time": "2025-01-15T22:50:40.488Z"
   },
   {
    "duration": 6,
    "start_time": "2025-01-15T22:50:41.223Z"
   },
   {
    "duration": 23,
    "start_time": "2025-01-15T22:50:41.231Z"
   },
   {
    "duration": 6,
    "start_time": "2025-01-15T22:50:41.256Z"
   },
   {
    "duration": 178,
    "start_time": "2025-01-15T22:50:41.263Z"
   },
   {
    "duration": 7,
    "start_time": "2025-01-15T22:50:41.442Z"
   },
   {
    "duration": 4,
    "start_time": "2025-01-15T22:50:41.451Z"
   },
   {
    "duration": 184,
    "start_time": "2025-01-15T22:57:41.655Z"
   },
   {
    "duration": 187,
    "start_time": "2025-01-15T22:57:46.043Z"
   },
   {
    "duration": 53,
    "start_time": "2025-02-02T10:42:21.704Z"
   },
   {
    "duration": 835,
    "start_time": "2025-02-02T10:42:27.277Z"
   },
   {
    "duration": 165,
    "start_time": "2025-02-02T10:42:28.117Z"
   },
   {
    "duration": 16,
    "start_time": "2025-02-02T10:42:28.299Z"
   },
   {
    "duration": 18,
    "start_time": "2025-02-02T10:42:28.506Z"
   },
   {
    "duration": 17,
    "start_time": "2025-02-02T10:42:31.360Z"
   },
   {
    "duration": 52,
    "start_time": "2025-02-02T10:42:33.879Z"
   },
   {
    "duration": 9,
    "start_time": "2025-02-02T10:42:36.057Z"
   },
   {
    "duration": 38,
    "start_time": "2025-02-02T10:44:03.131Z"
   },
   {
    "duration": 5,
    "start_time": "2025-02-02T10:44:05.386Z"
   },
   {
    "duration": 61,
    "start_time": "2025-02-02T10:44:06.236Z"
   },
   {
    "duration": 8,
    "start_time": "2025-02-02T10:46:11.327Z"
   },
   {
    "duration": 812,
    "start_time": "2025-02-24T10:43:22.784Z"
   },
   {
    "duration": 76,
    "start_time": "2025-02-24T10:45:06.253Z"
   },
   {
    "duration": 170,
    "start_time": "2025-02-24T10:45:13.366Z"
   },
   {
    "duration": 16,
    "start_time": "2025-02-24T10:45:14.627Z"
   },
   {
    "duration": 18,
    "start_time": "2025-02-24T10:45:15.173Z"
   },
   {
    "duration": 36,
    "start_time": "2025-02-24T10:52:47.120Z"
   },
   {
    "duration": 8,
    "start_time": "2025-02-24T11:04:03.330Z"
   },
   {
    "duration": 22,
    "start_time": "2025-02-24T11:20:04.690Z"
   },
   {
    "duration": 16,
    "start_time": "2025-02-24T11:20:14.031Z"
   },
   {
    "duration": 20,
    "start_time": "2025-02-24T11:21:36.627Z"
   },
   {
    "duration": 6,
    "start_time": "2025-02-24T11:35:35.785Z"
   },
   {
    "duration": 5,
    "start_time": "2025-02-24T11:35:37.648Z"
   },
   {
    "duration": 34,
    "start_time": "2025-02-24T11:36:15.415Z"
   },
   {
    "duration": 9,
    "start_time": "2025-02-24T11:37:30.615Z"
   },
   {
    "duration": 28,
    "start_time": "2025-02-24T11:46:10.257Z"
   },
   {
    "duration": 17,
    "start_time": "2025-02-24T11:51:26.451Z"
   },
   {
    "duration": 13,
    "start_time": "2025-02-24T11:51:46.619Z"
   },
   {
    "duration": 21,
    "start_time": "2025-02-24T12:00:28.119Z"
   },
   {
    "duration": 13,
    "start_time": "2025-02-24T12:07:10.345Z"
   },
   {
    "duration": 10,
    "start_time": "2025-02-24T12:08:03.482Z"
   },
   {
    "duration": 650,
    "start_time": "2025-02-24T12:08:15.604Z"
   },
   {
    "duration": 157,
    "start_time": "2025-02-24T12:08:16.256Z"
   },
   {
    "duration": 17,
    "start_time": "2025-02-24T12:08:16.415Z"
   },
   {
    "duration": 34,
    "start_time": "2025-02-24T12:08:16.434Z"
   },
   {
    "duration": 86,
    "start_time": "2025-02-24T12:08:16.471Z"
   },
   {
    "duration": 64,
    "start_time": "2025-02-24T12:08:16.559Z"
   },
   {
    "duration": 8,
    "start_time": "2025-02-24T12:08:16.624Z"
   },
   {
    "duration": 77,
    "start_time": "2025-02-24T12:08:16.634Z"
   },
   {
    "duration": 64,
    "start_time": "2025-02-24T12:08:16.713Z"
   },
   {
    "duration": 8,
    "start_time": "2025-02-24T12:08:16.778Z"
   },
   {
    "duration": 86,
    "start_time": "2025-02-24T12:08:16.788Z"
   },
   {
    "duration": 23,
    "start_time": "2025-02-24T12:08:16.876Z"
   },
   {
    "duration": 29,
    "start_time": "2025-02-24T12:08:16.901Z"
   },
   {
    "duration": 56,
    "start_time": "2025-02-24T12:08:16.933Z"
   },
   {
    "duration": 60,
    "start_time": "2025-02-24T12:08:16.991Z"
   },
   {
    "duration": 9,
    "start_time": "2025-02-24T12:08:17.053Z"
   },
   {
    "duration": 34,
    "start_time": "2025-02-24T12:08:17.064Z"
   },
   {
    "duration": 27,
    "start_time": "2025-02-24T12:08:17.100Z"
   },
   {
    "duration": 55,
    "start_time": "2025-02-24T12:08:17.128Z"
   },
   {
    "duration": 25,
    "start_time": "2025-02-24T12:08:17.185Z"
   },
   {
    "duration": 30,
    "start_time": "2025-02-24T12:08:17.212Z"
   },
   {
    "duration": 8,
    "start_time": "2025-02-24T12:08:17.262Z"
   },
   {
    "duration": 42,
    "start_time": "2025-02-24T12:08:17.272Z"
   },
   {
    "duration": 5,
    "start_time": "2025-02-24T12:08:17.316Z"
   },
   {
    "duration": 62,
    "start_time": "2025-02-24T12:08:17.323Z"
   },
   {
    "duration": 7,
    "start_time": "2025-02-24T12:08:17.386Z"
   },
   {
    "duration": 124,
    "start_time": "2025-02-24T12:08:17.395Z"
   },
   {
    "duration": 0,
    "start_time": "2025-02-24T12:08:17.521Z"
   },
   {
    "duration": 0,
    "start_time": "2025-02-24T12:08:17.522Z"
   },
   {
    "duration": 0,
    "start_time": "2025-02-24T12:08:17.523Z"
   },
   {
    "duration": 0,
    "start_time": "2025-02-24T12:08:17.524Z"
   },
   {
    "duration": 0,
    "start_time": "2025-02-24T12:08:17.525Z"
   },
   {
    "duration": 0,
    "start_time": "2025-02-24T12:08:17.526Z"
   },
   {
    "duration": 0,
    "start_time": "2025-02-24T12:08:17.527Z"
   },
   {
    "duration": 0,
    "start_time": "2025-02-24T12:08:17.528Z"
   },
   {
    "duration": 0,
    "start_time": "2025-02-24T12:08:17.529Z"
   },
   {
    "duration": 0,
    "start_time": "2025-02-24T12:08:17.530Z"
   },
   {
    "duration": 0,
    "start_time": "2025-02-24T12:08:17.531Z"
   },
   {
    "duration": 0,
    "start_time": "2025-02-24T12:08:17.532Z"
   },
   {
    "duration": 0,
    "start_time": "2025-02-24T12:08:17.533Z"
   },
   {
    "duration": 0,
    "start_time": "2025-02-24T12:08:17.534Z"
   },
   {
    "duration": 0,
    "start_time": "2025-02-24T12:08:17.535Z"
   },
   {
    "duration": 0,
    "start_time": "2025-02-24T12:08:17.537Z"
   },
   {
    "duration": 0,
    "start_time": "2025-02-24T12:08:17.538Z"
   },
   {
    "duration": 0,
    "start_time": "2025-02-24T12:08:17.539Z"
   },
   {
    "duration": 0,
    "start_time": "2025-02-24T12:08:17.540Z"
   },
   {
    "duration": 0,
    "start_time": "2025-02-24T12:08:17.541Z"
   },
   {
    "duration": 0,
    "start_time": "2025-02-24T12:08:17.542Z"
   },
   {
    "duration": 0,
    "start_time": "2025-02-24T12:08:17.543Z"
   },
   {
    "duration": 0,
    "start_time": "2025-02-24T12:08:17.544Z"
   },
   {
    "duration": 9,
    "start_time": "2025-02-24T12:12:38.266Z"
   },
   {
    "duration": 688,
    "start_time": "2025-02-24T12:13:37.048Z"
   },
   {
    "duration": 210,
    "start_time": "2025-02-24T12:30:43.847Z"
   },
   {
    "duration": 47,
    "start_time": "2025-02-24T14:05:11.303Z"
   },
   {
    "duration": 6,
    "start_time": "2025-02-24T14:05:42.108Z"
   },
   {
    "duration": 8,
    "start_time": "2025-02-24T14:33:26.648Z"
   }
  ],
  "colab": {
   "name": "DA+. Сборный проект 1. Шаблон (1).ipynb",
   "provenance": []
  },
  "kernelspec": {
   "display_name": "Python 3 (ipykernel)",
   "language": "python",
   "name": "python3"
  },
  "language_info": {
   "codemirror_mode": {
    "name": "ipython",
    "version": 3
   },
   "file_extension": ".py",
   "mimetype": "text/x-python",
   "name": "python",
   "nbconvert_exporter": "python",
   "pygments_lexer": "ipython3",
   "version": "3.9.5"
  },
  "toc": {
   "base_numbering": 1,
   "nav_menu": {},
   "number_sections": true,
   "sideBar": true,
   "skip_h1_title": true,
   "title_cell": "Table of Contents",
   "title_sidebar": "Contents",
   "toc_cell": false,
   "toc_position": {
    "height": "calc(100% - 180px)",
    "left": "10px",
    "top": "150px",
    "width": "222.904404px"
   },
   "toc_section_display": true,
   "toc_window_display": true
  }
 },
 "nbformat": 4,
 "nbformat_minor": 1
}
